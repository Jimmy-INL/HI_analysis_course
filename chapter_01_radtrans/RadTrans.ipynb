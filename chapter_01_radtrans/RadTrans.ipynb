{
 "cells": [
  {
   "cell_type": "code",
   "execution_count": null,
   "metadata": {
    "collapsed": false,
    "scrolled": true
   },
   "outputs": [],
   "source": [
    "import numpy as np\n",
    "import matplotlib.pyplot as plt\n",
    "%matplotlib inline\n",
    "from IPython.display import HTML \n",
    "HTML('../style/course.css') #apply general CSS"
   ]
  },
  {
   "cell_type": "markdown",
   "metadata": {},
   "source": [
    "Import section specific modules:"
   ]
  },
  {
   "cell_type": "code",
   "execution_count": null,
   "metadata": {
    "collapsed": true
   },
   "outputs": [],
   "source": [
    "pass"
   ]
  },
  {
   "cell_type": "code",
   "execution_count": null,
   "metadata": {
    "collapsed": true
   },
   "outputs": [],
   "source": [
    "HTML('../style/code_toggle.html')"
   ]
  },
  {
   "cell_type": "markdown",
   "metadata": {},
   "source": [
    "## Fundamentals of Radiative Transfer"
   ]
  },
  {
   "cell_type": "markdown",
   "metadata": {},
   "source": [
    "All information about astrophysical sources is obtained through measuring the electromagnetic radiation received from them.   Therefore, to determine the properties of astrophysical systems, it is essential to understand the physical processes that contribute to the emitted radiation and how it gets modified via propagation through the intervening space and matter before getting detected.  This chapter introduces basic physical quantities used to represent the strength of the radiation field in the radio wave part of the electromagnetic spectrum and describes its interaction with the intervening media."
   ]
  },
  {
   "cell_type": "markdown",
   "metadata": {},
   "source": [
    "### Specific Intensity and its moments"
   ]
  },
  {
   "cell_type": "markdown",
   "metadata": {},
   "source": [
    "The radiative energy ($dE$) crossing an area $dA$ with unit normal $\\vec{n}$ in a direction within solid angle $d\\Omega$, in time $dt$ and with frequency in the range [$\\nu$, $\\nu$ + d$\\nu$] is,\n",
    "\n",
    "$$ dE = I_{\\nu} \\, dA \\, dt \\, d\\Omega \\, d\\nu $$"
   ]
  },
  {
   "cell_type": "markdown",
   "metadata": {},
   "source": [
    "The quantity $I_\\nu$($\\Omega$) is called monochromatic specific intensity or brightness and has units of $\\rm{ergs} \\, \\rm{s}^{-1} \\, \\rm{cm}^{-2} \\, \\rm{Hz}^{-1} \\, \\rm{Sr}^{-1}$.  It is the fundamental quantity in classical radiative transfer and is conserved along a ray in empty space (however, see next section).  "
   ]
  },
  {
   "cell_type": "markdown",
   "metadata": {
    "collapsed": true
   },
   "source": [
    "When evaluating the radiation field, it is often satisfactory to integrate out the dependence on photon propagation direction and consider only the distribution in space, time and frequency.  This averaging over solid angle $d \\Omega$ leads to following two useful angular moments of $I_\\nu$($\\nu$):\n",
    "\n",
    "Zeroth angular moment or mean intensity: $J_\\nu$ = $\\frac{1}{4\\pi} \\int$ $I_{\\nu} \\, d \\Omega$, and \n",
    "\n",
    "First angular moment or flux density: $F_\\nu$ = $\\frac{1}{4\\pi} \\int$ $I_\\nu$ $\\vec{n} \\, d \\Omega$.\n",
    "\n",
    "$J_{\\nu}$ is related to specific energy density, $U_{\\nu}$ as: $U_{\\nu}$ = $\\frac{4\\pi}{c}$ $J_\\nu$.\n",
    "\n",
    "It represents the energy per unit volume per unit frequency range, measured in units of $\\rm{ergs} \\, \\rm{cm}^{-3} \\, \\rm{Hz}^{-1}$.\n",
    "\n",
    "Note that for an isotropic radiation field, the first angular moment i.e. flux is zero.  The units of flux density are $\\rm{ergs} \\, \\rm{s}^{-1} \\, \\rm{cm}^{-2} \\, \\rm{Hz}^{-1}$.  In radio astronomy, it is generally convenient to measure it in units of Jansky (symbol Jy), where 1 Jy is equivalent to $10^{-26} \\, \\rm{ergs} \\, \\rm{s}^{-1} \\, \\rm{cm}^{-2} \\, \\rm{Hz}^{-1}$ or $10^{-26} \\, \\rm{W} \\, \\rm{cm}^{-2} \\, \\rm{Hz}^{-1}$.  \n"
   ]
  },
  {
   "cell_type": "markdown",
   "metadata": {},
   "source": [
    "### Equation of Radiative Transfer"
   ]
  },
  {
   "cell_type": "markdown",
   "metadata": {},
   "source": [
    "The equation of radiative transfer describes how the specific intensity changes as it propagates through matter.  Consider a beam of radiation with specific intensity I$_\\nu$ incident on a slab of material and let s be the path length through the slab.  In the absence of any source or sink, the specific intensity remains constant i.e. dI$_\\nu$/ds = 0.   However, in general, the specific intensity along the path will increase because of emission and decrease because of absorption.  The intensity may also change due to scattering.  Assuming no scattering, the change in I$_\\nu$ along the path can be described as"
   ]
  },
  {
   "cell_type": "markdown",
   "metadata": {},
   "source": [
    "$$ \\frac{dI_\\nu}{d\\nu} = -\\alpha_\\nu I_\\nu + j_\\nu   $$"
   ]
  },
  {
   "cell_type": "markdown",
   "metadata": {},
   "source": [
    "where $\\alpha_\\nu$ and $j_\\nu$ are absorption and emission coefficients, respectively. The radiative transfer equation incorporates macroscopic aspects of emission and absorption due to different physical processes through these coefficients.  The emission coefficient, j$_\\nu$, has units of ergs s$^{-1}$ cm$^{-3}$ Hz$^{-1}$ Sr$^{-1}$ and represents energy emitted per unit time per unit solid angle per unit frequency range and per unit volume.  The absorption coefficient, $\\alpha_\\nu$, has units of cm$^{-1}$ and represents the loss of intensity along the path length ds.\n",
    "\n",
    "For a medium with particle density n (cm$^{-3}$) and $\\sigma_\\nu$ (cm$^2$) as the effective absorbing area or cross section offered by the particles, the absorption coefficient can be defined as, $\\alpha_\\nu$ (cm$^{-1}$) = n$\\sigma_\\nu$.  The inverse of absorption coeffcient represents the mean free path i.e. mean physical distance travelled by the photon in the medium before it is absorbed.  For mathematical simplification, it is further convenient to define another variable $\\tau_\\nu$ called optical depth defined as, d$\\tau_\\nu$ = $\\alpha_\\nu$ds and rewrite the radiative transfer equation as, \n"
   ]
  },
  {
   "cell_type": "markdown",
   "metadata": {},
   "source": [
    "$$ \\frac{dI_\\nu}{d\\tau_\\nu} = -I_\\nu + S_\\nu   $$"
   ]
  },
  {
   "cell_type": "markdown",
   "metadata": {},
   "source": [
    "where S$_\\nu$ is defined as $\\frac{j_\\nu}{\\alpha_\\nu}$.  The optical depth is a particularly useful quantity in identifying regions with significant absorption and is one of the key observables.  Specifically, a medium is said to be optically thick when $\\tau_\\nu >$1 and optically thin when $\\tau_\\nu<$1.  In a medium that is optically thick, the photon at frequency $\\nu$ cannot traverse the entire medium without being absorbed. \n",
    "\n",
    "The equation of radiative transfer can be formally solved to obtain the solution, "
   ]
  },
  {
   "cell_type": "markdown",
   "metadata": {},
   "source": [
    "$$ I_\\nu(\\tau_\\nu) = I_\\nu(0) e^{-\\tau_\\nu} + \\int e^{-(\\tau_\\nu - \\tau^{'}_\\nu)} S(\\tau^{'}_\\nu)d\\tau^{'}_\\nu. $$"
   ]
  },
  {
   "cell_type": "markdown",
   "metadata": {},
   "source": [
    "The solution can be interpreted as the sum of two terms: (i) incident intensity reduced by absorption and (ii) integrated source reduced by absorption.  Further insights can be obtained by considering the case of a constant source function and using Rayleigh-Jeans approximation (h$\\nu <<$ kT) to rewrite the equation in terms of brightness temperature T$_B$ which is related to specific intensity through,  I$_\\nu$ = 2($\\frac{\\nu^2}{c^2}$)kT$_B$.  In this case the solution obtained above reduces to "
   ]
  },
  {
   "cell_type": "markdown",
   "metadata": {},
   "source": [
    "$$ T_B(\\tau_\\nu)=T_B(0) e^{-\\tau_\\nu}   + T(1- e^{-\\tau_\\nu}).$$"
   ]
  },
  {
   "cell_type": "markdown",
   "metadata": {},
   "source": [
    "Here T$_B$(0) is the brightness temperature of the incident radiation and T is the temperature of the cloud.  In case of optically thick cloud, T$_B$ approaches T i.e. the temperature of the cloud. "
   ]
  },
  {
   "cell_type": "markdown",
   "metadata": {},
   "source": [
    "### Radiative transport through a Hydrogen cloud"
   ]
  },
  {
   "cell_type": "markdown",
   "metadata": {},
   "source": [
    "A hydrogen cloud, under certain conditions that will be elaborated in subsequent sections, can be conveniently detected via the 21-cm line of HI.  In an HI atom, the electron in the ground state 1s can have its spin either parallel or antiparallel to the spin of the proton.  The coupling of the electron’s magnetic moment to the magnetic moment of the proton leads to hyperfine splitting of the parallel and anti-parallel states. The anti-parallel spin state has a lower energy.  Relative to this, the anti-parallel spin state has an energy of 5.87 x 10$^{-6}$ eV and is the origin of HI 21-cm line at 1420.405752 MHz (evaluating Einstein’s equality E = mc$^2$).  The Einstein's A coefficient $A_{21}$ for an atom to spontaneously decay from the excited hyperfine state by emiiting a 21-cm line photon is, 2.85$\\times$10$^{-15}$ s$^{-1}$.  This implies that an HI atom in the excited hyperfine state will typically take about $\\frac{1}{A_{21}}$ ~ $10^7$ years to spontaneously decay into the ground state.\n",
    "\n",
    "\n",
    "This low value of $A_{21}$ is the direct consequence of 21-cm line being due to magentic dipole transition and occuring at a very low frequency. Contrast this with the Ly$\\alpha$ excitation (rest wavelength ~ 1216$\\AA$ i.e. ultraviolet) which is an electric dipole transition and has $A_{21} =$ $6\\times10^8$ s$^{-1}$.  This implies that when excited to n=2 state, the atom can stay there only for about 10$^{-9}$ s ! \n",
    "\n",
    "Consider a cloud of neutral hydrogen in front of a radio source of brightness temperature $T_B$.  Let n$_1$ and n$_2$ be the number density of atoms (cm$^{-3}$) in the lower and upper hyperfine states of the atom.  Now there are a number of ways an atom or this two-level system can make transition from one state to another.  The transitions from ground to excited state would give rise to absorption and the reverse would give rise to emission.  Let, R$_{12}$ be the rate of change of number of atoms transiting from 1 to 2.  Then,\n",
    "\n",
    "$$ R_{12} = B_{12} n_1 U_\\nu, $$\n",
    "\n",
    "where the constant of proprtionality B$_{12}$ is the Einstein’s B coefficient.  An atom excited to level 2 can deexcite to level 1 in two possible ways: (i) spontaneous emission (rate = A$_{21}$n$_2$) and (ii) simulated emission (rate = B$_{21}$ n$_2$ U$_\\nu$).  Therefore, the total rate of change of number of atoms from 2 to 1 is\n",
    "\n",
    "$$ R_{21} = A_{21}n_{2} + B_{21} n_{2} U_\\nu. $$\n",
    "\n",
    "Thus, we have three coefficients characterizing radiative transitions between levels 1 and 2: A$_{21}$ , B$_{21}$ and B$_{12}$.   In fact, these three are related to each other.  Considering thermodynamic equilibrium in which (i) the number of upward transitions = the number of downward transitions i.e. R$_{12}$ = R$_{21}$, (ii) the upper and lower levels are populated according to the Boltzmann equation i.e. $\\frac{n_2}{n_1} = \\frac{g_2}{g_1}e^\\frac{-(E_2 - E_1)}{kT}$, and (iii) $ U_\\nu =  \\frac{8\\pi h\\nu^3}{c^3} \\frac{1}{e^{\\frac{h\\nu}{kT}}-1} $, it can be shown that \n",
    "\n",
    "$$ \\frac{B_{12}}{B_{21}} = \\frac{g_2}{g_1}; B_{21} = \\frac{c^3}{8\\pi h\\nu^3} A_{21} .$$"
   ]
  },
  {
   "cell_type": "markdown",
   "metadata": {},
   "source": [
    "Even when the system is not in thermodynamic equilibrium, we can use Boltzmann equation to relate the level populations as,\n",
    "\n",
    "$$ \\frac{n_2}{n_1} = \\frac{g_2}{g_1}e^\\frac{-(E_2 - E_1)}{kT_s} $$"
   ]
  },
  {
   "cell_type": "markdown",
   "metadata": {},
   "source": [
    "where T$_s$ referred to as the spin temperature is nothing but a convenient shorthand for the relative populations of two state.  For HI 21-cm line, (E$_2$ – E$_1$)/k = 0.068 K.  Therefore, for all conditions of interest for a neutal hydrogen cloud we expect T$_s >>$ 0.068 K, implying n$_2$/n$_1$ ~ 3 i.e. upper level contains ~75% of atoms.  In contrast, for HI Ly$\\alpha$ all the atoms are in n=1 ground state."
   ]
  },
  {
   "cell_type": "markdown",
   "metadata": {},
   "source": [
    "Now, it is interesting to ask what determines level population of hydrogen cloud i.e. its spin temperature.  A detailed solution to this can be found in the classic paper by [<cite data-cite='1958PIRE...46..240F'>Field (1958)</cite> &#10548;](http://adsabs.harvard.edu/abs/1958PIRE...46..240F).      \n",
    "\n",
    "The spin temperature (T$_s$) is determined by three processes: (1) ambient radio background, characterized by the temperature, T$_R$, (2) collisions with other hydrogen atoms and with electrons, characterized by the gas kinetic temperature T$_K$ and (3) resonant scattering of Lyα photons, characterized by the color temperature, T$_L$.  Under the (reasonable) assumption that the rate of these processes is fast compared with the de-excitation time of the line, the spin temperature can be approximated as, \n",
    "\n",
    "$$ T_s = \\frac{ T_R + y_cT_K + y_LT_L}{1 + y_c + y_L}.  $$\n",
    "\n",
    "Here, y$_c$ = $\\frac{T_*R^{c}_{21}}{T_K A_{21}}$, y$_L$ = $\\frac{T_*R^{L}_{21}}{T_L A_{21}}$, T$_*$ = $\\frac{h\\nu_{21}}{k}$ and R$_{21}$ = rate of transitions caused by radio background, collisions and Ly$\\alpha$ respectively (see [<cite data-cite='1958PIRE...46..240F'>Field (1958)</cite> &#10548;](http://adsabs.harvard.edu/abs/1958PIRE...46..240F) for details). \n",
    "\n",
    "Under normal conditions in the interstellar medium (ISM), especially for the cold (100 K) phase, collisions dominate the spin temperature of the neutral hydrogen. Only under special circumstances the spin temperature is affected by any of the other two excitation mechanisms. For example, very close to an AGN the ambient radiation field may become strong enough to have an appreciable contribution to the spin temperature. In the very early universe, even before the epoch of re-ionization (EoR), the universe was dense enough that resonant scattering of Ly$\\alpha$ photons can contribute significantly."
   ]
  },
  {
   "cell_type": "markdown",
   "metadata": {},
   "source": [
    "### Observable Quantities "
   ]
  },
  {
   "cell_type": "markdown",
   "metadata": {},
   "source": [
    "The next step is to relate physical properties of the emitting or absorbing neutral hydrogen to observable quantities such as the brightness temperature or flux density. Synthesis images provide measured intensities as flux densities in the unit Jy/beam. In order to convert these to brightness temperatures, which can be directly linked to physically meaningful parameters such as the spin temperature T$_s$ we need to take into account the beam or point spread function with which the image was made. Mathematically the conversion can be expressed as:\n",
    "\n",
    "$$ T_B= \\frac{\\lambda^2 S}{2 k_B \\Omega} $$\n",
    "\n",
    "where T$_B$ is the brightness temperature, $\\lambda$ the observing wavelength, S the flux density (in mJy), k$_B$ Bolzmann’s constant and $\\Omega$ the beam solid angle. This equation can be simplified for the case of a pure Gaussian beam with full width at half maximum (FWHM) a and b (in arcsecs) and a wavelength of 21.1 cm (the rest wavelength of the HI line) into:\n",
    "\n",
    "$$ T_B = \\frac{606 \\times S}{a\\times b} $$\n",
    "\n",
    "The brightness temperature is related to the HI spin temperature as:\n",
    "\n",
    "$$ T_B = T_c e^{-\\tau_\\nu} + T_s (1 - e^{-\\tau_\\nu}). $$\n",
    "\n",
    "Where T$_c$ is the brightness temperature of a background continuum source, located behind the HI emitting region which has optical depth $\\tau_\\nu$. In the absence of background continuum radiation this simplifies into: $ T_B = \\tau_\\nu T_s $  for $\\tau_\\nu <<$1, and $T_B = T_s$ for $\\tau_\\nu >>$1.  So,  in the case of large optical depth one directly measures the spin temperature. The usual situation in the ISM is the former, small optical depth.\n",
    "\n",
    "The optical depth $\\tau_\\nu$ of neutral hydrogen is the integration of the absorption coefficient $\\alpha_\\nu$  over the line of sight and can be expressed as:\n",
    "\n",
    "$$ \\tau_\\nu = \\int\\alpha_\\nu ds = \\int\\frac{h\\nu}{4\\pi}(n_1 B_{12} - n_2 B_{21})\\phi(\\nu) ds  = \\int\\frac{h\\nu}{4\\pi}n_1B_{12}(1 - e^{-\\frac{h\\nu}{kT_s}})\\phi(\\nu)ds $$\n",
    "\n",
    "where $\\phi$($\\nu$) is the normalized profile shape.  In general, the line profile shape is given by Voigt function which is the convolution of a Lorenztian (due to Natural and collisional broadening) and a Gaussian (due to thermal broadening) function.  In the low optical depth regime, the line profile shape is dominated by Gaussian whereas in the high optical depth regime the damping wings due to Lorentzian dominates (see Damped Ly$\\alpha$ systems in Chapter 4).   \n",
    "\n",
    "For long wavelengths, we are in the regime where $h\\nu << kT_s$ so that the above equation can be rewritten in terms of the column density $N_{HI}(\\nu)$, the number of atoms per cm$^{-2}$ along the line of sight: \n",
    "\n",
    "$$ \\tau_\\nu = \\int \\frac{h^2\\nu^2}{4\\pi kT_s}n_1B_{12} ds \\approx \\frac{N_{HI}(\\nu)}{T_s}. $$\n",
    "\n",
    "So, in the case of optically thin HI the measured brightness tempretaure is directly proportional to the HI column density via: \n",
    "\n",
    "$$ T_B \\approx \\tau_\\nu T_s = C^{'}N_{HI}(\\nu). $$\n",
    "\n",
    "To get the total column density we need to integrate over the line, i.e. frequency:\n",
    "\n",
    "$$ N_{HI} = C \\int \\tau_\\nu T_s = 1.823\\times 10^{18} \\int T_B(v)dv cm^{-2}, $$\n",
    "\n",
    "where the last integral is over velocity (v) and not frequency ($\\nu$).\n",
    "\n",
    "With the assumption that the HI emitting regions are optically thin, the total mass of a galaxy is related to the observed total integrated flux density is\n",
    "\n",
    "$$ M(HI) = 2.343\\times 10^5 M_\\odot (1 + z) (\\frac{D_L}{Mpc})^2 (\\frac{F_{obs}}{Jy kms^{-1}}). $$\n",
    "\n",
    "Here, z is the redshift of the galaxy, $D_L$ is the luminosity distance and $F_{obs}$ is the total integrated flux density."
   ]
  },
  {
   "cell_type": "markdown",
   "metadata": {},
   "source": [
    "One can rewrite the original equation in terms of a continuum subtracted line signal T$_L$:\n",
    "\n",
    "$$ T_L = T_B - T_c = (1 - e^{-\\tau_\\nu})(T_s - T_c). $$\n",
    "\n",
    "In the case of strong background continuum (i.e. $T_s<<T_c$) the signal is dominated by the first term:  $T_L \\approx (e^{-\\tau_\\nu} -1) T_c$  and since we can determine  $T_c$ independently at a frequency which is free of line emission, it is possible to determine $\\tau_\\nu$. If in addition we have a measure of the line emission along a sight line just off the continuum source we also have a measure of $(1 - e^{-\\tau_\\nu}) T_s$  and hence can determine  T_s assuming the column density in the sight lines on and off the continuum is the same.  \n",
    "\n",
    "Measurements of absorption and emission along very similar lines of sight, performed with the Parkes radio telescope in the early seventies led V. Radhakrishnan to propose that there is a two component ISM (Interstellar Medium) consisting of cool (~100 K), dense gas and warm (1000-10,000 K), tenuous gas, in pressure equilibrium. It turned out that the emission profiles had broad emission wings, which were not found in the absorption measurements. Radhakrishnan interpreted the broad emission wings as evidence for a warm component, which has very low optical depth and is the ubiquitous medium in which the cool, absorbing HI clouds are embedded. The figure below illustrates the observations that were used to draw this conclusion. Additional theoretical argument was that the tenous warm medium is needed to prevent the cool clouds from disruption and dispersion. "
   ]
  },
  {
   "cell_type": "markdown",
   "metadata": {},
   "source": [
    "<figure>\n",
    "    <img src=\"01_somename_figures/cnmwnm.png\" width=\"640\" height=\"434\" \\>\n",
    "    <figcaption>*Figure taken  from Radhakrishnan, V. 1974, IAU Symp. 60, 3-12.    HI emission and absorption spectra along four sightlines in the galaxy. The wings of the emission profiles are not seen in absorption. The left panel are sightlines at intermediate latitude, the right panel sightlines in the galactic plane. Here the HI column is so\n",
    "long that it goes into self absorption.*</figcaption>\n",
    "</figure>"
   ]
  },
  {
   "cell_type": "markdown",
   "metadata": {},
   "source": [
    "The theoretical support for this interpretation was a detailed study of the heating and cooling of the ISM by \n",
    "[<cite data-cite='1969ApJ...155L.149F'>Field, Goldsmith & Habing (1969)</cite> &#10548;](http://adsabs.harvard.edu/abs/1969ApJ...155L.149F) and [<cite data-cite='1969ApJ...158..173G'>Goldsmith, Habing & Field (1969)</cite> &#10548;](http://adsabs.harvard.edu/abs/1969ApJ...158..173G) who made a self consistent model of the ISM assuming that it is in pressure equilibrium. They showed that there are two stable phases, a cool and a warm phase with temperatures consistent with the observations. Recent observations of HI 21-cm emission and absorption in the Milky Way continue to identify bulk of HI to be distributed in two distinct phases: Cold Neutral Medium (CNM; T~100 K) and Warm Neutral Medium (WNM; T~8000 K) but find that as much as 50% of the WNM could be in the thermally unstable regime (500 - 5000 K; [<cite data-cite='2003ApJ...586.1067H'>Heiles & Troland (2003)</cite> &#10548;](http://adsabs.harvard.edu/abs/2003ApJ...586.1067H))."
   ]
  }
 ],
 "metadata": {
  "kernelspec": {
   "display_name": "Python 2",
   "language": "python",
   "name": "python2"
  },
  "language_info": {
   "codemirror_mode": {
    "name": "ipython",
    "version": 2
   },
   "file_extension": ".py",
   "mimetype": "text/x-python",
   "name": "python",
   "nbconvert_exporter": "python",
   "pygments_lexer": "ipython2",
   "version": "2.7.6"
  }
 },
 "nbformat": 4,
 "nbformat_minor": 0
}

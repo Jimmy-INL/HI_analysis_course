{
 "cells": [
  {
   "cell_type": "code",
   "execution_count": 1,
   "metadata": {
    "collapsed": false
   },
   "outputs": [
    {
     "data": {
      "text/html": [
       "<script>\n",
       "    code_show=false; \n",
       "    function code_toggle() {\n",
       "        if (code_show){\n",
       "            $('div.input').hide();\n",
       "        } else {\n",
       "            $('div.input').show();\n",
       "        }\n",
       "        code_show = !code_show\n",
       "    } \n",
       "    $( document ).ready(code_toggle);\n",
       "</script>\n",
       "\n",
       "The raw code for this notebook is by default hidden for easier reading. To toggle on/off the raw code, click <a href=\"javascript:code_toggle()\">here</a>.\n",
       "\n"
      ],
      "text/plain": [
       "<IPython.core.display.HTML object>"
      ]
     },
     "execution_count": 1,
     "metadata": {},
     "output_type": "execute_result"
    }
   ],
   "source": [
    "from IPython.display import HTML\n",
    "HTML('../style/course.css')\n",
    "HTML('../style/code_toggle.html')"
   ]
  },
  {
   "cell_type": "markdown",
   "metadata": {},
   "source": [
    "## Predicting HI Detections"
   ]
  },
  {
   "cell_type": "markdown",
   "metadata": {},
   "source": [
    "### Overview"
   ]
  },
  {
   "cell_type": "markdown",
   "metadata": {},
   "source": [
    "* [Introduction: HI Surveys](#Introduction-Surveys)\n",
    "* [Essential Survey Parameters for Making Predictions](#Essential-Parameters)\n",
    "  * [Survey Sensitivity](#Survey-Sensitivity)\n",
    "  * [Survey Volume](#Survey-Volume)\n",
    "* [Predicting Galaxy Detections](#Predicting-Detections)\n",
    "* [More Advanced Predictions: Resolved Galaxy Number Counts](#Advanced-Resolved)\n",
    "  * [Counting Resolved Galaxies](#Counting-Resolved-Galaxies)\n",
    "  * [Accounting for Disk Geometry and Mass](#Disk-Geometry-Mass)"
   ]
  },
  {
   "cell_type": "markdown",
   "metadata": {},
   "source": [
    "### Introduction: HI Surveys"
   ]
  },
  {
   "cell_type": "markdown",
   "metadata": {},
   "source": [
    "The next decade will be an exciting one for HI science, since several major new surveys on SKA precursor facilities are underway or set to begin in 2017 that will cover cosmological volumes.These range from wide-field, relatively shallow surveys of the local Universe in emission and the distant one in absorption ([Wallaby on ASKAP](http://www.atnf.csiro.au/research/WALLABY/), [FLASH on ASKAP](http://www.caastro.org/research/evolving/flash), [Apertif Shallow Northern Survey on WSRT](http://www.astron.nl/astronomy-group/apertif/surveys-and-documents/apertif-surveys-and-documents), [MALS on MeerKAT](http://mals.iucaa.in/)) to deeper <i>pencil beam</i> surveys that will detect gas in and around galaxies out to $z \\approx 1$ ([CHILES on the VLA](http://chiles.astro.columbia.edu/), [LADUMA on MeerKAT](http://www.ast.uct.ac.za/laduma/node/6), [DINGO on ASKAP](http://internal.physics.uwa.edu.au/~mmeyer/dingo/welcome.html))."
   ]
  },
  {
   "cell_type": "markdown",
   "metadata": {},
   "source": [
    "A common feature of the majority of the surveys mentioned above is that they are *blind*: they will uniformly survey patches of sky in which the HI content is not a priori known at the requisite sensitivity and resolution (this is, of course, why one would want to survey there in the first place!).  Predicting the number and nature of detections anticipated in these surveys is therefore critical for estimating the scientific returns from these large investments of limited telescope time, the impact of modifications to survey plans, and the resources required to analyse the resulting datasets (e.g. [<cite data-cite='2012MNRAS.426.3385D'>Duffy et al. (2012)</cite> &#10548;](http://adsabs.harvard.edu/abs/2012MNRAS.426.3385D) Duffy et al. 2012; [<cite data-cite='2016MNRAS.460.3419M'>Maddox et al. 2016</cite> &#10548;](http://adsabs.harvard.edu/abs/2016MNRAS.460.3419M) Maddox et al. 2016; [<cite data-cite='2016A%26ARv..24....1G'>Giovanelli &amp; Haynes 2016</cite> &#10548;](http://adsabs.harvard.edu/abs/2016A%26ARv..24....1G) Giovanelli &amp; Haynes 2016). Such predictions can also be useful a posteriori, to understand the properties of survey detections and to control for systematics."
   ]
  },
  {
   "cell_type": "markdown",
   "metadata": {},
   "source": [
    "This chapter provides general guidelines for predicting HI detections for blind HI surveys of cosmological volumes.  All reliable predictions require a thorough understanding of the planned survey's basic parameters. With these parameters in-hand, we discuss predicting survey detections using the HI mass function, with a mention of other techniques. We then turn to predicting resolved galaxy properties."
   ]
  },
  {
   "cell_type": "markdown",
   "metadata": {},
   "source": [
    "### Essential Survey Parameters for Making Predictions"
   ]
  },
  {
   "cell_type": "markdown",
   "metadata": {},
   "source": [
    "The key ingredients for making robust predictions of HI detections in a given survey are the survey sensitivity and volume. In this section, we discuss the essential parameters that determine these quantities. Several excellent resources exist that describe the fundamental properties of radio telescopes, both in print (e.g. [<cite data-cite='2001isra.book.....T'>Thompson, Moran and Swenson 2001</cite> &#10548;](http://adsabs.harvard.edu/abs/2001isra.book.....T) Thompson, Moran and Swenson 2001) and online (e.g. [Essential Radio Astronomy](http://www.cv.nrao.edu/course/astr534/PDFnew.shtml), [Radio Astronomy Tools and Techniques](https://casper.berkeley.edu/astrobaki/index.php/Radio_Astronomy:_Tools_and_Techniques)). Here, we tailor the more general (and complete) discussion in those resources to the specific case of HI survey predictions."
   ]
  },
  {
   "cell_type": "markdown",
   "metadata": {},
   "source": [
    "#### Survey Sensitivity"
   ]
  },
  {
   "cell_type": "markdown",
   "metadata": {},
   "source": [
    "A survey's sensitivity is determined by a combination of the observational strategy and the instrument characteristics: the longer one integrates and the more sensitive the instrument, the more sensitive the resulting observation. If the observations a not limited by either astronomical confusion (e.g. [<cite data-cite='2012ApJ...758...23C'>Condon et al. 2012</cite> &#10548;](http://adsabs.harvard.edu/abs/2012ApJ...758...23C) Condon et al. 2012) or instrument systematics (e.g. [<cite data-cite='2014MNRAS.439.4030G'>Grobler et al. 2014</cite> &#10548;](http://adsabs.harvard.edu/abs/2014MNRAS.439.4030G) Grobler et al. 2014), the defining equation for the point-source sensitivity ($\\sigma_{\\rm{PS}}$, in Jy) per spectral channel of a radio interferometer at the pointing centre is the radiometer equation: \n",
 " $$\\sigma_{\\rm{PS}} = \frac{SEFD}{n_c \sqrt{n_{pol}\\,N(N-1)\\,t_{int}\\,\\delta_\\nu} \n",
 " where $SEFD$ (in Jy) is the system equivalent flux density of an individual antenna (defined as the flux density of a radio source that doubles the system temperature), $n_c$ is the correlator efficiency ($n_c \\sim 1$ for modern systems), $n_{pol}$ is the number of polarization products included in the image ($n_{pol}=2$ for the vast majority of HI surveys), $N$ is the number of antennas, $t_{int}$ (in seconds) is the net integration time of the observation, and $\\delta_\\nu$ (in Hz) is the spectral channel width. This equation illustrates that the signal-to-noise of an observation depends linearly on the antenna sensitivity (ie. the SEFD), and on the inverse square root of both the observing time and the spectral channel width. For a given instrument configuration, estimates of $\\sigma_{PS}$ and the assumed spectral channel width $\\delta_\\nu$ are essential for predicting HI survey detections. Clearly, smoothing the data to a lower spectral resolution (larger $\\delta_\\nu$) will increase a survey's sensitivity. "
   ]
  },
  {
   "cell_type": "markdown",
   "metadata": {},
   "source": [
    "It is important to recognize that the equation above provides the instrument sensitivity per synthesized beam per spectral channel; the flux from sources that are spatially or spectrally resolved relative to this beam or channel width will therefore be distributed across more than one pixel of the resulting dataset. In particular, the spatial scales to which an interferometer is sensitive are determined by the distribution of its antennas and the weighting applied during imaging (see [here](https://github.com/griffinfoster/fundamentals_of_interferometry/blob/edd3120cb0f2a3a62ecf8b307b282fd4dfa82756/5_Imaging/5_0_introduction.ipynb) for a detailed derivation). The antenna configuration therefore determines the angular resolution (and therefore the synthesized beam) of an observation, which is required to determine the likelihood that survey detections will be spatially resolved."
   ]
  },
  {
   "cell_type": "markdown",
   "metadata": {},
   "source": [
    "The column density sensitivity of a survey dictates the detectability of spatially resolved sources (see [Chapter 4](https://github.com/gigjozsa/HI_analysis_course/tree/master/chapter_04_egal)). The column density sensitivity ($\\sigma_{NHI}$, in $\\rm{atoms} \\, \\rm{cm}^2$) per spectral channel of an observation is given by: $$\\sigma_{NHI} = 2.23 \\times 10^{24} \\frac{\\sigma_{PS} \\, \\delta_\\nu}{\\theta_a \\, \\theta_b \\, \\nu_c^2} ,$$ where $\\theta_a$ and $\\theta_b$ are full-width at half-maximum of the Gaussian beam along its major and minor axes, respectively (typically $\\theta_a$=$\\theta_b$ for planar arrays), $\\nu_c$ is the observing frequency in GHz, and the other variables have the same definitions as above. The column density sensitivity of an observation therefore depends on both the point-source sensitivity and the synthesized beam shape; the latter property is therefore critical for estimating resolved galaxy detections. Note that different weights applied to survey data at the imaging stage will change $\\theta_a$ and $\\theta_b$, and therefore the column density sensitivity."
   ]
  },
  {
   "cell_type": "markdown",
   "metadata": {},
   "source": [
    "#### Survey Volume"
   ]
  },
  {
   "cell_type": "markdown",
   "metadata": {},
   "source": [
    "Given the point-source and surface-brightness sensitivities of each pointing, the second important factor governing the HI detections in a survey is the survey volume. The areal coverage of the survey is clearly an important factor in determining this volume. For surveys that will tile the sky to achieve near-uniform sensitivity in the survey footprint (e.g. [WALLABY on ASKAP](http://www.atnf.csiro.au/research/WALLABY/)), the survey area is a trivial factor to include when computing HI detections. The issue is more complex for surveys with variable sensitivity due to the sparseness of individual pointings (e.g. [MALS on MeerKAT](http://mals.iucaa.in/))). A survey's volume is also determined by its spectral coverage. While the large bandwidths of modern correlators rarely limit survey volume, radio frequency interference can limit a survey's sensitivity at some frequencies at which redshifted HI lines may fall (due to the elimination of corrupted baselines, effectively reducing $N$ in the sensitivity equation;  [<cite data-cite='2013ApJ...770L..29F'>Fernandez et al. 2013</cite> &#10548;](http://adsabs.harvard.edu/abs/2013ApJ...770L..29F) Fernandez et al. 2013), or blind it altogether (e.g. [<cite data-cite='2015MNRAS.446.3526C'>Catinella et al. 2015</cite> &#10548;](http://adsabs.harvard.edu/abs/2015MNRAS.446.3526C) Catinella et al. 2015). Spectral windows with strong RFI outside the protected 1.4 GHz bands should therefore be taken into account when estimating the survey volume for high-redshift HI detections.  "
   ]
  },
  {
   "cell_type": "markdown",
   "metadata": {},
   "source": [
    "### Predicting Galaxy Detections"
   ]
  },
  {
   "cell_type": "markdown",
   "metadata": {},
   "source": [
    "We now turn to techniques for predicting HI detections in a survey of known sensitivity and volume. For surveys that probe a cosmological volume (ie. a volume much larger that the one spanned by typical large scale structures in the galaxy distribution; e.g. [<cite data-cite='2012ApJ...750...38M'>Martin et al. 2012</cite> &#10548;](http://adsabs.harvard.edu/abs/2012ApJ...750...38M) Martin et al. 2012), the HI mass function (HIMF) is an important tool for making such predictions (e.g. Giovanelli et al. 2005; [<cite data-cite='2012MNRAS.426.3385D'>Duffy et al. (2012)</cite> &#10548;](http://adsabs.harvard.edu/abs/2012MNRAS.426.3385D) Duffy et al. 2012; [<cite data-cite='2016MNRAS.460.3419M'>Maddox et al. 2016</cite> &#10548;](http://adsabs.harvard.edu/abs/2016MNRAS.460.3419M) Maddox et al. 2016). We focus on exploiting the HIMF to make predictions in this section, and also include a brief description of other approaches. We focus on the simplest case of spatially unresolved sources in this section, deferring a discussion of resolved disks to the next one."
   ]
  },
  {
   "cell_type": "markdown",
   "metadata": {},
   "source": [
    "[Chapter 3](https://github.com/gigjozsa/HI_analysis_course/tree/master/chapter_03_gal) defines the HIMF as the number density of HI detections as a function of their HI mass, and it is now well-measured for HI masses in the range $M_{\\rm{HI}} \\gtrsim 10^{6.5}\\,M_{\\odot}$ in the local universe (e.g. [<cite data-cite='2016MNRAS.457.4393J'> Jones et al. 2016</cite> &#10548;](http://adsabs.harvard.edu/abs/2016MNRAS.457.4393J) Jones et al. 2016; our knowledge of the low-mass end of the HIMF is limited by the sensitivity of extant surveys to these faint sources, of which there are many). The number HI detections as a function of HI mass in a given volume slice of an HI survey can therefore be obtained by integrating the HIMF: \n", 
  "$$N_{gal}(M_{\\rm{HI}}) = \\int \\phi(M_{\\rm{HI}}) \\, dV,$$ \n",
    "where $\\phi(M_{\\rm{HI}})$ is the HIMF and $dV$ is a volume element; the equation above may be evaluated analytically from Schechter function fits to the HIMF, although extrapolating galaxy number counts beyond the range spanned by the data (e.g. $M_{\\rm{HI}} \\leq 10^6 M_{\\odot}$) should be treated with caution. As described in [Chapter 1](https://github.com/gigjozsa/HI_analysis_course/tree/master/chapter_01_bas), the HI mass of a source scales with the flux integral of the detected line and distance squared. Given the distance of a volume slice in a survey, the detectability of an HI source predicted to lie in that volume from the HIMF therefore depends on the expected linewidth and the survey sensitivity. Specifically, the expected signal-to-noise $SN_{\\rm{PS}}$ of a (point-source) detection in a given spectral channel can be approximated by: \n",
 " $$SN_{\\rm{PS}} \\sim 235.6 \\, D^2 \\, S_{\\rm{peak}} \\, W \\, \\sigma_{PS}^{-1},$$ \n",
  "where $D$ is the distance to the source in Mpc, $S_{\\rm{peak}}$ is the peak flux of the source in mJy, $W$ is the characteristic width of the source in km/s, and $\\sigma_{PS}$ in mJy is the survey sensitivity for that channel width. The simplest approach for estimating $SN_{PS}$ is to adopt a fixed $W$ for all detections (e.g. [<cite data-cite='2016MNRAS.460.3419M'>Maddox et al. 2016</cite> &#10548;](http://adsabs.harvard.edu/abs/2016MNRAS.460.3419M) Maddox et al. 2016). For the inclined, rotating disks that are expected to make up the majority of HI sources (see [Chapter 4](https://github.com/gigjozsa/HI_analysis_course/tree/master/chapter_04_egal)), $W$ depends on the rotation speed in the outer disk $V_{rot}$, the disk inclination $i$ along the line-of-sight, and the velocity dispersion $\\sigma_V$ of the disk: \n",
"$$W \\sim 2 \\sqrt{ (V_{rot} \\, \\sin{i})^2 + \\sigma_V^2 }. $$ \n"
   ]
  },
  {
   "cell_type": "markdown",
   "metadata": {},
   "source": [
    "The velocity dispersions of (warm) HI disks range from $8-15\\,\\rm{km}\\,\\rm{s}^{-1}$, where the upper end of this range is most appropriate for dwarfs; the contribution of $\\sigma_V$ to $W$ is therefore negligible for most galaxies with $i \\gtrsim 30^{\\circ}$. Estimates of $V_{rot}$ for a given $M_{\\rm{HI}}$ can be gleaned from known scaling relations (e.g. the baryonic Tully-Fisher relation and the gas fraction relation; see [Chapter 3](https://github.com/gigjozsa/HI_analysis_course/tree/master/chapter_03_gal)), by abundance matching the HI velocity function, or  by matching dark matter to HI masses in semi-analytic galaxy formation models (e.g. [<cite data-cite='2012MNRAS.426.3385D'>Duffy et al. (2012)</cite> &#10548;](http://adsabs.harvard.edu/abs/2012MNRAS.426.3385D) Duffy et al. 2012). We note that self-consistent hydrodynamical simulations that predict the HI properties of the galaxy population from first principles are emerging, and may become an important future tool for predicting HI detections (e.g. [<cite data-cite='2014MNRAS.440..920'>Lagos et al. 2014</cite> &#10548;](http://adsabs.harvard.edu/abs/2014MNRAS.440..920L) Lagos et al. 2014)."
   ]
  },
  {
   "cell_type": "markdown",
   "metadata": {},
   "source": [
    " The HIMF is a reliable tool for predicting HI detections in the local universe ($z \\leq 0.2$), but the evolution in this relation should be considered when predicting detections at higher redshift. The $dN\/dz$ relations of [<cite data-cite='2009ApJ...703.1890O'>Obreschkow et al. (2009)</cite> &#10548;](http://adsabs.harvard.edu/abs/2009ApJ...703.1890O) Obreschkow et al. (2009) provide one estimate of this evolution."
   ]
  },
  {
   "cell_type": "markdown",
   "metadata": {},
   "source": [
    "We end this section by re-iterating that the approach anchored by the HIMF described above is appropriate only for predicting number counts of gas-rich galaxies in cosmological volumes; it will break down when predicting detections from gas-poor systems that may not be well-represented in extant HI surveys (e.g. [<cite data-cite='2012ApJ...756..113H'>Huang et al. 2012</cite> &#10548;](http://adsabs.harvard.edu/abs/2012ApJ...756..113H) Huang et al. 2012; (e.g. [<cite data-cite='2015MNRAS.452.2479B'> Brown et al. 2015</cite> &#10548;](http://adsabs.harvard.edu/abs/2015MNRAS.452.2479B) Brown et al. 2015), for galaxies with $M_{\\rm{HI}} \\lesssim 10^{6.5} \\, M_{\\odot}$ that are not reliably probed by these surveys (e.g. [<cite data-cite='2016MNRAS.457.4393J'> Jones et al. 2016</cite> &#10548;](http://adsabs.harvard.edu/abs/2016MNRAS.457.4393J) Jones et al. 2016), or for predicting detections in volumes where cosmic variance may play an important role. In these cases, it may be more appropriate to predict detections by using the colour-magnitude diagram and colour -- HI mass relations (e.g. [<cite data-cite='2015MNRAS.452.2479B'> Brown et al. 2015</cite> &#10548;](http://adsabs.harvard.edu/abs/2015MNRAS.452.2479B) Brown et al. 2015), scaling relations derived specifically for low-mass galaxies (e.g. [<cite data-cite='2015ApJ...809..146B'>Bradford et al. 2015</cite> &#10548;](http://adsabs.harvard.edu/abs/2015ApJ...809..146B) Bradford et al. 2015), or by using the distribution of galaxies mapped at another wavelength (e.g. in optical surveys) as a starting point. "
   ]
  },
  {
   "cell_type": "markdown",
   "metadata": {},
   "source": [
    "### More Advanced Predictions: Resolved Galaxy Number Counts"
   ]
  },
  {
   "cell_type": "markdown",
   "metadata": {},
   "source": [
    "As mentioned above, for resolved galaxy counts it is not the point source sensitivity of the survey that is important but the column density sensitivity.  This means that there is a trade off between your sensitivity and the angular size of your beam as a larger beam would lead to better column density sensitivity as long as the galaxy is resolved, i.e. the synthesized beam is still completely filled with emission."
   ]
  },
  {
   "cell_type": "markdown",
   "metadata": {},
   "source": [
    "It also means that, under the assumption of constant angular size of the synthesized beam and constant channel width with frequency, the sensitivity of the survey is distance independent. This is because the physical area sampled in the synthesized beam, and hence the column density in said beam, increases with the distance squared whereas the flux from a constant column density would decrease with the same amount. "
   ]
  },
  {
   "cell_type": "markdown",
   "metadata": {},
   "source": [
    "Therefore the distance limit in HI surveys for resolved galaxies is the point at which a galaxy no longer completely fills a synthesized beam, i.e. when they are no longer resolved. This means that it is the size of a galaxy that determines when a survey is no longer sensitive to that type of galaxy. This also means that merely increasing the synthesized beam size to become more sensitive would quickly lead to the survey becoming insensitive to the smallest galaxies. As explained in [Chapter 4](https://github.com/gigjozsa/HI_analysis_course/tree/master/chapter_04_egal), the HI size of a galaxy is closely related to its HI mass, and hence to its HI flux."
   ]
  },
  {
   "cell_type": "markdown",
   "metadata": {},
   "source": [
    "#### Counting Resolved Galaxies"
   ]
  },
  {
   "cell_type": "markdown",
   "metadata": {},
   "source": [
    "The simplest way of obtaining estimated source counts of resolved galaxies is to construct a catalogue of fluxes and distances of galaxies in a cosmological volume, either by populating a n-body simulation with the HIMF or by taking an existing HI single dish all sky survey such as HIPASS ([<cite data-cite='2004MNRAS.350.1195M'>Meyer et al. 2004</cite> &#10548;](http://adsabs.harvard.edu/abs/2004MNRAS.350.1195M) Meyer et al. 2004). The HI mass -- HI diameter relation (e.g. [<cite data-cite='2016MNRAS.460.2143W'>Wang et al. 2016</cite> &#10548;](http://adsabs.harvard.edu/abs/2016MNRAS.460.2143W) Wang et al. 2016) then allows us to calculate the physical sizes of these galaxies which can be converted to their angular sizes. It is then straightforward to compare these sizes to the angular size of the synthesized beam and to match the used cosmological volume to that of the proposed survey and count our resolved galaxies. When using an existing low-resolution survey the key parameter is the distance of the galaxy. However, as HI observations are line observations the recessional velocity will always be known when the flux is measured and hence this poses no problem beyond the Local Volume. "
   ]
  },
  {
   "cell_type": "markdown",
   "metadata": {},
   "source": [
    "The method described in the previous paragraph completely ignores the velocity structure and the orientation of the HI disk on the sky. These parameters are important as the sensitivity limit is calculated assuming that the HI column completely fills the synthesized beam and is entirely contained within the channel width. The first assumption is generally satisfied as we are interested in resolved galaxies. However, if a galaxy is edge-on ($i=90^{\\circ}$), this might not be true for thinner galaxies at larger distances. Even more so, as HI disks rotate they have a velocity structure and the observed velocities are spread over a velocity range related to the inclination and the maximum rotational velocity, i.e $V_{\\rm{obs}}=V_{\\rm{rot}} \\times \\sin(i)$. This means that for edge-on galaxies in general the emission is spread out over many different channels and the exact distribution could even depend on the shape of the rotation curve. On the other hand we are considering disks. Therefore the column densities observed in an edge-on galaxy are much higher than those in a face-on galaxy as the path through the galaxy is much longer in the radial direction. "
   ]
  },
  {
   "cell_type": "markdown",
   "metadata": {},
   "source": [
    "#### Accounting for Disk Geometry and Mass"
   ]
  },
  {
   "cell_type": "markdown",
   "metadata": {},
   "source": [
    "In order to incorporate all these effects into the estimates and to ensure that the estimates are accurate one would need to include phenomenologically correct HI disks in n-body simulations. For example, disks with realistic rotation curves and surface brightness distributions that are physically consistent, e.g. more massive galaxies have a higher rotation amplitude, would already be a tremendous improvement on the simple estimates discussed earlier. These disks should then be distributed with random orientations and subsequently the flux received in a given velocity bin should be compared to the column density sensitivity of the survey in order to determine whether this galaxy would be detected. A first attempt at such work can be found in [<cite data-cite='2012MNRAS.426.3385D'>Duffy et al. (2012)</cite> &#10548;](http://adsabs.harvard.edu/abs/2012MNRAS.426.3385D) Duffy et al. (2012)."
   ]
  },
  {
   "cell_type": "markdown",
   "metadata": {},
   "source": [
    "Even though the main issues of whether a galaxy can be detected are discussed in the previous paragraphs, the inclusion of more parameters, such as warps, bars and velocity dispersion, in the phenomenological representation of the disk would increase the accuracy of the predictions. How much so is of course dependent on whether the survey is sensitive to column densities at which these structures manifest themselves."
   ]
  },
  {
   "cell_type": "code",
   "execution_count": null,
   "metadata": {
    "collapsed": true
   },
   "outputs": [],
   "source": []
  }
 ],
 "metadata": {
  "kernelspec": {
   "display_name": "Python 2",
   "language": "python",
   "name": "python2"
  },
  "language_info": {
   "codemirror_mode": {
    "name": "ipython",
    "version": 2
   },
   "file_extension": ".py",
   "mimetype": "text/x-python",
   "name": "python",
   "nbconvert_exporter": "python",
   "pygments_lexer": "ipython2",
   "version": "2.7.6"
  }
 },
 "nbformat": 4,
 "nbformat_minor": 0
}

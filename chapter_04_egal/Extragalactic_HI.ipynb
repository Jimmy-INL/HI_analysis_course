{
 "cells": [
  {
   "cell_type": "code",
   "execution_count": 1,
   "metadata": {
    "collapsed": false
   },
   "outputs": [
    {
     "data": {
      "text/html": [
       "<script>\n",
       "    code_show=false; \n",
       "    function code_toggle() {\n",
       "        if (code_show){\n",
       "            $('div.input').hide();\n",
       "        } else {\n",
       "            $('div.input').show();\n",
       "        }\n",
       "        code_show = !code_show\n",
       "    } \n",
       "    $( document ).ready(code_toggle);\n",
       "</script>\n",
       "\n",
       "The raw code for this notebook is by default hidden for easier reading. To toggle on/off the raw code, click <a href=\"javascript:code_toggle()\">here</a>.\n",
       "\n"
      ],
      "text/plain": [
       "<IPython.core.display.HTML object>"
      ]
     },
     "execution_count": 1,
     "metadata": {},
     "output_type": "execute_result"
    }
   ],
   "source": [
    "from IPython.display import HTML\n",
    "HTML('../style/course.css')\n",
    "HTML('../style/code_toggle.html')"
   ]
  },
  {
   "cell_type": "markdown",
   "metadata": {},
   "source": [
    "## Resolved HI Properties of Galaxies"
   ]
  },
  {
   "cell_type": "markdown",
   "metadata": {},
   "source": [
    "### Overview"
   ]
  },
  {
   "cell_type": "markdown",
   "metadata": {},
   "source": [
    "* [Introduction](#Introduction-Exgal)\n",
    "* [HI Morphologies of Galaxies](#HI-Morphologies)\n",
    "  * [Disk Galaxies](#Disk-Galaxies-Morphology)\n",
    "    * [Basic Morphology](#Disk-Basic-Morphology)\n",
    "    * [Radial Extent](#Disk-Radial-Extent)\n",
    "    * [Warps](#Disk-Warps)\n",
    "    * [Vertical Morphology](#Disk-Vertical)\n",
    "  * [Early-Type Galaxies](#Early-Type-Galaxies)\n",
    "* [HI Kinematics of Galaxies](#HI-Kinematics)\n",
    "    * [Velocity Fields](#Velocity-Fields)\n",
    "    * [Circular and Non-Circular Motions](#Circular-and-Non-Circular-Motions)\n",
    "    * [Rotation Curves and Mass Distributions](#Rotation-Curves)\n",
    "    * [A 3D View of Galaxy Disks](#3D-View)\n",
    "* [Relationship with Star Formation](#Relationship-Star-Formation)\n",
    "  * [HI Clouds and Star Formation](#HI-Clouds-and-Star-Formation)\n",
    "  * [HI and CO Cloud Properties](#HI-and-CO-Clouds)\n",
    "  * [HI Clouds and Dust](#HI-Clouds-and-Dust)\n",
    "* [HI Morphology and Kinematics as a Tracer of Environment](#HI-Morphologies-Kinematics-Environment)\n",
    "  * [Tidal Interactions](#Tidal-Interactions)\n",
    "    * [Tidal Tails](#Tidal-Tail-Formation)\n",
    "    * [Tidal Dwarf Galaxies](#Tidal-Dwarf-Galaxies)\n",
    "    * [Polar Ring Galaxies](#Polar-Ring-Galaxies)\n",
    "  * [Ram Pressure Stripping](#Ram-Pressure-Stripping)\n",
    "    * [Distinguishing Tides and Ram Pressure](#Distinguishing-Tides-Ram-Pressure)\n",
    "* [HI Absorption](#HI-deficiency-in-satellite-galaxies)\n",
    "  * [Associated and Intervening Absorption](#Associated-Intervening-Absorption)\n",
    "  * [Optical Depth](#Optical-Depth)\n",
    "  * [Gas Temperature](#Gas-Temperature)\n",
    "  * [Resolved Absorption Line Maps](#Resolved-Absorption-Line-Maps)"
   ]
  },
  {
   "cell_type": "markdown",
   "metadata": {},
   "source": [
    "### Introduction"
   ]
  },
  {
   "cell_type": "markdown",
   "metadata": {},
   "source": [
    "The previous chapter [LINK HERE] discussed the global properties of gas-rich systems; in this chapter, we focus on how HI is distributed (both morphologically and kinematically) within these systems. We begin with an overview of the observed HI morphologies and kinematics galaxies, focussing on equilibrium disks. We then discuss the relationship between the properties of these resolved disks and star formation therein, and how the distortions observed in interacting galaxies are a sensitive tracer of environmental effects. We conclude this chapter with an overview of HI absorption as a tracer of physical conditions in galaxies."
   ]
  },
  {
   "cell_type": "markdown",
   "metadata": {},
   "source": [
    "### HI Morphologies of Galaxies"
   ]
  },
  {
   "cell_type": "markdown",
   "metadata": {},
   "source": [
    "#### Disk Galaxies"
   ]
  },
  {
   "cell_type": "markdown",
   "metadata": {},
   "source": [
    "##### Basic Morphology"
   ]
  },
  {
   "cell_type": "markdown",
   "metadata": {},
   "source": [
    "<img src=\"01_figures/HI_intens_Boomsma08.png\" width=\"80%\"/>\n",
    "*Optical (left) and HI (right) distributions in the face-on galaxy NGC 6946. Credit: [<cite data-cite='2008A%26A...490..555B'>Boomsma et al. (2008)</cite> &#10548;](http://adsabs.harvard.edu/abs/2008A%26A...490..555B)Boomsma et al. 2008.*\n",
    "\n"
   ]
  },
  {
   "cell_type": "markdown",
   "metadata": {},
   "source": [
    "The dissipative nature of gas and the conservation of angular momentum imposed by gravity imply that gas in undisturbed galaxies is typically distributed in a thin disk whose radial extent well exceeds its vertical one. Examples of the HI surface density distribution in a face-on HI disk is shown in the figure above and from an edge-on disk is shown in the figure below; they illustrate the basic properties of HI disks for Milky Way-like systems. By virtue of the optically thin nature of HI in most parts of a galaxy, HI maps of galaxies are typically given in units of column density, $N_{\\rm{HI}}$: $\\rm{atoms}\\,\\rm{cm}^{-2}$, or $M_{\\odot}\\,\\rm{pc}^{-2}$; they are obtained by integrating the HI emission measured along each line of sight in the map (see here [LINK HERE]), and as such are sometimes called *moment 0* or *total intensity* maps. "
   ]
  },
  {
   "cell_type": "markdown",
   "metadata": {},
   "source": [
    "<img src=\"01_figures/N891_Swaters97.png\" width=\"40%\"/>\n",
    "*The HI distribution in the edge-on galaxy NGC 891. The optical image of the galaxy is shown in greyscale, and HI surface density contours are overplotted. Credit: [<cite data-cite='1997ApJ...491..140S'>Swaters et al. (1997)</cite> &#10548;](http://adsabs.harvard.edu/abs/1997ApJ...491..140S) Swaters et al. (1997).*\n",
    "\n"
   ]
  },
  {
   "cell_type": "markdown",
   "metadata": {},
   "source": [
    "##### Radial Extent"
   ]
  },
  {
   "cell_type": "markdown",
   "metadata": {},
   "source": [
    "The maps illustrate that the HI distributions in disk galaxies typically have central depressions (where the bulk of the disk gas is in the molecular phase; see [<cite data-cite='2014AJ....148...69H'>Hallenbeck et al. (2014)</cite> &#10548;](http://adsabs.harvard.edu/abs/2014AJ....148...69H) Hallenbeck et al. (2014) for an extreme example), and extend to larger radii than optical disks. The outer HI surface densities ($N_{\\rm{HI}}\\, \\lesssim \\, 2 \\, M_{\\odot} \\, \\rm{pc}^{-2}$) of galaxies follow exponential distributions whose radial scale lengths are 50&#37; larger than those of the optical disk (e.g. [<cite data-cite='1997A%26A...324..877B'>Broeils &amp; Rhee 1997</cite> &#10548;](http://adsabs.harvard.edu/abs/1997A%26A...324..877B)Broeils &amp; Rhee 1997; [<cite data-cite='2012ApJ...756..183B'>Bigiel &amp; Blitz 2012</cite> &#10548;](http://adsabs.harvard.edu/abs/2012ApJ...756..183B)Bigiel &amp; Blitz 2012). For example, the exponential fit to the ensemble of outer HI disk profiles in the sample of [<cite data-cite='2012ApJ...756..183B'>Bigiel &amp; Blitz 2012</cite> &#10548;](http://adsabs.harvard.edu/abs/2012ApJ...756..183B)Bigiel &amp; Blitz (2012) has a radial scale length of $r_{\\rm{D,HI}} = 0.61r_{25}$, where $r_{25}$ is the radius of the optical disk measured at a (*B*-band) isophotal level of 25 magnitudes per square arcsec."
   ]
  },
  {
   "cell_type": "markdown",
   "metadata": {},
   "source": [
    "As was first noticed in the late 90s ([<cite data-cite='1997A%26A...324..877B'>Broeils &amp; Rhee 1997</cite> &#10548;](http://adsabs.harvard.edu/abs/1997A%26A...324..877B) Broeils &amp; Rhee 1997), there is a tight correlation between the radial extent of HI disks of galaxies and their total HI masses. The relation has been recently revisited with a large dataset by [<cite data-cite='2016MNRAS.460.2143W'>Wang et al. 2016</cite> &#10548;](http://adsabs.harvard.edu/abs/2016MNRAS.460.2143W) Wang et al. (2016; see also [<cite data-cite='2014MNRAS.441.2159W'>Wang et al. 2014</cite> &#10548;](http://adsabs.harvard.edu/abs/2014MNRAS.441.2159W) Wang et al. 2014 and references therein). The correlation between the HI diameter $D_{\\rm{HI}}$ and mass $M_{\\rm{HI}}$ obtained by  [<cite data-cite='2016MNRAS.460.2143W'>Wang et al. 2016</cite> &#10548;](http://adsabs.harvard.edu/abs/2016MNRAS.460.2143W) Wang et al. (2016) is shown in the figure below, and the best-fitting linear relationship describing the trend is given by: $$\\log(D_{\\rm{HI}}) = (0.506 \\pm 0.003) \\log(M_{\\rm{HI}}) - (3.293 \\pm 0.009),$$ where $D_{\\rm{HI}}$ is measured in kpc at $N_{\\rm{HI}}=1 M_{\\odot}\\,\\rm{pc}^{-2}$, and $M_{\\rm{HI}}$ is in solar masses. This relation shows remarkably little scatter over several orders of magnitude ($10^7 - 10^{11}\\,M_{\\odot}$) in HI mass. "
   ]
  },
  {
   "cell_type": "markdown",
   "metadata": {},
   "source": [
    "<img src=\"01_figures/DHI-MHI_Wang16.png\" width=\"60%\"/>\n",
    "*Relationship between the diameters and masses of HI disks. Credit: [<cite data-cite='2016MNRAS.460.2143W'>Wang et al. 2016</cite> &#10548;](http://adsabs.harvard.edu/abs/2016MNRAS.460.2143W) Wang et al. (2016).*\n",
    "\n"
   ]
  },
  {
   "cell_type": "markdown",
   "metadata": {},
   "source": [
    "##### Warps"
   ]
  },
  {
   "cell_type": "markdown",
   "metadata": {},
   "source": [
    "A significant fraction of galaxies have warped outer HI disks, where the disk inclination and position angle vary systematically from that in the inner disk; [<cite data-cite='2002A%26A...394..769G'>Garcia-Ruiz et al. 2002</cite> &#10548;](http://adsabs.harvard.edu/abs/2002A%26A...394..769G) Garcia-Ruiz et al. (2002) estimate the incidence of warps to be at least 75&#37; in their search for warps in 26 edge-on systems, while models of position-velocity diagrams of Galactic HI emission suggest that the Milky Way itself is warped ([<cite data-cite='2006ApJ...641L..33W'>Weinberg &amp; Blitz 2006</cite> &#10548;](http://adsabs.harvard.edu/abs/2006ApJ...641L..33W)Weinberg &amp; Blitz 2006). An extreme example of a galaxy warp is shown below. Warps typically begin at $r_{25}$ of the stellar disk and exhibit a straight line of nodes $r_{25} \\leq r \\leq r_{26.5}$, beyond which the line of nodes precesses in a loosely wound leading spiral pattern ([<cite data-cite='1990ApJ...352...15B'>Briggs 1990</cite> &#10548;](http://adsabs.harvard.edu/abs/1990ApJ...352...15B) Briggs 1990; [<cite data-cite='2007A%26A...468..903J'>Jozsa 2007</cite> &#10548;](http://adsabs.harvard.edu/abs/2007A%26A...468..903J) Jozsa 2007). Warps are generally thought to originate from an interaction between the disk and the surrounding halo and intergalactic medium (see [<cite data-cite='2013pss5.book..923S'>Sellwood 2013</cite> &#10548;](http://adsabs.harvard.edu/abs/2013pss5.book..923S)Sellwood 2013 for a recent review). "
   ]
  },
  {
   "cell_type": "markdown",
   "metadata": {},
   "source": [
    "<img src=\"01_figures/Warp_Spekkens06.png\" width=\"65%\"/>\n",
    "*Example of a warped edge-on galaxy. Credit: [<cite data-cite='2006AJ....132.1426S'>Spekkens &amp; Giovanelli 2006</cite> &#10548;](http://adsabs.harvard.edu/abs/2006AJ....132.1426S) Spekkens &amp; Giovanelli (2006).*\n",
    "\n"
   ]
  },
  {
   "cell_type": "markdown",
   "metadata": {},
   "source": [
    "##### Vertical Morphology"
   ]
  },
  {
   "cell_type": "markdown",
   "metadata": {},
   "source": [
    "High-resolution observations of edge-on galaxies (e.g. [<cite data-cite='1991ApJ...371..111I'>Irwin &amp; Seaquist 1991</cite> &#10548;](http://adsabs.harvard.edu/abs/1991ApJ...371..111I) Irwin &amp; Seaquist 1991; [<cite data-cite='1996AJ....112..457O'>Olling 1996a</cite> &#10548;](http://adsabs.harvard.edu/abs/1996AJ....112..457O) Olling 1996a; [<cite data-cite='2013arXiv1303.2463P'>Peters et al. 2013</cite> &#10548;](http://adsabs.harvard.edu/abs/2013arXiv1303.2463P) Peters et al. 2013) afford estimates of the vertical distribution of HI emission in disks. For $N_{\\rm{HI}} \\gtrsim 1\\,M_{\\odot}\\, \\rm{pc}^{-2}$, this distribution can be modelled as a Gaussian, with typical full-width half-maximum values of $500-700\\,$pc (e.g. [<cite data-cite='2013arXiv1303.2463P'>Peters et al. 2013</cite> &#10548;](http://adsabs.harvard.edu/abs/2013arXiv1303.2463P) Peters et al. 2013). Since the HI disk thickness is a measure of the gravitational potential, low-mass galaxies have thicker HI disks (e.g. [<cite data-cite='2011MNRAS.415..687B'>Banerjee et al. 2011</cite> &#10548;](http://adsabs.harvard.edu/abs/2011MNRAS.415..687B) Banerjee et al. 2011). The vertical extents of HI disks are observed to be constant across the star-forming disks of edge-on galaxies and increase farther out where the disk self-gravity decreases (e.g. [<cite data-cite='1996AJ....112..457O'>Olling 1996a</cite> &#10548;](http://adsabs.harvard.edu/abs/1996AJ....112..457O) Olling 1996a). This flaring of HI disks can be exploited to constrain the shape of dark matter halos (e.g. [<cite data-cite='1996AJ....112..481O'>Olling 1996b</cite> &#10548;](http://adsabs.harvard.edu/abs/1996AJ....112..481O) Olling 1996b; [<cite data-cite='2015A%26A...582A..18A'>Allaert et al. 2015</cite> &#10548;](http://adsabs.harvard.edu/abs/2015A%26A...582A..18A) Allaert et al. 2015; [<cite data-cite='2016arXiv160805563P'>Peters et al. 2016</cite> &#10548;](http://adsabs.harvard.edu/abs/2016arXiv160805563P) Peters et al. 2016)."
   ]
  },
  {
   "cell_type": "markdown",
   "metadata": {},
   "source": [
    "Sensitive observations reveal reservoirs of low-column density (below $N_{\\rm{HI}} = 1 \\,M_{\\odot}\\, \\rm{pc}^{-2}$) gas at high galactic latitudes, that can extend several kpc above and below the HI disk (e.g. [<cite data-cite='2007AJ....134.1019O'>Oosterloo et al. 2007</cite> &#10548;](http://adsabs.harvard.edu/abs/2007AJ....134.1019O) Oosterloo et al. 2007). The rotation velocity of the high-latitude gas lags behind that in the disk plane, with the rotation velocity decreasing as the distance from the plane increases ([<cite data-cite='2012EAS....56..299B'>Benjamin 2012</cite> &#10548;](http://adsabs.harvard.edu/abs/2012EAS....56..299B) Benjamin 2012). It is possible the material is raining down on the disk as a result of a galactic fountain mechanism, or that it is being accreted from the intergalactic medium. Detailed models of the morphology and kinematics of high-latitude gas suggest that both mechanisms may be at play (e.g. [<cite data-cite='2008MNRAS.386..935F'>Fraternali &amp; Binney 2008</cite> &#10548;](http://adsabs.harvard.edu/abs/2008MNRAS.386..935F) Fraternali &amp; Binney 2008; [<cite data-cite='2012EAS....56..247R'>Rand &amp; Benjamin 2012</cite> &#10548;](http://adsabs.harvard.edu/abs/2012EAS....56..247R) Rand &amp; Benjamin 2012; [<cite data-cite='2016MNRAS.462.4157A'>Armillotta et al. 2016</cite> &#10548;](http://adsabs.harvard.edu/abs/2016MNRAS.462.4157A) Armillotta et al. 2016). "
   ]
  },
  {
   "cell_type": "markdown",
   "metadata": {},
   "source": [
    "#### Early-Type Galaxies"
   ]
  },
  {
   "cell_type": "markdown",
   "metadata": {},
   "source": [
    "While the majority of HI-rich galaxies have disks, recent observations of early-type galaxies (ETGs) suggest that a significant fraction contain HI gas as well: about 40&#37; of ETGs outside the Virgo cluster contain HI gas in the volume-limited Altas3D sample ([<cite data-cite='2012MNRAS.422.1835'>Serra et al. 2012</cite> &#10548;](http://adsabs.harvard.edu/abs/2012MNRAS.422.1835S) Serra et al. 2012), while the same is true for about 10&#37; of ETGs in Virgo. A variety of HI morphologies are observed, from equilibrium disks to scattered clouds; examples of these extremes are shown below."
   ]
  },
  {
   "cell_type": "markdown",
   "metadata": {},
   "source": [
    "<img src=\"01_figures/ETG_HI_Serra12.png\" width=\"95%\"/>\n",
    "*HI distributions in a selection of ETGs from the Atlas3D survey, illustrating the variety of morphologies ranging from ordered disks (left) to scattered clouds (right). The column density of the lowest contour is given in the bottom-right corner, while the beam is in the bottom-left panel. Credit: [<cite data-cite='2012MNRAS.422.1835'>Serra et al. 2012</cite> &#10548;](http://adsabs.harvard.edu/abs/2012MNRAS.422.1835S)Serra et al. (2012).*\n",
    "\n"
   ]
  },
  {
   "cell_type": "markdown",
   "metadata": {},
   "source": [
    "### HI Kinematics of Galaxies"
   ]
  },
  {
   "cell_type": "markdown",
   "metadata": {},
   "source": [
    "#### Velocity Fields"
   ]
  },
  {
   "cell_type": "markdown",
   "metadata": {},
   "source": [
    "The same observations that produce the total intensity maps shown above can also be analysed to measure the line-of-sight velocity of the HI spectral line at each spatial pixel. The result (for a relatively isolated disk galaxy at intermediate inclination) is illustrated below, and is typically called a *velocity field* or *Moment 1 map*, after the primary technique adopted to compute it (see here [LINK HERE]). Standard practice in plotting velocity fields is to select a colourbar that spans the rainbow of colours from blue to red, with blue points indicating gas that is at lower recessional velocity than the mean (ie. it is blueshifted), and red points indicating gas that is at higher recessional velocity than the mean (ie. it is redshifted). The units of galaxy velocity fields are almost always given in units of kilometres per second."
   ]
  },
  {
   "cell_type": "markdown",
   "metadata": {},
   "source": [
    "<img src=\"01_figures/M33_vels_Thilker.png\" width=\"60%\"/>\n",
    "*The measured velocity field for M33. Credit: NRAO/AUI and R. Thilker.*\n",
    "\n"
   ]
  },
  {
   "cell_type": "markdown",
   "metadata": {},
   "source": [
    "#### Circular and Non-Circular Motions"
   ]
  },
  {
   "cell_type": "markdown",
   "metadata": {},
   "source": [
    "The line-of-sight velocities for the galaxy above follow a clear pattern: one side of the disk major axis is approaching, the other side is receding, and the gas along the minor axis of the disk is moving at the same velocity as the disk centre. Clearly the dominant motion of the gas in the disk is axisymmetric rotation, and the line-of-sight velocity distribution on the sky is well-represented by:\n",
    "$$V_{los}(x,y) = V_{sys} + V_{rot}(r) \\, \\sin(i) \\, \\cos(\\theta),$$ \n",
    "Where $V_{los}(x,y)$ is the line-of-sight velocity at a spatial location $(x,y)$ in the map, $V_{sys}$ is the systemic velocity of the disk (ie. the line-of-sight velocity of the disk centre), $V_{rot}(r)$ is the orbital velocity of the gas as a function of galactocentric radius $r$, $i$ is the disk inclination, and $\\theta$ is the azimuthal angle at that location in the disk plane relative to the major axis."
   ]
  },
  {
   "cell_type": "markdown",
   "metadata": {},
   "source": [
    "Close examination of this equation and the velocity field above reveals that the signature of rotation is strongest along the major axis (where $\\cos(\\theta) = 1$), whereas $V_{los}(\\theta=90^{\\circ}) = V_{sys}$ along the minor axis. Velocity distortions along the minor axis (ie. indications that $V_{los}(\\theta=90^{\\circ}) \\neq V_{sys}$) are therefore important tracers of non-circular motions in the disk.  Examples of mechanisms in isolated disks that cause non-circular flows in HI include spiral arms (e.g. [<cite data-cite='2016MNRAS.457.2642S'>Schmidt et al. 2016</cite> &#10548;](http://adsabs.harvard.edu/abs/2016MNRAS.457.2642S) Schmidt et al. 2016), bars (e.g. [<cite data-cite='2010MNRAS.404.1733S'>Sellwood &amp; Sanchez 2010</cite> &#10548;](http://adsabs.harvard.edu/abs/2010MNRAS.404.1733S) Sellwood &amp; Sanchez 2010), and warps (e.g. [<cite data-cite='2007A%26A...468..903J'>Jozsa 2007</cite> &#10548;](http://adsabs.harvard.edu/abs/2007A%26A...468..903J) Jozsa 2007). Extreme examples of the impact of the latter two mechanisms on measured velocity fields are shown below: a strongly warped galaxy is on the left ([<cite data-cite='2015MNRAS.452.3139K'>Kamphuis et al. 2015</cite> &#10548;](http://adsabs.harvard.edu/abs/2015MNRAS.452.3139K) Kamphuis et al. 2015), and a strongly barred galaxy is on the right ([<cite data-cite='2016arXiv160800690R'>Randiamampandry et al. 2016</cite> &#10548;](http://adsabs.harvard.edu/abs/2016arXiv160800690R) Randiamampandry et al. 2016). It is possible to constrain the physical properties of both the rotational and non-circular components of galaxy disks through detailed modelling of the velocity field and intensity map, and approaches for applying these models are detailed here [LINK HERE]."
   ]
  },
  {
   "cell_type": "markdown",
   "metadata": {},
   "source": [
    "<img src=\"01_figures/DistortedFields.png\" width=\"80%\"/>\n",
    "*Left: The HI velocity field for the strongly warped galaxy HIPASS J1501-48. Credit: [<cite data-cite='2015MNRAS.452.3139K'>Kamphuis et al. 2015</cite> &#10548;](http://adsabs.harvard.edu/abs/2015MNRAS.452.3139K) Kamphuis et al. (2015). Right: The H$\\alpha$ velocity field of the barred galaxy NGC~2903. Credit: [<cite data-cite='2010MNRAS.404.1733S'>Sellwood &amp; Sanchez 2010</cite> &#10548;](http://adsabs.harvard.edu/abs/2010MNRAS.404.1733S) Sellwood &amp; Sanchez (2010).*\n",
    "\n"
   ]
  },
  {
   "cell_type": "markdown",
   "metadata": {},
   "source": [
    "#### Rotation Curves and Mass Distributions"
   ]
  },
  {
   "cell_type": "markdown",
   "metadata": {},
   "source": [
    "Notwithstanding the extreme examples above, the kinematics of equilibrium galaxy disks are dominated by the orbital speed curve $V_{rot}(r)$. This curve is typically called the *rotation curve* by extragalactic astronomers, and an example is shown below. "
   ]
  },
  {
   "cell_type": "markdown",
   "metadata": {},
   "source": [
    "<img src=\"01_figures/RotationCurveExample.png\" width=\"60%\"/>\n",
    "*Rotation curve and mass model of M31 as derived by [<cite data-cite='2010A&A...511A..89C'>Corbelli et al. (2010)</cite>](http://adsabs.harvard.edu/abs/2010A&A...511A..89C) Corbelli et al. (2010). The rotation curve obtained by modelling the whole disk (top) and by modelling the north-eastern and south-western halves of the disk (bottom) are shown. Credit: [<cite data-cite='2010A&A...511A..89C'>Corbelli et al. (2010)</cite>](http://adsabs.harvard.edu/abs/2010A&A...511A..89C) Corbelli et al. (2010). *\n",
    "\n"
   ]
  },
  {
   "cell_type": "markdown",
   "metadata": {},
   "source": [
    "A major science driver for obtaining HI maps of galaxies is to measure their rotation curves, since they probe the underlying mass distribution $M(r)$ in the disk. Under the assumption of spherical symmetry (appropriate for disk galaxies given the mass contributions of their dark matter halos, although more sophisticated treatments are possible):\n",
    "$$M(r) = \\frac{V_{rot}^2 r}{G}.$$\n"
   ]
  },
  {
   "cell_type": "markdown",
   "metadata": {},
   "source": [
    "Simulations of galaxy formation and evolution make predictions for $M(r)$ in present-day galaxy disks, and an ongoing challenge for cosmological galaxy formation models is to reproduce the observed properties of nearby galaxies. Collisionless (ie. dark matter only) simulations of halo assembly within the standard framework predict a steeper halo mass function and denser dark matter halos than inferred observationally (e.g. [<cite data-cite='2010AdAst2010E...5D'>de Blok 2010</cite> &#10548;](http://adsabs.harvard.edu/abs/2010AdAst2010E...5D) de Blok 2010; [<cite data-cite='2015A%26A...574A.113P'>Papastergis et al. 2015</cite> &#10548;](http://adsabs.harvard.edu/abs/2015A%26A...574A.113P) Papastergis et al. 2015). Reconciling this theory with observations requires that baryons alter the dark matter potential during galaxy formation, and recent hydrodynamic simulations suggest that high-redshift, bursty star formation is a key mechanism (e.g. [<cite data-cite='2010Natur.463..203G'>Governato et al. 2010</cite> &#10548;](http://adsabs.harvard.edu/abs/2010Natur.463..203G) Governato et al. 2010; [<cite data-cite='2012MNRAS.421.3464P'>Pontzen et al. 2012</cite> &#10548;](http://adsabs.harvard.edu/abs/2012MNRAS.421.3464P) Pontzen et al. 2012). An illustration of the effect of bursty star formation on dwarf galaxy rotation curve predictions is shown below."
   ]
  },
  {
   "cell_type": "markdown",
   "metadata": {},
   "source": [
    "<img src=\"01_figures/RotationCurveModels_Oh11.png\" width=\"60%\"/>\n",
    "*Comparison between rotation curves of galaxies in collisionless simulations (red points and solid grey lines), rotation curves of galaxies in hydrodynamical simulations including bursty star formation (yellow and green points), and observed rotation curves of low-mass galaxies (other coloured points). Credit: [<cite data-cite='2011AJ....142...24O'>Oh et al. 2011</cite> &#10548;](http://adsabs.harvard.edu/abs/2011AJ....142...24O) Oh et al. 2011. *\n",
    "\n"
   ]
  },
  {
   "cell_type": "markdown",
   "metadata": {},
   "source": [
    "Simulations predict that the efficiency of this process depends strongly on stellar and halo mass in the range spanned by disk galaxies (e.g. Di Cintio et al. 2014); the kinematics of these systems, best traced out to large $r$ with HI, therefore provide an important test. The results are insofar mixed. Rotation curve mass models appear to be consistent with bursty star formation predictions (e.g. [<cite data-cite='2011AJ....142...24O'>Oh et al. 2011</cite> &#10548;](http://adsabs.harvard.edu/abs/2011AJ....142...24O) Oh et al. 2011; [<cite data-cite='2016arXiv160505971K'>Katz et al. 2016</cite> &#10548;](http://adsabs.harvard.edu/abs/2016arXiv160505971K) Katz et al. 2016; but see [<cite data-cite='2016arXiv160505326P'>Pace 2016</cite> &#10548;](http://adsabs.harvard.edu/abs/2016arXiv160505326P) Pace 2016), but rotation curve shapes are inconsistent with the relationship between halo and HI velocity required by the velocity function (e.g. [<cite data-cite='2016A%26A...591A..58P'>Papastergis &amp; Shankar 2016</cite> &#10548;](http://adsabs.harvard.edu/abs/2016A%26A...591A..58P) Papastergis &amp; Shankar 2016).  However, these observational tests are strongly limited by the available data: HI rotation curve samples are small and heterogeneous, and the HI velocity function can only be constructed from unresolved single-dish detections whose physical interpretation is unclear. Measuring the rotation curve shapes of large samples of nearby galaxies is therefore an important science goal for next-generation HI surveys (e.g. [Wallaby on ASKAP](http://www.atnf.csiro.au/research/WALLABY/), [Apertif Shallow Northern and Medium Deep Surveys on WSRT](http://www.astron.nl/astronomy-group/apertif/surveys-and-documents/apertif-surveys-and-documents), [MALS on MeerKAT](http://mals.iucaa.in/), [MHONGOOSE on MeerKAT](http://mhongoose.astron.nl/))."
   ]
  },
  {
   "cell_type": "markdown",
   "metadata": {},
   "source": [
    "#### A 3D View of Galaxy Disks"
   ]
  },
  {
   "cell_type": "markdown",
   "metadata": {},
   "source": [
    "Now that we are familiar with the observed morphologies and kinematics of disk galaxies, it is more straightforward to understand the distribution of HI in the 3D datacubes produced by interferometers (RA, Dec, line-of-sight velocity or frequency). Plots with panels that show the distribution of HI gas in consecutive velocity or frequency channels of the datacube are often called *channel maps*, and an example is given below. It is clear that the morphology (exponential HI distribution with central hole) and kinematics (axisymmetric rotation) dictate the 3D distribution of HI in disks."
   ]
  },
  {
   "cell_type": "markdown",
   "metadata": {},
   "source": [
    "<img src=\"01_figures/ChannelMaps_N6503.png\" width=\"65%\"/>\n",
    "*Channel maps illustrating the 3D structure of NGC 6503. Credit: [<cite data-cite='2009AJ....137.4718GO'>Greisen et al. 2009</cite> &#10548;](http://adsabs.harvard.edu/abs/2009AJ....137.4718GO) Greisen et al. (2009). *\n",
    "\n"
   ]
  },
  {
   "cell_type": "markdown",
   "metadata": {},
   "source": [
    "Modelling the 3D distributions of HI emission in disk galaxies is a powerful tool for constraining their physical properties, and techniques that accomplish this are detailed in Chapter 10. It is also worth noting that sophisticated visualization tools now exist for viewing and interacting with 3D datacubes (e.g. [<cite data-cite='2016arXiv160903782P'> Punzo et al. 2016</cite> &#10548;](http://adsabs.harvard.edu/abs/2016arXiv160903782P) Punzo et al. 2016)."
   ]
  },
  {
   "cell_type": "markdown",
   "metadata": {},
   "source": [
    "### HI Absorption"
   ]
  },
  {
   "cell_type": "markdown",
   "metadata": {},
   "source": [
    "It is obvious from discussions so far that the observations of galaxies in neutral hydrogen holds a place of unique importance in the studies of galaxy evolution.  In local Universe, the observations of galaxies via HI 21-cm emission and absorption line have proven to be valuable for our understanding of the abundance and distribution of gas, and the processes leading to star formation.  However, as the strength of emission line signal from a galaxy falls down as the square of distance from the observer, it has been  difficult to detect HI 21-cm emission line signal from individual galaxies beyond the local Universe.  Currently, the highest redshift HI 21-cm emission line detection is associated with a galaxy at $z=0.376$ and has been possible due to ~178 hrs long integration at JVLA ([<cite data-cite='2016ApJ...824L...1F'> Fernandez et al. 2016</cite> &#10548;](http://adsabs.harvard.edu/abs/2016ApJ...824L...1F) Fernandez et al. 2016).  \n",
    "\n",
    "On the other hand, the strength of absorption line from a galaxy doesn't depend on the distance from observer. Therefore, absorption lines are as easy to detect at any redshift provided there exists a distant bright object such as a quasar or a Gamama-ray burst in the background.  The figure below shows typical spectrum of a high redshift quasar showing continuum and emission lines due to quasar and various HI $\\rm{Ly} \\alpha$ and/or metal absorption lines producued by the gas in intergalactic medium (IGM) or galaxies lying between the quasar and the observer.  In this, $\\rm{Ly} \\alpha$ forest i.e. narrow HI $\\rm{Ly} \\alpha$ absorption lines appearing blueward of $ 1216 \\times (1 + z_{qso}) \\approx 2845 \\, \\rm{Angstroms}$ are due to gas clouds in IGM.  They represent the lowest HI column density absorbers detected in the quasar spectra.   "
   ]
  },
  {
   "cell_type": "markdown",
   "metadata": {
    "collapsed": true
   },
   "source": [
    "<img src=\"01_figures/qsospec.png\" width=\"70%\"/>\n",
    "*HST spectrum of PKS0454+039 ($z_{qso}$ = 1.34) exhibiting quasar continuum and emission lines, and absorption lines due to IGM and gas associated with intervening galaxies. Credit: [<cite data-cite='2000eaa..bookE2366C'>Charlton & Churchill 2000</cite> &#10548;](http://adsabs.harvard.edu/abs/2000eaa..bookE2366C) Charlton & Churchill (2000). *"
   ]
  },
  {
   "cell_type": "markdown",
   "metadata": {},
   "source": [
    "The two strong HI absorbers seen in the figure are: a Lyman-limit system (LLS) at $912 \\, \\rm{Angstroms}$ at $1216 \\times (1 + z_{LLS}) = 2614 \\, \\rm{Angstroms}$ ($z_{LLS} = 1.15$) and a damped $\\rm{Ly} \\alpha$ system (DLA) at $2262 \\, \\rm{Angstroms}$ ($z_{DLA} = 0.86$).  \n",
    "\n",
    "The LLSs are defined to have $N_{HI} \\, > \\, 10^{17} \\, \\rm{cm}^{-2}$.  This is the column density at which an HI cloud becomes optically thick to Lyman-limt photons at $912 \\, \\rm{Angstroms}$.  The Lyman continuum break due to the $z=1.15$ LLS can be seen at $912 \\times (1 + z_{LLS}) = 1961 \\, \\rm{Angstroms}$.  \n",
    "\n",
    "The highest column density HI absorbers observed in the quasar spectra are called DLAs.  These have $N_{HI} \\, > \\, 2 \\times 10^{20} \\, \\rm{cm}^{-2}$ and due to the large $\\rm{Ly} \\alpha$ optical depth at such column densities are characterized by completely dark line center and damping wings (see here [LINK HERE] for an introduction to absorption line profile shapes).  Note the Lyman limit break (much stronger compared to the LLS) at $1700 \\, \\rm{Angstroms}$ and various metal absorption lines produced by the DLA in the spectrum of PKS0454+039.\n",
    "\n",
    "In addition to the gas between quasar and the observer, often quasar spectra also show absorption lines of width few $100 \\, \\rm{km} \\, \\rm{s}^{-1}$ to several $1000 \\, \\rm{km} \\, \\rm{s}^{-1}$ originating from the gas associated with the AGN itself.  These absorbers are called associated absorbers whereas the ones as described above that originate from the gas between the quasar and the observer are referred to as intervening absorber.\n",
    "\n",
    "A visualization of how gas with different HI column densities absorbs $\\rm{Ly} \\alpha$ radiation can be found [here](http://www.cosmocrunch.co.uk/media/dla_credited.mov) (Credit: A. Pontzen).  These lines are sensitive to detect HI gas with column densities over a very wide range: $N_{HI} \\approx 10^{12 - 22} \\, \\rm{cm}^{-2}$ and have proven to be a powerful tool to probe the physical, chemical and ionization state of gas in a wide range of environments that are crucial to understand the interplay between gas accretion, star formation and feedback. \n",
    "\n",
    "Note that HI 21-cm emission and absorption line observations with current observing facilities are generally restricted to gas with column densities of about $N_{HI} \\, > \\, 5 \\times 10^{20} \\, \\rm{cm}^{-2}$ i.e. gas associated with or close to galaxies.  This will of course change with the advent of more sensitive Square Kiloemeter Array and its precursor telescopes, however in the following discussion we restrict ourselves to high-$N_{HI}$ absorbers. "
   ]
  },
  {
   "cell_type": "markdown",
   "metadata": {},
   "source": [
    "### Intervening HI absorption"
   ]
  },
  {
   "cell_type": "markdown",
   "metadata": {},
   "source": [
    "DLAs detected in quasar spectra represent bulk of neutral hydrogen (an important reservoir for star formation) at high-$z$ ([<cite data-cite='t2005ARA&A..43..861W'>Wolfe et al. 2005</cite> &#10548;](http://adsabs.harvard.edu/abs/2005ARA%26A..43..861W) Wolfe et al. 2000). They most likely represent quasar sight lines passing through or close to high-$z$ galaxies.  Unlike HI 21-cm emission line observations (especially with single dish telescopes) that reveal all the HI gas associated with a galaxy, a DLA detected in a quasar spectra only probes HI gas along a pencil beam through the galaxy. Therefore, to measure HI mass density and determine general properties of galaxies at any epoch via absorption lines, one has to adopt a statistical approach via detection of large number of DLAs. At $z \\, > \\, 1.8$, Ly$\\alpha$ is observable through ground-based optical telescopes.  Therefore, at these redshifts it has been possible to build large samples of DLAs.  The most recent census of DLAs comes from the Sloan Digital Sky Survey (SDSS) Data Release 12 that has detected more than 20,000 DLAs ([<cite data-cite='t2012A&A...547L...1N'>Noterdaeme et al. 2012</cite> &#10548;](http://adsabs.harvard.edu/abs/2012A%26A...547L...1N) Noterdaeme et al. 2012).     "
   ]
  },
  {
   "cell_type": "markdown",
   "metadata": {},
   "source": [
    "Under the reasonable assumption that the HI gas in DLAs is neutral the HI mass density from the observed $N_{HI}$ frequency distribution, $f(N_{HI}, X)$ can be estimated using,\n",
    "\n",
    "$$ \\Omega_{HI} = \\frac{\\mu \\, m_H \\, H_o}{c \\, \\rho_c} \\int_{N_1}^\\infty N_{HI} \\, f(N_{HI}, X) \\, dNdX, $$ \n",
    "\n",
    "where $X = \\int_0^z (1 + z\\prime)^2 \\, \\frac{H_o}{H(z\\prime)} \\,dz\\prime$  is the absorption distance, $H_o$ is the Hubble constant, $\\mu = 1.3$ is the mean molecular mass of the gas, $\\rho_c$ is the critical mass density and $N_1 = 2 \\times 10^{20} \\, \\rm{cm}^{-2}$.  The figure below, reproduced from [<cite data-cite='t2015MNRAS.452.3726H'>Hoppmann et al. 2015</cite> &#10548;](http://adsabs.harvard.edu/abs/2015MNRAS.452.3726H) Hoppmann et al. (2015), provides a nice summary of $\\Omega_{HI}$ estimates from (i) DLAs at $z \\geq  1.8$, (ii) HI 21-cm emission line (direct/stacking/intensity-mapping) detections at $z \\geq 1$ and (iii) MgII-absorption selected DLAs at intermediate redshifts."
   ]
  },
  {
   "cell_type": "markdown",
   "metadata": {},
   "source": [
    "<img src=\"01_figures/omegahi.png\" width=\"70%\"/>\n",
    "*HI mass density as a function of redshift. Credit: [<cite data-cite='t2015MNRAS.452.3726H'>Hoppmann et al. 2015</cite> &#10548;](http://adsabs.harvard.edu/abs/2015MNRAS.452.3726H) Hoppmann et al. (2015). *"
   ]
  },
  {
   "cell_type": "markdown",
   "metadata": {},
   "source": [
    "Note large errors bars on $\\Omega_{HI}$ at intermediate redshifts where it is currently not possible to detect HI 21-cm emission from individual galaxies and build large samples of DLAs.  Overall, compared to an order-of-magnitude change in the star-formation rate density at $0 \\leq z \\leq 2$, the HI mass density only evolves by a factor of 2 over the same redshift range.  Since stars form from cold atomic and molecular gas, in order to understand the relationship between gas and star formation, (i) better observations are required to constrain $\\Omega_{HI}$ at intermediate redshifts, and (ii) these need to be complemented with observations of cold atomic and molecular phases.   "
   ]
  },
  {
   "cell_type": "markdown",
   "metadata": {},
   "source": [
    "It is well known that HI 21-cm absorption is an excellent tracer of cold (~100 K) atomic (see here [LINK HERE]) and HI 21-cm emission and absorption line observations of Galactic ISM).  The  HI column  density  of  an  optically  thin  cloud  covering the fraction $f_c$ of the background radio source is related to the integrated 21-cm optical depth and the spin temperature ($T_s$) through\n",
    "\n",
    "$$ N_{HI} = 1.823 \\times 10^{18} \\, \\frac{T_s}{f_c} \\, \\int\\tau(v)dv \\, \\rm{cm}^{-2}. $$\n",
    "\n",
    "Blind HI 21-cm absorption line searches required to constrain the evolution of CNM fraction in galaxies will only be possible with SKA precursors ([<cite data-cite='t2012A&A...544A..21G'>Gupta et al. 2012</cite> &#10548;](http://adsabs.harvard.edu/abs/2012A%26A...544A..21G) Gupta et al. 2012; \n",
    "[<cite data-cite='t2016MNRAS.462.1341A'>Allison et al. 2016</cite> &#10548;](http://adsabs.harvard.edu/abs/2016MNRAS.462.1341A) Allison et al. 2016).  The observations till now have focussed on detecting 21-cm absorption from the gas pre-selected by the presence of a DLA or MgII absorption at $0 \\leq  z  \\leq 3.5$.  Due to the reasons described above the majority of observations at $z \\geq 1.8$ are based on samples of DLAs.  At lower redshifts, large samples of DLAs are not available.  Instead absorption lines of MgII which (i) represents the dominant ionization state of Mg in atomic gas and (ii) is observable from gound-based telescopes for $z \\leq  2$, are used to preselect sight lines to probe interstellar  media  and or gaseous halos surrounding the galaxies.  "
   ]
  },
  {
   "cell_type": "markdown",
   "metadata": {},
   "source": [
    "<img src=\"01_figures/21cmabs.png\" width=\"70%\"/>\n",
    "*Left: HI 21-cm absorption spectra from a search based on MgII absorbers selected from SDSS. The multiple narrow components suggest that absorption originates from gas distributed among multiple clouds with small velocity dispersion.  In principle, one can use line widths ($\\Delta v = \\rm{line} \\,\\, \\rm{FWHM}$) to constrain the kinetic temperature of gas using the relation, $T_K \\leq 21.08 \\times \\Delta v^2 \\, \\rm{K}$. Very rarely one detects absorption components with widths consistent with 100 K from the CNM.  Right: Number per unit redshift range of DLAs, MgII absorbers and HI 21-cm absorbers ([<cite data-cite='2012A&A...544A..21G'>Gupta et al. 2012</cite> &#10548;](http://adsabs.harvard.edu/abs/2012A%26A...544A..21G) Gupta et al. 2012). *"
   ]
  },
  {
   "cell_type": "markdown",
   "metadata": {},
   "source": [
    "A key observable to be derived from any absorption line survey is $dn\/dz$ i.e. the number of absorbers per unit redshift range.  The figure above provides a comparsion between the dn/dz of DLAs and MgII systems, both of which evolve strongly with redshift, and 21-cm absorbers.  Clearly, 21-cm absorbers are very rare and as the errors on $dn\/dz$ of 21-cm absorbers i.e. $n_{21}$ are particularly large it is not possible to draw much conclusions from this regarding the nature of 21-cm absorbers or the evolution of CNM fraction of galaxies.  "
   ]
  },
  {
   "cell_type": "markdown",
   "metadata": {},
   "source": [
    "The 21-cm absorption line searches based on DLAs have a particular advantage that since N(HI) is already known from the $\\rm{Ly} \\alpha$ absorption, $T_s$ and hence a constrain on $T_k$ can be derived.  Based on this and the metallicity estimates from the optical/UV spectra, an anti-correlation between metallicity and spin temperature has been reported ([<cite data-cite='2009ApJ...705L..40K'>Kanekar et al. 2009</cite> &#10548;](http://adsabs.harvard.edu/abs/2009ApJ...705L..40K) Kanekar et al. 2009).  This has been interpreted as due to large number of radiation pathways for gas cooling in gas with high metallicity.  In addition, compared to low-z DLAs it is observed that high-z DLAs are often not detected in HI 21-cm absorption and have low CNM fractions.  It is believed that this is due to the fact that high-z DLAs arise from low mass galaxies having low metallicities and low CNM fractions ([<cite data-cite='2014MNRAS.438.2131K'>Kanekar et al. 2014</cite> &#10548;](http://adsabs.harvard.edu/abs/2014MNRAS.438.2131K) Kanekar et al. 2014).  "
   ]
  },
  {
   "cell_type": "markdown",
   "metadata": {},
   "source": [
    "<img src=\"01_figures/tspin.png\" width=\"40%\"/>\n",
    "*Metallicity vs Spin Temperature anticorrelation ([<cite data-cite='2009ApJ...705L..40K'>Kanekar et al. 2009</cite> &#10548;](http://adsabs.harvard.edu/abs/2009ApJ...705L..40K) Kanekar et al. 2009). *"
   ]
  },
  {
   "cell_type": "markdown",
   "metadata": {},
   "source": [
    "In  the  Galaxy,  the radio observations of HI 21-cm absorption towards high-velocity pulsars and extended radio sources, the optical observations of NaI absorption  lines  towards  globular  clusters  and  binary  stars  have shown that the diffuse ISM is structured on parsec to sub-parsec scales.  These small-scale structures, due to large overpressures, cannot survive rapid evaporation in the standard pressure-equilibrium-based models and therefore represent crucial observational inputs to the physical modelling of ISM.  Since radio emission associated with background AGN is often extended at over arcsec to mas scales, VLBI spectrscopy of HI 21-cm absorbers towards such quasars can be used to probe spatial variations in HI 21-cm optical depth and constrain small-scale structure in cold atomic gas.  "
   ]
  },
  {
   "cell_type": "markdown",
   "metadata": {},
   "source": [
    "<img src=\"01_figures/vlba.png\" width=\"40%\"/>\n",
    "*VLBA spectroscopy of a HI 21-cm absorber at z=0.079 revealing structures in gas at 10 - 90 pc ([<cite data-cite='2013MNRAS.428.2198S'>Srianand et al. 2013</cite> &#10548;](http://adsabs.harvard.edu/abs/2013MNRAS.428.2198S) Srianand et al. 2013). *"
   ]
  },
  {
   "cell_type": "markdown",
   "metadata": {},
   "source": [
    "Since VLBI receivers to carry out such studies are only available for L-band and most of the 21-cm absorbers (since based on MgII absorbers and DLAs) are detected at lower frequencies, such studies have been possible only for a handful of systems.  "
   ]
  }
 ],
 "metadata": {
  "kernelspec": {
   "display_name": "Python 2",
   "language": "python",
   "name": "python2"
  },
  "language_info": {
   "codemirror_mode": {
    "name": "ipython",
    "version": 2
   },
   "file_extension": ".py",
   "mimetype": "text/x-python",
   "name": "python",
   "nbconvert_exporter": "python",
   "pygments_lexer": "ipython2",
   "version": "2.7.10"
  }
 },
 "nbformat": 4,
 "nbformat_minor": 0
}

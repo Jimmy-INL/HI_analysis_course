{
 "cells": [
  {
   "cell_type": "code",
   "execution_count": 1,
   "metadata": {
    "collapsed": false
   },
   "outputs": [
    {
     "data": {
      "text/html": [
       "<script>\n",
       "    code_show=false; \n",
       "    function code_toggle() {\n",
       "        if (code_show){\n",
       "            $('div.input').hide();\n",
       "        } else {\n",
       "            $('div.input').show();\n",
       "        }\n",
       "        code_show = !code_show\n",
       "    } \n",
       "    $( document ).ready(code_toggle);\n",
       "</script>\n",
       "\n",
       "The raw code for this notebook is by default hidden for easier reading. To toggle on/off the raw code, click <a href=\"javascript:code_toggle()\">here</a>.\n",
       "\n"
      ],
      "text/plain": [
       "<IPython.core.display.HTML object>"
      ]
     },
     "execution_count": 1,
     "metadata": {},
     "output_type": "execute_result"
    }
   ],
   "source": [
    "from IPython.display import HTML\n",
    "HTML('../style/course.css')\n",
    "HTML('../style/code_toggle.html')"
   ]
  },
  {
   "cell_type": "markdown",
   "metadata": {},
   "source": [
    "## Resolved HI Properties of Galaxies"
   ]
  },
  {
   "cell_type": "markdown",
   "metadata": {},
   "source": [
    "### Overview"
   ]
  },
  {
   "cell_type": "markdown",
   "metadata": {},
   "source": [
    "* [Introduction](#Introduction-Exgal)\n",
    "* [HI Morphologies of Galaxies](#HI-Morphologies)\n",
    "  * [Disk Galaxies](#Disk-Galaxies-Morphology)\n",
    "    * [Basic Morphology](#Disk-Basic-Morphology)\n",
    "    * [Radial Extent](#Disk-Radial-Extent)\n",
    "    * [Warps](#Disk-Warps)\n",
    "    * [Vertical Morphology](#Disk-Vertical)\n",
    "  * [Early-Type Galaxies](#Early-Type-Galaxies)\n",
    "* [HI Kinematics of Galaxies](#HI-Kinematics)\n",
    "    * [Velocities and Dispersions of Disks](#Velocities-and-Dispersions)\n",
    "    * [Measuring Mass from Velocities](#Measuring-Mass)\n",
    "    * [Rotation Curves](#Rotation-Curves)\n",
    "* [Relationship with Star Formation](#Relationship-Star-Formation)\n",
    "  * [HI Clouds and Star Formation](#HI-Clouds-and-Star-Formation)\n",
    "  * [HI and CO Cloud Properties](#HI-and-CO-Clouds)\n",
    "  * [HI Clouds and Dust](#HI-Clouds-and-Dust)\n",
    "* [HI Morphology and Kinematics as a Tracer of Environment](#HI-Morphologies-Kinematics-Environment)\n",
    "  * [Tidal Interactions](#Tidal-Interactions)\n",
    "    * [Tidal Tails](#Tidal-Tail-Formation)\n",
    "    * [Tidal Dwarf Galaxies](#Tidal-Dwarf-Galaxies)\n",
    "    * [Polar Ring Galaxies](#Polar-Ring-Galaxies)\n",
    "  * [Ram Pressure Stripping](#Ram-Pressure-Stripping)\n",
    "    * [Distinguishing Tides and Ram Pressure](#Distinguishing-Tides-Ram-Pressure)\n",
    "* [HI Absorption](#HI-deficiency-in-satellite-galaxies)\n",
    "  * [Associated and Intervening Absorption](#Associated-Intervening-Absorption)\n",
    "  * [Optical Depth](#Optical-Depth)\n",
    "  * [Gas Temperature](#Gas-Temperature)\n",
    "  * [Resolved Absorption Line Maps](#Resolved-Absorption-Line-Maps)"
   ]
  },
  {
   "cell_type": "markdown",
   "metadata": {},
   "source": [
    "### Introduction"
   ]
  },
  {
   "cell_type": "markdown",
   "metadata": {},
   "source": [
    "Chapter 3 discussed the global properties of gas-rich systems; in this chapter, we focus on how HI is distributed (both morphologically and kinematically) within these systems. We begin with an overview of the observed HI morphologies (chapter 4.1) and kinematics (chapter 4.2) of equilibrium disks. We then focus on the relationship between the properties of these resolved disks and star formation therein in chapter 4.3, and how the distortions observed in interacting galaxies are a sensitive tracer of environmental effects. We conclude this chapter with an overview of HI absorption as a tracer of galaxy structure."
   ]
  },
  {
   "cell_type": "markdown",
   "metadata": {},
   "source": [
    "### HI Morphologies of Galaxies"
   ]
  },
  {
   "cell_type": "markdown",
   "metadata": {},
   "source": [
    "#### Disk Galaxies"
   ]
  },
  {
   "cell_type": "markdown",
   "metadata": {},
   "source": [
    "##### Basic Morphology"
   ]
  },
  {
   "cell_type": "markdown",
   "metadata": {},
   "source": [
    "The dissipative nature of gas and the conservation of angular momentum imposed by gravity imply that gas in undisturbed galaxies is typically distributed in a thin disk whose radial extent well exceeds its vertical one. Examples of the HI surface density distribution in a face-on HI disk is shown in Fig. 4.1 and from an edge-on disk is shown in Fig. 4.2; they illustrate the basic properties of HI disks for Milky Way-like systems. By virtue of the optically thin nature of HI in most parts of a galaxy (ref here), HI maps of galaxies are typically given in units of column density, $N_{HI}$: atoms $cm^{-2}$, or $Mo pc^{-2}$; they are obtained by integrating the HI emission measured along each line-of-sight in the map (see Chapter 9.XXX), and as such are sometimes called *Moment 0* or *total intensity* maps. "
   ]
  },
  {
   "cell_type": "markdown",
   "metadata": {},
   "source": [
    "##### Radial Extent"
   ]
  },
  {
   "cell_type": "markdown",
   "metadata": {},
   "source": [
    "The maps of Fig. 4.1 illustrate that the HI distributions in disk galaxies typically have central depressions (where the bulk of the disk gas is in the molecular phase; see Hallenbeck et al. 2014 for an extreme example), and extend to larger radii than optical disks. The outer HI surface densities ($N_{HI} = 2 M_o pc^{-2}$) of galaxies follow exponential distributions whose radial scale lengths are 50&#37; larger than those of the optical disk (Bigiel &amp; Blitz 2012; Wang et al. 2014; more here). For example, the and exponential fit to the ensemble of outer HI disk profiles in the sample of Bigiel &amp; Blitz (2012) has a radial scale length of $r_{D,HI} = 0.61r_{25}$, where $r_{25}$ is the radius of the optical disk measured at a (*B*-band) isophotal level of 25 magnitudes per square arcsec."
   ]
  },
  {
   "cell_type": "markdown",
   "metadata": {},
   "source": [
    "As was first noticed in the late 90s (Broeils &amp; Rhee 1997), there is a tight correlation between the radial extent of HI disks of galaxies and their total HI masses. The relation was confirmed in several studies and recently revisited with a large dataset of Wang et al. (2016; see also Wang et al. 2014, and others here). The relationship between the HI diameter $D_{HI}$ and mass $M_{HI}$ obtained by Wang et al. (2016) is shown in Fig. 4.2, and the best-fitting linear relationship describing the trend is given by: $$log(D_{HI}) = (0.506 +/- 0.003) log(M_{HI}) - (3.293 +/- 0.009),$$ where $D_{HI}$ is measured in kpc at $N_{HI}=1 M_{o} pc^{-2}$, and $M_{HI}$ is in solar masses. This relation shows remarkably little scatter over several orders of magnitude ($10^7 - 10^{11} M_o$) in HI mass. "
   ]
  },
  {
   "cell_type": "markdown",
   "metadata": {},
   "source": [
    "##### Warps"
   ]
  },
  {
   "cell_type": "markdown",
   "metadata": {},
   "source": [
    "A significant fraction of galaxies have warped outer HI disks, where the disk inclination and position angle vary systematically from that in the inner disk; Garcia-Ruiz et al. (2002) estimate the incidence of warps to be at least 75&#37; in their search for warps in 26 edge-on systems, while models of position-velocity diagrams of Galactic HI emission suggest that the Milky Way itself is warped (Weinberg & Blitz 2006). An extreme example of a galaxy warp is shown in Fig. 4.3. Warps typically begin at $r_{25}$ of the stellar disk exhibit a straight line of nodes between $r_{25}$ and $r_{26.5}$, beyond which the line of nodes precesses in a loosely wound leading spiral pattern (Briggs 1990; Jozsa 2007). Warps are generally thought to originate from an interaction between the disk and the surrounding halo and intergalactic medium (see Sellwood 2013 for a recent review). "
   ]
  },
  {
   "cell_type": "markdown",
   "metadata": {},
   "source": [
    "##### Vertical Morphology"
   ]
  },
  {
   "cell_type": "markdown",
   "metadata": {},
   "source": [
    "High-resolution observations of edge-on galaxies (e.g. Sancisi & Allen 1971; van der Kruit 1981; Rupen 1991; Irwin &amp; Seaquist 1991; Olling 1996a; O’Brien et al. 2010a; Peters et al. 2013a) afford estimates of the vertical distribution of HI emission in disks. For $N_{HI} > 1 M_o pc^{-2}$, this distribution can be modelled as a Gaussian, with typical full-width half-maximum values of $500-700$ pc (e.g. Peters et al. 2013a). Since the HI disk thickness is a measure of the gravitational potential, low-mass galaxies have thicker HI disks (e.g. Brinks et al. 2002; Banerjee et al. 2011). The vertical extents of HI disks are observed to be constant across the star-forming disks of edge-on galaxies and increase farther out where the disk self-gravity decreases (e.g. Olling 1996a). This flaring of HI disks can be exploited to constrain the shape of dark matter halos (e.g. Olling 1996b; Banerjee et al. 2008; O’Brien et al. 2010b; Allaert et al. 2015; Peters et al. 2016)."
   ]
  },
  {
   "cell_type": "markdown",
   "metadata": {},
   "source": [
    "Sensitive observations reveal reservoirs of low-column density (below $N_{HI} = 1 M_o pc^{-2}$) gas at high galactic latitudes, that can extend several kpc above and below the HI disk (e.g. Oosterloo et al. 2007). The rotation velocity of the high-latitude gas lags behind that in the disk plane, with the rotation velocity decreasing as the distance from the plane increases (Benjamin 2012). It is possible the material is raining down on the disk as a result of a galactic fountain mechanism, or that it is being accreted from the intergalactic medium. Detailed models of the morphology and kinematics of high-latitude gas suggest that both mechanisms may be at play (e.g. Fraternali &amp; Binney 2008, Rand &amp; Benjamin 2012; Armillotta et al. 2016). "
   ]
  },
  {
   "cell_type": "markdown",
   "metadata": {},
   "source": [
    "#### Early-Type Galaxies"
   ]
  },
  {
   "cell_type": "markdown",
   "metadata": {},
   "source": [
    "While the majority of HI-rich galaxies have disks, recent observations of early-type galaxies (ETGs) suggest that a significant fraction contain HI gas as well: about 40&#37; of ETGs outside the Virgo cluster contain HI gas in the volume-limited Altas3D sample (Serra et al. 2012), while the same is true for about 10&#37; of ETGs in Virgo. A variety of HI morphologies are observed, from equilibrium disks to scattered clouds; examples of these extremes are shown in Fig. 4.3."
   ]
  },
  {
   "cell_type": "markdown",
   "metadata": {},
   "source": [
    "### HI Kinematics of Galaxies"
   ]
  },
  {
   "cell_type": "markdown",
   "metadata": {},
   "source": [
    "*Kristine to fill in this section.*"
   ]
  },
  {
   "cell_type": "markdown",
   "metadata": {},
   "source": [
    "### Atomic Gas and Star Formation"
   ]
  },
  {
   "cell_type": "markdown",
   "metadata": {},
   "source": [
    "*Michelle to fill in this section.*"
   ]
  },
  {
   "cell_type": "markdown",
   "metadata": {},
   "source": [
    "### HI Morphology and Kinematics as a Tracer of Environment"
   ]
  },
  {
   "cell_type": "markdown",
   "metadata": {},
   "source": [
    "*Michelle to fill in this section.*"
   ]
  },
  {
   "cell_type": "markdown",
   "metadata": {},
   "source": [
    "### HI Absorption"
   ]
  },
  {
   "cell_type": "markdown",
   "metadata": {},
   "source": [
    "*Neeraj to fill in this section.*"
   ]
  },
  {
   "cell_type": "markdown",
   "metadata": {},
   "source": [
    "M33, the smaller companion of M31, was observed in HI with the WSRT in the Netherlands by [<cite data-cite=\"1987A&AS...67..509D\">Deul &amp; van der Hulst (1987)</cite>](http://adsabs.harvard.edu/abs/1987A&AS...67..509D), with the Very Large Array (VLA) in New Mexico by [<cite data-cite=\"2002ASPC..276..370T\">Thilker, Braun &amp; Walterbos (2002)</cite>](http://adsabs.harvard.edu/abs/2002ASPC..276..370T) and with the 300-m Arecibo telescope in Puerto Rico by [<cite data-cite=\"2009ApJ...703.1486P\">Putman et al. (2009)</cite>](http://adsabs.harvard.edu/abs/2009ApJ...703.1486P).  The total HI mass of M33 is 1.4&#8239;×&#8239;10<sup>9</sup>&nbsp;<var>M</var><sub>☉</sub>&#8239;(<var>d</var>&#8239;/&#8239;730&nbsp;kpc)<sup>2</sup> without opacity corrections ([<cite data-cite=\"2009ApJ...703.1486P\">Putman et al. 2009</cite>](http://adsabs.harvard.edu/abs/2009ApJ...703.1486P))."
   ]
  },
  {
   "cell_type": "markdown",
   "metadata": {},
   "source": [
    "The HI disc of M33 shows strong signs of distortion in the form of an extended, warped outer disc as well as numerous clumps and filaments surrounding the entire disc, including a large HI cloud near the southern edge of the disc that appears connected to M33 through a gas bridge. A detailed orbital analysis carried out by [<cite data-cite=\"2009ApJ...703.1486P\">Putman et al. (2009)</cite>](http://adsabs.harvard.edu/abs/2009ApJ...703.1486P) suggests that the strong distortions of M33’s disc could have been the result of a close encounter with M31 that occurred about 1 to 3&nbsp;Ga ago."
   ]
  },
  {
   "cell_type": "markdown",
   "metadata": {},
   "source": [
    "##### Rotation curve and dynamical mass"
   ]
  },
  {
   "cell_type": "markdown",
   "metadata": {},
   "source": [
    "The rotation curve of M33 was determined by [<cite data-cite=\"2014A&A...572A..23C\">Corbelli et al. (2014)</cite>](http://adsabs.harvard.edu/abs/2014A&A...572A..23C) from high-resolution HI observations with the VLA. They find a generally rising rotation curve, with the rotation velocity increasing to about 120 to 130&nbsp;km&#8239;s<sup>−1</sup> at a radius of 23&nbsp;kpc. They also fit a ΛCDM-based mass model with NFW halo to the rotation curve and derive a total mass of (4.3&#8239;±&#8239;1.0)&#8239;×&#8239;10<sup>11</sup>&nbsp;<var>M</var><sub>☉</sub> for M33."
   ]
  },
  {
   "cell_type": "markdown",
   "metadata": {},
   "source": [
    "<figure>\n",
    "    <img src=\"01_figures/m33-rotation-curve.png\" width=\"520\" height=\"540\" alt=\"Rotation curve of M33\" />\n",
    "    <figcaption style=\"font-style:italic;\">The rotation curve of M33 as derived by [<cite data-cite=\"2014A&A...572A..23C\">Corbelli et al. (2014)</cite>](http://adsabs.harvard.edu/abs/2014A&A...572A..23C). The top panel shows the rotation curve of the outer disc, while the bottom panel shows a zoomed-in view of the rotation curve of the inner disc.</figcaption>\n",
    "</figure>"
   ]
  },
  {
   "cell_type": "markdown",
   "metadata": {},
   "source": [
    "#### The high-velocity clouds of M31 and M33"
   ]
  },
  {
   "cell_type": "markdown",
   "metadata": {},
   "source": [
    "A population of about 20&nbsp;isolated HI clouds within a projected distance of about 50&nbsp;kpc of M31 was discovered by [<cite data-cite=\"2004ApJ...601L..39T\">Thilker et al. (2004)</cite>](http://adsabs.harvard.edu/abs/2004ApJ...601L..39T) using the Green Bank Telescope. These clouds are thought to be the analogues to the high-velocity clouds (HVCs) found around the Milky Way. The clouds were studied in greater detail with the Effelsberg telescope by [<cite data-cite=\"2008MNRAS.390.1691W\">Westmeier, Brüns &amp; Kerp (2008)</cite>](http://adsabs.harvard.edu/abs/2008MNRAS.390.1691W) and in high-resolution interferometric observations with the WSRT presented by [<cite data-cite=\"2005A&A...436..101W\">Westmeier, Braun &amp; Thilker (2005)</cite>](http://adsabs.harvard.edu/abs/2005A&A...436..101W)."
   ]
  },
  {
   "cell_type": "markdown",
   "metadata": {},
   "source": [
    "The HVCs of M31 have typical diameters of the order of 1&nbsp;kpc and HI masses of typically a few times 10<sup>5</sup>&nbsp;<var>M</var><sub>☉</sub> ([<cite data-cite=\"2005A&A...436..101W\">Westmeier, Braun &amp; Thilker 2005</cite>](http://adsabs.harvard.edu/abs/2005A&A...436..101W)). Many of the clouds show distinct velocity gradients across their extent; if these are assumed to indicate rotation, the resulting dynamical masses would be about 100&nbsp;times larger than the observed HI masses. This result could either indicate the presence of a significant amount of dark matter or imply that the velocity gradients are not the result of rotation, but of turbulent motions within the clouds."
   ]
  },
  {
   "cell_type": "markdown",
   "metadata": {},
   "source": [
    "<figure>\n",
    "    <img src=\"01_figures/m31-hvcs.png\" width=\"1260\" height=\"540\" alt=\"High-velocity clouds around M31\" />\n",
    "    <figcaption>*Left: HI column density map of M31 (grey-scale image) based on the GBT data of [<cite data-cite=\"2004ApJ...601L..39T\">Thilker et al. (2004)</cite>](http://adsabs.harvard.edu/abs/2004ApJ...601L..39T). Some of the high-velocity clouds, followed up with the WSRT by [<cite data-cite=\"2005A&A...436..101W\">Westmeier, Braun &amp; Thilker (2005)</cite>](http://adsabs.harvard.edu/abs/2005A&A...436..101W), are overplotted as black contours, with black circles indicating the individual WSRT pointings. Right: Overview map of gas clouds detected in the vicinity of M33 by [<cite data-cite=\"2016MNRAS.456..951K\">Keenan et al. (2016)</cite>](http://adsabs.harvard.edu/abs/2016MNRAS.456..951K).*</figcaption>\n",
    "</figure>\n"
   ]
  },
  {
   "cell_type": "markdown",
   "metadata": {},
   "source": [
    "The origin of the HVCs around M31 is still uncertain, and hypotheses range from primoridal dark-matter haloes and condensations of accreted intergalactic gas to tidal debris from recent interactions between M31 and satellite galaxies. The extended complex of HVCs located near the south-eastern edge of M31’s disc both spatially and kinematically overlaps with the giant stellar stream of M31 discovered by [<cite data-cite=\"2001Natur.412...49I\">Ibata et al. (2001)</cite>](http://adsabs.harvard.edu/abs/2001Natur.412...49I) and presumably originates from the disruption of the satellite galaxy that formed the stellar stream. Another cloud is close to one of M31’s satellite galaxies, NGC&nbsp;205, both in position and velocity, and could have been stripped from that galaxy. This would be consistent with optical ([<cite data-cite=\"2004MNRAS.351L..94M\">McConnachie et al. 2004</cite>](http://adsabs.harvard.edu/abs/2004MNRAS.351L..94M)) and far-infrared ([<cite data-cite=\"2012MNRAS.423.2359D\">De Looze et al. 2012</cite>](http://adsabs.harvard.edu/abs/2012MNRAS.423.2359D)) observations that uncovered evidence for tidal stripping of stars and gas from NGC&nbsp;205. Other HVCs appear isolated and not associated with any known satellite galaxy or stellar structure of M31’s disc, and their origin is unknown."
   ]
  },
  {
   "cell_type": "markdown",
   "metadata": {},
   "source": [
    "Several HI clouds have also been found in the vicinity of M33, most notably Wright’s Cloud ([<cite data-cite=\"1974A&A....31..317W\">Wright 1974</cite>](http://adsabs.harvard.edu/abs/1974A&A....31..317W)), which, at an LSR velocity of about −390&nbsp;km&#8239;s<sup>−1</sup>, might be associated with the nearby Magellanic Stream rather than M33. If located at the distance of M33, the HI mass of Wright’s Cloud would be fairly significant at 4.5&#8239;×&#8239;10<sup>7</sup>&nbsp;<var>M</var><sub>☉</sub> ([<cite data-cite=\"2016MNRAS.456..951K\">Keenan et al. 2016</cite>](http://adsabs.harvard.edu/abs/2016MNRAS.456..951K)). More recently, sensitive HI observations of a large area around M33 with the Arecibo telescope ([<cite data-cite=\"2008A&A...487..161G\">Grossi et al. 2008</cite>](http://adsabs.harvard.edu/abs/2008A&A...487..161G); [<cite data-cite=\"2016MNRAS.456..951K\">Keenan et al. 2016</cite>](http://adsabs.harvard.edu/abs/2016MNRAS.456..951K)) have revealed the presence of about 20 isolated HI clouds surrounding the galaxy. Their HI masses are in the range of about 10<sup>5</sup> to 10<sup>7</sup>&nbsp;<var>M</var><sub>☉</sub> with sizes of typically several kpc. While [<cite data-cite=\"2008A&A...487..161G\">Grossi et al. (2008)</cite>](http://adsabs.harvard.edu/abs/2008A&A...487..161G) treat these clouds as being associated with M33, [<cite data-cite=\"2016MNRAS.456..951K\">Keenan et al. (2016)</cite>](http://adsabs.harvard.edu/abs/2016MNRAS.456..951K) point out that the positions and velocities of most of them are fully consistent with the Magellanic Stream that runs across the same part of the sky; therefore, most of the clouds might not be located at the distance of M33 at all."
   ]
  },
  {
   "cell_type": "markdown",
   "metadata": {
    "collapsed": true
   },
   "source": [
    "#### The HI filament connecting M31 and M33"
   ]
  },
  {
   "cell_type": "markdown",
   "metadata": {},
   "source": [
    "[<cite data-cite=\"2004A&A...417..421B\">Braun &amp; Thilker (2004)</cite>](http://adsabs.harvard.edu/abs/2004A&A...417..421B) carried out a very deep HI survey of a large area around M31 and M33 using the WSRT in total-power mode. The resulting image has a poor angular resolution of 48&nbsp;arcmin (FWHM), but an unprecendented column density sensitivity of 1.5&#8239;×&#8239;10<sup>17</sup>&nbsp;cm<sup>−2</sup>. Overall, they detect 95&nbsp;discrete HVCs in the field. While many of the clouds are consistent with being part of the Magellanic Stream that runs across the same part of the sky, they uncovered a faint HI filament that appears to connect M31 with M33, not just spatially, but also in velocity space. This filament could potentially be the neutral component of the warm–hot intergalactic medium (WHIM) expected to form along filaments of the cosmic web ([<cite data-cite=\"2004A&A...417..421B\">Braun &amp; Thilker 2004</cite>](http://adsabs.harvard.edu/abs/2004A&A...417..421B)), or the result of tidal stripping during a recent, close encounter between M31 and M33 ([<cite data-cite=\"2008MNRAS.390L..24B\">Bekki 2008</cite>](http://adsabs.harvard.edu/abs/2008MNRAS.390L..24B))."
   ]
  },
  {
   "cell_type": "markdown",
   "metadata": {},
   "source": [
    "<figure>\n",
    "    <img src=\"01_figures/m31-m33-filament.png\" width=\"1280\" height=\"540\" alt=\"Stellar and gaseous filaments between M31 and M33\" />\n",
    "    <figcaption>*Left: Deep optical image from the PAndAS showing the distribution of RGB stars in a large field around M31 and M33 ([<cite data-cite=\"2013ApJ...763....4L\">Lewis et al. 2013</cite>](http://adsabs.harvard.edu/abs/2013ApJ...763....4L)). The main stellar streams and features are labelled. Right: Deep HI map from a WSRT survey of the M31&ndash;M33 field by [<cite data-cite=\"2004A&A...417..421B\">Braun &amp; Thilker (2004)</cite>](http://adsabs.harvard.edu/abs/2004A&A...417..421B). Note the faint HI filament connecting M31 with M33 as well as two extended filaments of the Magellanic Stream on the right.*</figcaption>\n",
    "</figure>"
   ]
  },
  {
   "cell_type": "markdown",
   "metadata": {
    "collapsed": true
   },
   "source": [
    "Recent follow-up observations of the HI bridge with the GBT ([<cite data-cite=\"2012AJ....144...52L\">Lockman, Free &amp; Shields 2012</cite>](http://adsabs.harvard.edu/abs/2012AJ....144...52L); [<cite data-cite=\"2013Natur.497..224W\">Wolfe et al. 2013</cite>](http://adsabs.harvard.edu/abs/2013Natur.497..224W); [<cite data-cite=\"2016ApJ...816...81W\">Wolfe, Lockman &amp; Pisano 2016</cite>](http://adsabs.harvard.edu/abs/2016ApJ...816...81W)) have confirmed the existence of the filament and revealed that virtually all of the gas is located in discrete clumps with peak column densities in the range of about 1 to 5&#8239;×&#8239;10<sup>18</sup>&nbsp;cm<sup>−2</sup> and typical HI masses of the order of 10<sup>5</sup>&nbsp;<var>M</var><sub>☉</sub> without any evidence for a diffuse component ([<cite data-cite=\"2016ApJ...816...81W\">Wolfe, Lockman &amp; Pisano 2016</cite>](http://adsabs.harvard.edu/abs/2016ApJ...816...81W)). The clumps are kinematically distinct from the populations of gas clouds and HVCs surrounding M31 and M33, suggesting that their origin is a different one. The results presented by [<cite data-cite=\"2013Natur.497..224W\">Wolfe et al. (2013)</cite>](http://adsabs.harvard.edu/abs/2013Natur.497..224W) appear to support the cosmic web hypothesis and suggest that the gas could provide fuel for future star formation in M31 and M33. [<cite data-cite=\"2016ApJ...816...81W\">Wolfe, Lockman &amp; Pisano (2016)</cite>](http://adsabs.harvard.edu/abs/2016ApJ...816...81W) rule out the possibility that these gas clouds constitute satellite galaxies of M31 due to the lack of optical counterparts. However, they speculate that the clouds could also be condensations within the extended circumgalactic medium claimed to have been detected around M31 by [<cite data-cite=\"2015ApJ...804...79L\">Lehner, Howk &amp; Wakker (2015)</cite>](http://adsabs.harvard.edu/abs/2015ApJ...804...79L)."
   ]
  },
  {
   "cell_type": "markdown",
   "metadata": {},
   "source": [
    "<figure>\n",
    "    <img src=\"01_figures/m31-m33-filament-clumps.png\" width=\"900\" height=\"311\" alt=\"HI clumps in the M31-M33 bridge\" \\>\n",
    "    <figcaption>*HI image from the GBT by [<cite data-cite=\"2016ApJ...816...81W\">Wolfe, Lockman &amp; Pisano (2016)</cite>](http://adsabs.harvard.edu/abs/2016ApJ...816...81W) showing some of the compact HI clumps found within the HI filament connecting M31 and M33.*</figcaption>\n",
    "</figure>"
   ]
  },
  {
   "cell_type": "markdown",
   "metadata": {},
   "source": [
    "A comparison between the extragalactic HI structures in the M31 system with faint stellar substructures found in deep optical imaging by the PAndAS project ([<cite data-cite=\"2013ApJ...763....4L\">Lewis et al. 2013</cite>](http://adsabs.harvard.edu/abs/2013ApJ...763....4L)) revealed that there is very little spatial overlap between the gas and the stars. The only notable exception is M31’s giant stellar stream which appears to have some HI gas associated with it (also see [<cite data-cite=\"2005A&A...436..101W\">Westmeier, Braun &amp; Thilker 2005</cite>](http://adsabs.harvard.edu/abs/2005A&A...436..101W)). [<cite data-cite=\"2013ApJ...763....4L\">Lewis et al. (2013)</cite>](http://adsabs.harvard.edu/abs/2013ApJ...763....4L) conclude that, while stellar and gaseous structures throughout the M31 system may well have been formed in similar accretion events of satellite galaxies in the past, they have since been shaped by different physical processes, thus explaining the current lack of spatial correlation between the two components. The gas in particular is subject to ram-pressure forces and shock-heating and may therefore not be collocated with the stars."
   ]
  },
  {
   "cell_type": "markdown",
   "metadata": {
    "collapsed": true
   },
   "source": [
    "### HI in Local Group dwarf galaxies"
   ]
  },
  {
   "cell_type": "markdown",
   "metadata": {},
   "source": [
    "HI emission has been unambiguously detected in about two dozen dwarf galaxies across the Local Group, including the LMC and SMC, WLM ([<cite data-cite=\"2007AJ....133.2242K\">Kepley et al. 2007</cite>](http://adsabs.harvard.edu/abs/2007AJ....133.2242K)), IC&nbsp;10 ([<cite data-cite=\"1998AJ....116.2363W\">Wilcots &amp; Miller 1998</cite>](http://adsabs.harvard.edu/abs/1998AJ....116.2363W)), Pisces&nbsp;I&#8239;/&#8239;LGS&nbsp;3 ([<cite data-cite=\"1997ApJ...490..710Y\">Young &amp; Lo 1997</cite>](http://adsabs.harvard.edu/abs/1997ApJ...490..710Y)), IC&nbsp;1613 ([<cite data-cite=\"2006A&A...448..123S\">Silich et al. 2006</cite>](http://adsabs.harvard.edu/abs/2006A&A...448..123S)), Phoenix ([<cite data-cite=\"1997ApJ...490..710Y\">Young &amp; Lo 1997</cite>](http://adsabs.harvard.edu/abs/1997ApJ...490..710Y); [<cite data-cite=\"2002MNRAS.336..643I\">Irwin &amp; Tolstoy 2002</cite>](http://adsabs.harvard.edu/abs/2002MNRAS.336..643I); [<cite data-cite=\"2007ApJ...659..331Y\">Young et al. 2007</cite>](http://adsabs.harvard.edu/abs/2007ApJ...659..331Y)), UGCA&nbsp;92 ([<cite data-cite=\"2008MNRAS.386.1667B\">Begum et al. 2008</cite>](http://adsabs.harvard.edu/abs/2008MNRAS.386.1667B)), Leo&nbsp;III&#8239;/&#8239;Leo&nbsp;A ([<cite data-cite=\"1996ApJ...462..203Y\">Young &amp; Lo 1996</cite>](http://adsabs.harvard.edu/abs/1996ApJ...462..203Y)), Sextans&nbsp;A ([<cite data-cite=\"2004MNRAS.351..333B\">Barnes &amp; de&nbsp;Blok 2004</cite>](http://adsabs.harvard.edu/abs/2004MNRAS.351..333B)), Sextans&nbsp;B ([<cite data-cite=\"1984AJ.....89..758H\">Haynes &amp; Giovanelli 1984</cite>](http://adsabs.harvard.edu/abs/1984AJ.....89..758H)), NGC 3109 ([<cite data-cite=\"2001AJ....122..825B\">Barnes &amp; de&nbsp;Blok 2001</cite>](http://adsabs.harvard.edu/abs/2001AJ....122..825B)), Antlia ([<cite data-cite=\"2001AJ....122..825B\">Barnes &amp; de&nbsp;Blok 2001</cite>](http://adsabs.harvard.edu/abs/2001AJ....122..825B)), UGC&nbsp;8091 ([<cite data-cite=\"1975A&A....44..151F\">Fisher &amp; Tully 1975</cite>](http://adsabs.harvard.edu/abs/1975A&A....44..151F)), Sagittarius&nbsp;DIG ([<cite data-cite=\"1997ApJ...490..710Y\">Young &amp; Lo 1997</cite>](http://adsabs.harvard.edu/abs/1997ApJ...490..710Y)), Aquarius&nbsp;dIrr&#8239;/&#8239;DDO&nbsp;210 ([<cite data-cite=\"1993AJ....106..507L\">Lo, Sargent &amp; Young 1993</cite>](http://adsabs.harvard.edu/abs/1993AJ....106..507L)), IC&nbsp;5152 ([<cite data-cite=\"1977AuJPh..30..187W\">Whiteoak &amp; Gardner 1977</cite>](http://adsabs.harvard.edu/abs/1977AuJPh..30..187W)), UGCA&nbsp;438 ([<cite data-cite=\"1982MNRAS.200..325L\">Longmore et al. 1982</cite>](http://adsabs.harvard.edu/abs/1982MNRAS.200..325L)), NGC&nbsp;6822 ([<cite data-cite=\"2000ApJ...537L..95D\">de&nbsp;Blok &amp; Walter 2000</cite>](http://adsabs.harvard.edu/abs/2000ApJ...537L..95D)), Leo&nbsp;T ([<cite data-cite=\"2008MNRAS.384..535R\">Ryan-Weber et al. 2008</cite>](http://adsabs.harvard.edu/abs/2008MNRAS.384..535R)), Pegasus DIG ([<cite data-cite=\"1993AJ....106..507L\">Lo, Sargent &amp; Young 1993</cite>](http://adsabs.harvard.edu/abs/1993AJ....106..507L)) and UGC&nbsp;4879 ([<cite data-cite=\"2011A&A...527A..58B\">Bellazzini et al. 2011</cite>](http://adsabs.harvard.edu/abs/2011A&A...527A..58B)). Also see [<cite data-cite=\"2009ApJ...696..385G\">Grcevich &amp; Putman 2009</cite>](http://adsabs.harvard.edu/abs/2009ApJ...696..385G) for a comprehensive list plus references. Among the known satellites of the Andromeda Galaxy, HI emission has only been unambiguously detected in NGC&nbsp;185 and NGC&nbsp;205 ([<cite data-cite=\"1983ApJ...275..549J\">Johnson &amp; Gottesman 1983</cite>](http://adsabs.harvard.edu/abs/1983ApJ...275..549J)). With few exceptions, most of the galaxies with HI detections are located far away from the two major galaxies in the Local Group, the Milky Way and the Andromeda Galaxy."
   ]
  },
  {
   "cell_type": "markdown",
   "metadata": {},
   "source": [
    "<figure>\n",
    "    <img src=\"01_figures/little-things-mom0.png\" width=\"1200\" height=\"780\" alt=\"Moment-0 maps of 6 galaxies from Little THINGS\" />\n",
    "    <figcaption style=\"font-style:italic;\">Integrated HI flux maps of six Local Group dwarf galaxies observed with the VLA as part of the Little THINGS survey ([<cite data-cite=\"2012AJ....144..134H\">Hunter et al. 2012</cite>](http://adsabs.harvard.edu/abs/2012AJ....144..134H)).</figcaption>\n",
    "</figure>"
   ]
  },
  {
   "cell_type": "markdown",
   "metadata": {},
   "source": [
    "<figure>\n",
    "    <img src=\"01_figures/little-things-mom1.png\" width=\"1200\" height=\"780\" alt=\"Moment-1 maps of 6 galaxies from Little THINGS\" />\n",
    "    <figcaption style=\"font-style:italic;\">Radial velocity maps of six Local Group dwarf galaxies observed with the VLA as part of the Little THINGS survey ([<cite data-cite=\"2012AJ....144..134H\">Hunter et al. 2012</cite>](http://adsabs.harvard.edu/abs/2012AJ....144..134H)).</figcaption>\n",
    "</figure>"
   ]
  },
  {
   "cell_type": "markdown",
   "metadata": {},
   "source": [
    "The recent surge in discoveries of new dwarf galaxies across the Local Group and particularly in the vicinity of the Magellanic Clouds ([<cite data-cite=\"2015ApJ...805..130K\">Koposov et al. 2015</cite>](http://adsabs.harvard.edu/abs/2015ApJ...805..130K); [<cite data-cite=\"2015ApJ...804L...5M\">Martin et al. 2015</cite>](http://adsabs.harvard.edu/abs/2015ApJ...804L...5M); [<cite data-cite=\"2015ApJ...804L..44K\">Kim et al. 2015</cite>](http://adsabs.harvard.edu/abs/2015ApJ...804L..44K); [<cite data-cite=\"2015ApJ...807...50B\">Bechtol et al. 2015</cite>](http://adsabs.harvard.edu/abs/2015ApJ...807...50B); [<cite data-cite=\"2015ApJ...808L..39K\">Kim &amp; Jerjen 2015</cite>](http://adsabs.harvard.edu/abs/2015ApJ...808L..39K); [<cite data-cite=\"2015ApJ...812L..13S\">Sand et al. 2015</cite>](http://adsabs.harvard.edu/abs/2015ApJ...812L..13S); [<cite data-cite=\"2015ApJ...813...44L\">Laevens et al. 2015</cite>](http://adsabs.harvard.edu/abs/2015ApJ...813...44L); [<cite data-cite=\"2015ApJ...813..109D\">Drlica-Wagner et al. 2015</cite>](http://adsabs.harvard.edu/abs/2015ApJ...813..109D); [<cite data-cite=\"2015ApJ...798L..21T\">Tollerud et al. 2015</cite>](http://adsabs.harvard.edu/abs/2015ApJ...798L..21T); [<cite data-cite=\"2016MNRAS.458..603L\">Luque et al. 2016</cite>](http://adsabs.harvard.edu/abs/2016MNRAS.458..603L); [<cite data-cite=\"2016MNRAS.459.2370T\">Torrealba et al. 2016a</cite>](http://adsabs.harvard.edu/abs/2016MNRAS.459.2370T); [<cite data-cite=\"2016arXiv160804033L\">Luque et al. 2016</cite>](http://adsabs.harvard.edu/abs/2016arXiv160804033L); [<cite data-cite=\"2016MNRAS.tmp.1171T\">Torrealba et al. 2016b</cite>](http://adsabs.harvard.edu/abs/2016MNRAS.tmp.1171T)) has led to several unsuccessful follow-up searches for HI emission ([<cite data-cite=\"2015MNRAS.453..338W\">Westmeier et al. 2015</cite>](http://adsabs.harvard.edu/abs/2015MNRAS.453..338W); [<cite data-cite=\"2015A&A...584A.101J\">Janzen et al. 2015</cite>](http://adsabs.harvard.edu/abs/2015A&A...584A.101J); [<cite data-cite=\"2016ApJ...824L..14C\">Crnojević et al. 2016</cite>](http://adsabs.harvard.edu/abs/2016ApJ...824L..14C)), although HI has been successfully detected in the two more distant and isolated galaxies Pisces&nbsp;A and B with KAT–7 ([<cite data-cite=\"2016A&A...587L...3C\">Carignan et al. 2016</cite>](http://adsabs.harvard.edu/abs/2016A&A...587L...3C)). The newly discovered population of ultra-faint dwarf galaxies near the Magellanic Clouds was recently simulated by [<cite data-cite=\"2015MNRAS.453.2302Y\">Yozin &amp; Bekki (2015)</cite>](http://adsabs.harvard.edu/abs/2015MNRAS.453.2302Y) who conclude that the population is consistent with being part of a distinct Magellanic group of galaxies. The ultra-faint dwarfs must have lost their gas during the infall of the Magellanic Clouds onto the Milky Way through ram-pressure stripping by the Galactic halo. [<cite data-cite=\"2015MNRAS.453.2302Y\">Yozin &amp; Bekki (2015)</cite>](http://adsabs.harvard.edu/abs/2015MNRAS.453.2302Y) speculate that the stripped gas might still be detectable in HI emission, although no longer collocated with its progenitor galaxies on the sky, and should be distinguishable from Galactic gas through its lower metallicities."
   ]
  },
  {
   "cell_type": "markdown",
   "metadata": {},
   "source": [
    "<figure>\n",
    "    <img src=\"01_figures/new-uf-dwarfs.png\" width=\"1000\" height=\"573\" alt=\"Location of new ultra-faint dwarfs near the Magellanic Clouds\" />\n",
    "    <figcaption style=\"font-style:italic;\">Location of 17&nbsp;ultra-faint dwarf galaxies recently discovered in data from the Dark Energy Survey by [<cite data-cite=\"2015ApJ...805..130K\">Koposov et al. (2015)</cite>](http://adsabs.harvard.edu/abs/2015ApJ...805..130K) and [<cite data-cite=\"2015ApJ...813..109D\">Drlica-Wagner et al. (2015)</cite>](http://adsabs.harvard.edu/abs/2015ApJ...813..109D), shown as the red circles and triangles, respectively. Several previously known Local Group dwarf galaxies are also shown as the blue squares, including the Large and Small Magellanic Cloud. The newly discovered dwarfs are thought to be part of a distinct Magellanic group of galaxies. (Figure taken from [<cite data-cite=\"2015ApJ...813..109D\">Drlica-Wagner et al. 2015</cite>](http://adsabs.harvard.edu/abs/2015ApJ...813..109D).)</figcaption>\n",
    "</figure>"
   ]
  },
  {
   "cell_type": "markdown",
   "metadata": {},
   "source": [
    "#### HI morphology of dwarf galaxies"
   ]
  },
  {
   "cell_type": "markdown",
   "metadata": {},
   "source": [
    "The HI morphology of several of the more isolated, HI-rich dwarf galaxies of the Local Group has been studied in great detail using radio interferometers. Many were found to be gas-rich and show signs of ongoing star formation activity. A well-studied example is the dIrr galaxy NGC&nbsp;6822. Located at a distance of roughly 500&nbsp;kpc ([<cite data-cite=\"1996AJ....112.1928G\">Gallart, Aparicio &amp; Vílchez 1996</cite>](http://adsabs.harvard.edu/abs/1996AJ....112.1928G)), NGC&nbsp;6822 is not thought to be associated with either the Milky Way or the Andromeda Galaxy. Its HI emission was studied with the ATCA by [<cite data-cite=\"2000ApJ...537L..95D\">de&nbsp;Blok &amp; Walter (2000)</cite>](http://adsabs.harvard.edu/abs/2000ApJ...537L..95D) who discovered numerous HI shells in the galaxy’s disc, including one of the largest supergiant shells every found with a size of 2.0&#8239;×&#8239;1.4&nbsp;kpc. They estimate that creation of the supergiant shell would require the energy of about 100&nbsp;supernovae and speculate that the shell could be the result of a burst of star formation during an interaction with a smaller companion galaxy about 100&nbsp;Ma ago. Signs of active star formation in the form of HI shells have also been found in a few other Local Group dwarfs, in particular IC&nbsp;10 ([<cite data-cite=\"1998AJ....116.2363W\">Wilcots &amp; Miller 1998</cite>](http://adsabs.harvard.edu/abs/1998AJ....116.2363W)) and IC&nbsp;1613 ([<cite data-cite=\"2006A&A...448..123S\">Silich et al. 2006</cite>](http://adsabs.harvard.edu/abs/2006A&A...448..123S))."
   ]
  },
  {
   "cell_type": "markdown",
   "metadata": {},
   "source": [
    "<figure>\n",
    "    <img src=\"01_figures/ngc6822.png\" width=\"1200\" heigh=\"540\" alt=\"HI image of NGC 6822\" />\n",
    "    <figcaption style=\"font-style:italic;\">Left: HI column density map of NGC&nbsp;6822 from [<cite data-cite=\"2000ApJ...537L..95D\">de&nbsp;Blok &amp; Walter (2000)</cite>](http://adsabs.harvard.edu/abs/2000ApJ...537L..95D). Some of the most notable features visible in the image have been labelled. Right: HI column density contours (white) of Phoenix from [<cite data-cite=\"2007ApJ...659..331Y\">Young et al. (2007)</cite>](http://adsabs.harvard.edu/abs/2007ApJ...659..331Y) overlaid on an optical image from the Digitized Sky Survey. Note the positional offset between the stellar component and the HI gas.</figcaption>\n",
    "</figure>"
   ]
  },
  {
   "cell_type": "markdown",
   "metadata": {},
   "source": [
    "A curious case is that of the Phoenix dwarf galaxy in which the HI component is spatially shifted with respect to the stellar component. [<cite data-cite=\"2007ApJ...659..331Y\">Young et al. (2007)</cite>](http://adsabs.harvard.edu/abs/2007ApJ...659..331Y) conclude that the HI gas has most likely been expelled from the galaxy by supernova-driven winds resulting from strong star formation activity rather than tidal or ram-pressure interaction, although the gas is still gravitationally bound to Phoenix and could fuel further star formation in the future. The Pegasus dIrr galaxy, on the other hand, shows signs of ram-pressure stripping of the outer parts of its HI disc ([<cite data-cite=\"2007ApJ...671L..33M\">McConnachie et al. 2007</cite>](http://adsabs.harvard.edu/abs/2007ApJ...671L..33M)) despite its relatively large distance from M31 of about 500&nbsp;kpc, suggesting the presence of a low-density intergalactic medium in the Local Group with a density of at least <var>n</var><sub>IGM</sub>&nbsp;≈&nbsp;10<sup>−6</sup> to 10<sup>−5</sup>&nbsp;cm<sup>−3</sup>."
   ]
  },
  {
   "cell_type": "markdown",
   "metadata": {},
   "source": [
    "#### HI kinematics and dynamics of dwarf galaxies"
   ]
  },
  {
   "cell_type": "markdown",
   "metadata": {},
   "source": [
    "Due to their small distances and hence large angular sizes on the sky, dwarf galaxies in the Local Group are particularly suitable to study the kinematics of the HI gas and the total fraction and spatial distribution of dark matter, although many of the Local Group dwarf galaxies do not show any sign of rotation, but rather appear to be supported by random motions of their gas and stars. Examples include Sagittarius DIG and Pisces&nbsp;I&#8239;/&#8239;LGS&nbsp;3 ([<cite data-cite=\"1997ApJ...490..710Y\">Young &amp; Lo 1997</cite>](http://adsabs.harvard.edu/abs/1997ApJ...490..710Y)). Several of the Local Group dwarfs with previous HI detections were included in the LITTLE THINGS survey with the VLA ([<cite data-cite=\"2012AJ....144..134H\">Hunter et al. 2012</cite>](http://adsabs.harvard.edu/abs/2012AJ....144..134H)). This sample was used by [<cite data-cite=\"2015AJ....149..180O\">Oh et al. (2015)</cite>](http://adsabs.harvard.edu/abs/2015AJ....149..180O) to derive the rotation curves and mass composition of 26&nbsp;dwarf galaxies across the Local Group and the local volume. They conclude that the relatively shallow inner slopes of the dark-matter density profiles disagree with the generally steeper, cusp-like profiles predicted by dark-matter simulations in the ΛCDM paradigm. The discrepancy can potentially be explained by baryonic feedback processes within the galaxies, such as gas outflows driven by supernovae."
   ]
  },
  {
   "cell_type": "markdown",
   "metadata": {},
   "source": [
    "<figure>\n",
    "    <img src=\"01_figures/little-things-dm-profiles.png\" width=\"1100\" height=\"540\" alt=\"Dark-matter density profile slopes from LITTLE THINGS\" />\n",
    "    <figcaption style=\"font-style:italic;\">Inner slope of the dark-matter density profiles of 26&nbsp;dwarf galaxies from the LITTLE THINGS survey plotted against total stellar mass (left) and the radius of the innermost point (right) within which the profile slope is measured (from [<cite data-cite=\"2015AJ....149..180O\">Oh et al. 2015</cite>](http://adsabs.harvard.edu/abs/2015AJ....149..180O)).</figcaption>\n",
    "</figure>"
   ]
  },
  {
   "cell_type": "markdown",
   "metadata": {},
   "source": [
    "#### HI deficiency in satellite galaxies"
   ]
  },
  {
   "cell_type": "markdown",
   "metadata": {},
   "source": [
    "Observations of neutral hydrogen in dwarf galaxies throughout the Local Group have revealed that satellite galaxies of the Milky Way and the Andromeda Galaxy are generally HI-deficient (e.g. [<cite data-cite=\"1999AJ....117.1758Y\">Young 1999</cite>](http://adsabs.harvard.edu/abs/1999AJ....117.1758Y); [<cite data-cite=\"2000AJ....119..188Y\">Young 2000</cite>](http://adsabs.harvard.edu/abs/2000AJ....119..188Y); [<cite data-cite=\"2009ApJ...696..385G\">Grcevich &amp; Putman 2009</cite>](http://adsabs.harvard.edu/abs/2009ApJ...696..385G)); despite sensitive and extensive searches, no HI emission has been detected in most of the known Milky Way and Andromeda satellites. A systematic study of the HI content of dwarf spheroidal satellite galaxies around the Milky Way by [<cite data-cite=\"2014ApJ...795L...5S\">Spekkens et al. (2014)</cite>](http://adsabs.harvard.edu/abs/2014ApJ...795L...5S) revealed that there is a sharp transition between gas-rich and gas-poor galaxies, with satellites located within the Milky Way’s virial radius of <var>R</var><sub>vir</sub>&nbsp;≈&nbsp;300&nbsp;kpc having HI mass-to-light ratios (<var>M</var><sub>HI</sub>&#8239;/&#8239;<var>L</var><sub>V</sub>) and HI-to-dynamical mass ratios (<var>M</var><sub>HI</sub>&#8239;/&#8239;<var>M</var><sub>dyn</sub>) that are at least a factor of 100 to 1000 lower than in galaxies located outside the virial radius of the Milky Way. This significant HI deficiency has been attributed to a number of different physical processes, including\n",
    "\n",
    "* <strong>tidal stripping</strong> of gas by the Milky Way’s or M31’s gravitational potential (e.g. [<cite data-cite=\"2009MNRAS.400.1962K\">Kilborn et al. 2009</cite>](http://adsabs.harvard.edu/abs/2009MNRAS.400.1962K)),\n",
    "* <strong>ram-pressure stripping</strong> of gas by the Milky Way’s or M31’s hot, ionised halo (e.g. [<cite data-cite=\"2007ApJ...671L..33M\">McConnachie et al. 2007</cite>](http://adsabs.harvard.edu/abs/2007ApJ...671L..33M); [<cite data-cite=\"2009ApJ...696..385G\">Grcevich &amp; Putman 2009</cite>](http://adsabs.harvard.edu/abs/2009ApJ...696..385G)),\n",
    "* <strong>photo-ionisation</strong> of gas by a strong ultra-violet radiation background (e.g. [<cite data-cite=\"1992MNRAS.256P..43E\">Efstathiou 1992</cite>](http://adsabs.harvard.edu/abs/1992MNRAS.256P..43E); [<cite data-cite=\"2011MNRAS.415..257N\">Nickerson et al. 2011</cite>](http://adsabs.harvard.edu/abs/2011MNRAS.415..257N)), and\n",
    "* <strong>gas outflows</strong> driven by feedback processes related to star formation in the dwarf galaxies (e.g. [<cite data-cite=\"1999ApJ...513..142M\">Mac Low &amp; Ferrara 1999</cite>](http://adsabs.harvard.edu/abs/1999ApJ...513..142M); [<cite data-cite=\"2000MNRAS.313..291F\">Ferrara &amp; Tolstoy 2000</cite>](http://adsabs.harvard.edu/abs/2000MNRAS.313..291F); [<cite data-cite=\"2007ApJ...659..331Y\">Young et al. 2007</cite>](http://adsabs.harvard.edu/abs/2007ApJ...659..331Y); [<cite data-cite=\"2008MNRAS.386..348S\">Salvadori, Ferrara &amp; Schneider 2008</cite>](http://adsabs.harvard.edu/abs/2008MNRAS.386..348S)).\n",
    "\n",
    "It is likely that a combination of these processes is responsible for the observed HI deficiency of Local Group dwarf galaxies in the vicinity of both the Milky Way ([<cite data-cite=\"2014ApJ...795L...5S\">Spekkens et al. 2014</cite>](http://adsabs.harvard.edu/abs/2014ApJ...795L...5S)) and the Andromeda Galaxy ([<cite data-cite=\"2009ApJ...696..385G\">Grcevich &amp; Putman 2009</cite>](http://adsabs.harvard.edu/abs/2009ApJ...696..385G)). Indeed, evidence of strong tidal and ram-pressure forces is seen in satellites that are currently close to their host galaxy, including the LMC and SMC near the Milky Way ([<cite data-cite=\"1974ApJ...190..291M\">Mathewson 1974</cite>](http://adsabs.harvard.edu/abs/1974ApJ...190..291M)) as well as M32 and NGC&nbsp;205 near the Andromeda Galaxy ([<cite data-cite=\"2002AJ....124..310C\">Choi et al. 2002</cite>](http://adsabs.harvard.edu/abs/2002AJ....124..310C); [<cite data-cite=\"2005A&A...436..101W\">Westmeier, Braun &amp; Thilker 2005</cite>](http://adsabs.harvard.edu/abs/2005A&A...436..101W))."
   ]
  },
  {
   "cell_type": "markdown",
   "metadata": {},
   "source": [
    "<figure>\n",
    "    <img src=\"01_figures/spekkens.png\" with=\"600\" height=\"540\" alt=\"HI content of Local Group galaxies\" />\n",
    "    <figcaption style=\"font-style:italic;\">HI mass over V–band luminosity (top) and HI mass over dynamical mass (bottom) of Milky Way dwarf spheroidal satellites (red; upper limits only) and dwarf galaxies in the local volume (blue and green) as a function of distance from the Milky Way (from [<cite data-cite=\"2014ApJ...795L...5S\">Spekkens et al. 2014</cite>](http://adsabs.harvard.edu/abs/2014ApJ...795L...5S)). Note the abrupt transition from gas-rich to gas-poor (no HI detected) galaxies at approximately the virial radius, <var>R</var><sub>vir</sub>, of the Milky Way.</figcaption>\n",
    "</figure>"
   ]
  },
  {
   "cell_type": "markdown",
   "metadata": {
    "collapsed": true
   },
   "source": [
    "From their numerical simulations of a Milky Way-sized galaxy, [<cite data-cite=\"2011MNRAS.415..257N\">Nickerson et al. (2011)</cite>](http://adsabs.harvard.edu/abs/2011MNRAS.415..257N) conclude that ionisation by UV radiation and ram-pressure stripping are the dominant factors responsible for removing most of the gas from low-mass satellites. Additional gas loss is caused by tidal stripping from satellites of all masses near the pericentre of their orbit. The results of [<cite data-cite=\"2011MNRAS.415..257N\">Nickerson et al. (2011)</cite>](http://adsabs.harvard.edu/abs/2011MNRAS.415..257N) could help to explain the so-called “missing satellites” problem, whereby numerical simulations of structure formation in a ΛCDM universe produce many more dark-matter satellites around galaxies like the Milky Way that there are known satellite galaxies (e.g. [<cite data-cite=\"1999ApJ...522...82K\">Klypin et al. 1999</cite>](http://adsabs.harvard.edu/abs/1999ApJ...522...82K); [<cite data-cite=\"1999ApJ...524L..19M\">Moore et al. 1999</cite>](http://adsabs.harvard.edu/abs/1999ApJ...524L..19M))."
   ]
  },
  {
   "cell_type": "markdown",
   "metadata": {},
   "source": [
    "The idea of gas loss during passages through the halo of either the Milky Way or M31 was also investigated through simulations by [<cite data-cite=\"2012MNRAS.426.1808T\">Teyssier, Johnston &amp; Kuhlen (2012)</cite>](http://adsabs.harvard.edu/abs/2012MNRAS.426.1808T). They conclude that several of the Local Group dwarf galaxies currently located outside the Milky Way’s virial radius are likely to have passed within the virial radius of the Milky Way in the past, including objects such as NGC&nbsp;3109, NGC&nbsp;6822 and Leo&nbsp;T. While still containing HI gas today, most of the potential Milky Way escapees have lower HI fractions and show signatures of past interactions in their stellar and gaseous components, supporting the idea that processing of galaxies occurs as the result of interactions with the major spiral galaxies in the Local Group."
   ]
  },
  {
   "cell_type": "markdown",
   "metadata": {},
   "source": [
    "The gas loss of satellite galaxies in the Local Group has significant consequences for the star formation history and quenching of Milky Way satellites ([<cite data-cite=\"2014ApJ...792..141S\">Slater &amp; Bell 2014</cite>](http://adsabs.harvard.edu/abs/2014ApJ...792..141S); [<cite data-cite=\"2015MNRAS.447..969B\">Bahé &amp; McCarthy 2015</cite>](http://adsabs.harvard.edu/abs/2015MNRAS.447..969B); [<cite data-cite=\"2015ApJ...808L..27W\">Wetzel, Tollerud &amp; Weisz 2015</cite>](http://adsabs.harvard.edu/abs/2015ApJ...808L..27W)). A study of star formation in Local Group galaxies by [<cite data-cite=\"2014ApJ...792..141S\">Slater &amp; Bell (2014)</cite>](http://adsabs.harvard.edu/abs/2014ApJ...792..141S) revealed that almost all of the satellite galaxies with stellar masses of <var>M</var><sub>★</sub>&nbsp;≲&nbsp;10<sup>7</sup>&nbsp;<var>M</var><sub>☉</sub> are quenched, while at higher mass the quenching fraction decreases to about 50%. Their results suggest that star formation quenching is more efficient in low-mass galaxies, e.g. due to ram pressure from the host galaxy’s hot, ionised halo being more effective in removing gas from the satellite’s gravitational potential near the pericenter of the orbit."
   ]
  },
  {
   "cell_type": "markdown",
   "metadata": {},
   "source": [
    "<figure>\n",
    "    <img src=\"01_figures/slater-bell.png\" with=\"700\" height=\"540\" alt=\"Quenching of star formation\" />\n",
    "    <figcaption style=\"font-style:italic;\">Fraction of quenched satellite galaxies (top; solid line) and quenched field galaxies (bottom; dashed line) in the Local Group (black) and in the NASA–Sloan Atlas (NSA) of local galaxies (green) as a function of stellar mass (from [<cite data-cite=\"2014ApJ...792..141S\">Slater &amp; Bell 2014</cite>](http://adsabs.harvard.edu/abs/2014ApJ...792..141S)). Note the high rate of star formation quenching among lower-mass satellite galaxies in the Local Group as compared to their more isolated field counterparts.</figcaption>\n",
    "</figure>"
   ]
  },
  {
   "cell_type": "code",
   "execution_count": null,
   "metadata": {
    "collapsed": true
   },
   "outputs": [],
   "source": []
  }
 ],
 "metadata": {
  "kernelspec": {
   "display_name": "Python 2",
   "language": "python",
   "name": "python2"
  },
  "language_info": {
   "codemirror_mode": {
    "name": "ipython",
    "version": 2
   },
   "file_extension": ".py",
   "mimetype": "text/x-python",
   "name": "python",
   "nbconvert_exporter": "python",
   "pygments_lexer": "ipython2",
   "version": "2.7.6"
  }
 },
 "nbformat": 4,
 "nbformat_minor": 0
}

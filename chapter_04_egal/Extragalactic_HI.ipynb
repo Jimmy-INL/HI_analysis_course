{
 "cells": [
  {
   "cell_type": "code",
   "execution_count": 1,
   "metadata": {
    "collapsed": false
   },
   "outputs": [
    {
     "data": {
      "text/html": [
       "<script>\n",
       "    code_show=false; \n",
       "    function code_toggle() {\n",
       "        if (code_show){\n",
       "            $('div.input').hide();\n",
       "        } else {\n",
       "            $('div.input').show();\n",
       "        }\n",
       "        code_show = !code_show\n",
       "    } \n",
       "    $( document ).ready(code_toggle);\n",
       "</script>\n",
       "\n",
       "The raw code for this notebook is by default hidden for easier reading. To toggle on/off the raw code, click <a href=\"javascript:code_toggle()\">here</a>.\n",
       "\n"
      ],
      "text/plain": [
       "<IPython.core.display.HTML object>"
      ]
     },
     "execution_count": 1,
     "metadata": {},
     "output_type": "execute_result"
    }
   ],
   "source": [
    "from IPython.display import HTML\n",
    "HTML('../style/course.css')\n",
    "HTML('../style/code_toggle.html')"
   ]
  },
  {
   "cell_type": "markdown",
   "metadata": {},
   "source": [
    "## Resolved HI Properties of Galaxies"
   ]
  },
  {
   "cell_type": "markdown",
   "metadata": {},
   "source": [
    "### Overview"
   ]
  },
  {
   "cell_type": "markdown",
   "metadata": {},
   "source": [
    "* [Introduction](#Introduction-Exgal)\n",
    "* [HI Morphologies of Galaxies](#HI-Morphologies)\n",
    "  * [Disk Galaxies](#Disk-Galaxies-Morphology)\n",
    "    * [Basic Morphology](#Disk-Basic-Morphology)\n",
    "    * [Radial Extent](#Disk-Radial-Extent)\n",
    "    * [Warps](#Disk-Warps)\n",
    "    * [Vertical Morphology](#Disk-Vertical)\n",
    "  * [Early-Type Galaxies](#Early-Type-Galaxies)\n",
    "* [HI Kinematics of Galaxies](#HI-Kinematics)\n",
    "    * [Velocities and Dispersions of Disks](#Velocities-and-Dispersions)\n",
    "    * [Measuring Mass from Velocities](#Measuring-Mass)\n",
    "    * [Rotation Curves](#Rotation-Curves)\n",
    "* [Relationship with Star Formation](#Relationship-Star-Formation)\n",
    "  * [HI Clouds and Star Formation](#HI-Clouds-and-Star-Formation)\n",
    "  * [HI and CO Cloud Properties](#HI-and-CO-Clouds)\n",
    "  * [HI Clouds and Dust](#HI-Clouds-and-Dust)\n",
    "* [HI Morphology and Kinematics as a Tracer of Environment](#HI-Morphologies-Kinematics-Environment)\n",
    "  * [Tidal Interactions](#Tidal-Interactions)\n",
    "    * [Tidal Tails](#Tidal-Tail-Formation)\n",
    "    * [Tidal Dwarf Galaxies](#Tidal-Dwarf-Galaxies)\n",
    "    * [Polar Ring Galaxies](#Polar-Ring-Galaxies)\n",
    "  * [Ram Pressure Stripping](#Ram-Pressure-Stripping)\n",
    "    * [Distinguishing Tides and Ram Pressure](#Distinguishing-Tides-Ram-Pressure)\n",
    "* [HI Absorption](#HI-deficiency-in-satellite-galaxies)\n",
    "  * [Associated and Intervening Absorption](#Associated-Intervening-Absorption)\n",
    "  * [Optical Depth](#Optical-Depth)\n",
    "  * [Gas Temperature](#Gas-Temperature)\n",
    "  * [Resolved Absorption Line Maps](#Resolved-Absorption-Line-Maps)"
   ]
  },
  {
   "cell_type": "markdown",
   "metadata": {},
   "source": [
    "### Introduction"
   ]
  },
  {
   "cell_type": "markdown",
   "metadata": {},
   "source": [
    "Chapter 3 discussed the global properties of gas-rich systems; in this chapter, we focus on how HI is distributed (both morphologically and kinematically) within these systems. We begin with an overview of the observed HI morphologies (chapter 4.1) and kinematics (chapter 4.2) of equilibrium disks. We then focus on the relationship between the properties of these resolved disks and star formation therein in chapter 4.3, and how the distortions observed in interacting galaxies are a sensitive tracer of environmental effects. We conclude this chapter with an overview of HI absorption as a tracer of galaxy structure."
   ]
  },
  {
   "cell_type": "markdown",
   "metadata": {},
   "source": [
    "### HI Morphologies of Galaxies"
   ]
  },
  {
   "cell_type": "markdown",
   "metadata": {},
   "source": [
    "#### Disk Galaxies"
   ]
  },
  {
   "cell_type": "markdown",
   "metadata": {},
   "source": [
    "##### Basic Morphology"
   ]
  },
  {
   "cell_type": "markdown",
   "metadata": {},
   "source": [
    "The dissipative nature of gas and the conservation of angular momentum imposed by gravity imply that gas in undisturbed galaxies is typically distributed in a thin disk whose radial extent well exceeds its vertical one. Examples of the HI surface density distribution in a face-on HI disk is shown in Fig. 4.1 and from an edge-on disk is shown in Fig. 4.2; they illustrate the basic properties of HI disks for Milky Way-like systems. By virtue of the optically thin nature of HI in most parts of a galaxy (ref here), HI maps of galaxies are typically given in units of column density, $N_{HI}$: atoms $cm^{-2}$, or $Mo pc^{-2}$; they are obtained by integrating the HI emission measured along each line-of-sight in the map (see Chapter 9.XXX), and as such are sometimes called *Moment 0* or *total intensity* maps. "
   ]
  },
  {
   "cell_type": "markdown",
   "metadata": {},
   "source": [
    "##### Radial Extent"
   ]
  },
  {
   "cell_type": "markdown",
   "metadata": {},
   "source": [
    "The maps of Fig. 4.1 illustrate that the HI distributions in disk galaxies typically have central depressions (where the bulk of the disk gas is in the molecular phase; see Hallenbeck et al. 2014 for an extreme example), and extend to larger radii than optical disks. The outer HI surface densities ($N_{HI} = 2 M_o pc^{-2}$) of galaxies follow exponential distributions whose radial scale lengths are 50&#37; larger than those of the optical disk (Bigiel &amp; Blitz 2012; Wang et al. 2014; more here). For example, the and exponential fit to the ensemble of outer HI disk profiles in the sample of Bigiel &amp; Blitz (2012) has a radial scale length of $r_{D,HI} = 0.61r_{25}$, where $r_{25}$ is the radius of the optical disk measured at a (*B*-band) isophotal level of 25 magnitudes per square arcsec."
   ]
  },
  {
   "cell_type": "markdown",
   "metadata": {},
   "source": [
    "As was first noticed in the late 90s (Broeils &amp; Rhee 1997), there is a tight correlation between the radial extent of HI disks of galaxies and their total HI masses. The relation was confirmed in several studies and recently revisited with a large dataset of Wang et al. (2016; see also Wang et al. 2014, and others here). The relationship between the HI diameter $D_{HI}$ and mass $M_{HI}$ obtained by Wang et al. (2016) is shown in Fig. 4.2, and the best-fitting linear relationship describing the trend is given by: $$log(D_{HI}) = 0.506$$
   ]
  },
  {
   "cell_type": "markdown",
   "metadata": {},
   "source": [
    "##### Warps"
   ]
  },
  {
   "cell_type": "markdown",
   "metadata": {},
   "source": [
    "##### Vertical Morphology"
   ]
  },
  {
   "cell_type": "markdown",
   "metadata": {},
   "source": [
    "#### Early-Type Galaxies"
   ]
  },
  {
   "cell_type": "markdown",
   "metadata": {},
   "source": [
    "### HI Kinematics of Galaxies"
   ]
  },
  {
   "cell_type": "markdown",
   "metadata": {},
   "source": [
    "*Kristine to fill in this section.*"
   ]
  },
  {
   "cell_type": "markdown",
   "metadata": {},
   "source": [
    "### Atomic Gas and Star Formation"
   ]
  },
  {
   "cell_type": "markdown",
   "metadata": {},
   "source": [
    "*Michelle to fill in this section.*"
   ]
  },
  {
   "cell_type": "markdown",
   "metadata": {},
   "source": [
    "### HI Morphology and Kinematics as a Tracer of Environment"
   ]
  },
  {
   "cell_type": "markdown",
   "metadata": {},
   "source": [
    "*Michelle to fill in this section.*"
   ]
  },
  {
   "cell_type": "markdown",
   "metadata": {},
   "source": [
    "### HI Absorption"
   ]
  },
  {
   "cell_type": "markdown",
   "metadata": {},
   "source": [
    "*Neeraj to fill in this section.*"
   ]
  },
  {
   "cell_type": "markdown",
   "metadata": {},
   "source": [
    "#### The Large Magellanic Cloud (LMC)"
   ]
  },
  {
   "cell_type": "markdown",
   "metadata": {},
   "source": [
    "At an angular diameter of about 8° on the sky, the LMC is a very extended source in HI emission that requires large-scale mapping (or mosaicking) to cover in its entirety. Major single-dish observations of the LMC were presented by [<cite data-cite=\"1966AuJPA...2....3M\">McGee &amp; Milton (1966)</cite>](http://adsabs.harvard.edu/abs/1966AuJPA...2....3M), [<cite data-cite=\"1984A&A...137..343R\">Rohlfs et al. (1984)</cite>](http://adsabs.harvard.edu/abs/1984A&A...137..343R) and [<cite data-cite=\"1992A&A...263...41L\">Luks &amp; Rohlfs (1992)</cite>](http://adsabs.harvard.edu/abs/1992A&A...263...41L), all made with the 64-m Parkes radio telescope in Australia. In addition, an HI absorption-line study towards bright radio continuum sources in the direction of the LMC was carried out by [<cite data-cite=\"1994A&A...289..357D\">Dickey et al. (1994)</cite>](http://adsabs.harvard.edu/abs/1994A&A...289..357D) with the Australia Telescope Compact Array (ATCA). High-resolution HI imaging data of the LMC, based on combined observations with the ATCA and Parkes, were presented by [<cite data-cite=\"2003ApJS..148..473K\">Kim et al. (2003)</cite>](http://adsabs.harvard.edu/abs/2003ApJS..148..473K)."
   ]
  },
  {
   "cell_type": "markdown",
   "metadata": {},
   "source": [
    "<figure>\n",
    "    <img src=\"01_figures/lmc-smc.png\" width=\"1145\" height=\"540\" alt=\"HI peak brightness temperature maps of the LMC and SMC\" />\n",
    "    <figcaption style=\"font-style:italic;\">HI peak brightness temperature maps of the LMC (left) and the SMC (right) based on ATCA data presented by [<cite data-cite=\"1998ApJ...503..674K\">Kim et al. (1998)</cite>](http://adsabs.harvard.edu/abs/1998ApJ...503..674K) and [<cite data-cite=\"1999MNRAS.302..417S\">Stanimirović et al. (1999)</cite>](http://adsabs.harvard.edu/abs/1999MNRAS.302..417S), respectively.</figcaption>\n",
    "</figure>"
   ]
  },
  {
   "cell_type": "markdown",
   "metadata": {},
   "source": [
    "The total HI mass of the LMC was estimated by [<cite data-cite=\"1992A&A...263...41L\">Luks &amp; Rohlfs (1992)</cite>](http://adsabs.harvard.edu/abs/1992A&A...263...41L) to be (3.1&#8239;±&#8239;0.6)&#8239;×&#8239;10<sup>8</sup>&nbsp;<var>M</var><sub>☉</sub>&#8239;(<var>d</var>&#8239;/&#8239;50&nbsp;kpc)<sup>2</sup>. [<cite data-cite=\"2005A&A...432...45B\">Brüns et al. (2005)</cite>](http://adsabs.harvard.edu/abs/2005A&A...432...45B) derived a slightly higher mass of (4.4&#8239;±&#8239;0.1)&#8239;×&#8239;10<sup>8</sup>&nbsp;<var>M</var><sub>☉</sub>&#8239;(<var>d</var>&#8239;/&#8239;50&nbsp;kpc)<sup>2</sup>, and an even higher value of (4.8&#8239;±&#8239;0.2)&#8239;×&#8239;10<sup>8</sup>&nbsp;<var>M</var><sub>☉</sub>&#8239;(<var>d</var>&#8239;/&#8239;50&nbsp;kpc)<sup>2</sup> was measured by [<cite data-cite=\"2003MNRAS.339...87S\">Stavely-Smith et al. (2003)</cite>](http://adsabs.harvard.edu/abs/2003MNRAS.339...87S). These differences are the result of different fields of view used in the mass measurements. Furthermore, all masses were derived under the assumption that the gas is optically thin and therefore constitute lower limits.\n"
   ]
  },
  {
   "cell_type": "markdown",
   "metadata": {},
   "source": [
    "The high-resolution HI imaging data of the LMC by [<cite data-cite=\"2003ApJS..148..473K\">Kim et al. (2003)</cite>](http://adsabs.harvard.edu/abs/2003ApJS..148..473K) reveal a flocculent structure of the gas disc with numerous HI clumps and shells. Based on the ATCA data alone, [<cite data-cite=\"1999AJ....118.2797K\">Kim et al. (1999)</cite>](http://adsabs.harvard.edu/abs/1999AJ....118.2797K) identified 23 supergiant shells and 101 giant shells across the disc of the LMC. These shells are believed to be the result of gas being pushed back by a combination of kinetic pressure and radiation pressure from high-mass stars and supernovae (e.g., [<cite data-cite=\"1977ApJ...218..377W\">Weaver et al. 1977</cite>](http://adsabs.harvard.edu/abs/1977ApJ...218..377W)). Hence, the shells found in the LMC are often aligned with regions of active star formation. Furthermore, expanding shells appear to induce further star formation along their edges, as indicated by the presence of HII regions and OB associations ([<cite data-cite=\"1999AJ....118.2797K\">Kim et al. 1999</cite>](http://adsabs.harvard.edu/abs/1999AJ....118.2797K))."
   ]
  },
  {
   "cell_type": "markdown",
   "metadata": {},
   "source": [
    "<figure>\n",
    "    <img src=\"01_figures/lmc-shells.png\" width=\"490\" height=\"540\" alt=\"HI shells in the LMC\" />\n",
    "    <figcaption style=\"font-style:italic;\">The location of giant shells (red) and supergiant shells (blue) in the LMC, as identified by [<cite data-cite=\"1999AJ....118.2797K\">Kim et al. (1999)</cite>](http://adsabs.harvard.edu/abs/1999AJ....118.2797K), plotted on top of the peak HI brightness temperature map of the LMC from [<cite data-cite=\"1998ApJ...503..674K\">Kim et al. (1998)</cite>](http://adsabs.harvard.edu/abs/1998ApJ...503..674K).</figcaption>\n",
    "</figure>"
   ]
  },
  {
   "cell_type": "markdown",
   "metadata": {},
   "source": [
    "#### The Small Magellanic Cloud (SMC)"
   ]
  },
  {
   "cell_type": "markdown",
   "metadata": {},
   "source": [
    "At an angular diameter of about 5° on the sky, the SMC appears slightly smaller than its companion. Major single-dish HI imaging surveys of the SMC were presented by [<cite data-cite=\"1967AuJPh..20..147H\">Hindman (1967)</cite>](http://adsabs.harvard.edu/abs/1967AuJPh..20..147H) based on observations with the Parkes radio telecope in Australia and by [<cite data-cite=\"1982A&AS...48...71B\">Bajaja &amp; Loiseau (1982)</cite>](http://adsabs.harvard.edu/abs/1982A&AS...48...71B) based on data taken with the 30-m antenna of the Instituto Argentino de Radioastronomía in Argentina. High-resolution images of the SMC based on combined data from the Australia Telescope Compact Array (ATCA) and the Parkes telescope were published by [<cite data-cite=\"1999MNRAS.302..417S\">Stanimirović et al. (1999)</cite>](http://adsabs.harvard.edu/abs/1999MNRAS.302..417S). They determine the spatial power spectrum, <var>P</var>(<var>k</var>)&nbsp;∝&nbsp;<var>k</var><sup><var>γ</var></sup>, of the SMC and derive an exponent of γ&nbsp;=&nbsp;−3.04&#8239;±&#8239;0.02, similar to the values found for the Milky Way."
   ]
  },
  {
   "cell_type": "markdown",
   "metadata": {},
   "source": [
    "The total HI mass of the SMC was determined by [<cite data-cite=\"1981RMxAA...6...55L\">Loiseau &amp; Bajaja (1981)</cite>](http://adsabs.harvard.edu/abs/1981RMxAA...6...55L) to be (5.5&#8239;±&#8239;0.4)&#8239;×&#8239;10<sup>8</sup>&nbsp;<var>M</var><sub>☉</sub>&#8239;(<var>d</var>&#8239;/&#8239;60&nbsp;kpc)<sup>2</sup> based on the SMC survey presented by [<cite data-cite=\"1982A&AS...48...71B\">Bajaja &amp; Loiseau (1982)</cite>](http://adsabs.harvard.edu/abs/1982A&AS...48...71B). [<cite data-cite=\"1999MNRAS.302..417S\">Stanimirović et al. (1999)</cite>](http://adsabs.harvard.edu/abs/1999MNRAS.302..417S) derived a slightly smaller value of (3.8&#8239;±&#8239;0.5)&#8239;×&#8239;10<sup>8</sup>&nbsp;<var>M</var><sub>☉</sub>&#8239;(<var>d</var>&#8239;/&#8239;60&nbsp;kpc)<sup>2</sup>, presumably because their data cover a smaller field of view. Both mass estimates were derived without opacity corrections and should therefore be considered as lower limits. After applying basic opacity corrections, [<cite data-cite=\"1999MNRAS.302..417S\">Stanimirović et al. (1999)</cite>](http://adsabs.harvard.edu/abs/1999MNRAS.302..417S) obtain a slightly higher mass estimate of 4.2&#8239;×&#8239;10<sup>8</sup>&nbsp;<var>M</var><sub>☉</sub>&#8239;(<var>d</var>&#8239;/&#8239;60&nbsp;kpc)<sup>2</sup>, corresponding to a 10% increase compared to their uncorrected value. A comparison with the HI mass of the LMC above demonstrates that both galaxies have approximately the same total HI mass, even though the LMC’s stellar mass, optical luminosity and diameter are larger. Hence, the HI mass-to-light ratio of the SMC of <var>M</var><sub>HI</sub>&#8239;/&#8239;<var>L</var><sub>V</sub>&nbsp;= 0.85&nbsp;<var>M</var><sub>☉</sub>&#8239;/&#8239;<var>L</var><sub>☉</sub> is somewhat higher that that of the LMC of <var>M</var><sub>HI</sub>&#8239;/&#8239;<var>L</var><sub>V</sub>&nbsp;= 0.32&nbsp;<var>M</var><sub>☉</sub>&#8239;/&#8239;<var>L</var><sub>☉</sub> (see [<cite data-cite=\"2015MNRAS.453..338W\">Westmeier et al. 2015</cite>](http://adsabs.harvard.edu/abs/2015MNRAS.453..338W))."
   ]
  },
  {
   "cell_type": "markdown",
   "metadata": {},
   "source": [
    "#### The Magellanic Stream"
   ]
  },
  {
   "cell_type": "markdown",
   "metadata": {},
   "source": [
    "The Magellanic Stream is a large HI structure associated with the Magellanic Clouds and extending across a significant fraction of the sky. It consists of a bifurcated trailing arm (the Magellanic Stream proper), the fainter Leading Arm with its three major filaments, the generally denser Magellanic Bridge that connects the LMC and SMC, and a broad, fanned-out structure near the SMC called the Interface Region."
   ]
  },
  {
   "cell_type": "markdown",
   "metadata": {},
   "source": [
    "##### Structure of the Magellanic Stream"
   ]
  },
  {
   "cell_type": "markdown",
   "metadata": {},
   "source": [
    "First detected by early HI observations in the 1960s and early 1970s ([<cite data-cite=\"1965AJ.....70..552D\">Dieter 1965</cite>](http://adsabs.harvard.edu/abs/1965AJ.....70..552D); [<cite data-cite=\"1972ApJ...173L.119W\">Wannier &amp; Wrixon 1972</cite>](http://adsabs.harvard.edu/abs/1972ApJ...173L.119W); [<cite data-cite=\"1972A&A....18..224W\">Wannier, Wrixon &amp; Wilson 1972</cite>](http://adsabs.harvard.edu/abs/1972A&A....18..224W); [<cite data-cite=\"1972A&A....16..276V\">van Kuilenburg 1972</cite>](http://adsabs.harvard.edu/abs/1972A&A....16..276V)), the full extent of the stream, including the three major filaments of the Leading Arm, and its association with the Magellanic Clouds were first recognised by [<cite data-cite=\"1974ApJ...190..291M\">Mathewson (1974)</cite>](http://adsabs.harvard.edu/abs/1974ApJ...190..291M). More detailed HI emission-line studies of individual parts of the stream followed ([<cite data-cite=\"1979MNRAS.186..433M\">Mirabel, Cohen &amp; Davies 1979</cite>](http://adsabs.harvard.edu/abs/1979MNRAS.186..433M); [<cite data-cite=\"1979AJ.....84.1173H\">Haynes 1979</cite>](http://adsabs.harvard.edu/abs/1979AJ.....84.1173H); [<cite data-cite=\"1982MNRAS.199..281C\">Cohen 1982</cite>](http://adsabs.harvard.edu/abs/1982MNRAS.199..281C); [<cite data-cite=\"1983AJ.....88...62M\">Morras 1983</cite>](http://adsabs.harvard.edu/abs/1983AJ.....88...62M)), revealing the complex structure of the stream and its distinct bifurcation into two seemingly interwoven filaments. The full spatial extent and global structure of the Magellanic Stream and Leading Arm were studied in several large-scale HI surveys with the Parkes 64-m radio telescope ([<cite data-cite=\"1998Natur.394..752P\">Putman et al. 1998</cite>](http://adsabs.harvard.edu/abs/1998Natur.394..752P); [<cite data-cite=\"2003ApJ...586..170P\">Putman et al. 2003</cite>](http://adsabs.harvard.edu/abs/2003ApJ...586..170P); [<cite data-cite=\"2005A&A...432...45B\">Brüns et al. 2005</cite>](http://adsabs.harvard.edu/abs/2005A&A...432...45B)). The total HI mass of the system, consisting of the Magellanic Stream, Leading Arm, Magellanic Bridge and Interface Region, is approximately 5&#8239;×&#8239;10<sup>8</sup>&nbsp;<var>M</var><sub>☉</sub>&#8239;(<var>d</var>&#8239;/&#8239;55&nbsp;kpc)<sup>2</sup> ([<cite data-cite=\"2005A&A...432...45B\">Brüns et al. 2005</cite>](http://adsabs.harvard.edu/abs/2005A&A...432...45B)), although there could potentially be significant distance variation along the extent of the stream, making HI mass estimates highly uncertain."
   ]
  },
  {
   "cell_type": "markdown",
   "metadata": {},
   "source": [
    "In recent years, detailed HI studies of individual regions near the Magellanic Stream have revealed that the stream is much more complex and extended than previously thought. [<cite data-cite=\"2004A&A...417..421B\">Braun &amp; Thilker (2004)</cite>](http://adsabs.harvard.edu/abs/2004A&A...417..421B) used the Westerbork Synthesis Radio Telescope (WSRT) in total-power mode to map a large area around the galaxies M31 and M33 in HI emission down to an unprecedented 3&sigma; column density sensitivity of 1.5&#8239;×&#8239;10<sup>17</sup>&nbsp;cm<sup>−2</sup> across a line width of 30&nbsp;km&#8239;s<sup>−1</sup>, but with a fairly large beam size of 48&nbsp;arcmin. Their observations uncovered that the two parallel filaments of the Magellanic Stream extend to a declination of <var>&delta;</var>&nbsp;≈&nbsp;+50°, tens of degrees further north than seen in previous data (e.g. [<cite data-cite=\"2003ApJ...586..170P\">Putman et al. 2003</cite>](http://adsabs.harvard.edu/abs/2003ApJ...586..170P))."
   ]
  },
  {
   "cell_type": "markdown",
   "metadata": {},
   "source": [
    "<figure>\n",
    "    <img src=\"01_figures/magellanic_stream.png\" width=\"950\" height=\"680\" alt=\"The Magellanic Stream\" />\n",
    "    <figcaption>*HI column density map (top) and position–velocity map (bottom) in Magellanic coordinates of the full extent of the Magellanic Stream from [<cite data-cite=\"2010ApJ...723.1618N\">Nidever et al. (2010)</cite>](http://adsabs.harvard.edu/abs/2010ApJ...723.1618N). Several notable features are labelled.*</figcaption>\n",
    "</figure>"
   ]
  },
  {
   "cell_type": "markdown",
   "metadata": {},
   "source": [
    "A high-resolution HI study of the region near the tip of the “classical” stream was carried out by [<cite data-cite=\"2008ApJ...680..276S\">Stanimirović et al. (2008)</cite>](http://adsabs.harvard.edu/abs/2008ApJ...680..276S) using the Arecibo telescope. They discovered that the two main filaments of the Magellanic Stream break up into four separate, coherent filaments, each of which can be traced over a length of 20° on the sky. At the same time, [<cite data-cite=\"2008MNRAS.388L..29W\">Westmeier &amp; Koribalski (2008)</cite>](http://adsabs.harvard.edu/abs/2008MNRAS.388L..29W) found coherent filaments of HI clouds to the east of the Magellanic Stream out to a maximum separation of about 20°, using data from the HI Parkes All-Sky Survey (HIPASS; [<cite data-cite=\"2001MNRAS.322..486B\">Barnes et al. 2001</cite>](http://adsabs.harvard.edu/abs/2001MNRAS.322..486B)). These filaments can be traced over tens of degrees on the sky, and their morphology and kinematics suggest that they are part of the stream."
   ]
  },
  {
   "cell_type": "markdown",
   "metadata": {},
   "source": [
    "All these new observational results were combined by [<cite data-cite=\"2010ApJ...723.1618N\">Nidever et al. (2010)</cite>](http://adsabs.harvard.edu/abs/2010ApJ...723.1618N) and augmented with additional HI data from the Green Bank Telescope (GBT) to create an overall HI map tracing the Magellanic Stream and Leading Arm across an angle of more than 200° on the sky in the Magellanic longitude range of about −150° to +70°. More recently, [<cite data-cite=\"2012A&A...547A..12V\">Venzmer, Kerp &amp; Kalberla (2012)</cite>](http://adsabs.harvard.edu/abs/2012A&A...547A..12V) and [<cite data-cite=\"2013ApJ...764...74F\">For, Staveley-Smith &amp; McClure-Griffiths (2013)</cite>](http://adsabs.harvard.edu/abs/2013ApJ...764...74F) independently reported the discovery of an additional Leading Arm filament named LA&nbsp;IV. In addition, [<cite data-cite=\"2014ApJ...787..147F\">Fox et al. (2014)</cite>](http://adsabs.harvard.edu/abs/2014ApJ...787..147F) presented the results of an extensive UV absorption-line study of the Magellanic system suggesting that the ionised component of the stream covers about one quarter of the entire sky and contains approximately three quarters of the total gas mass of the stream of about 2&#8239;×&#8239;10<sup>9</sup>&nbsp;<var>M</var><sub>☉</sub>&#8239;(<var>d</var>&#8239;/&#8239;55&nbsp;kpc)<sup>2</sup>."
   ]
  },
  {
   "cell_type": "markdown",
   "metadata": {},
   "source": [
    "Several of the HI clouds in the Magellanic Stream and Leading Arm shown signs of ram-pressure interaction in the form of the presence of a multi-phase medium as well as a distinct cometary appearence of some clouds ([<cite data-cite=\"2003ApJ...586..170P\">Putman et al. 2003</cite>](http://adsabs.harvard.edu/abs/2003ApJ...586..170P); [<cite data-cite=\"2006A&A...457..917B\">Ben Bekhti et al. 2006</cite>](http://adsabs.harvard.edu/abs/2006A&A...457..917B); [<cite data-cite=\"2012A&A...547A..12V\">Venzmer, Kerp &amp; Kalberla 2012</cite>](http://adsabs.harvard.edu/abs/2012A&A...547A..12V); [<cite data-cite=\"2013ApJ...764...74F\">For, Staveley-Smith &amp; McClure-Griffiths 2013</cite>](http://adsabs.harvard.edu/abs/2013ApJ...764...74F); [<cite data-cite=\"2014ApJ...792...43F\">For et al. 2014</cite>](http://adsabs.harvard.edu/abs/2014ApJ...792...43F)). [<cite data-cite=\"2005A&A...432...45B\">Brüns et al. (2005)</cite>](http://adsabs.harvard.edu/abs/2005A&A...432...45B) and [<cite data-cite=\"2011MNRAS.418.1575P\">Putman et al. (2011)</cite>](http://adsabs.harvard.edu/abs/2011MNRAS.418.1575P) found such head–tail clouds to be particularly common in the Leading Arm near the Galactic plane, suggesting that the gas of the Leading Arm may be interacting with the outer gas disc of the Milky Way. Direct morphological and kinematical evidence for a collision of the Leading Arm with the Galactic disc was reported by [<cite data-cite=\"2008ApJ...673L.143M\">McClure-Griffiths et al. (2008)</cite>](http://adsabs.harvard.edu/abs/2008ApJ...673L.143M) based on HI data from the Parkes telescope. From their data they derive a heliocentric distance to the Leading Arm of 21&nbsp;kpc, suggesting that the Leading Arm crosses the Galactic plane at a Galactocentric radius of only 17&nbsp;kpc."
   ]
  },
  {
   "cell_type": "markdown",
   "metadata": {},
   "source": [
    "<figure>\n",
    "    <img src=\"01_figures/LA-interaction.png\" width=\"1200\" height=\"360\" alt=\"Interaction of the Leading Arm with the Milky Way\" />\n",
    "    <figcaption style=\"font-style:italic;\">Signs of interaction of the Leading Arm with gas in the Galactic disc or halo. Left: Typical head–tail cloud as observed by [<cite data-cite=\"2005A&A...432...45B\">Brüns et al. (2005)</cite>](http://adsabs.harvard.edu/abs/2005A&A...432...45B). Centre: Double-component HI spectrum from [<cite data-cite=\"2005A&A...432...45B\">Brüns et al. (2005)</cite>](http://adsabs.harvard.edu/abs/2005A&A...432...45B) showing a narrow line component superposed on a broad component, suggesting the presence of a cold HI core embedded in an envelope of warm HI gas. Right: Evidence from [<cite data-cite=\"2008ApJ...673L.143M\">McClure-Griffiths et al. (2008)</cite>](http://adsabs.harvard.edu/abs/2008ApJ...673L.143M) for Galactic HI gas (greyscale) being pushed away by the impact of a filament of the Leading Arm (black contours).</figcaption>\n",
    "</figure>"
   ]
  },
  {
   "cell_type": "markdown",
   "metadata": {},
   "source": [
    "The presence of a two-component HI line profile in parts of the Leading Arm, as observed by [<cite data-cite=\"2005A&A...432...45B\">Brüns et al. (2005)</cite>](http://adsabs.harvard.edu/abs/2005A&A...432...45B), suggests that a core of cold HI gas is present in some of the clouds. HI gas can cool down if sufficiently shielded from the ambient radiation field such that cooling through different atomic line transitions (but not the HI line itself) becomes more efficient than radiative heating. One way to achieve this is through compression of the gas by ram pressure, resulting in higher gas densities and thus better shielding ([<cite data-cite=\"2001ApJ...555L..95Q\">Quilis &amp; Moore 2001</cite>](http://adsabs.harvard.edu/abs/2001ApJ...555L..95Q); [<cite data-cite=\"2002A&A...391..713K\">Konz, Brüns &amp; Kerp 2002</cite>](http://adsabs.harvard.edu/abs/2002A&A...391..713K); [<cite data-cite=\"2009ApJ...698.1485H\">Heitsch &amp; Putman 2009</cite>](http://adsabs.harvard.edu/abs/2009ApJ...698.1485H)). This scenario is consistent with the head–tail morphologies found by [<cite data-cite=\"2005A&A...432...45B\">Brüns et al. (2005)</cite>](http://adsabs.harvard.edu/abs/2005A&A...432...45B), [<cite data-cite=\"2012A&A...547A..12V\">Venzmer, Kerp &amp; Kalberla (2012)</cite>](http://adsabs.harvard.edu/abs/2012A&A...547A..12V) and [<cite data-cite=\"2013ApJ...764...74F\">For, Staveley-Smith &amp; McClure-Griffiths (2013)</cite>](http://adsabs.harvard.edu/abs/2013ApJ...764...74F) in some of the clouds of the Leading Arm, with the cold HI component usually residing within the head of the cloud. A significant number of head–tail clouds is also found along the Magellanic Stream proper ([<cite data-cite=\"2014ApJ...792...43F\">For et al. 2014</cite>](http://adsabs.harvard.edu/abs/2014ApJ...792...43F)), suggesting that the Stream is interacting with the hot Galactic halo. From a Gaussian decomposition of HI profiles, [<cite data-cite=\"2006A&A...455..481K\">Kalberla &amp; Haud (2006)</cite>](http://adsabs.harvard.edu/abs/2006A&A...455..481K) find that about a quarter of all sightlines towards the near end of the Stream (at positive radial velocities) show evidence of a core–envelope structure, while this fractions drops to about 10% at the far end of the Stream (at negative velocities), suggesting a possible change in environmental conditions (e.g. in Galactic halo density) along the extent of the Stream. The scenario of interaction of the Magellanic Stream with the Galactic halo is also consistent with enhanced Hα fluxes observed along the Stream ([<cite data-cite=\"1996AJ....111.1156W\">Weiner &amp; Williams 1996</cite>](http://adsabs.harvard.edu/abs/1996AJ....111.1156W); [<cite data-cite=\"2003ApJ...597..948P\">Putman et al. 2003</cite>](http://adsabs.harvard.edu/abs/2003ApJ...597..948P))."
   ]
  },
  {
   "cell_type": "markdown",
   "metadata": {},
   "source": [
    "##### Molecular gas and star formation in the Magellanic Stream"
   ]
  },
  {
   "cell_type": "markdown",
   "metadata": {},
   "source": [
    "The presence of a large amount of neutral hydrogen in the Magellanic Stream raises the question whether the formation of molecular gas and possibly even star formation may have occurred in some parts of the Stream. Carbon monoxide (CO) emission, which is generally used as a proxy for molecular hydrogen (H<sub>2</sub>), has so far only been detected towards the Magellanic Bridge ([<cite data-cite=\"2003MNRAS.338..609M\">Muller, Staveley-Smith &amp; Zealey 2003</cite>](http://adsabs.harvard.edu/abs/2003MNRAS.338..609M); [<cite data-cite=\"2006ApJ...643L.107M\">Mizuno et al. 2006</cite>](http://adsabs.harvard.edu/abs/2006ApJ...643L.107M); [<cite data-cite=\"2014PASJ...66....4M\">Muller et al. 2014</cite>](http://adsabs.harvard.edu/abs/2014PASJ...66....4M)), but not in the Magellanic Stream or Leading Arm. In addition, [<cite data-cite=\"2015ApJ...808...41M\">Murray et al. (2015)</cite>](http://adsabs.harvard.edu/abs/2015ApJ...808...41M) report the first detection of HCO<sup>+</sup> (in absorption) towards one sightline in the Magellanic Bridge. [<cite data-cite=\"2006ApJ...643L.107M\">Mizuno et al. (2006)</cite>](http://adsabs.harvard.edu/abs/2006ApJ...643L.107M) conclude that the molecular gas detected in the Magellanic Bridge was formed in situ after the formation of the Stream. This would be consistent with the observational evidence of recent star formation in the Bridge ([<cite data-cite=\"1986MNRAS.223..317M\">Meaburn 1986</cite>](http://adsabs.harvard.edu/abs/1986MNRAS.223..317M); [<cite data-cite=\"2007ApJ...658..358N\">Nishiyama et al. 2007</cite>](http://adsabs.harvard.edu/abs/2007ApJ...658..358N); [<cite data-cite=\"2014ApJ...795..108S\">Skowron et al. 2014</cite>](http://adsabs.harvard.edu/abs/2014ApJ...795..108S))."
   ]
  },
  {
   "cell_type": "markdown",
   "metadata": {},
   "source": [
    "While no CO emission has so far been detected towards the remainder of the Magellanic Stream and Leading Arm, [<cite data-cite=\"2001AJ....121..992S\">Sembach et al. 2001</cite>](http://adsabs.harvard.edu/abs/2001AJ....121..992S) report the direct detection of H<sub>2</sub> in far-UV absorption towards a sightline in the Leading Arm. Given the long formation timescale of the H<sub>2</sub> molecule, they conclude that the molecular hydrogen originally may have been formed in the SMC and survived the tidal stripping of the Leading Arm. Searches for stars associated with the Magellanic Stream have long been unsuccessful ([<cite data-cite=\"1982PASJ...34..417T\">Tanaka &amp; Hamajima 1982</cite>](http://adsabs.harvard.edu/abs/1982PASJ...34..417T)) or inconclusive ([<cite data-cite=\"1983A&A...124..216B\">Brück &amp; Hawkins 1983</cite>](http://adsabs.harvard.edu/abs/1983A&A...124..216B)) until recently, when [<cite data-cite=\"2014ApJ...784L..37C\">Casetti-Dinescu et al. (2014)</cite>](http://adsabs.harvard.edu/abs/2014ApJ...784L..37C) reported the discovery of a small population of young O and B stars potentially associated with the Leading Arm, suggesting that recent star formation may have occured along the Magellanic Stream."
   ]
  },
  {
   "cell_type": "markdown",
   "metadata": {},
   "source": [
    "##### Origin of the Magellanic Stream"
   ]
  },
  {
   "cell_type": "markdown",
   "metadata": {},
   "source": [
    "The debate about the origin and age of the Magellanic Stream is still ongoing. While there is agreement that the gas in the Stream originates from the Magellanic Clouds and that gravity must have played a role in its formation (because there are leading and trailing arms), there is still no consensus about whether the gas is supplied by the LMC, the SMC or both, whether gravity or ram pressure is the main stripping mechanism and what role the Milky Way plays in the interaction. [<cite data-cite=\"1974ApJ...190..291M\">Mathewson (1974)</cite>](http://adsabs.harvard.edu/abs/1974ApJ...190..291M) speculates that the gas could either have been tidally stripped from the SMC by the Milky Way (although this would have required a recent close encounter at 20&nbsp;kpc), that primordial gas from the LMC–SMC system could have been stripped by ram-pressure forces from the intergalactic medium, or that “explosions” within the SMC could have expelled the gas."
   ]
  },
  {
   "cell_type": "markdown",
   "metadata": {},
   "source": [
    "Proponents of the tidal scenario include [<cite data-cite=\"1982MNRAS.198..707L\">Lin &amp; Lynden-Bell (1982)</cite>](http://adsabs.harvard.edu/abs/1982MNRAS.198..707L), [<cite data-cite=\"1996MNRAS.278..191G\">Gardiner &amp; Noguchi (1996)</cite>](http://adsabs.harvard.edu/abs/1996MNRAS.278..191G), [<cite data-cite=\"2003MNRAS.339.1135Y\">Yoshizawa &amp; Noguchi (2003)</cite>](http://adsabs.harvard.edu/abs/2003MNRAS.339.1135Y), [<cite data-cite=\"2006MNRAS.371..108C\">Connors, Kawata &amp; Gibson (2006)</cite>](http://adsabs.harvard.edu/abs/2006MNRAS.371..108C) and [<cite data-cite=\"2012ApJ...750...36D\">Diaz &amp; Bekki (2012)</cite>](http://adsabs.harvard.edu/abs/2012ApJ...750...36D). The tidal scenario is able to explain the presence of both a leading and trailing arm, but fails to reproduce some of the details in the morphological and kinematical structure of the Magellanic Stream. The ram-pressure scenario, on the other hand, can explain the observed asymmetries between the leading and trailing arms of the Stream and was investigated by [<cite data-cite=\"1977ApJ...217L...5M\">Mathewson, Schwarz &amp; Murray (1977)</cite>](http://adsabs.harvard.edu/abs/1977ApJ...217L...5M), [<cite data-cite=\"1985PASAu...6..195M\">Meurer, Bicknell &amp; Gingold (1985)</cite>](http://adsabs.harvard.edu/abs/1985PASAu...6..195M), [<cite data-cite=\"1992A&A...257..505L\">Liu (1992)</cite>](http://adsabs.harvard.edu/abs/1992A&A...257..505L), [<cite data-cite=\"1994PASJ...46..431S\">Sofue (1994)</cite>](http://adsabs.harvard.edu/abs/1994PASJ...46..431S) and [<cite data-cite=\"1994MNRAS.270..209M\">Moore &amp; Davis (1994)</cite>](http://adsabs.harvard.edu/abs/1994MNRAS.270..209M). Ram pressure alone, however, would not be able to generate the Leading Arm, and both tidal forces and ram pressure combined are therefore thought to have shaped the Magellanic Stream. Simulations that include both gravity and ram pressure were presented by [<cite data-cite=\"2005MNRAS.363..509M\">Mastropietro et al. (2005)</cite>](http://adsabs.harvard.edu/abs/2005MNRAS.363..509M) and [<cite data-cite=\"2010ApJ...721L..97B\">Besla et al. (2010)</cite>](http://adsabs.harvard.edu/abs/2010ApJ...721L..97B)."
   ]
  },
  {
   "cell_type": "markdown",
   "metadata": {},
   "source": [
    "<figure>\n",
    "    <img src=\"01_figures/magellanic-stream-simulation.png\" width=\"640\" height=\"623\" alt=\"Simulation of the Magellanic Stream by Diaz &amp; Bekki (2012)\" />\n",
    "    <figcaption style=\"font-style:italic;\">Numerical simulation of the Magellanic Stream by [<cite data-cite=\"2012ApJ...750...36D\">Diaz &amp; Bekki (2012)</cite>](http://adsabs.harvard.edu/abs/2012ApJ...750...36D) (left) compared to an HI column density map based on data by [<cite data-cite=\"2003ApJ...586..170P\">Putman et al. (2003)</cite>](http://adsabs.harvard.edu/abs/2003ApJ...586..170P) and [<cite data-cite=\"2010ApJ...723.1618N\">Nidever et al. (2010)</cite>](http://adsabs.harvard.edu/abs/2010ApJ...723.1618N) (right).</figcaption>\n",
    "</figure>"
   ]
  },
  {
   "cell_type": "markdown",
   "metadata": {},
   "source": [
    "Based on a morphological and kinematical analysis of the Stream, [<cite data-cite=\"2008ApJ...679..432N\">Nidever, Majewski &amp; Burton (2008)</cite>](http://adsabs.harvard.edu/abs/2008ApJ...679..432N) instead propose that the gas may have originated from star formation-related outflows in the LMC; they even argue that the twisted appearance of the Stream could be an imprint of the LMC’s rotation velocity. Once expelled, the gas would then have been exposed to tidal and ram-pressure forces to create the Magellanic Stream and Leading Arm. However, a similar kind of analysis carried out by [<cite data-cite=\"2014ApJ...792...43F\">For et al. (2014)</cite>](http://adsabs.harvard.edu/abs/2014ApJ...792...43F) finds that the Magellanic Stream can be entirely traced back to the SMC rather than the LMC."
   ]
  },
  {
   "cell_type": "markdown",
   "metadata": {},
   "source": [
    "Evidence for the origin of the Stream comes from metallicity measurements based on optical or ultra-violet absorption spectroscopy of background sources. [<cite data-cite=\"2000AJ....120.1830G\">Gibson et al. (2000)</cite>](http://adsabs.harvard.edu/abs/2000AJ....120.1830G) use data from the Hubble Space Telescope to measure metal abundances towards three background sources. Their measurement of &lsqb;S&#8239;/&#8239;H&rsqb;&nbsp;=&nbsp;−0.55 towards Fairall&nbsp;9 is consistent with an origin of the gas in either the LMC or SMC. [<cite data-cite=\"1998AJ....115..162L\">Lu et al. (1998)</cite>](http://adsabs.harvard.edu/abs/1998AJ....115..162L) measure &lsqb;S&#8239;/&#8239;H&rsqb;&nbsp;=&nbsp;−0.60 and &lsqb;Fe&#8239;/&#8239;H&rsqb;&nbsp;=&nbsp;−1.48 towards NGC&nbsp;3783 in the direction of the Leading Arm, again consisten with either an LMC or SMC origin of the gas. The measurement of &lsqb;O&#8239;/&#8239;H&rsqb;&nbsp;=&nbsp;−1.00 by [<cite data-cite=\"2010ApJ...718.1046F\">Fox et al. (2010)</cite>](http://adsabs.harvard.edu/abs/2010ApJ...718.1046F) suggests that the Stream originates from the SMC rather than the LMC. This scenario is consistent with the measurements of &lsqb;S&#8239;/&#8239;H&rsqb;&nbsp;=&nbsp;−1.13 and &lsqb;O&#8239;/&#8239;H&rsqb;&nbsp;=&nbsp;−1.24 made by [<cite data-cite=\"2013ApJ...772..110F\">Fox et al. (2013)</cite>](http://adsabs.harvard.edu/abs/2013ApJ...772..110F) in two separate directions along the Stream. On the other hand, [<cite data-cite=\"2013ApJ...772..111R\">Richter et al. (2013)</cite>](http://adsabs.harvard.edu/abs/2013ApJ...772..111R) revisit the Fairall&nbsp;9 sightline and derive a much higher sulphur abundance of &lsqb;S&#8239;/&#8239;H&rsqb;&nbsp;=&nbsp;−0.30, supporting a scenario in which at least some of the gas in the Stream originated from the LMC and was chemically enriched prior to fuelling the Stream. The chemical evolution of the entire Magellanic system has also been studied with the help of simulations by [<cite data-cite=\"2014MNRAS.443..522Y\">Yozin &amp; Bekki (2014)</cite>](http://adsabs.harvard.edu/abs/2014MNRAS.443..522Y) who are able to reproduce the one tenth solar metallicity observed along most the Stream, but struggle to reproduce the hypothesised, more metal-right LMC filament postulated by [<cite data-cite=\"2008ApJ...679..432N\">Nidever, Majewski &amp; Burton (2008)</cite>](http://adsabs.harvard.edu/abs/2008ApJ...679..432N) and [<cite data-cite=\"2013ApJ...772..111R\">Richter et al. (2013)</cite>](http://adsabs.harvard.edu/abs/2013ApJ...772..111R)."
   ]
  },
  {
   "cell_type": "markdown",
   "metadata": {},
   "source": [
    "To complicate matters further, recent proper-motion measurements of the Magellanic Clouds ([<cite data-cite=\"2006ApJ...638..772K\">Kallivayalil et al. 2006</cite>](http://adsabs.harvard.edu/abs/2006ApJ...638..772K); [<cite data-cite=\"2006ApJ...652.1213K\">Kallivayalil, van der Marel &amp; Alcock 2006</cite>](http://adsabs.harvard.edu/abs/2006ApJ...652.1213K); [<cite data-cite=\"2007ApJ...668..949B\">Besla et al. 2007</cite>](http://adsabs.harvard.edu/abs/2007ApJ...668..949B); [<cite data-cite=\"2008AJ....135.1024P\">Piatek, Pryor &amp; Olszewski 2008</cite>](http://adsabs.harvard.edu/abs/2008AJ....135.1024P)) suggest that the LMC and SMC could be on their first infall towards the Milky Way and may not have been bound to either the Milky Way or each other in the past. This would pose serious problems for most of the formation models proposed for the Magellanic Stream, as they require the influence of strong tidal forces over a long period of time. Improved proper motion measurements published by [<cite data-cite=\"2013ApJ...764..161K\">Kallivayalil et al. (2013)</cite>](http://adsabs.harvard.edu/abs/2013ApJ...764..161K) have slightly eased the situation, but still rule out orbital periods of the Magellanic Clouds of ≲&nbsp;4&nbsp;Ga. Astonishingly, the LMC’s proper motion of <var>μ</var><sub>W</sub>&nbsp;=&nbsp;−1.910&#8239;±&#8239;0.020&nbsp;mas&#8239;a<sup>−1</sup> and <var>μ</var><sub>N</sub>&nbsp;=&nbsp;0.229&#8239;±&#8239;0.047&nbsp;mas&#8239;a<sup>−1</sup> as measured by [<cite data-cite=\"2013ApJ...764..161K\">Kallivayalil et al. (2013)</cite>](http://adsabs.harvard.edu/abs/2013ApJ...764..161K) is almost identical to the prediction of 2.0&nbsp;mas&#8239;a<sup>−1</sup> due east made by [<cite data-cite=\"1982MNRAS.198..707L\">Lin &amp; Lynden-Bell (1982)</cite>](http://adsabs.harvard.edu/abs/1982MNRAS.198..707L) based on their <var>N</var>-body simulations of the Magellanic Clouds interacting with the Milky Way’s gravitational potential."
   ]
  },
  {
   "cell_type": "markdown",
   "metadata": {},
   "source": [
    "In summary, the origin of the Magellanic Stream and Leading Arm has not been satisfactorily constrained yet, but a combination of tidal forces (from the Milky Way as well as between the two Magellanic Clouds) and ram pressure (from the hot, gaseous halo of the Milky Way) is expected to have shaped the Stream. While most of the gas is thought to have been provided by the SMC, there is some evidence for LMC gas in the Stream as well from morphological studies and metallicity measurements."
   ]
  },
  {
   "cell_type": "markdown",
   "metadata": {},
   "source": [
    "### The Andromeda system"
   ]
  },
  {
   "cell_type": "markdown",
   "metadata": {},
   "source": [
    "The Andromeda Galaxy (M31, NGC&nbsp;224) is the second large spiral galaxy in the Local Group next to the Milky Way. Together with the smaller Triangulum Galaxy (M33, NGC&nbsp;598) and dozens of small satellite galaxies it forms a distinct, gravitationally bound sub-group within the Local Group."
   ]
  },
  {
   "cell_type": "markdown",
   "metadata": {},
   "source": [
    "#### The Andromeda Galaxy (M31)"
   ]
  },
  {
   "cell_type": "markdown",
   "metadata": {},
   "source": [
    "At a distance of just under 800&nbsp;kpc, the Andromeda Galaxy is the nearest large spiral galaxy in the local universe and readily visible to the naked eye. Notable high-resolution synthesis mosaics of the HI emission in M31 were published by [<cite data-cite=\"1980MNRAS.192..243U\">Unwin (1980)</cite>](http://adsabs.harvard.edu/abs/1980MNRAS.192..243U) based on observations with the Cambridge Half-Mile Telescope in the United Kingdom, [<cite data-cite=\"2009ApJ...695..937B\">Braun et al. (2009)</cite>](http://adsabs.harvard.edu/abs/2009ApJ...695..937B) based on data taken with the Westerbork Synthesis Radio Telescope (WSRT) in the Netherlands, and [<cite data-cite=\"2009ApJ...705.1395C\">Chemin, Carignan &amp; Foster (2009)</cite>](http://adsabs.harvard.edu/abs/2009ApJ...705.1395C) based on observations with the Synthesis Telescope and the 26-metre Telescope at the Dominion Radio Astrophysical Observatory in Canada. Recent measurements of the total HI mass of M31, based on a distance of 785&nbsp;kpc ([<cite data-cite=\"2005MNRAS.356..979M\">McConnachie et al. 2005</cite>](http://adsabs.harvard.edu/abs/2005MNRAS.356..979M)), range from 4.2&#8239;×&#8239;10<sup>9</sup>&nbsp;<var>M</var><sub>☉</sub> without any opacity corrections ([<cite data-cite=\"2009ApJ...705.1395C\">Chemin, Carignan &amp; Foster 2009</cite>](http://adsabs.harvard.edu/abs/2009ApJ...705.1395C)) to 7.3&#8239;×&#8239;10<sup>9</sup>&nbsp;<var>M</var><sub>☉</sub> with basic opacity correction ([<cite data-cite=\"2009ApJ...695..937B\">Braun et al. 2009</cite>](http://adsabs.harvard.edu/abs/2009ApJ...695..937B)), although even the latter value should still be considered as a lower limit."
   ]
  },
  {
   "cell_type": "markdown",
   "metadata": {},
   "source": [
    "##### Overall morphology"
   ]
  },
  {
   "cell_type": "markdown",
   "metadata": {},
   "source": [
    "Among the most prominent features of M31’s HI disc are the deficiency of neutral hydrogen in the centre of the galaxy ([<cite data-cite=\"1957BAN....14....1V\">van de Hulst, Raimond &amp; van Woerden 1957</cite>](http://adsabs.harvard.edu/abs/1957BAN....14....1V)) and the presence of a conspicuous, dense HI ring with a radius of about 10&nbsp;kpc ([<cite data-cite=\"1966ApJ...144..639R\">Roberts 1966</cite>](http://adsabs.harvard.edu/abs/1966ApJ...144..639R)). The outer HI disc of M31 shows significant warping (e.g. [<cite data-cite=\"1975ApJ...201..327R\">Roberts &amp; Whitehurst 1975</cite>](http://adsabs.harvard.edu/abs/1975ApJ...201..327R); [<cite data-cite=\"1982PASJ...34..189S\">Sawa &amp; Sofue 1982</cite>](http://adsabs.harvard.edu/abs/1982PASJ...34..189S)), which is particularly prominent on the north-eastern side of the disc and generally believed to be the result of tidal interaction with a satellite galaxy. The warp is also present in the stellar disc of M31 ([<cite data-cite=\"1982ApJ...254..515I\">Innanen et al. 1982</cite>](http://adsabs.harvard.edu/abs/1982ApJ...254..515I)), although the stellar warp begins at smaller radii and deviates more strongly from the major axis of the inner disc than the HI warp ([<cite data-cite=\"2002AJ....124.1452F\">Ferguson et al. 2002</cite>](http://adsabs.harvard.edu/abs/2002AJ....124.1452F))."
   ]
  },
  {
   "cell_type": "markdown",
   "metadata": {},
   "source": [
    "Another conspicuous HI feature in close proximity to M31 on the sky is Davies’ Cloud ([<cite data-cite=\"1975MNRAS.170P..45D\">Davies 1975</cite>](http://adsabs.harvard.edu/abs/1975MNRAS.170P..45D)). It is located about 1.5&nbsp;degrees to the north-west of the centre of M31 at a radial velocity of about −450&nbsp;km&#8239;s<sup>−1</sup> in the LSR frame. [<cite data-cite=\"1975MNRAS.170P..45D\">Davies (1975)</cite>](http://adsabs.harvard.edu/abs/1975MNRAS.170P..45D) discusses two possible origins of the cloud: it could either be a satellite of M31 or part of the Magellanic Stream. High-resolution HI observations of Davies’ Cloud with the WSRT are presented by [<cite data-cite=\"2002A&A...391...67D\">de Heij, Braun &amp; Burton (2002)</cite>](http://adsabs.harvard.edu/abs/2002A&A...391...67D). In their discussion they consider the object to be either associated with M31 or part of a population of primordial dark-matter haloes in the Local Group. However, the recent discovery of faint, northern extensions of the Magellanic Stream ([<cite data-cite=\"2004A&A...417..421B\">Braun &amp; Thilker 2004</cite>](http://adsabs.harvard.edu/abs/2004A&A...417..421B); [<cite data-cite=\"2010ApJ...723.1618N\">Nidever et al. 2010</cite>](http://adsabs.harvard.edu/abs/2010ApJ...723.1618N)) seems to suggest that Davies’ Cloud is instead part of the Magellanic Stream which runs across the same part of the sky at similar radial velocities."
   ]
  },
  {
   "cell_type": "markdown",
   "metadata": {},
   "source": [
    "<figure>\n",
    "    <img src=\"01_figures/m31-m33.png\" width=\"1100\" height=\"540\" alt=\"HI images of M31 and M33\" />\n",
    "    <figcaption>*Left: HI peak brightness temperature map of the Andromeda Galaxy (M31) from WSRT observations by [<cite data-cite=\"2009ApJ...695..937B\">Braun et al. (2009)</cite>](http://adsabs.harvard.edu/abs/2009ApJ...695..937B). Right: HI column density map of M33 from Arecibo data presented by [<cite data-cite=\"2009ApJ...703.1486P\">Putman et al. (2009)</cite>](http://adsabs.harvard.edu/abs/2009ApJ...703.1486P).*</figcaption>\n",
    "</figure>"
   ]
  },
  {
   "cell_type": "markdown",
   "metadata": {},
   "source": [
    "##### Rotation curve and dynamical mass"
   ]
  },
  {
   "cell_type": "markdown",
   "metadata": {},
   "source": [
    "Detailed rotation curves of M31 from high-resolution HI synthesis observations are presented by [<cite data-cite=\"2009ApJ...705.1395C\">Chemin, Carignan &amp; Foster (2009)</cite>](http://adsabs.harvard.edu/abs/2009ApJ...705.1395C) and [<cite data-cite=\"2010A&A...511A..89C\">Corbelli et al. (2010)</cite>](http://adsabs.harvard.edu/abs/2010A&A...511A..89C) based on tilted-ring fitting of the radial velocity field. [<cite data-cite=\"2009ApJ...705.1395C\">Chemin, Carignan &amp; Foster (2009)</cite>](http://adsabs.harvard.edu/abs/2009ApJ...705.1395C) derived the rotation curve within a radius of 38&nbsp;kpc. They find a strong variation of the rotation velocity from about 230 to 264&nbsp;km&#8239;s<sup>−1</sup> across the central disc of M31 (at an average inclination angle of about 74°), with a sharp rise to 275&nbsp;km&#8239;s<sup>−1</sup> near the outer edge of the disc. While the shape of the rotation curve derived by [<cite data-cite=\"2010A&A...511A..89C\">Corbelli et al. (2010)</cite>](http://adsabs.harvard.edu/abs/2010A&A...511A..89C) is similar to that of [<cite data-cite=\"2009ApJ...705.1395C\">Chemin, Carignan &amp; Foster (2009)</cite>](http://adsabs.harvard.edu/abs/2009ApJ...705.1395C), their overall rotation velocities are on average about 10&nbsp;km&#8239;s<sup>−1</sup> lower and in the range of about 219 to 254&nbsp;km&#8239;s<sup>−1</sup> across the central disc out to a radius of 37&nbsp;kpc. This difference is due to a generally slightly higher inclination angle of 77° found by [<cite data-cite=\"2010A&A...511A..89C\">Corbelli et al. (2010)</cite>](http://adsabs.harvard.edu/abs/2010A&A...511A..89C) as the result of a slightly different approach in their tilted-ring modelling. In particular, they use spherical geometry in their modelling to take into account that the near side of M31’s disc is considerably closer to the Milky Way than the far side due to the small distance of M31."
   ]
  },
  {
   "cell_type": "markdown",
   "metadata": {},
   "source": [
    "Both studies also derive a dynamical mass model of M31 from the measured rotation curve. [<cite data-cite=\"2009ApJ...705.1395C\">Chemin, Carignan &amp; Foster (2009)</cite>](http://adsabs.harvard.edu/abs/2009ApJ...705.1395C) derive a total dynamical mass of (4.7&#8239;±&#8239;0.5)&#8239;×&#8239;10<sup>11</sup>&nbsp;<var>M</var><sub>☉</sub> within a radius of 38&nbsp;kpc from different ΛCDM models and a total mass of about 1.0&#8239;×&#8239;10<sup>12</sup>&nbsp;<var>M</var><sub>☉</sub> with M31’s virial radius. This is consistent with the dynamical mass of (4.9<span style=\"position:relative;\"><sup>+12</sup><sub style=\"position:absolute; left:0px; bottom:0.5em;\">−14</sub></span>)&#8239;×&#8239;10<sup>11</sup>&nbsp;<var>M</var><sub>☉</sub> derived by [<cite data-cite=\"2010A&A...511A..89C\">Corbelli et al. (2010)</cite>](http://adsabs.harvard.edu/abs/2010A&A...511A..89C) within 37&nbsp;kpc radius, although they estimate a slightly higher total mass of about 1.3&#8239;×&#8239;10<sup>12</sup>&nbsp;<var>M</var><sub>☉</sub>."
   ]
  },
  {
   "cell_type": "markdown",
   "metadata": {},
   "source": [
    "<figure>\n",
    "    <img src=\"01_figures/m31-rotation-curve.png\" width=\"1150\" height=\"540\" alt=\"Rotation curve and mass modelling of M31\" />\n",
    "    <figcaption style=\"font-style:italic;\">Rotation curve and mass model of M31 as derived by [<cite data-cite=\"2010A&A...511A..89C\">Corbelli et al. (2010)</cite>](http://adsabs.harvard.edu/abs/2010A&A...511A..89C). Left: Overall rotation curve (top) and separate rotation curves for the north-eastern and south-western half (bottom) of M31. Right: Best-fitting ΛCDM mass model assuming an NFW halo; the two panels shown only differ in their assumed mass-to-light ratios of the disc and bulge.</figcaption>\n",
    "</figure>"
   ]
  },
  {
   "cell_type": "markdown",
   "metadata": {},
   "source": [
    "#### The Triangulum Galaxy (M33)"
   ]
  },
  {
   "cell_type": "markdown",
   "metadata": {},
   "source": [
    "##### Overall morphology"
   ]
  },
  {
   "cell_type": "markdown",
   "metadata": {},
   "source": [
    "M33, the smaller companion of M31, was observed in HI with the WSRT in the Netherlands by [<cite data-cite=\"1987A&AS...67..509D\">Deul &amp; van der Hulst (1987)</cite>](http://adsabs.harvard.edu/abs/1987A&AS...67..509D), with the Very Large Array (VLA) in New Mexico by [<cite data-cite=\"2002ASPC..276..370T\">Thilker, Braun &amp; Walterbos (2002)</cite>](http://adsabs.harvard.edu/abs/2002ASPC..276..370T) and with the 300-m Arecibo telescope in Puerto Rico by [<cite data-cite=\"2009ApJ...703.1486P\">Putman et al. (2009)</cite>](http://adsabs.harvard.edu/abs/2009ApJ...703.1486P).  The total HI mass of M33 is 1.4&#8239;×&#8239;10<sup>9</sup>&nbsp;<var>M</var><sub>☉</sub>&#8239;(<var>d</var>&#8239;/&#8239;730&nbsp;kpc)<sup>2</sup> without opacity corrections ([<cite data-cite=\"2009ApJ...703.1486P\">Putman et al. 2009</cite>](http://adsabs.harvard.edu/abs/2009ApJ...703.1486P))."
   ]
  },
  {
   "cell_type": "markdown",
   "metadata": {},
   "source": [
    "The HI disc of M33 shows strong signs of distortion in the form of an extended, warped outer disc as well as numerous clumps and filaments surrounding the entire disc, including a large HI cloud near the southern edge of the disc that appears connected to M33 through a gas bridge. A detailed orbital analysis carried out by [<cite data-cite=\"2009ApJ...703.1486P\">Putman et al. (2009)</cite>](http://adsabs.harvard.edu/abs/2009ApJ...703.1486P) suggests that the strong distortions of M33’s disc could have been the result of a close encounter with M31 that occurred about 1 to 3&nbsp;Ga ago."
   ]
  },
  {
   "cell_type": "markdown",
   "metadata": {},
   "source": [
    "##### Rotation curve and dynamical mass"
   ]
  },
  {
   "cell_type": "markdown",
   "metadata": {},
   "source": [
    "The rotation curve of M33 was determined by [<cite data-cite=\"2014A&A...572A..23C\">Corbelli et al. (2014)</cite>](http://adsabs.harvard.edu/abs/2014A&A...572A..23C) from high-resolution HI observations with the VLA. They find a generally rising rotation curve, with the rotation velocity increasing to about 120 to 130&nbsp;km&#8239;s<sup>−1</sup> at a radius of 23&nbsp;kpc. They also fit a ΛCDM-based mass model with NFW halo to the rotation curve and derive a total mass of (4.3&#8239;±&#8239;1.0)&#8239;×&#8239;10<sup>11</sup>&nbsp;<var>M</var><sub>☉</sub> for M33."
   ]
  },
  {
   "cell_type": "markdown",
   "metadata": {},
   "source": [
    "<figure>\n",
    "    <img src=\"01_figures/m33-rotation-curve.png\" width=\"520\" height=\"540\" alt=\"Rotation curve of M33\" />\n",
    "    <figcaption style=\"font-style:italic;\">The rotation curve of M33 as derived by [<cite data-cite=\"2014A&A...572A..23C\">Corbelli et al. (2014)</cite>](http://adsabs.harvard.edu/abs/2014A&A...572A..23C). The top panel shows the rotation curve of the outer disc, while the bottom panel shows a zoomed-in view of the rotation curve of the inner disc.</figcaption>\n",
    "</figure>"
   ]
  },
  {
   "cell_type": "markdown",
   "metadata": {},
   "source": [
    "#### The high-velocity clouds of M31 and M33"
   ]
  },
  {
   "cell_type": "markdown",
   "metadata": {},
   "source": [
    "A population of about 20&nbsp;isolated HI clouds within a projected distance of about 50&nbsp;kpc of M31 was discovered by [<cite data-cite=\"2004ApJ...601L..39T\">Thilker et al. (2004)</cite>](http://adsabs.harvard.edu/abs/2004ApJ...601L..39T) using the Green Bank Telescope. These clouds are thought to be the analogues to the high-velocity clouds (HVCs) found around the Milky Way. The clouds were studied in greater detail with the Effelsberg telescope by [<cite data-cite=\"2008MNRAS.390.1691W\">Westmeier, Brüns &amp; Kerp (2008)</cite>](http://adsabs.harvard.edu/abs/2008MNRAS.390.1691W) and in high-resolution interferometric observations with the WSRT presented by [<cite data-cite=\"2005A&A...436..101W\">Westmeier, Braun &amp; Thilker (2005)</cite>](http://adsabs.harvard.edu/abs/2005A&A...436..101W)."
   ]
  },
  {
   "cell_type": "markdown",
   "metadata": {},
   "source": [
    "The HVCs of M31 have typical diameters of the order of 1&nbsp;kpc and HI masses of typically a few times 10<sup>5</sup>&nbsp;<var>M</var><sub>☉</sub> ([<cite data-cite=\"2005A&A...436..101W\">Westmeier, Braun &amp; Thilker 2005</cite>](http://adsabs.harvard.edu/abs/2005A&A...436..101W)). Many of the clouds show distinct velocity gradients across their extent; if these are assumed to indicate rotation, the resulting dynamical masses would be about 100&nbsp;times larger than the observed HI masses. This result could either indicate the presence of a significant amount of dark matter or imply that the velocity gradients are not the result of rotation, but of turbulent motions within the clouds."
   ]
  },
  {
   "cell_type": "markdown",
   "metadata": {},
   "source": [
    "<figure>\n",
    "    <img src=\"01_figures/m31-hvcs.png\" width=\"1260\" height=\"540\" alt=\"High-velocity clouds around M31\" />\n",
    "    <figcaption>*Left: HI column density map of M31 (grey-scale image) based on the GBT data of [<cite data-cite=\"2004ApJ...601L..39T\">Thilker et al. (2004)</cite>](http://adsabs.harvard.edu/abs/2004ApJ...601L..39T). Some of the high-velocity clouds, followed up with the WSRT by [<cite data-cite=\"2005A&A...436..101W\">Westmeier, Braun &amp; Thilker (2005)</cite>](http://adsabs.harvard.edu/abs/2005A&A...436..101W), are overplotted as black contours, with black circles indicating the individual WSRT pointings. Right: Overview map of gas clouds detected in the vicinity of M33 by [<cite data-cite=\"2016MNRAS.456..951K\">Keenan et al. (2016)</cite>](http://adsabs.harvard.edu/abs/2016MNRAS.456..951K).*</figcaption>\n",
    "</figure>\n"
   ]
  },
  {
   "cell_type": "markdown",
   "metadata": {},
   "source": [
    "The origin of the HVCs around M31 is still uncertain, and hypotheses range from primoridal dark-matter haloes and condensations of accreted intergalactic gas to tidal debris from recent interactions between M31 and satellite galaxies. The extended complex of HVCs located near the south-eastern edge of M31’s disc both spatially and kinematically overlaps with the giant stellar stream of M31 discovered by [<cite data-cite=\"2001Natur.412...49I\">Ibata et al. (2001)</cite>](http://adsabs.harvard.edu/abs/2001Natur.412...49I) and presumably originates from the disruption of the satellite galaxy that formed the stellar stream. Another cloud is close to one of M31’s satellite galaxies, NGC&nbsp;205, both in position and velocity, and could have been stripped from that galaxy. This would be consistent with optical ([<cite data-cite=\"2004MNRAS.351L..94M\">McConnachie et al. 2004</cite>](http://adsabs.harvard.edu/abs/2004MNRAS.351L..94M)) and far-infrared ([<cite data-cite=\"2012MNRAS.423.2359D\">De Looze et al. 2012</cite>](http://adsabs.harvard.edu/abs/2012MNRAS.423.2359D)) observations that uncovered evidence for tidal stripping of stars and gas from NGC&nbsp;205. Other HVCs appear isolated and not associated with any known satellite galaxy or stellar structure of M31’s disc, and their origin is unknown."
   ]
  },
  {
   "cell_type": "markdown",
   "metadata": {},
   "source": [
    "Several HI clouds have also been found in the vicinity of M33, most notably Wright’s Cloud ([<cite data-cite=\"1974A&A....31..317W\">Wright 1974</cite>](http://adsabs.harvard.edu/abs/1974A&A....31..317W)), which, at an LSR velocity of about −390&nbsp;km&#8239;s<sup>−1</sup>, might be associated with the nearby Magellanic Stream rather than M33. If located at the distance of M33, the HI mass of Wright’s Cloud would be fairly significant at 4.5&#8239;×&#8239;10<sup>7</sup>&nbsp;<var>M</var><sub>☉</sub> ([<cite data-cite=\"2016MNRAS.456..951K\">Keenan et al. 2016</cite>](http://adsabs.harvard.edu/abs/2016MNRAS.456..951K)). More recently, sensitive HI observations of a large area around M33 with the Arecibo telescope ([<cite data-cite=\"2008A&A...487..161G\">Grossi et al. 2008</cite>](http://adsabs.harvard.edu/abs/2008A&A...487..161G); [<cite data-cite=\"2016MNRAS.456..951K\">Keenan et al. 2016</cite>](http://adsabs.harvard.edu/abs/2016MNRAS.456..951K)) have revealed the presence of about 20 isolated HI clouds surrounding the galaxy. Their HI masses are in the range of about 10<sup>5</sup> to 10<sup>7</sup>&nbsp;<var>M</var><sub>☉</sub> with sizes of typically several kpc. While [<cite data-cite=\"2008A&A...487..161G\">Grossi et al. (2008)</cite>](http://adsabs.harvard.edu/abs/2008A&A...487..161G) treat these clouds as being associated with M33, [<cite data-cite=\"2016MNRAS.456..951K\">Keenan et al. (2016)</cite>](http://adsabs.harvard.edu/abs/2016MNRAS.456..951K) point out that the positions and velocities of most of them are fully consistent with the Magellanic Stream that runs across the same part of the sky; therefore, most of the clouds might not be located at the distance of M33 at all."
   ]
  },
  {
   "cell_type": "markdown",
   "metadata": {
    "collapsed": true
   },
   "source": [
    "#### The HI filament connecting M31 and M33"
   ]
  },
  {
   "cell_type": "markdown",
   "metadata": {},
   "source": [
    "[<cite data-cite=\"2004A&A...417..421B\">Braun &amp; Thilker (2004)</cite>](http://adsabs.harvard.edu/abs/2004A&A...417..421B) carried out a very deep HI survey of a large area around M31 and M33 using the WSRT in total-power mode. The resulting image has a poor angular resolution of 48&nbsp;arcmin (FWHM), but an unprecendented column density sensitivity of 1.5&#8239;×&#8239;10<sup>17</sup>&nbsp;cm<sup>−2</sup>. Overall, they detect 95&nbsp;discrete HVCs in the field. While many of the clouds are consistent with being part of the Magellanic Stream that runs across the same part of the sky, they uncovered a faint HI filament that appears to connect M31 with M33, not just spatially, but also in velocity space. This filament could potentially be the neutral component of the warm–hot intergalactic medium (WHIM) expected to form along filaments of the cosmic web ([<cite data-cite=\"2004A&A...417..421B\">Braun &amp; Thilker 2004</cite>](http://adsabs.harvard.edu/abs/2004A&A...417..421B)), or the result of tidal stripping during a recent, close encounter between M31 and M33 ([<cite data-cite=\"2008MNRAS.390L..24B\">Bekki 2008</cite>](http://adsabs.harvard.edu/abs/2008MNRAS.390L..24B))."
   ]
  },
  {
   "cell_type": "markdown",
   "metadata": {},
   "source": [
    "<figure>\n",
    "    <img src=\"01_figures/m31-m33-filament.png\" width=\"1280\" height=\"540\" alt=\"Stellar and gaseous filaments between M31 and M33\" />\n",
    "    <figcaption>*Left: Deep optical image from the PAndAS showing the distribution of RGB stars in a large field around M31 and M33 ([<cite data-cite=\"2013ApJ...763....4L\">Lewis et al. 2013</cite>](http://adsabs.harvard.edu/abs/2013ApJ...763....4L)). The main stellar streams and features are labelled. Right: Deep HI map from a WSRT survey of the M31&ndash;M33 field by [<cite data-cite=\"2004A&A...417..421B\">Braun &amp; Thilker (2004)</cite>](http://adsabs.harvard.edu/abs/2004A&A...417..421B). Note the faint HI filament connecting M31 with M33 as well as two extended filaments of the Magellanic Stream on the right.*</figcaption>\n",
    "</figure>"
   ]
  },
  {
   "cell_type": "markdown",
   "metadata": {
    "collapsed": true
   },
   "source": [
    "Recent follow-up observations of the HI bridge with the GBT ([<cite data-cite=\"2012AJ....144...52L\">Lockman, Free &amp; Shields 2012</cite>](http://adsabs.harvard.edu/abs/2012AJ....144...52L); [<cite data-cite=\"2013Natur.497..224W\">Wolfe et al. 2013</cite>](http://adsabs.harvard.edu/abs/2013Natur.497..224W); [<cite data-cite=\"2016ApJ...816...81W\">Wolfe, Lockman &amp; Pisano 2016</cite>](http://adsabs.harvard.edu/abs/2016ApJ...816...81W)) have confirmed the existence of the filament and revealed that virtually all of the gas is located in discrete clumps with peak column densities in the range of about 1 to 5&#8239;×&#8239;10<sup>18</sup>&nbsp;cm<sup>−2</sup> and typical HI masses of the order of 10<sup>5</sup>&nbsp;<var>M</var><sub>☉</sub> without any evidence for a diffuse component ([<cite data-cite=\"2016ApJ...816...81W\">Wolfe, Lockman &amp; Pisano 2016</cite>](http://adsabs.harvard.edu/abs/2016ApJ...816...81W)). The clumps are kinematically distinct from the populations of gas clouds and HVCs surrounding M31 and M33, suggesting that their origin is a different one. The results presented by [<cite data-cite=\"2013Natur.497..224W\">Wolfe et al. (2013)</cite>](http://adsabs.harvard.edu/abs/2013Natur.497..224W) appear to support the cosmic web hypothesis and suggest that the gas could provide fuel for future star formation in M31 and M33. [<cite data-cite=\"2016ApJ...816...81W\">Wolfe, Lockman &amp; Pisano (2016)</cite>](http://adsabs.harvard.edu/abs/2016ApJ...816...81W) rule out the possibility that these gas clouds constitute satellite galaxies of M31 due to the lack of optical counterparts. However, they speculate that the clouds could also be condensations within the extended circumgalactic medium claimed to have been detected around M31 by [<cite data-cite=\"2015ApJ...804...79L\">Lehner, Howk &amp; Wakker (2015)</cite>](http://adsabs.harvard.edu/abs/2015ApJ...804...79L)."
   ]
  },
  {
   "cell_type": "markdown",
   "metadata": {},
   "source": [
    "<figure>\n",
    "    <img src=\"01_figures/m31-m33-filament-clumps.png\" width=\"900\" height=\"311\" alt=\"HI clumps in the M31-M33 bridge\" \\>\n",
    "    <figcaption>*HI image from the GBT by [<cite data-cite=\"2016ApJ...816...81W\">Wolfe, Lockman &amp; Pisano (2016)</cite>](http://adsabs.harvard.edu/abs/2016ApJ...816...81W) showing some of the compact HI clumps found within the HI filament connecting M31 and M33.*</figcaption>\n",
    "</figure>"
   ]
  },
  {
   "cell_type": "markdown",
   "metadata": {},
   "source": [
    "A comparison between the extragalactic HI structures in the M31 system with faint stellar substructures found in deep optical imaging by the PAndAS project ([<cite data-cite=\"2013ApJ...763....4L\">Lewis et al. 2013</cite>](http://adsabs.harvard.edu/abs/2013ApJ...763....4L)) revealed that there is very little spatial overlap between the gas and the stars. The only notable exception is M31’s giant stellar stream which appears to have some HI gas associated with it (also see [<cite data-cite=\"2005A&A...436..101W\">Westmeier, Braun &amp; Thilker 2005</cite>](http://adsabs.harvard.edu/abs/2005A&A...436..101W)). [<cite data-cite=\"2013ApJ...763....4L\">Lewis et al. (2013)</cite>](http://adsabs.harvard.edu/abs/2013ApJ...763....4L) conclude that, while stellar and gaseous structures throughout the M31 system may well have been formed in similar accretion events of satellite galaxies in the past, they have since been shaped by different physical processes, thus explaining the current lack of spatial correlation between the two components. The gas in particular is subject to ram-pressure forces and shock-heating and may therefore not be collocated with the stars."
   ]
  },
  {
   "cell_type": "markdown",
   "metadata": {
    "collapsed": true
   },
   "source": [
    "### HI in Local Group dwarf galaxies"
   ]
  },
  {
   "cell_type": "markdown",
   "metadata": {},
   "source": [
    "HI emission has been unambiguously detected in about two dozen dwarf galaxies across the Local Group, including the LMC and SMC, WLM ([<cite data-cite=\"2007AJ....133.2242K\">Kepley et al. 2007</cite>](http://adsabs.harvard.edu/abs/2007AJ....133.2242K)), IC&nbsp;10 ([<cite data-cite=\"1998AJ....116.2363W\">Wilcots &amp; Miller 1998</cite>](http://adsabs.harvard.edu/abs/1998AJ....116.2363W)), Pisces&nbsp;I&#8239;/&#8239;LGS&nbsp;3 ([<cite data-cite=\"1997ApJ...490..710Y\">Young &amp; Lo 1997</cite>](http://adsabs.harvard.edu/abs/1997ApJ...490..710Y)), IC&nbsp;1613 ([<cite data-cite=\"2006A&A...448..123S\">Silich et al. 2006</cite>](http://adsabs.harvard.edu/abs/2006A&A...448..123S)), Phoenix ([<cite data-cite=\"1997ApJ...490..710Y\">Young &amp; Lo 1997</cite>](http://adsabs.harvard.edu/abs/1997ApJ...490..710Y); [<cite data-cite=\"2002MNRAS.336..643I\">Irwin &amp; Tolstoy 2002</cite>](http://adsabs.harvard.edu/abs/2002MNRAS.336..643I); [<cite data-cite=\"2007ApJ...659..331Y\">Young et al. 2007</cite>](http://adsabs.harvard.edu/abs/2007ApJ...659..331Y)), UGCA&nbsp;92 ([<cite data-cite=\"2008MNRAS.386.1667B\">Begum et al. 2008</cite>](http://adsabs.harvard.edu/abs/2008MNRAS.386.1667B)), Leo&nbsp;III&#8239;/&#8239;Leo&nbsp;A ([<cite data-cite=\"1996ApJ...462..203Y\">Young &amp; Lo 1996</cite>](http://adsabs.harvard.edu/abs/1996ApJ...462..203Y)), Sextans&nbsp;A ([<cite data-cite=\"2004MNRAS.351..333B\">Barnes &amp; de&nbsp;Blok 2004</cite>](http://adsabs.harvard.edu/abs/2004MNRAS.351..333B)), Sextans&nbsp;B ([<cite data-cite=\"1984AJ.....89..758H\">Haynes &amp; Giovanelli 1984</cite>](http://adsabs.harvard.edu/abs/1984AJ.....89..758H)), NGC 3109 ([<cite data-cite=\"2001AJ....122..825B\">Barnes &amp; de&nbsp;Blok 2001</cite>](http://adsabs.harvard.edu/abs/2001AJ....122..825B)), Antlia ([<cite data-cite=\"2001AJ....122..825B\">Barnes &amp; de&nbsp;Blok 2001</cite>](http://adsabs.harvard.edu/abs/2001AJ....122..825B)), UGC&nbsp;8091 ([<cite data-cite=\"1975A&A....44..151F\">Fisher &amp; Tully 1975</cite>](http://adsabs.harvard.edu/abs/1975A&A....44..151F)), Sagittarius&nbsp;DIG ([<cite data-cite=\"1997ApJ...490..710Y\">Young &amp; Lo 1997</cite>](http://adsabs.harvard.edu/abs/1997ApJ...490..710Y)), Aquarius&nbsp;dIrr&#8239;/&#8239;DDO&nbsp;210 ([<cite data-cite=\"1993AJ....106..507L\">Lo, Sargent &amp; Young 1993</cite>](http://adsabs.harvard.edu/abs/1993AJ....106..507L)), IC&nbsp;5152 ([<cite data-cite=\"1977AuJPh..30..187W\">Whiteoak &amp; Gardner 1977</cite>](http://adsabs.harvard.edu/abs/1977AuJPh..30..187W)), UGCA&nbsp;438 ([<cite data-cite=\"1982MNRAS.200..325L\">Longmore et al. 1982</cite>](http://adsabs.harvard.edu/abs/1982MNRAS.200..325L)), NGC&nbsp;6822 ([<cite data-cite=\"2000ApJ...537L..95D\">de&nbsp;Blok &amp; Walter 2000</cite>](http://adsabs.harvard.edu/abs/2000ApJ...537L..95D)), Leo&nbsp;T ([<cite data-cite=\"2008MNRAS.384..535R\">Ryan-Weber et al. 2008</cite>](http://adsabs.harvard.edu/abs/2008MNRAS.384..535R)), Pegasus DIG ([<cite data-cite=\"1993AJ....106..507L\">Lo, Sargent &amp; Young 1993</cite>](http://adsabs.harvard.edu/abs/1993AJ....106..507L)) and UGC&nbsp;4879 ([<cite data-cite=\"2011A&A...527A..58B\">Bellazzini et al. 2011</cite>](http://adsabs.harvard.edu/abs/2011A&A...527A..58B)). Also see [<cite data-cite=\"2009ApJ...696..385G\">Grcevich &amp; Putman 2009</cite>](http://adsabs.harvard.edu/abs/2009ApJ...696..385G) for a comprehensive list plus references. Among the known satellites of the Andromeda Galaxy, HI emission has only been unambiguously detected in NGC&nbsp;185 and NGC&nbsp;205 ([<cite data-cite=\"1983ApJ...275..549J\">Johnson &amp; Gottesman 1983</cite>](http://adsabs.harvard.edu/abs/1983ApJ...275..549J)). With few exceptions, most of the galaxies with HI detections are located far away from the two major galaxies in the Local Group, the Milky Way and the Andromeda Galaxy."
   ]
  },
  {
   "cell_type": "markdown",
   "metadata": {},
   "source": [
    "<figure>\n",
    "    <img src=\"01_figures/little-things-mom0.png\" width=\"1200\" height=\"780\" alt=\"Moment-0 maps of 6 galaxies from Little THINGS\" />\n",
    "    <figcaption style=\"font-style:italic;\">Integrated HI flux maps of six Local Group dwarf galaxies observed with the VLA as part of the Little THINGS survey ([<cite data-cite=\"2012AJ....144..134H\">Hunter et al. 2012</cite>](http://adsabs.harvard.edu/abs/2012AJ....144..134H)).</figcaption>\n",
    "</figure>"
   ]
  },
  {
   "cell_type": "markdown",
   "metadata": {},
   "source": [
    "<figure>\n",
    "    <img src=\"01_figures/little-things-mom1.png\" width=\"1200\" height=\"780\" alt=\"Moment-1 maps of 6 galaxies from Little THINGS\" />\n",
    "    <figcaption style=\"font-style:italic;\">Radial velocity maps of six Local Group dwarf galaxies observed with the VLA as part of the Little THINGS survey ([<cite data-cite=\"2012AJ....144..134H\">Hunter et al. 2012</cite>](http://adsabs.harvard.edu/abs/2012AJ....144..134H)).</figcaption>\n",
    "</figure>"
   ]
  },
  {
   "cell_type": "markdown",
   "metadata": {},
   "source": [
    "The recent surge in discoveries of new dwarf galaxies across the Local Group and particularly in the vicinity of the Magellanic Clouds ([<cite data-cite=\"2015ApJ...805..130K\">Koposov et al. 2015</cite>](http://adsabs.harvard.edu/abs/2015ApJ...805..130K); [<cite data-cite=\"2015ApJ...804L...5M\">Martin et al. 2015</cite>](http://adsabs.harvard.edu/abs/2015ApJ...804L...5M); [<cite data-cite=\"2015ApJ...804L..44K\">Kim et al. 2015</cite>](http://adsabs.harvard.edu/abs/2015ApJ...804L..44K); [<cite data-cite=\"2015ApJ...807...50B\">Bechtol et al. 2015</cite>](http://adsabs.harvard.edu/abs/2015ApJ...807...50B); [<cite data-cite=\"2015ApJ...808L..39K\">Kim &amp; Jerjen 2015</cite>](http://adsabs.harvard.edu/abs/2015ApJ...808L..39K); [<cite data-cite=\"2015ApJ...812L..13S\">Sand et al. 2015</cite>](http://adsabs.harvard.edu/abs/2015ApJ...812L..13S); [<cite data-cite=\"2015ApJ...813...44L\">Laevens et al. 2015</cite>](http://adsabs.harvard.edu/abs/2015ApJ...813...44L); [<cite data-cite=\"2015ApJ...813..109D\">Drlica-Wagner et al. 2015</cite>](http://adsabs.harvard.edu/abs/2015ApJ...813..109D); [<cite data-cite=\"2015ApJ...798L..21T\">Tollerud et al. 2015</cite>](http://adsabs.harvard.edu/abs/2015ApJ...798L..21T); [<cite data-cite=\"2016MNRAS.458..603L\">Luque et al. 2016</cite>](http://adsabs.harvard.edu/abs/2016MNRAS.458..603L); [<cite data-cite=\"2016MNRAS.459.2370T\">Torrealba et al. 2016a</cite>](http://adsabs.harvard.edu/abs/2016MNRAS.459.2370T); [<cite data-cite=\"2016arXiv160804033L\">Luque et al. 2016</cite>](http://adsabs.harvard.edu/abs/2016arXiv160804033L); [<cite data-cite=\"2016MNRAS.tmp.1171T\">Torrealba et al. 2016b</cite>](http://adsabs.harvard.edu/abs/2016MNRAS.tmp.1171T)) has led to several unsuccessful follow-up searches for HI emission ([<cite data-cite=\"2015MNRAS.453..338W\">Westmeier et al. 2015</cite>](http://adsabs.harvard.edu/abs/2015MNRAS.453..338W); [<cite data-cite=\"2015A&A...584A.101J\">Janzen et al. 2015</cite>](http://adsabs.harvard.edu/abs/2015A&A...584A.101J); [<cite data-cite=\"2016ApJ...824L..14C\">Crnojević et al. 2016</cite>](http://adsabs.harvard.edu/abs/2016ApJ...824L..14C)), although HI has been successfully detected in the two more distant and isolated galaxies Pisces&nbsp;A and B with KAT–7 ([<cite data-cite=\"2016A&A...587L...3C\">Carignan et al. 2016</cite>](http://adsabs.harvard.edu/abs/2016A&A...587L...3C)). The newly discovered population of ultra-faint dwarf galaxies near the Magellanic Clouds was recently simulated by [<cite data-cite=\"2015MNRAS.453.2302Y\">Yozin &amp; Bekki (2015)</cite>](http://adsabs.harvard.edu/abs/2015MNRAS.453.2302Y) who conclude that the population is consistent with being part of a distinct Magellanic group of galaxies. The ultra-faint dwarfs must have lost their gas during the infall of the Magellanic Clouds onto the Milky Way through ram-pressure stripping by the Galactic halo. [<cite data-cite=\"2015MNRAS.453.2302Y\">Yozin &amp; Bekki (2015)</cite>](http://adsabs.harvard.edu/abs/2015MNRAS.453.2302Y) speculate that the stripped gas might still be detectable in HI emission, although no longer collocated with its progenitor galaxies on the sky, and should be distinguishable from Galactic gas through its lower metallicities."
   ]
  },
  {
   "cell_type": "markdown",
   "metadata": {},
   "source": [
    "<figure>\n",
    "    <img src=\"01_figures/new-uf-dwarfs.png\" width=\"1000\" height=\"573\" alt=\"Location of new ultra-faint dwarfs near the Magellanic Clouds\" />\n",
    "    <figcaption style=\"font-style:italic;\">Location of 17&nbsp;ultra-faint dwarf galaxies recently discovered in data from the Dark Energy Survey by [<cite data-cite=\"2015ApJ...805..130K\">Koposov et al. (2015)</cite>](http://adsabs.harvard.edu/abs/2015ApJ...805..130K) and [<cite data-cite=\"2015ApJ...813..109D\">Drlica-Wagner et al. (2015)</cite>](http://adsabs.harvard.edu/abs/2015ApJ...813..109D), shown as the red circles and triangles, respectively. Several previously known Local Group dwarf galaxies are also shown as the blue squares, including the Large and Small Magellanic Cloud. The newly discovered dwarfs are thought to be part of a distinct Magellanic group of galaxies. (Figure taken from [<cite data-cite=\"2015ApJ...813..109D\">Drlica-Wagner et al. 2015</cite>](http://adsabs.harvard.edu/abs/2015ApJ...813..109D).)</figcaption>\n",
    "</figure>"
   ]
  },
  {
   "cell_type": "markdown",
   "metadata": {},
   "source": [
    "#### HI morphology of dwarf galaxies"
   ]
  },
  {
   "cell_type": "markdown",
   "metadata": {},
   "source": [
    "The HI morphology of several of the more isolated, HI-rich dwarf galaxies of the Local Group has been studied in great detail using radio interferometers. Many were found to be gas-rich and show signs of ongoing star formation activity. A well-studied example is the dIrr galaxy NGC&nbsp;6822. Located at a distance of roughly 500&nbsp;kpc ([<cite data-cite=\"1996AJ....112.1928G\">Gallart, Aparicio &amp; Vílchez 1996</cite>](http://adsabs.harvard.edu/abs/1996AJ....112.1928G)), NGC&nbsp;6822 is not thought to be associated with either the Milky Way or the Andromeda Galaxy. Its HI emission was studied with the ATCA by [<cite data-cite=\"2000ApJ...537L..95D\">de&nbsp;Blok &amp; Walter (2000)</cite>](http://adsabs.harvard.edu/abs/2000ApJ...537L..95D) who discovered numerous HI shells in the galaxy’s disc, including one of the largest supergiant shells every found with a size of 2.0&#8239;×&#8239;1.4&nbsp;kpc. They estimate that creation of the supergiant shell would require the energy of about 100&nbsp;supernovae and speculate that the shell could be the result of a burst of star formation during an interaction with a smaller companion galaxy about 100&nbsp;Ma ago. Signs of active star formation in the form of HI shells have also been found in a few other Local Group dwarfs, in particular IC&nbsp;10 ([<cite data-cite=\"1998AJ....116.2363W\">Wilcots &amp; Miller 1998</cite>](http://adsabs.harvard.edu/abs/1998AJ....116.2363W)) and IC&nbsp;1613 ([<cite data-cite=\"2006A&A...448..123S\">Silich et al. 2006</cite>](http://adsabs.harvard.edu/abs/2006A&A...448..123S))."
   ]
  },
  {
   "cell_type": "markdown",
   "metadata": {},
   "source": [
    "<figure>\n",
    "    <img src=\"01_figures/ngc6822.png\" width=\"1200\" heigh=\"540\" alt=\"HI image of NGC 6822\" />\n",
    "    <figcaption style=\"font-style:italic;\">Left: HI column density map of NGC&nbsp;6822 from [<cite data-cite=\"2000ApJ...537L..95D\">de&nbsp;Blok &amp; Walter (2000)</cite>](http://adsabs.harvard.edu/abs/2000ApJ...537L..95D). Some of the most notable features visible in the image have been labelled. Right: HI column density contours (white) of Phoenix from [<cite data-cite=\"2007ApJ...659..331Y\">Young et al. (2007)</cite>](http://adsabs.harvard.edu/abs/2007ApJ...659..331Y) overlaid on an optical image from the Digitized Sky Survey. Note the positional offset between the stellar component and the HI gas.</figcaption>\n",
    "</figure>"
   ]
  },
  {
   "cell_type": "markdown",
   "metadata": {},
   "source": [
    "A curious case is that of the Phoenix dwarf galaxy in which the HI component is spatially shifted with respect to the stellar component. [<cite data-cite=\"2007ApJ...659..331Y\">Young et al. (2007)</cite>](http://adsabs.harvard.edu/abs/2007ApJ...659..331Y) conclude that the HI gas has most likely been expelled from the galaxy by supernova-driven winds resulting from strong star formation activity rather than tidal or ram-pressure interaction, although the gas is still gravitationally bound to Phoenix and could fuel further star formation in the future. The Pegasus dIrr galaxy, on the other hand, shows signs of ram-pressure stripping of the outer parts of its HI disc ([<cite data-cite=\"2007ApJ...671L..33M\">McConnachie et al. 2007</cite>](http://adsabs.harvard.edu/abs/2007ApJ...671L..33M)) despite its relatively large distance from M31 of about 500&nbsp;kpc, suggesting the presence of a low-density intergalactic medium in the Local Group with a density of at least <var>n</var><sub>IGM</sub>&nbsp;≈&nbsp;10<sup>−6</sup> to 10<sup>−5</sup>&nbsp;cm<sup>−3</sup>."
   ]
  },
  {
   "cell_type": "markdown",
   "metadata": {},
   "source": [
    "#### HI kinematics and dynamics of dwarf galaxies"
   ]
  },
  {
   "cell_type": "markdown",
   "metadata": {},
   "source": [
    "Due to their small distances and hence large angular sizes on the sky, dwarf galaxies in the Local Group are particularly suitable to study the kinematics of the HI gas and the total fraction and spatial distribution of dark matter, although many of the Local Group dwarf galaxies do not show any sign of rotation, but rather appear to be supported by random motions of their gas and stars. Examples include Sagittarius DIG and Pisces&nbsp;I&#8239;/&#8239;LGS&nbsp;3 ([<cite data-cite=\"1997ApJ...490..710Y\">Young &amp; Lo 1997</cite>](http://adsabs.harvard.edu/abs/1997ApJ...490..710Y)). Several of the Local Group dwarfs with previous HI detections were included in the LITTLE THINGS survey with the VLA ([<cite data-cite=\"2012AJ....144..134H\">Hunter et al. 2012</cite>](http://adsabs.harvard.edu/abs/2012AJ....144..134H)). This sample was used by [<cite data-cite=\"2015AJ....149..180O\">Oh et al. (2015)</cite>](http://adsabs.harvard.edu/abs/2015AJ....149..180O) to derive the rotation curves and mass composition of 26&nbsp;dwarf galaxies across the Local Group and the local volume. They conclude that the relatively shallow inner slopes of the dark-matter density profiles disagree with the generally steeper, cusp-like profiles predicted by dark-matter simulations in the ΛCDM paradigm. The discrepancy can potentially be explained by baryonic feedback processes within the galaxies, such as gas outflows driven by supernovae."
   ]
  },
  {
   "cell_type": "markdown",
   "metadata": {},
   "source": [
    "<figure>\n",
    "    <img src=\"01_figures/little-things-dm-profiles.png\" width=\"1100\" height=\"540\" alt=\"Dark-matter density profile slopes from LITTLE THINGS\" />\n",
    "    <figcaption style=\"font-style:italic;\">Inner slope of the dark-matter density profiles of 26&nbsp;dwarf galaxies from the LITTLE THINGS survey plotted against total stellar mass (left) and the radius of the innermost point (right) within which the profile slope is measured (from [<cite data-cite=\"2015AJ....149..180O\">Oh et al. 2015</cite>](http://adsabs.harvard.edu/abs/2015AJ....149..180O)).</figcaption>\n",
    "</figure>"
   ]
  },
  {
   "cell_type": "markdown",
   "metadata": {},
   "source": [
    "#### HI deficiency in satellite galaxies"
   ]
  },
  {
   "cell_type": "markdown",
   "metadata": {},
   "source": [
    "Observations of neutral hydrogen in dwarf galaxies throughout the Local Group have revealed that satellite galaxies of the Milky Way and the Andromeda Galaxy are generally HI-deficient (e.g. [<cite data-cite=\"1999AJ....117.1758Y\">Young 1999</cite>](http://adsabs.harvard.edu/abs/1999AJ....117.1758Y); [<cite data-cite=\"2000AJ....119..188Y\">Young 2000</cite>](http://adsabs.harvard.edu/abs/2000AJ....119..188Y); [<cite data-cite=\"2009ApJ...696..385G\">Grcevich &amp; Putman 2009</cite>](http://adsabs.harvard.edu/abs/2009ApJ...696..385G)); despite sensitive and extensive searches, no HI emission has been detected in most of the known Milky Way and Andromeda satellites. A systematic study of the HI content of dwarf spheroidal satellite galaxies around the Milky Way by [<cite data-cite=\"2014ApJ...795L...5S\">Spekkens et al. (2014)</cite>](http://adsabs.harvard.edu/abs/2014ApJ...795L...5S) revealed that there is a sharp transition between gas-rich and gas-poor galaxies, with satellites located within the Milky Way’s virial radius of <var>R</var><sub>vir</sub>&nbsp;≈&nbsp;300&nbsp;kpc having HI mass-to-light ratios (<var>M</var><sub>HI</sub>&#8239;/&#8239;<var>L</var><sub>V</sub>) and HI-to-dynamical mass ratios (<var>M</var><sub>HI</sub>&#8239;/&#8239;<var>M</var><sub>dyn</sub>) that are at least a factor of 100 to 1000 lower than in galaxies located outside the virial radius of the Milky Way. This significant HI deficiency has been attributed to a number of different physical processes, including\n",
    "\n",
    "* <strong>tidal stripping</strong> of gas by the Milky Way’s or M31’s gravitational potential (e.g. [<cite data-cite=\"2009MNRAS.400.1962K\">Kilborn et al. 2009</cite>](http://adsabs.harvard.edu/abs/2009MNRAS.400.1962K)),\n",
    "* <strong>ram-pressure stripping</strong> of gas by the Milky Way’s or M31’s hot, ionised halo (e.g. [<cite data-cite=\"2007ApJ...671L..33M\">McConnachie et al. 2007</cite>](http://adsabs.harvard.edu/abs/2007ApJ...671L..33M); [<cite data-cite=\"2009ApJ...696..385G\">Grcevich &amp; Putman 2009</cite>](http://adsabs.harvard.edu/abs/2009ApJ...696..385G)),\n",
    "* <strong>photo-ionisation</strong> of gas by a strong ultra-violet radiation background (e.g. [<cite data-cite=\"1992MNRAS.256P..43E\">Efstathiou 1992</cite>](http://adsabs.harvard.edu/abs/1992MNRAS.256P..43E); [<cite data-cite=\"2011MNRAS.415..257N\">Nickerson et al. 2011</cite>](http://adsabs.harvard.edu/abs/2011MNRAS.415..257N)), and\n",
    "* <strong>gas outflows</strong> driven by feedback processes related to star formation in the dwarf galaxies (e.g. [<cite data-cite=\"1999ApJ...513..142M\">Mac Low &amp; Ferrara 1999</cite>](http://adsabs.harvard.edu/abs/1999ApJ...513..142M); [<cite data-cite=\"2000MNRAS.313..291F\">Ferrara &amp; Tolstoy 2000</cite>](http://adsabs.harvard.edu/abs/2000MNRAS.313..291F); [<cite data-cite=\"2007ApJ...659..331Y\">Young et al. 2007</cite>](http://adsabs.harvard.edu/abs/2007ApJ...659..331Y); [<cite data-cite=\"2008MNRAS.386..348S\">Salvadori, Ferrara &amp; Schneider 2008</cite>](http://adsabs.harvard.edu/abs/2008MNRAS.386..348S)).\n",
    "\n",
    "It is likely that a combination of these processes is responsible for the observed HI deficiency of Local Group dwarf galaxies in the vicinity of both the Milky Way ([<cite data-cite=\"2014ApJ...795L...5S\">Spekkens et al. 2014</cite>](http://adsabs.harvard.edu/abs/2014ApJ...795L...5S)) and the Andromeda Galaxy ([<cite data-cite=\"2009ApJ...696..385G\">Grcevich &amp; Putman 2009</cite>](http://adsabs.harvard.edu/abs/2009ApJ...696..385G)). Indeed, evidence of strong tidal and ram-pressure forces is seen in satellites that are currently close to their host galaxy, including the LMC and SMC near the Milky Way ([<cite data-cite=\"1974ApJ...190..291M\">Mathewson 1974</cite>](http://adsabs.harvard.edu/abs/1974ApJ...190..291M)) as well as M32 and NGC&nbsp;205 near the Andromeda Galaxy ([<cite data-cite=\"2002AJ....124..310C\">Choi et al. 2002</cite>](http://adsabs.harvard.edu/abs/2002AJ....124..310C); [<cite data-cite=\"2005A&A...436..101W\">Westmeier, Braun &amp; Thilker 2005</cite>](http://adsabs.harvard.edu/abs/2005A&A...436..101W))."
   ]
  },
  {
   "cell_type": "markdown",
   "metadata": {},
   "source": [
    "<figure>\n",
    "    <img src=\"01_figures/spekkens.png\" with=\"600\" height=\"540\" alt=\"HI content of Local Group galaxies\" />\n",
    "    <figcaption style=\"font-style:italic;\">HI mass over V–band luminosity (top) and HI mass over dynamical mass (bottom) of Milky Way dwarf spheroidal satellites (red; upper limits only) and dwarf galaxies in the local volume (blue and green) as a function of distance from the Milky Way (from [<cite data-cite=\"2014ApJ...795L...5S\">Spekkens et al. 2014</cite>](http://adsabs.harvard.edu/abs/2014ApJ...795L...5S)). Note the abrupt transition from gas-rich to gas-poor (no HI detected) galaxies at approximately the virial radius, <var>R</var><sub>vir</sub>, of the Milky Way.</figcaption>\n",
    "</figure>"
   ]
  },
  {
   "cell_type": "markdown",
   "metadata": {
    "collapsed": true
   },
   "source": [
    "From their numerical simulations of a Milky Way-sized galaxy, [<cite data-cite=\"2011MNRAS.415..257N\">Nickerson et al. (2011)</cite>](http://adsabs.harvard.edu/abs/2011MNRAS.415..257N) conclude that ionisation by UV radiation and ram-pressure stripping are the dominant factors responsible for removing most of the gas from low-mass satellites. Additional gas loss is caused by tidal stripping from satellites of all masses near the pericentre of their orbit. The results of [<cite data-cite=\"2011MNRAS.415..257N\">Nickerson et al. (2011)</cite>](http://adsabs.harvard.edu/abs/2011MNRAS.415..257N) could help to explain the so-called “missing satellites” problem, whereby numerical simulations of structure formation in a ΛCDM universe produce many more dark-matter satellites around galaxies like the Milky Way that there are known satellite galaxies (e.g. [<cite data-cite=\"1999ApJ...522...82K\">Klypin et al. 1999</cite>](http://adsabs.harvard.edu/abs/1999ApJ...522...82K); [<cite data-cite=\"1999ApJ...524L..19M\">Moore et al. 1999</cite>](http://adsabs.harvard.edu/abs/1999ApJ...524L..19M))."
   ]
  },
  {
   "cell_type": "markdown",
   "metadata": {},
   "source": [
    "The idea of gas loss during passages through the halo of either the Milky Way or M31 was also investigated through simulations by [<cite data-cite=\"2012MNRAS.426.1808T\">Teyssier, Johnston &amp; Kuhlen (2012)</cite>](http://adsabs.harvard.edu/abs/2012MNRAS.426.1808T). They conclude that several of the Local Group dwarf galaxies currently located outside the Milky Way’s virial radius are likely to have passed within the virial radius of the Milky Way in the past, including objects such as NGC&nbsp;3109, NGC&nbsp;6822 and Leo&nbsp;T. While still containing HI gas today, most of the potential Milky Way escapees have lower HI fractions and show signatures of past interactions in their stellar and gaseous components, supporting the idea that processing of galaxies occurs as the result of interactions with the major spiral galaxies in the Local Group."
   ]
  },
  {
   "cell_type": "markdown",
   "metadata": {},
   "source": [
    "The gas loss of satellite galaxies in the Local Group has significant consequences for the star formation history and quenching of Milky Way satellites ([<cite data-cite=\"2014ApJ...792..141S\">Slater &amp; Bell 2014</cite>](http://adsabs.harvard.edu/abs/2014ApJ...792..141S); [<cite data-cite=\"2015MNRAS.447..969B\">Bahé &amp; McCarthy 2015</cite>](http://adsabs.harvard.edu/abs/2015MNRAS.447..969B); [<cite data-cite=\"2015ApJ...808L..27W\">Wetzel, Tollerud &amp; Weisz 2015</cite>](http://adsabs.harvard.edu/abs/2015ApJ...808L..27W)). A study of star formation in Local Group galaxies by [<cite data-cite=\"2014ApJ...792..141S\">Slater &amp; Bell (2014)</cite>](http://adsabs.harvard.edu/abs/2014ApJ...792..141S) revealed that almost all of the satellite galaxies with stellar masses of <var>M</var><sub>★</sub>&nbsp;≲&nbsp;10<sup>7</sup>&nbsp;<var>M</var><sub>☉</sub> are quenched, while at higher mass the quenching fraction decreases to about 50%. Their results suggest that star formation quenching is more efficient in low-mass galaxies, e.g. due to ram pressure from the host galaxy’s hot, ionised halo being more effective in removing gas from the satellite’s gravitational potential near the pericenter of the orbit."
   ]
  },
  {
   "cell_type": "markdown",
   "metadata": {},
   "source": [
    "<figure>\n",
    "    <img src=\"01_figures/slater-bell.png\" with=\"700\" height=\"540\" alt=\"Quenching of star formation\" />\n",
    "    <figcaption style=\"font-style:italic;\">Fraction of quenched satellite galaxies (top; solid line) and quenched field galaxies (bottom; dashed line) in the Local Group (black) and in the NASA–Sloan Atlas (NSA) of local galaxies (green) as a function of stellar mass (from [<cite data-cite=\"2014ApJ...792..141S\">Slater &amp; Bell 2014</cite>](http://adsabs.harvard.edu/abs/2014ApJ...792..141S)). Note the high rate of star formation quenching among lower-mass satellite galaxies in the Local Group as compared to their more isolated field counterparts.</figcaption>\n",
    "</figure>"
   ]
  },
  {
   "cell_type": "code",
   "execution_count": null,
   "metadata": {
    "collapsed": true
   },
   "outputs": [],
   "source": []
  }
 ],
 "metadata": {
  "kernelspec": {
   "display_name": "Python 2",
   "language": "python",
   "name": "python2"
  },
  "language_info": {
   "codemirror_mode": {
    "name": "ipython",
    "version": 2
   },
   "file_extension": ".py",
   "mimetype": "text/x-python",
   "name": "python",
   "nbconvert_exporter": "python",
   "pygments_lexer": "ipython2",
   "version": "2.7.6"
  }
 },
 "nbformat": 4,
 "nbformat_minor": 0
}

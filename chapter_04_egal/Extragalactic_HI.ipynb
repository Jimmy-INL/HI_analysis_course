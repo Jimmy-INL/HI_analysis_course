{
 "cells": [
  {
   "cell_type": "code",
   "execution_count": 1,
   "metadata": {
    "collapsed": false
   },
   "outputs": [
    {
     "data": {
      "text/html": [
       "<script>\n",
       "    code_show=false; \n",
       "    function code_toggle() {\n",
       "        if (code_show){\n",
       "            $('div.input').hide();\n",
       "        } else {\n",
       "            $('div.input').show();\n",
       "        }\n",
       "        code_show = !code_show\n",
       "    } \n",
       "    $( document ).ready(code_toggle);\n",
       "</script>\n",
       "\n",
       "The raw code for this notebook is by default hidden for easier reading. To toggle on/off the raw code, click <a href=\"javascript:code_toggle()\">here</a>.\n",
       "\n"
      ],
      "text/plain": [
       "<IPython.core.display.HTML object>"
      ]
     },
     "execution_count": 1,
     "metadata": {},
     "output_type": "execute_result"
    }
   ],
   "source": [
    "from IPython.display import HTML\n",
    "HTML('../style/course.css')\n",
    "HTML('../style/code_toggle.html')"
   ]
  },
  {
   "cell_type": "markdown",
   "metadata": {},
   "source": [
    "## Resolved HI Properties of Galaxies"
   ]
  },
  {
   "cell_type": "markdown",
   "metadata": {},
   "source": [
    "### Overview"
   ]
  },
  {
   "cell_type": "markdown",
   "metadata": {},
   "source": [
    "* [Introduction](#Introduction-Exgal)\n",
    "* [HI Morphologies of Galaxies](#HI-Morphologies)\n",
    "  * [Disk Galaxies](#Disk-Galaxies-Morphology)\n",
    "    * [Basic Morphology](#Disk-Basic-Morphology)\n",
    "    * [Radial Extent](#Disk-Radial-Extent)\n",
    "    * [Warps](#Disk-Warps)\n",
    "    * [Vertical Morphology](#Disk-Vertical)\n",
    "  * [Early-Type Galaxies](#Early-Type-Galaxies)\n",
    "* [HI Kinematics of Galaxies](#HI-Kinematics)\n",
    "    * [Velocities and Dispersions of Disks](#Velocities-and-Dispersions)\n",
    "    * [Measuring Mass from Velocities](#Measuring-Mass)\n",
    "    * [Rotation Curves](#Rotation-Curves)\n",
    "* [Relationship with Star Formation](#Relationship-Star-Formation)\n",
    "  * [HI Clouds and Star Formation](#HI-Clouds-and-Star-Formation)\n",
    "  * [HI and CO Cloud Properties](#HI-and-CO-Clouds)\n",
    "  * [HI Clouds and Dust](#HI-Clouds-and-Dust)\n",
    "* [HI Morphology and Kinematics as a Tracer of Environment](#HI-Morphologies-Kinematics-Environment)\n",
    "  * [Tidal Interactions](#Tidal-Interactions)\n",
    "    * [Tidal Tails](#Tidal-Tail-Formation)\n",
    "    * [Tidal Dwarf Galaxies](#Tidal-Dwarf-Galaxies)\n",
    "    * [Polar Ring Galaxies](#Polar-Ring-Galaxies)\n",
    "  * [Ram Pressure Stripping](#Ram-Pressure-Stripping)\n",
    "    * [Distinguishing Tides and Ram Pressure](#Distinguishing-Tides-Ram-Pressure)\n",
    "* [HI Absorption](#HI-deficiency-in-satellite-galaxies)\n",
    "  * [Associated and Intervening Absorption](#Associated-Intervening-Absorption)\n",
    "  * [Optical Depth](#Optical-Depth)\n",
    "  * [Gas Temperature](#Gas-Temperature)\n",
    "  * [Resolved Absorption Line Maps](#Resolved-Absorption-Line-Maps)"
   ]
  },
  {
   "cell_type": "markdown",
   "metadata": {},
   "source": [
    "### Introduction"
   ]
  },
  {
   "cell_type": "markdown",
   "metadata": {},
   "source": [
    "Chapter 3 discussed the global properties of gas-rich systems; in this chapter, we focus on how HI is distributed (both morphologically and kinematically) within these systems. We begin with an overview of the observed HI morphologies (chapter 4.1) and kinematics (chapter 4.2) of equilibrium disks. We then focus on the relationship between the properties of these resolved disks and star formation therein in chapter 4.3, and how the distortions observed in interacting galaxies are a sensitive tracer of environmental effects. We conclude this chapter with an overview of HI absorption as a tracer of galaxy structure."
   ]
  },
  {
   "cell_type": "markdown",
   "metadata": {},
   "source": [
    "### HI Morphologies of Galaxies"
   ]
  },
  {
   "cell_type": "markdown",
   "metadata": {},
   "source": [
    "#### Disk Galaxies"
   ]
  },
  {
   "cell_type": "markdown",
   "metadata": {},
   "source": [
    "##### Basic Morphology"
   ]
  },
  {
   "cell_type": "markdown",
   "metadata": {},
   "source": [
    "The dissipative nature of gas and the conservation of angular momentum imposed by gravity imply that gas in undisturbed galaxies is typically distributed in a thin disk whose radial extent well exceeds its vertical one. Examples of the HI surface density distribution in a face-on HI disk is shown in Fig. 4.1 and from an edge-on disk is shown in Fig. 4.2; they illustrate the basic properties of HI disks for Milky Way-like systems. By virtue of the optically thin nature of HI in most parts of a galaxy (ref here), HI maps of galaxies are typically given in units of column density, $N_{HI}$: atoms $cm^{-2}$, or $Mo pc^{-2}$; they are obtained by integrating the HI emission measured along each line-of-sight in the map (see Chapter 9.XXX), and as such are sometimes called *Moment 0* or *total intensity* maps. "
   ]
  },
  {
   "cell_type": "markdown",
   "metadata": {},
   "source": [
    "##### Radial Extent"
   ]
  },
  {
   "cell_type": "markdown",
   "metadata": {},
   "source": [
    "The maps of Fig. 4.1 illustrate that the HI distributions in disk galaxies typically have central depressions (where the bulk of the disk gas is in the molecular phase; see Hallenbeck et al. 2014 for an extreme example), and extend to larger radii than optical disks. The outer HI surface densities ($N_{HI} = 2 M_o pc^{-2}$) of galaxies follow exponential distributions whose radial scale lengths are 50&#37; larger than those of the optical disk (Bigiel &amp; Blitz 2012; Wang et al. 2014; more here). For example, the and exponential fit to the ensemble of outer HI disk profiles in the sample of Bigiel &amp; Blitz (2012) has a radial scale length of $r_{D,HI} = 0.61r_{25}$, where $r_{25}$ is the radius of the optical disk measured at a (*B*-band) isophotal level of 25 magnitudes per square arcsec."
   ]
  },
  {
   "cell_type": "markdown",
   "metadata": {},
   "source": [
    "As was first noticed in the late 90s (Broeils &amp; Rhee 1997), there is a tight correlation between the radial extent of HI disks of galaxies and their total HI masses. The relation was confirmed in several studies and recently revisited with a large dataset of Wang et al. (2016; see also Wang et al. 2014, and others here). The relationship between the HI diameter $D_{HI}$ and mass $M_{HI}$ obtained by Wang et al. (2016) is shown in Fig. 4.2, and the best-fitting linear relationship describing the trend is given by: $$log(D_{HI}) = (0.506 \\pm 0.003) log(M_{HI}) - (3.293 \\pm 0.009),$$ where $D_{HI}$ is measured in kpc at $N_{HI}=1 M_{o}\\,\\rm{pc}^{-2}$, and $M_{HI}$ is in solar masses. This relation shows remarkably little scatter over several orders of magnitude ($10^7 - 10^{11} M_o$) in HI mass. "
   ]
  },
  {
   "cell_type": "markdown",
   "metadata": {},
   "source": [
    "##### Warps"
   ]
  },
  {
   "cell_type": "markdown",
   "metadata": {},
   "source": [
    "A significant fraction of galaxies have warped outer HI disks, where the disk inclination and position angle vary systematically from that in the inner disk; Garcia-Ruiz et al. (2002) estimate the incidence of warps to be at least 75&#37; in their search for warps in 26 edge-on systems, while models of position-velocity diagrams of Galactic HI emission suggest that the Milky Way itself is warped (Weinberg & Blitz 2006). An extreme example of a galaxy warp is shown in Fig. 4.3. Warps typically begin at $r_{25}$ of the stellar disk exhibit a straight line of nodes between $r_{25}$ and $r_{26.5}$, beyond which the line of nodes precesses in a loosely wound leading spiral pattern (Briggs 1990; Jozsa 2007). Warps are generally thought to originate from an interaction between the disk and the surrounding halo and intergalactic medium (see Sellwood 2013 for a recent review). "
   ]
  },
  {
   "cell_type": "markdown",
   "metadata": {},
   "source": [
    "##### Vertical Morphology"
   ]
  },
  {
   "cell_type": "markdown",
   "metadata": {},
   "source": [
    "High-resolution observations of edge-on galaxies (e.g. Sancisi & Allen 1971; van der Kruit 1981; Rupen 1991; Irwin &amp; Seaquist 1991; Olling 1996a; O’Brien et al. 2010a; Peters et al. 2013a) afford estimates of the vertical distribution of HI emission in disks. For $N_{HI} > 1 M_o pc^{-2}$, this distribution can be modelled as a Gaussian, with typical full-width half-maximum values of $500-700$ pc (e.g. Peters et al. 2013a). Since the HI disk thickness is a measure of the gravitational potential, low-mass galaxies have thicker HI disks (e.g. Brinks et al. 2002; Banerjee et al. 2011). The vertical extents of HI disks are observed to be constant across the star-forming disks of edge-on galaxies and increase farther out where the disk self-gravity decreases (e.g. Olling 1996a). This flaring of HI disks can be exploited to constrain the shape of dark matter halos (e.g. Olling 1996b; Banerjee et al. 2008; O’Brien et al. 2010b; Allaert et al. 2015; Peters et al. 2016)."
   ]
  },
  {
   "cell_type": "markdown",
   "metadata": {},
   "source": [
    "Sensitive observations reveal reservoirs of low-column density (below $N_{HI} = 1 M_o pc^{-2}$) gas at high galactic latitudes, that can extend several kpc above and below the HI disk (e.g. Oosterloo et al. 2007). The rotation velocity of the high-latitude gas lags behind that in the disk plane, with the rotation velocity decreasing as the distance from the plane increases (Benjamin 2012). It is possible the material is raining down on the disk as a result of a galactic fountain mechanism, or that it is being accreted from the intergalactic medium. Detailed models of the morphology and kinematics of high-latitude gas suggest that both mechanisms may be at play (e.g. Fraternali &amp; Binney 2008, Rand &amp; Benjamin 2012; Armillotta et al. 2016). "
   ]
  },
  {
   "cell_type": "markdown",
   "metadata": {},
   "source": [
    "#### Early-Type Galaxies"
   ]
  },
  {
   "cell_type": "markdown",
   "metadata": {},
   "source": [
    "While the majority of HI-rich galaxies have disks, recent observations of early-type galaxies (ETGs) suggest that a significant fraction contain HI gas as well: about 40&#37; of ETGs outside the Virgo cluster contain HI gas in the volume-limited Altas3D sample (Serra et al. 2012), while the same is true for about 10&#37; of ETGs in Virgo. A variety of HI morphologies are observed, from equilibrium disks to scattered clouds; examples of these extremes are shown in Fig. 4.3."
   ]
  },
  {
   "cell_type": "markdown",
   "metadata": {},
   "source": [
    "### HI Kinematics of Galaxies"
   ]
  },
  {
   "cell_type": "markdown",
   "metadata": {},
   "source": [
    "*Kristine to fill in this section.*"
   ]
  },
  {
   "cell_type": "markdown",
   "metadata": {},
   "source": [
    "### Atomic Gas and Star Formation"
   ]
  },
  {
   "cell_type": "markdown",
   "metadata": {},
   "source": [
    "*Michelle to fill in this section.*"
   ]
  },
  {
   "cell_type": "markdown",
   "metadata": {},
   "source": [
    "### HI Morphology and Kinematics as a Tracer of Environment"
   ]
  },
  {
   "cell_type": "markdown",
   "metadata": {},
   "source": [
    "*Michelle to fill in this section.*"
   ]
  },
  {
   "cell_type": "markdown",
   "metadata": {},
   "source": [
    "### HI Absorption"
   ]
  },
  {
   "cell_type": "markdown",
   "metadata": {},
   "source": [
    "*Neeraj to fill in this section.*"
   ]
  },
  {
   "cell_type": "code",
   "execution_count": null,
   "metadata": {
    "collapsed": true
   },
   "outputs": [],
   "source": []
  }
 ],
 "metadata": {
  "kernelspec": {
   "display_name": "Python 2",
   "language": "python",
   "name": "python2"
  },
  "language_info": {
   "codemirror_mode": {
    "name": "ipython",
    "version": 2
   },
   "file_extension": ".py",
   "mimetype": "text/x-python",
   "name": "python",
   "nbconvert_exporter": "python",
   "pygments_lexer": "ipython2",
   "version": "2.7.6"
  }
 },
 "nbformat": 4,
 "nbformat_minor": 0
}

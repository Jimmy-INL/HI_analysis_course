{
 "cells": [
  {
   "cell_type": "code",
   "execution_count": 1,
   "metadata": {
    "collapsed": false
   },
   "outputs": [
    {
     "data": {
      "text/html": [
       "<script>\n",
       "    code_show=false; \n",
       "    function code_toggle() {\n",
       "        if (code_show){\n",
       "            $('div.input').hide();\n",
       "        } else {\n",
       "            $('div.input').show();\n",
       "        }\n",
       "        code_show = !code_show\n",
       "    } \n",
       "    $( document ).ready(code_toggle);\n",
       "</script>\n",
       "\n",
       "The raw code for this notebook is by default hidden for easier reading. To toggle on/off the raw code, click <a href=\"javascript:code_toggle()\">here</a>.\n",
       "\n"
      ],
      "text/plain": [
       "<IPython.core.display.HTML object>"
      ]
     },
     "execution_count": 1,
     "metadata": {},
     "output_type": "execute_result"
    }
   ],
   "source": [
    "from IPython.display import HTML\n",
    "HTML('../style/course.css')\n",
    "HTML('../style/code_toggle.html')"
   ]
  },
  {
   "cell_type": "markdown",
   "metadata": {},
   "source": [
    "## Resolved HI Properties of Galaxies"
   ]
  },
  {
   "cell_type": "markdown",
   "metadata": {},
   "source": [
    "### Overview"
   ]
  },
  {
   "cell_type": "markdown",
   "metadata": {},
   "source": [
    "* [Introduction](#Introduction-Exgal)\n",
    "* [HI Morphologies of Galaxies](#HI-Morphologies)\n",
    "  * [Disk Galaxies](#Disk-Galaxies-Morphology)\n",
    "    * [Basic Morphology](#Disk-Basic-Morphology)\n",
    "    * [Radial Extent](#Disk-Radial-Extent)\n",
    "    * [Warps](#Disk-Warps)\n",
    "    * [Vertical Morphology](#Disk-Vertical)\n",
    "  * [Early-Type Galaxies](#Early-Type-Galaxies)\n",
    "* [HI Kinematics of Galaxies](#HI-Kinematics)\n",
    "    * [Velocities and Dispersions of Disks](#Velocities-and-Dispersions)\n",
    "    * [Measuring Mass from Velocities](#Measuring-Mass)\n",
    "    * [Rotation Curves](#Rotation-Curves)\n",
    "* [Relationship with Star Formation](#Relationship-Star-Formation)\n",
    "  * [HI Clouds and Star Formation](#HI-Clouds-and-Star-Formation)\n",
    "  * [HI and CO Cloud Properties](#HI-and-CO-Clouds)\n",
    "  * [HI Clouds and Dust](#HI-Clouds-and-Dust)\n",
    "* [HI Morphology and Kinematics as a Tracer of Environment](#HI-Morphologies-Kinematics-Environment)\n",
    "  * [Tidal Interactions](#Tidal-Interactions)\n",
    "    * [Tidal Tails](#Tidal-Tail-Formation)\n",
    "    * [Tidal Dwarf Galaxies](#Tidal-Dwarf-Galaxies)\n",
    "    * [Polar Ring Galaxies](#Polar-Ring-Galaxies)\n",
    "  * [Ram Pressure Stripping](#Ram-Pressure-Stripping)\n",
    "    * [Distinguishing Tides and Ram Pressure](#Distinguishing-Tides-Ram-Pressure)\n",
    "* [HI Absorption](#HI-deficiency-in-satellite-galaxies)\n",
    "  * [Associated and Intervening Absorption](#Associated-Intervening-Absorption)\n",
    "  * [Optical Depth](#Optical-Depth)\n",
    "  * [Gas Temperature](#Gas-Temperature)\n",
    "  * [Resolved Absorption Line Maps](#Resolved-Absorption-Line-Maps)"
   ]
  },
  {
   "cell_type": "markdown",
   "metadata": {},
   "source": [
    "### Introduction"
   ]
  },
  {
   "cell_type": "markdown",
   "metadata": {},
   "source": [
    "[The previous Chapter](https://github.com/gigjozsa/HI_analysis_course/tree/master/chapter_03_gal) discussed the global properties of gas-rich systems; in this chapter, we focus on how HI is distributed (both morphologically and kinematically) within these systems. We begin with an overview of the observed HI morphologies and kinematics galaxies, focussing on equilibrium disks. We then discuss the relationship between the properties of these resolved disks and star formation therein, and how the distortions observed in interacting galaxies are a sensitive tracer of environmental effects. We conclude this chapter with an overview of HI absorption as a tracer of galaxy structure."
   ]
  },
  {
   "cell_type": "markdown",
   "metadata": {},
   "source": [
    "### HI Morphologies of Galaxies"
   ]
  },
  {
   "cell_type": "markdown",
   "metadata": {},
   "source": [
    "#### Disk Galaxies"
   ]
  },
  {
   "cell_type": "markdown",
   "metadata": {},
   "source": [
    "##### Basic Morphology"
   ]
  },
 {
   "cell_type": "markdown",
   "metadata": {},
   "source": [
    "<img src=\"01_figures/HI_intens_Boomsma08.png\" width=\"80%\"/>\n",
    "**Figure 4.1:** *Optical (left) and HI (right) distributions in the face-on galaxy NGC 6946. Credit: [<cite data-cite='2008A%26A...490..555B'>Boomsma et al. (2008)</cite> &#10548;](http://adsabs.harvard.edu/abs/2008A%26A...490..555B)Boomsma et al. 2008.*\n",
    "\n"
   ]
  },
  {
   "cell_type": "markdown",
   "metadata": {},
   "source": [
    "The dissipative nature of gas and the conservation of angular momentum imposed by gravity imply that gas in undisturbed galaxies is typically distributed in a thin disk whose radial extent well exceeds its vertical one. Examples of the HI surface density distribution in a face-on HI disk is shown in Fig. 4.1 and from an edge-on disk is shown in Fig. 4.2; they illustrate the basic properties of HI disks for Milky Way-like systems. By virtue of the optically thin nature of HI in most parts of a galaxy, HI maps of galaxies are typically given in units of column density, $N_{\\rm{HI}}$: $\\rm{atoms}\\,\\rm{cm}^{-2}$, or $M_{\\odot}\\,\\rm{pc}^{-2}$; they are obtained by integrating the HI emission measured along each line of sight in the map (see [Chapter 9](https://github.com/gigjozsa/HI_analysis_course/tree/master/chapter_09_maps)), and as such are sometimes called *moment 0* or *total intensity* maps. "
   ]
  },
 {
   "cell_type": "markdown",
   "metadata": {},
   "source": [
    "<img src=\"01_figures/N891_Swaters97.png\" width=\"40%\"/>\n",
    "**Figure 4.2:** *The HI distribution in the edge-on galaxy NGC 891. The optical image of the galaxy is shown in greyscale, and HI surface density contours are overplotted. Credit: [<cite data-cite='1997ApJ...491..140S'>Swaters et al. (1997)</cite> &#10548;](http://adsabs.harvard.edu/abs/1997ApJ...491..140S) Swaters et al. (1997).*\n",
    "\n"
   ]
  },
  {
   "cell_type": "markdown",
   "metadata": {},
   "source": [
    "##### Radial Extent"
   ]
  },
  {
   "cell_type": "markdown",
   "metadata": {},
   "source": [
    "The maps of Fig. 4.1 illustrate that the HI distributions in disk galaxies typically have central depressions (where the bulk of the disk gas is in the molecular phase; see Hallenbeck et al. 2014 for an extreme example), and extend to larger radii than optical disks. The outer HI surface densities ($N_{\\rm{HI}}\\, \\lesssim \\, 2 \\, M_{\\odot} \\, \\rm{pc}^{-2}$) of galaxies follow exponential distributions whose radial scale lengths are 50&#37; larger than those of the optical disk (e.g. [<cite data-cite='1997A%26A...324..877B'>Broeils &amp; Rhee 1997</cite> &#10548;](http://adsabs.harvard.edu/abs/1997A%26A...324..877B)Broeils &amp; Rhee 1997; [<cite data-cite='2012ApJ...756..183B'>Bigiel &amp; Blitz 2012</cite> &#10548;](http://adsabs.harvard.edu/abs/2012ApJ...756..183B)Bigiel &amp; Blitz 2012). For example, the exponential fit to the ensemble of outer HI disk profiles in the sample of [<cite data-cite='2012ApJ...756..183B'>Bigiel &amp; Blitz 2012</cite> &#10548;](http://adsabs.harvard.edu/abs/2012ApJ...756..183B)Bigiel &amp; Blitz (2012) has a radial scale length of $r_{\\rm{D,HI}} = 0.61r_{25}$, where $r_{25}$ is the radius of the optical disk measured at a (*B*-band) isophotal level of 25 magnitudes per square arcsec."
   ]
  },
  {
   "cell_type": "markdown",
   "metadata": {},
   "source": [
    "As was first noticed in the late 90s ([<cite data-cite='1997A%26A...324..877B'>Broeils &amp; Rhee 1997</cite> &#10548;](http://adsabs.harvard.edu/abs/1997A%26A...324..877B) Broeils &amp; Rhee 1997), there is a tight correlation between the radial extent of HI disks of galaxies and their total HI masses. The relation has been recently revisited with a large dataset by [<cite data-cite='2016MNRAS.460.2143W'>Wang et al. 2016</cite> &#10548;](http://adsabs.harvard.edu/abs/2016MNRAS.460.2143W) Wang et al. (2016; see also [<cite data-cite='2014MNRAS.441.2159W'>Wang et al. 2014</cite> &#10548;](http://adsabs.harvard.edu/abs/2014MNRAS.441.2159W) Wang et al. 2014 and references therein). The correlation between the HI diameter $D_{\\rm{HI}}$ and mass $M_{\\rm{HI}}$ obtained by  [<cite data-cite='2016MNRAS.460.2143W'>Wang et al. 2016</cite> &#10548;](http://adsabs.harvard.edu/abs/2016MNRAS.460.2143W) Wang et al. (2016) is shown in Fig. 4.2, and the best-fitting linear relationship describing the trend is given by: $$\\log(D_{\\rm{HI}}) = (0.506 \\pm 0.003) \\log(M_{\\rm{HI}}) - (3.293 \\pm 0.009),$$ where $D_{\\rm{HI}}$ is measured in kpc at $N_{\\rm{HI}}=1 M_{\\odot}\\,\\rm{pc}^{-2}$, and $M_{\\rm{HI}}$ is in solar masses. This relation shows remarkably little scatter over several orders of magnitude ($10^7 - 10^{11}\\,M_{\\odot}$) in HI mass. "
   ]
  },
 {
   "cell_type": "markdown",
   "metadata": {},
   "source": [
    "<img src=\"01_figures/DHI-MHI_Wang16.png\" width=\"60%\"/>\n",
    "**Figure 4.3:** *Relationship between the diameters and masses of HI disks. Credit: [<cite data-cite='2016MNRAS.460.2143W'>Wang et al. 2016</cite> &#10548;](http://adsabs.harvard.edu/abs/2016MNRAS.460.2143W) Wang et al. (2016).*\n",
    "\n"
   ]
  },
  {
   "cell_type": "markdown",
   "metadata": {},
   "source": [
    "##### Warps"
   ]
  },
  {
   "cell_type": "markdown",
   "metadata": {},
   "source": [
    "A significant fraction of galaxies have warped outer HI disks, where the disk inclination and position angle vary systematically from that in the inner disk; [<cite data-cite='2002A%26A...394..769G'>Garcia-Ruiz et al. 2002</cite> &#10548;](http://adsabs.harvard.edu/abs/2002A%26A...394..769G) Garcia-Ruiz et al. (2002) estimate the incidence of warps to be at least 75&#37; in their search for warps in 26 edge-on systems, while models of position-velocity diagrams of Galactic HI emission suggest that the Milky Way itself is warped ([<cite data-cite='2006ApJ...641L..33W'>Weinberg &amp; Blitz 2006</cite> &#10548;](http://adsabs.harvard.edu/abs/2006ApJ...641L..33W)Weinberg &amp; Blitz 2006). An extreme example of a galaxy warp is shown in Fig. 4.3. Warps typically begin at $r_{25}$ of the stellar disk and exhibit a straight line of nodes $r_{25} \\leq r \\leq r_{26.5}$, beyond which the line of nodes precesses in a loosely wound leading spiral pattern ([<cite data-cite='1990ApJ...352...15B'>Briggs 1990</cite> &#10548;](http://adsabs.harvard.edu/abs/1990ApJ...352...15B) Briggs 1990; [<cite data-cite='2007A%26A...468..903J'>Jozsa 2007</cite> &#10548;](http://adsabs.harvard.edu/abs/2007A%26A...468..903J) Jozsa 2007). Warps are generally thought to originate from an interaction between the disk and the surrounding halo and intergalactic medium (see [<cite data-cite='2013pss5.book..923S'>Sellwood 2013</cite> &#10548;](http://adsabs.harvard.edu/abs/2013pss5.book..923S)Sellwood 2013 for a recent review). "
   ]
  },
 {
   "cell_type": "markdown",
   "metadata": {},
   "source": [
    "<img src=\"01_figures/Warp_Spekkens06.png\" width=\"65%\"/>\n",
    "**Figure 4.4:** *Example of a warped edge-on galaxy. Credit: [<cite data-cite='2006AJ....132.1426S'>Spekkens &amp; Giovanelli 2006</cite> &#10548;](http://adsabs.harvard.edu/abs/2006AJ....132.1426S) Spekkens &amp; Giovanelli (2006).*\n",
    "\n"
   ]
  },
  {
   "cell_type": "markdown",
   "metadata": {},
   "source": [
    "##### Vertical Morphology"
   ]
  },
  {
   "cell_type": "markdown",
   "metadata": {},
   "source": [
    "High-resolution observations of edge-on galaxies (e.g. [<cite data-cite='1991ApJ...371..111I'>Irwin &amp; Seaquist 1991</cite> &#10548;](http://adsabs.harvard.edu/abs/1991ApJ...371..111I) Irwin &amp; Seaquist 1991; [<cite data-cite='1996AJ....112..457O'>Olling 1996a</cite> &#10548;](http://adsabs.harvard.edu/abs/1996AJ....112..457O) Olling 1996a; [<cite data-cite='2013arXiv1303.2463P'>Peters et al. 2013</cite> &#10548;](http://adsabs.harvard.edu/abs/2013arXiv1303.2463P) Peters et al. 2013) afford estimates of the vertical distribution of HI emission in disks. For $N_{\\rm{HI}} \\gtrsim 1\\,M_{\\odot}\\, \\rm{pc}^{-2}$, this distribution can be modelled as a Gaussian, with typical full-width half-maximum values of $500-700\\,$pc (e.g. [<cite data-cite='2013arXiv1303.2463P'>Peters et al. 2013</cite> &#10548;](http://adsabs.harvard.edu/abs/2013arXiv1303.2463P) Peters et al. 2013). Since the HI disk thickness is a measure of the gravitational potential, low-mass galaxies have thicker HI disks (e.g. [<cite data-cite='2011MNRAS.415..687B'>Banerjee et al. 2011</cite> &#10548;](http://adsabs.harvard.edu/abs/2011MNRAS.415..687B) Banerjee et al. 2011). The vertical extents of HI disks are observed to be constant across the star-forming disks of edge-on galaxies and increase farther out where the disk self-gravity decreases (e.g. [<cite data-cite='1996AJ....112..457O'>Olling 1996a</cite> &#10548;](http://adsabs.harvard.edu/abs/1996AJ....112..457O) Olling 1996a). This flaring of HI disks can be exploited to constrain the shape of dark matter halos (e.g. [<cite data-cite='1996AJ....112..481O'>Olling 1996b</cite> &#10548;](http://adsabs.harvard.edu/abs/1996AJ....112..481O) Olling 1996b; [<cite data-cite='2015A%26A...582A..18A'>Allaert et al. 2015</cite> &#10548;](http://adsabs.harvard.edu/abs/2015A%26A...582A..18A) Allaert et al. 2015; [<cite data-cite='2016arXiv160805563P'>Peters et al. 2016</cite> &#10548;](http://adsabs.harvard.edu/abs/2016arXiv160805563P) Peters et al. 2016)."
   ]
  },
  {
   "cell_type": "markdown",
   "metadata": {},
   "source": [
    "Sensitive observations reveal reservoirs of low-column density (below $N_{\\rm{HI}} = 1 \\,M_{\\odot}\\, \\rm{pc}^{-2}$) gas at high galactic latitudes, that can extend several kpc above and below the HI disk (e.g. [<cite data-cite='2007AJ....134.1019O'>Oosterloo et al. 2007</cite> &#10548;](http://adsabs.harvard.edu/abs/2007AJ....134.1019O) Oosterloo et al. 2007). The rotation velocity of the high-latitude gas lags behind that in the disk plane, with the rotation velocity decreasing as the distance from the plane increases ([<cite data-cite='2012EAS....56..299B'>Benjamin 2012</cite> &#10548;](http://adsabs.harvard.edu/abs/2012EAS....56..299B) Benjamin 2012). It is possible the material is raining down on the disk as a result of a galactic fountain mechanism, or that it is being accreted from the intergalactic medium. Detailed models of the morphology and kinematics of high-latitude gas suggest that both mechanisms may be at play (e.g. [<cite data-cite='2008MNRAS.386..935F'>Fraternali &amp; Binney 2008</cite> &#10548;](http://adsabs.harvard.edu/abs/2008MNRAS.386..935F) Fraternali &amp; Binney 2008; [<cite data-cite='2012EAS....56..247R'>Rand &amp; Benjamin 2012</cite> &#10548;](http://adsabs.harvard.edu/abs/2012EAS....56..247R) Rand &amp; Benjamin 2012; [<cite data-cite='2016MNRAS.462.4157A'>Armillotta et al. 2016</cite> &#10548;](http://adsabs.harvard.edu/abs/2016MNRAS.462.4157A) Armillotta et al. 2016). "
   ]
  },
  {
   "cell_type": "markdown",
   "metadata": {},
   "source": [
    "#### Early-Type Galaxies"
   ]
  },
  {
   "cell_type": "markdown",
   "metadata": {},
   "source": [
    "While the majority of HI-rich galaxies have disks, recent observations of early-type galaxies (ETGs) suggest that a significant fraction contain HI gas as well: about 40&#37; of ETGs outside the Virgo cluster contain HI gas in the volume-limited Altas3D sample ([<cite data-cite='2012MNRAS.422.1835'>Serra et al. 2012</cite> &#10548;](http://adsabs.harvard.edu/abs/2012MNRAS.422.1835S) Serra et al. 2012), while the same is true for about 10&#37; of ETGs in Virgo. A variety of HI morphologies are observed, from equilibrium disks to scattered clouds; examples of these extremes are shown in Fig. 4.3."
   ]
  },
 {
   "cell_type": "markdown",
   "metadata": {},
   "source": [
    "<img src=\"01_figures/ETG_HI_Serra12.png\" width=\"95%\"/>\n",
    "**Figure 4.5:** *HI distributions in a selection of ETGs from the Atlas3D survey, illustrating the variety of morphologies ranging from ordered disks (left) to scattered clouds (right). The column density of the lowest contour is given in the bottom-right corner, while the beam is in the bottom-left panel. Credit: [<cite data-cite='2012MNRAS.422.1835'>Serra et al. 2012</cite> &#10548;](http://adsabs.harvard.edu/abs/2012MNRAS.422.1835S)Serra et al. (2012).*\n",
    "\n"
   ]
  },
  {
   "cell_type": "markdown",
   "metadata": {},
   "source": [
    "### HI Kinematics of Galaxies"
   ]
  },
  {
   "cell_type": "markdown",
   "metadata": {},
   "source": [
    "#### Velocity Fields"
   ]
  },
  {
   "cell_type": "markdown",
   "metadata": {},
   "source": [
    "The same observations that produce the total intensity maps in Fig. 4.1 can also be analysed to measure the line-of-sight velocity of the HI spectral line at each spatial pixel. The result (for a relatively isolated disk galaxy at intermediate inclination) is illustrated in Fig. 4.6, and is typically called a *velocity field* or *Moment 1 map*, after the primary technique adopted to compute it (see Chapter 9). Standard practice in plotting velocity fields is to select a colourbar that spans the rainbow of colours from blue to red, with blue points indicating gas that is at lower recessional velocity than the mean (ie. it is blueshifted), and red points indicating gas that is at higher recessional velocity than the mean (ie. it is redshifted). The units of galaxy velocity fields are almost always given in units of kilometres per second."
   ]
  },
 {
   "cell_type": "markdown",
   "metadata": {},
   "source": [
    "<img src=\"01_figures/ETG_HI_Serra12.png\" width=\"95%\"/>\n",
    "**Figure 4.6:** *The measured velocity field for M33. Credit: NRAO/AUI and R. Thilker.*\n",
    "\n"
   ]
  },
  {
   "cell_type": "markdown",
   "metadata": {},
   "source": [
    "### Atomic Gas and Star Formation"
   ]
  },
  {
   "cell_type": "markdown",
   "metadata": {},
   "source": [
    "*Michelle to fill in this section.*"
   ]
  },
  {
   "cell_type": "markdown",
   "metadata": {},
   "source": [
    "### HI Morphology and Kinematics as a Tracer of Environment"
   ]
  },
  {
   "cell_type": "markdown",
   "metadata": {},
   "source": [
    "*Michelle to fill in this section.*"
   ]
  },
  {
   "cell_type": "markdown",
   "metadata": {},
   "source": [
    "### HI Absorption"
   ]
  },
  {
   "cell_type": "markdown",
   "metadata": {},
   "source": [
    "*Neeraj to fill in this section.*"
   ]
  },
  {
   "cell_type": "code",
   "execution_count": null,
   "metadata": {
    "collapsed": true
   },
   "outputs": [],
   "source": []
  }
 ],
 "metadata": {
  "kernelspec": {
   "display_name": "Python 2",
   "language": "python",
   "name": "python2"
  },
  "language_info": {
   "codemirror_mode": {
    "name": "ipython",
    "version": 2
   },
   "file_extension": ".py",
   "mimetype": "text/x-python",
   "name": "python",
   "nbconvert_exporter": "python",
   "pygments_lexer": "ipython2",
   "version": "2.7.6"
  }
 },
 "nbformat": 4,
 "nbformat_minor": 0
}

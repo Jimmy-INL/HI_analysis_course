{
 "cells": [
  {
   "cell_type": "code",
   "execution_count": null,
   "metadata": {
    "collapsed": false
   },
   "outputs": [],
   "source": [
    "from IPython.display import HTML\n",
    "HTML('../style/course.css')\n",
    "HTML('../style/code_toggle.html')"
   ]
  },
  {
   "cell_type": "markdown",
   "metadata": {},
   "source": [
    "## Resolved HI Properties of Galaxies"
   ]
  },
  {
   "cell_type": "markdown",
   "metadata": {},
   "source": [
    "### Overview"
   ]
  },
  {
   "cell_type": "markdown",
   "metadata": {},
   "source": [
    "* [Introduction](#Introduction)\n",
    "* [HI Morphologies of Galaxies](#HI-Morphologies-of-Galaxies)\n",
    "  * [Disk Galaxies](#Disk-Galaxies)\n",
    "    * [Basic Morphology](#Basic-Morphology)\n",
    "    * [Radial Extent](#Radial-Extent)\n",
    "    * [Warps](#Warps)\n",
    "    * [Vertical Morphology](#Vertical-Morphology)\n",
    "  * [Early-Type Galaxies](#Early-Type-Galaxies)\n",
    "* [HI Kinematics of Galaxies](#HI-Kinematics-of-Galaxies)\n",
    "    * [Velocity Fields](#Velocity-Fields)\n",
    "    * [Circular and Non-Circular Motions](#Circular-and-Non-Circular-Motions)\n",
    "    * [Rotation Curves and Mass Distributions](#Rotation-Curves-and-Mass-Distributions)\n",
    "    * [A 3D View of Galaxy Disks](#A-3D-View-of-Galaxy-Disks)\n",
    "* [Resolved HI properties of galaxies and star formation](#Resolved-HI-properties-of-galaxies-and-star-formation)\n",
    "  * [Correlations between resolved HI cloud properties and star formation tracers](#Correlations-between-resolved-HI-cloud-properties-and-star-formation-tracers)\n",
    "  * [Correlation between HI cloud and CO cloud properties](#Correlation-between-HI-cloud-and-CO-cloud-properties)\n",
    "    * [SINGS, THINGS,  and HERACLES](#Sings--Things--and Heracles)\n",
    "    * [Bringing it all together](#Bringing-it-all-together)\n",
    "  * [Resolved HI properties and galaxy colours/dust](#Resolved-HI-properties-and-galaxy-colours/dust)\n",
    "* [Resolved HI properties as a tracer of environment](#Resolved-HI-properties-as-a-tracer-of-environment)\n",
    "  * [Galaxy Interactions: Tides, Harassment, Mergers](#Galaxy-Interactions:-Tides,-Harassment,-Mergers)\n",
    "  * [Galaxy Interactions: Ram Pressure and Viscous Stripping](#Galaxy-Interactions:-Ram-Pressure-and-Viscous-Stripping)\n",
    "  * [Morphological and kinematical tracers of environmental processes](#Morphological-and-kinematical-tracers-of-environmental-processes)\n",
    "<!-- * [Relationship with Star Formation](#Relationship-Star-Formation)\n",
    "  * [HI Clouds and Star Formation](#HI-Clouds-and-Star-Formation)\n",
    "  * [HI and CO Cloud Properties](#HI-and-CO-Clouds)\n",
    "  * [HI Clouds and Dust](#HI-Clouds-and-Dust)\n",
    "* [HI Morphology and Kinematics as a Tracer of Environment](#HI-Morphologies-Kinematics-Environment)\n",
    "  * [Tidal Interactions](#Tidal-Interactions)\n",
    "    * [Tidal Tails](#Tidal-Tail-Formation)\n",
    "    * [Tidal Dwarf Galaxies](#Tidal-Dwarf-Galaxies)\n",
    "    * [Polar Ring Galaxies](#Polar-Ring-Galaxies)\n",
    "  * [Ram Pressure Stripping](#Ram-Pressure-Stripping)\n",
    "    * [Distinguishing Tides and Ram Pressure](#Distinguishing-Tides-Ram-Pressure) -->\n",
    "    \n",
    "* [HI Absorption](#HI-absorption)\n",
    "  * [Intervening HI Absorption](#Intervening-HI-absorption)\n",
    "<!--  * [Optical Depth](#Optical-Depth)\n",
    "  * [Gas Temperature](#Gas-Temperature)\n",
    "  * [Resolved Absorption Line Maps](#Resolved-Absorption-Line-Maps) -->"
   ]
  },
  {
   "cell_type": "markdown",
   "metadata": {},
   "source": [
    "### Introduction"
   ]
  },
  {
   "cell_type": "markdown",
   "metadata": {},
   "source": [
    "The previous chapter [LINK HERE] discussed the global properties of gas-rich systems; in this chapter, we focus on how HI is distributed (both morphologically and kinematically) within these systems. We begin with an overview of the observed HI morphologies and kinematics galaxies, focussing on equilibrium disks. We then discuss the relationship between the properties of these resolved disks and star formation therein, and how the distortions observed in interacting galaxies are a sensitive tracer of environmental effects. We conclude this chapter with an overview of HI absorption as a tracer of physical conditions in galaxies."
   ]
  },
  {
   "cell_type": "markdown",
   "metadata": {},
   "source": [
    "### HI Morphologies of Galaxies"
   ]
  },
  {
   "cell_type": "markdown",
   "metadata": {},
   "source": [
    "#### Disk Galaxies"
   ]
  },
  {
   "cell_type": "markdown",
   "metadata": {},
   "source": [
    "##### Basic Morphology"
   ]
  },
  {
   "cell_type": "markdown",
   "metadata": {},
   "source": [
    "<img src=\"01_figures/HI_intens_Boomsma08.png\" width=\"80%\"/>\n",
    "*Optical (left) and HI (right) distributions in the face-on galaxy NGC 6946. Credit: [<cite data-cite='2008A%26A...490..555B'>Boomsma et al. (2008)</cite> &#10548;](http://adsabs.harvard.edu/abs/2008A%26A...490..555B)Boomsma et al. 2008.*\n",
    "\n"
   ]
  },
  {
   "cell_type": "markdown",
   "metadata": {},
   "source": [
    "The dissipative nature of gas and the conservation of angular momentum imposed by gravity imply that gas in undisturbed galaxies is typically distributed in a thin disk whose radial extent well exceeds its vertical one. Examples of the HI surface density distribution in a face-on HI disk is shown in the figure above and from an edge-on disk is shown in the figure below; they illustrate the basic properties of HI disks for Milky Way-like systems. By virtue of the optically thin nature of HI in most parts of a galaxy, HI maps of galaxies are typically given in units of column density, $N_{\\rm{HI}}$: $\\rm{atoms}\\,\\rm{cm}^{-2}$, or $M_{\\odot}\\,\\rm{pc}^{-2}$; they are obtained by integrating the HI emission measured along each line of sight in the map (see here [LINK HERE]), and as such are sometimes called *moment 0* or *total intensity* maps. "
   ]
  },
  {
   "cell_type": "markdown",
   "metadata": {},
   "source": [
    "<img src=\"01_figures/N891_Swaters97.png\" width=\"40%\"/>\n",
    "*The HI distribution in the edge-on galaxy NGC 891. The optical image of the galaxy is shown in greyscale, and HI surface density contours are overplotted. Credit: [<cite data-cite='1997ApJ...491..140S'>Swaters et al. (1997)</cite> &#10548;](http://adsabs.harvard.edu/abs/1997ApJ...491..140S) Swaters et al. (1997).*\n",
    "\n"
   ]
  },
  {
   "cell_type": "markdown",
   "metadata": {},
   "source": [
    "##### Radial Extent"
   ]
  },
  {
   "cell_type": "markdown",
   "metadata": {},
   "source": [
    "The maps illustrate that the HI distributions in disk galaxies typically have central depressions (where the bulk of the disk gas is in the molecular phase; see [<cite data-cite='2014AJ....148...69H'>Hallenbeck et al. (2014)</cite> &#10548;](http://adsabs.harvard.edu/abs/2014AJ....148...69H) Hallenbeck et al. (2014) for an extreme example), and extend to larger radii than optical disks. The outer HI surface densities ($N_{\\rm{HI}}\\, \\lesssim \\, 2 \\, M_{\\odot} \\, \\rm{pc}^{-2}$) of galaxies follow exponential distributions whose radial scale lengths are 50&#37; larger than those of the optical disk (e.g. [<cite data-cite='1997A%26A...324..877B'>Broeils &amp; Rhee 1997</cite> &#10548;](http://adsabs.harvard.edu/abs/1997A%26A...324..877B)Broeils &amp; Rhee 1997; [<cite data-cite='2012ApJ...756..183B'>Bigiel &amp; Blitz 2012</cite> &#10548;](http://adsabs.harvard.edu/abs/2012ApJ...756..183B)Bigiel &amp; Blitz 2012). For example, the exponential fit to the ensemble of outer HI disk profiles in the sample of [<cite data-cite='2012ApJ...756..183B'>Bigiel &amp; Blitz 2012</cite> &#10548;](http://adsabs.harvard.edu/abs/2012ApJ...756..183B)Bigiel &amp; Blitz (2012) has a radial scale length of $r_{\\rm{D,HI}} = 0.61r_{25}$, where $r_{25}$ is the radius of the optical disk measured at a (*B*-band) isophotal level of 25 magnitudes per square arcsec."
   ]
  },
  {
   "cell_type": "markdown",
   "metadata": {},
   "source": [
    "As was first noticed in the late 90s ([<cite data-cite='1997A%26A...324..877B'>Broeils &amp; Rhee 1997</cite> &#10548;](http://adsabs.harvard.edu/abs/1997A%26A...324..877B) Broeils &amp; Rhee 1997), there is a tight correlation between the radial extent of HI disks of galaxies and their total HI masses. The relation has been recently revisited with a large dataset by [<cite data-cite='2016MNRAS.460.2143W'>Wang et al. 2016</cite> &#10548;](http://adsabs.harvard.edu/abs/2016MNRAS.460.2143W) Wang et al. (2016; see also [<cite data-cite='2014MNRAS.441.2159W'>Wang et al. 2014</cite> &#10548;](http://adsabs.harvard.edu/abs/2014MNRAS.441.2159W) Wang et al. 2014 and references therein). The correlation between the HI diameter $D_{\\rm{HI}}$ and mass $M_{\\rm{HI}}$ obtained by  [<cite data-cite='2016MNRAS.460.2143W'>Wang et al. 2016</cite> &#10548;](http://adsabs.harvard.edu/abs/2016MNRAS.460.2143W) Wang et al. (2016) is shown in the figure below, and the best-fitting linear relationship describing the trend is given by: \n",
    "\n",
    "$$\\log(D_{\\rm{HI}}) = (0.506 \\pm 0.003) \\log(M_{\\rm{HI}}) - (3.293 \\pm 0.009),$$ \n",
    "\n",
    "where $D_{\\rm{HI}}$ is measured in kpc at $N_{\\rm{HI}}=1 M_{\\odot}\\,\\rm{pc}^{-2}$, and $M_{\\rm{HI}}$ is in solar masses. This relation shows remarkably little scatter over several orders of magnitude ($10^7 - 10^{11}\\,M_{\\odot}$) in HI mass. "
   ]
  },
  {
   "cell_type": "markdown",
   "metadata": {},
   "source": [
    "<img src=\"01_figures/DHI-MHI_Wang16.png\" width=\"60%\"/>\n",
    "*Relationship between the diameters and masses of HI disks. Credit: [<cite data-cite='2016MNRAS.460.2143W'>Wang et al. 2016</cite> &#10548;](http://adsabs.harvard.edu/abs/2016MNRAS.460.2143W) Wang et al. (2016).*\n",
    "\n"
   ]
  },
  {
   "cell_type": "markdown",
   "metadata": {},
   "source": [
    "##### Warps"
   ]
  },
  {
   "cell_type": "markdown",
   "metadata": {},
   "source": [
    "A significant fraction of galaxies have warped outer HI disks, where the disk inclination and position angle vary systematically from that in the inner disk; [<cite data-cite='2002A%26A...394..769G'>Garcia-Ruiz et al. 2002</cite> &#10548;](http://adsabs.harvard.edu/abs/2002A%26A...394..769G) Garcia-Ruiz et al. (2002) estimate the incidence of warps to be at least 75&#37; in their search for warps in 26 edge-on systems, while models of position-velocity diagrams of Galactic HI emission suggest that the Milky Way itself is warped ([<cite data-cite='2006ApJ...641L..33W'>Weinberg &amp; Blitz 2006</cite> &#10548;](http://adsabs.harvard.edu/abs/2006ApJ...641L..33W)Weinberg &amp; Blitz 2006). An extreme example of a galaxy warp is shown below. Warps typically begin at $r_{25}$ of the stellar disk and exhibit a straight line of nodes $r_{25} \\leq r \\leq r_{26.5}$, beyond which the line of nodes precesses in a loosely wound leading spiral pattern ([<cite data-cite='1990ApJ...352...15B'>Briggs 1990</cite> &#10548;](http://adsabs.harvard.edu/abs/1990ApJ...352...15B) Briggs 1990; [<cite data-cite='2007A%26A...468..903J'>Jozsa 2007</cite> &#10548;](http://adsabs.harvard.edu/abs/2007A%26A...468..903J) Jozsa 2007). Warps are generally thought to originate from an interaction between the disk and the surrounding halo and intergalactic medium (see [<cite data-cite='2013pss5.book..923S'>Sellwood 2013</cite> &#10548;](http://adsabs.harvard.edu/abs/2013pss5.book..923S)Sellwood 2013 for a recent review). "
   ]
  },
  {
   "cell_type": "markdown",
   "metadata": {},
   "source": [
    "<img src=\"01_figures/Warp_Spekkens06.png\" width=\"65%\"/>\n",
    "*Example of a warped edge-on galaxy. Credit: [<cite data-cite='2006AJ....132.1426S'>Spekkens &amp; Giovanelli 2006</cite> &#10548;](http://adsabs.harvard.edu/abs/2006AJ....132.1426S) Spekkens &amp; Giovanelli (2006).*\n",
    "\n"
   ]
  },
  {
   "cell_type": "markdown",
   "metadata": {},
   "source": [
    "##### Vertical Morphology"
   ]
  },
  {
   "cell_type": "markdown",
   "metadata": {},
   "source": [
    "High-resolution observations of edge-on galaxies (e.g. [<cite data-cite='1991ApJ...371..111I'>Irwin &amp; Seaquist 1991</cite> &#10548;](http://adsabs.harvard.edu/abs/1991ApJ...371..111I) Irwin &amp; Seaquist 1991; [<cite data-cite='1996AJ....112..457O'>Olling 1996a</cite> &#10548;](http://adsabs.harvard.edu/abs/1996AJ....112..457O) Olling 1996a; [<cite data-cite='2013arXiv1303.2463P'>Peters et al. 2013</cite> &#10548;](http://adsabs.harvard.edu/abs/2013arXiv1303.2463P) Peters et al. 2013) afford estimates of the vertical distribution of HI emission in disks. For $N_{\\rm{HI}} \\gtrsim 1\\,M_{\\odot}\\, \\rm{pc}^{-2}$, this distribution can be modelled as a Gaussian, with typical full-width half-maximum values of $500-700\\,$pc (e.g. [<cite data-cite='2013arXiv1303.2463P'>Peters et al. 2013</cite> &#10548;](http://adsabs.harvard.edu/abs/2013arXiv1303.2463P) Peters et al. 2013). Since the HI disk thickness is a measure of the gravitational potential, low-mass galaxies have thicker HI disks (e.g. [<cite data-cite='2011MNRAS.415..687B'>Banerjee et al. 2011</cite> &#10548;](http://adsabs.harvard.edu/abs/2011MNRAS.415..687B) Banerjee et al. 2011). The vertical extents of HI disks are observed to be constant across the star-forming disks of edge-on galaxies and increase farther out where the disk self-gravity decreases (e.g. [<cite data-cite='1996AJ....112..457O'>Olling 1996a</cite> &#10548;](http://adsabs.harvard.edu/abs/1996AJ....112..457O) Olling 1996a). This flaring of HI disks can be exploited to constrain the shape of dark matter halos (e.g. [<cite data-cite='1996AJ....112..481O'>Olling 1996b</cite> &#10548;](http://adsabs.harvard.edu/abs/1996AJ....112..481O) Olling 1996b; [<cite data-cite='2015A%26A...582A..18A'>Allaert et al. 2015</cite> &#10548;](http://adsabs.harvard.edu/abs/2015A%26A...582A..18A) Allaert et al. 2015; [<cite data-cite='2016arXiv160805563P'>Peters et al. 2016</cite> &#10548;](http://adsabs.harvard.edu/abs/2016arXiv160805563P) Peters et al. 2016)."
   ]
  },
  {
   "cell_type": "markdown",
   "metadata": {},
   "source": [
    "Sensitive observations reveal reservoirs of low-column density (below $N_{\\rm{HI}} = 1 \\,M_{\\odot}\\, \\rm{pc}^{-2}$) gas at high galactic latitudes, that can extend several kpc above and below the HI disk (e.g. [<cite data-cite='2007AJ....134.1019O'>Oosterloo et al. 2007</cite> &#10548;](http://adsabs.harvard.edu/abs/2007AJ....134.1019O) Oosterloo et al. 2007). The rotation velocity of the high-latitude gas lags behind that in the disk plane, with the rotation velocity decreasing as the distance from the plane increases ([<cite data-cite='2012EAS....56..299B'>Benjamin 2012</cite> &#10548;](http://adsabs.harvard.edu/abs/2012EAS....56..299B) Benjamin 2012). It is possible the material is raining down on the disk as a result of a galactic fountain mechanism, or that it is being accreted from the intergalactic medium. Detailed models of the morphology and kinematics of high-latitude gas suggest that both mechanisms may be at play (e.g. [<cite data-cite='2008MNRAS.386..935F'>Fraternali &amp; Binney 2008</cite> &#10548;](http://adsabs.harvard.edu/abs/2008MNRAS.386..935F) Fraternali &amp; Binney 2008; [<cite data-cite='2012EAS....56..247R'>Rand &amp; Benjamin 2012</cite> &#10548;](http://adsabs.harvard.edu/abs/2012EAS....56..247R) Rand &amp; Benjamin 2012; [<cite data-cite='2016MNRAS.462.4157A'>Armillotta et al. 2016</cite> &#10548;](http://adsabs.harvard.edu/abs/2016MNRAS.462.4157A) Armillotta et al. 2016). "
   ]
  },
  {
   "cell_type": "markdown",
   "metadata": {},
   "source": [
    "#### Early-Type Galaxies"
   ]
  },
  {
   "cell_type": "markdown",
   "metadata": {},
   "source": [
    "While the majority of HI-rich galaxies have disks, recent observations of early-type galaxies (ETGs) suggest that a significant fraction contain HI gas as well: about 40&#37; of ETGs outside the Virgo cluster contain HI gas in the volume-limited Altas3D sample ([<cite data-cite='2012MNRAS.422.1835'>Serra et al. 2012</cite> &#10548;](http://adsabs.harvard.edu/abs/2012MNRAS.422.1835S) Serra et al. 2012), while the same is true for about 10&#37; of ETGs in Virgo. A variety of HI morphologies are observed, from equilibrium disks to scattered clouds; examples of these extremes are shown below."
   ]
  },
  {
   "cell_type": "markdown",
   "metadata": {},
   "source": [
    "<img src=\"01_figures/ETG_HI_Serra12.png\" width=\"95%\"/>\n",
    "*HI distributions in a selection of ETGs from the Atlas3D survey, illustrating the variety of morphologies ranging from ordered disks (left) to scattered clouds (right). The column density of the lowest contour is given in the bottom-right corner, while the beam is in the bottom-left panel. Credit: [<cite data-cite='2012MNRAS.422.1835'>Serra et al. 2012</cite> &#10548;](http://adsabs.harvard.edu/abs/2012MNRAS.422.1835S)Serra et al. (2012).*\n",
    "\n"
   ]
  },
  {
   "cell_type": "markdown",
   "metadata": {},
   "source": [
    "### HI Kinematics of Galaxies"
   ]
  },
  {
   "cell_type": "markdown",
   "metadata": {},
   "source": [
    "#### Velocity Fields"
   ]
  },
  {
   "cell_type": "markdown",
   "metadata": {},
   "source": [
    "The same observations that produce the total intensity maps shown above can also be analysed to measure the line-of-sight velocity of the HI spectral line at each spatial pixel. The result (for a relatively isolated disk galaxy at intermediate inclination) is illustrated below, and is typically called a *velocity field* or *Moment 1 map*, after the primary technique adopted to compute it (see here [LINK HERE]). Standard practice in plotting velocity fields is to select a colourbar that spans the rainbow of colours from blue to red, with blue points indicating gas that is at lower recessional velocity than the mean (ie. it is blueshifted), and red points indicating gas that is at higher recessional velocity than the mean (ie. it is redshifted). The units of galaxy velocity fields are almost always given in units of kilometres per second."
   ]
  },
  {
   "cell_type": "markdown",
   "metadata": {},
   "source": [
    "<img src=\"01_figures/M33_vels_Thilker.png\" width=\"60%\"/>\n",
    "*The measured velocity field for M33. Credit: NRAO/AUI and R. Thilker.*\n",
    "\n"
   ]
  },
  {
   "cell_type": "markdown",
   "metadata": {},
   "source": [
    "#### Circular and Non-Circular Motions"
   ]
  },
  {
   "cell_type": "markdown",
   "metadata": {},
   "source": [
    "The line-of-sight velocities for the galaxy above follow a clear pattern: one side of the disk major axis is approaching, the other side is receding, and the gas along the minor axis of the disk is moving at the same velocity as the disk centre. Clearly the dominant motion of the gas in the disk is axisymmetric rotation, and the line-of-sight velocity distribution on the sky is well-represented by:\n",
    "$$V_{los}(x,y) = V_{sys} + V_{rot}(r) \\, \\sin(i) \\, \\cos(\\theta),$$ \n",
    "Where $V_{los}(x,y)$ is the line-of-sight velocity at a spatial location $(x,y)$ in the map, $V_{sys}$ is the systemic velocity of the disk (ie. the line-of-sight velocity of the disk centre), $V_{rot}(r)$ is the orbital velocity of the gas as a function of galactocentric radius $r$, $i$ is the disk inclination, and $\\theta$ is the azimuthal angle at that location in the disk plane relative to the major axis."
   ]
  },
  {
   "cell_type": "markdown",
   "metadata": {},
   "source": [
    "Close examination of this equation and the velocity field above reveals that the signature of rotation is strongest along the major axis (where $\\cos(\\theta) = 1$), whereas $V_{los}(\\theta=90^{\\circ}) = V_{sys}$ along the minor axis. Velocity distortions along the minor axis (ie. indications that $V_{los}(\\theta=90^{\\circ}) \\neq V_{sys}$) are therefore important tracers of non-circular motions in the disk.  Examples of mechanisms in isolated disks that cause non-circular flows in HI include spiral arms (e.g. [<cite data-cite='2016MNRAS.457.2642S'>Schmidt et al. 2016</cite> &#10548;](http://adsabs.harvard.edu/abs/2016MNRAS.457.2642S) Schmidt et al. 2016), bars (e.g. [<cite data-cite='2010MNRAS.404.1733S'>Sellwood &amp; Sanchez 2010</cite> &#10548;](http://adsabs.harvard.edu/abs/2010MNRAS.404.1733S) Sellwood &amp; Sanchez 2010), and warps (e.g. [<cite data-cite='2007A%26A...468..903J'>Jozsa 2007</cite> &#10548;](http://adsabs.harvard.edu/abs/2007A%26A...468..903J) Jozsa 2007). Extreme examples of the impact of the latter two mechanisms on measured velocity fields are shown below: a strongly warped galaxy is on the left ([<cite data-cite='2015MNRAS.452.3139K'>Kamphuis et al. 2015</cite> &#10548;](http://adsabs.harvard.edu/abs/2015MNRAS.452.3139K) Kamphuis et al. 2015), and a strongly barred galaxy is on the right ([<cite data-cite='2016arXiv160800690R'>Randiamampandry et al. 2016</cite> &#10548;](http://adsabs.harvard.edu/abs/2016arXiv160800690R) Randiamampandry et al. 2016). It is possible to constrain the physical properties of both the rotational and non-circular components of galaxy disks through detailed modelling of the velocity field and intensity map, and approaches for applying these models are detailed here [LINK HERE]."
   ]
  },
  {
   "cell_type": "markdown",
   "metadata": {},
   "source": [
    "<img src=\"01_figures/DistortedFields.png\" width=\"80%\"/>\n",
    "*Left: The HI velocity field for the strongly warped galaxy HIPASS J1501-48. Credit: [<cite data-cite='2015MNRAS.452.3139K'>Kamphuis et al. 2015</cite> &#10548;](http://adsabs.harvard.edu/abs/2015MNRAS.452.3139K) Kamphuis et al. (2015). Right: The H$\\alpha$ velocity field of the barred galaxy NGC~2903. Credit: [<cite data-cite='2010MNRAS.404.1733S'>Sellwood &amp; Sanchez 2010</cite> &#10548;](http://adsabs.harvard.edu/abs/2010MNRAS.404.1733S) Sellwood &amp; Sanchez (2010).*\n",
    "\n"
   ]
  },
  {
   "cell_type": "markdown",
   "metadata": {},
   "source": [
    "#### Rotation Curves and Mass Distributions"
   ]
  },
  {
   "cell_type": "markdown",
   "metadata": {},
   "source": [
    "Notwithstanding the extreme examples above, the kinematics of equilibrium galaxy disks are dominated by the orbital speed curve $V_{rot}(r)$. This curve is typically called the *rotation curve* by extragalactic astronomers, and an example is shown below. "
   ]
  },
  {
   "cell_type": "markdown",
   "metadata": {},
   "source": [
    "<img src=\"01_figures/RotationCurveExample.png\" width=\"60%\"/>\n",
    "*Rotation curve and mass model of M31 as derived by [<cite data-cite='2010A&A...511A..89C'>Corbelli et al. (2010)</cite>](http://adsabs.harvard.edu/abs/2010A&A...511A..89C) Corbelli et al. (2010). The rotation curve obtained by modelling the whole disk (top) and by modelling the north-eastern and south-western halves of the disk (bottom) are shown. Credit: [<cite data-cite='2010A&A...511A..89C'>Corbelli et al. (2010)</cite>](http://adsabs.harvard.edu/abs/2010A&A...511A..89C) Corbelli et al. (2010). *\n",
    "\n"
   ]
  },
  {
   "cell_type": "markdown",
   "metadata": {},
   "source": [
    "A major science driver for obtaining HI maps of galaxies is to measure their rotation curves, since they probe the underlying mass distribution $M(r)$ in the disk. Under the assumption of spherical symmetry (appropriate for disk galaxies given the mass contributions of their dark matter halos, although more sophisticated treatments are possible):\n",
    "$$M(r) = \\frac{V_{rot}^2 r}{G}.$$\n"
   ]
  },
  {
   "cell_type": "markdown",
   "metadata": {},
   "source": [
    "Simulations of galaxy formation and evolution make predictions for $M(r)$ in present-day galaxy disks, and an ongoing challenge for cosmological galaxy formation models is to reproduce the observed properties of nearby galaxies. Collisionless (ie. dark matter only) simulations of halo assembly within the standard framework predict a steeper halo mass function and denser dark matter halos than inferred observationally (e.g. [<cite data-cite='2010AdAst2010E...5D'>de Blok 2010</cite> &#10548;](http://adsabs.harvard.edu/abs/2010AdAst2010E...5D) de Blok 2010; [<cite data-cite='2015A%26A...574A.113P'>Papastergis et al. 2015</cite> &#10548;](http://adsabs.harvard.edu/abs/2015A%26A...574A.113P) Papastergis et al. 2015). Reconciling this theory with observations requires that baryons alter the dark matter potential during galaxy formation, and recent hydrodynamic simulations suggest that high-redshift, bursty star formation is a key mechanism (e.g. [<cite data-cite='2010Natur.463..203G'>Governato et al. 2010</cite> &#10548;](http://adsabs.harvard.edu/abs/2010Natur.463..203G) Governato et al. 2010; [<cite data-cite='2012MNRAS.421.3464P'>Pontzen et al. 2012</cite> &#10548;](http://adsabs.harvard.edu/abs/2012MNRAS.421.3464P) Pontzen et al. 2012). An illustration of the effect of bursty star formation on dwarf galaxy rotation curve predictions is shown below."
   ]
  },
  {
   "cell_type": "markdown",
   "metadata": {},
   "source": [
    "<img src=\"01_figures/RotationCurveModels_Oh11.png\" width=\"60%\"/>\n",
    "*Comparison between rotation curves of galaxies in collisionless simulations (red points and solid grey lines), rotation curves of galaxies in hydrodynamical simulations including bursty star formation (yellow and green points), and observed rotation curves of low-mass galaxies (other coloured points). Credit: [<cite data-cite='2011AJ....142...24O'>Oh et al. 2011</cite> &#10548;](http://adsabs.harvard.edu/abs/2011AJ....142...24O) Oh et al. 2011. *\n",
    "\n"
   ]
  },
  {
   "cell_type": "markdown",
   "metadata": {},
   "source": [
    "Simulations predict that the efficiency of this process depends strongly on stellar and halo mass in the range spanned by disk galaxies (e.g. Di Cintio et al. 2014); the kinematics of these systems, best traced out to large $r$ with HI, therefore provide an important test. The results are insofar mixed. Rotation curve mass models appear to be consistent with bursty star formation predictions (e.g. [<cite data-cite='2011AJ....142...24O'>Oh et al. 2011</cite> &#10548;](http://adsabs.harvard.edu/abs/2011AJ....142...24O) Oh et al. 2011; [<cite data-cite='2016arXiv160505971K'>Katz et al. 2016</cite> &#10548;](http://adsabs.harvard.edu/abs/2016arXiv160505971K) Katz et al. 2016; but see [<cite data-cite='2016arXiv160505326P'>Pace 2016</cite> &#10548;](http://adsabs.harvard.edu/abs/2016arXiv160505326P) Pace 2016), but rotation curve shapes are inconsistent with the relationship between halo and HI velocity required by the velocity function (e.g. [<cite data-cite='2016A%26A...591A..58P'>Papastergis &amp; Shankar 2016</cite> &#10548;](http://adsabs.harvard.edu/abs/2016A%26A...591A..58P) Papastergis &amp; Shankar 2016).  However, these observational tests are strongly limited by the available data: HI rotation curve samples are small and heterogeneous, and the HI velocity function can only be constructed from unresolved single-dish detections whose physical interpretation is unclear. Measuring the rotation curve shapes of large samples of nearby galaxies is therefore an important science goal for next-generation HI surveys (e.g. [Wallaby on ASKAP](http://www.atnf.csiro.au/research/WALLABY/), [Apertif Shallow Northern and Medium Deep Surveys on WSRT](http://www.astron.nl/astronomy-group/apertif/surveys-and-documents/apertif-surveys-and-documents), [MALS on MeerKAT](http://mals.iucaa.in/), [MHONGOOSE on MeerKAT](http://mhongoose.astron.nl/))."
   ]
  },
  {
   "cell_type": "markdown",
   "metadata": {},
   "source": [
    "#### A 3D View of Galaxy Disks"
   ]
  },
  {
   "cell_type": "markdown",
   "metadata": {},
   "source": [
    "Now that we are familiar with the observed morphologies and kinematics of disk galaxies, it is more straightforward to understand the distribution of HI in the 3D datacubes produced by interferometers (RA, Dec, line-of-sight velocity or frequency). Plots with panels that show the distribution of HI gas in consecutive velocity or frequency channels of the datacube are often called *channel maps*, and an example is given below. It is clear that the morphology (exponential HI distribution with central hole) and kinematics (axisymmetric rotation) dictate the 3D distribution of HI in disks."
   ]
  },
  {
   "cell_type": "markdown",
   "metadata": {},
   "source": [
    "<img src=\"01_figures/ChannelMaps_N6503.png\" width=\"65%\"/>\n",
    "*Channel maps illustrating the 3D structure of NGC 6503. Credit: [<cite data-cite='2009AJ....137.4718GO'>Greisen et al. 2009</cite> &#10548;](http://adsabs.harvard.edu/abs/2009AJ....137.4718GO) Greisen et al. (2009). *\n",
    "\n"
   ]
  },
  {
   "cell_type": "markdown",
   "metadata": {},
   "source": [
    "Modelling the 3D distributions of HI emission in disk galaxies is a powerful tool for constraining their physical properties, and techniques that accomplish this are detailed in Chapter 10. It is also worth noting that sophisticated visualization tools now exist for viewing and interacting with 3D datacubes (e.g. [<cite data-cite='2016arXiv160903782P'> Punzo et al. 2016</cite> &#10548;](http://adsabs.harvard.edu/abs/2016arXiv160903782P) Punzo et al. 2016)."
   ]
  },
  {
   "cell_type": "markdown",
   "metadata": {},
   "source": [
    "### Resolved HI properties of galaxies and star formation\n",
    "\n",
    "HI is the raw material for star formation and therefore ultimately drives this process. Understanding the interplay of HI in the ISM is therefore a key consideration. On global scales, there exists a tight correlation between star formation rate (SFR) per unit area and the surface density of cold gas (neutral and molecular hydrogen) over several orders of magnitude -- \"the Schmidt Law\" (Kennicutt 1998a, 1998b). However, global studies of star formation provide little insight into the factors that regulate and drive star formation; spatially resolved studies provide a more fundamental approach to SFR correlations. These studies have recently become feasible thanks to the advent of high spatial resolution HI and CO observations of galaxies combined with multiwavelength SFR tracers. However, challenges do exist when going to small scales and these must be taken into account. SFR tracers and diagnostics are generally calibrated to integrated systems that average over small-scale variations in stellar age, IMF population and gas/dust geometry. Therefore on small linear scales and at low SFRs, scaling laws are expected to break down.\n",
    "\n",
    "\n",
    "#### Correlations between resolved HI cloud properties and star formation tracers\n",
    "\n",
    "\n",
    "In Kennicutt et al. (2007), M51 is used to study spatially-resolved star formation (0.5 - 2kpc). H$\\alpha$ traces emission from HII regions and is extincted by dust, whereas the 24$\\mu$m continuum traces emission from warm dust.\n",
    "\n",
    "![M51](images/M51.png)\n",
    "Figure: M51 as observed in H$\\alpha$, 24$\\mu$m continuum , CO, and HI. North is up (arrow) , and east is to the left. The horizontal bars in the left corner of each panel indicate an angular scale of 10 (2.5 kpc). These are shown to illustrate qualitatively the relative distributions of the cold gas and star formation tracers.\n",
    "\n",
    "Qualitatively there is spatial correspondence between peaks in the cold gas distribution and and star-forming regions. There is, however, a shift between peaks in the cold atomic (HI) and molecular (CO) distributions, which is likley due to HI formed by photodissociation of molecular gas due to hot starts. Similarly, offsets between star formation tracers probe variations in the ISM conditions.\n",
    "\n",
    "![M51 SFR density](images/M51_scaling_all_gas.png)\n",
    "Figure: Relationship between SFR surface density and total (atomic plus molecular) hydrogen surface density for 257 HII regions and infrared sources measured in the central 350'' region of M51 (the area covered in CO by BIMA SONG). Solid green triangles denote SFRs derived from extinction-corrected Pa$\\alpha$ fluxes, all in the central 144'', while open black triangles denote SFRs determined from combined 24$\\mu$m and H$\\alpha$ fluxes. Open red circles denote regions with only 3$\\sigma$ upper limits in CO.\n",
    "\n",
    "Considering the relation between SFR densities separately for HI and inferred H$_2$, we can see that the molecular gas dominates most of the gas clouds in the inner disk of M51a, while the atomic gas contribution is proportionally larger in the lowest surface density regions.\n",
    "\n",
    "![M51 SFR density](images/M51_scaling.png)\n",
    "Figure: Relation between local SFR density and molecular and atomic hydrogen surface densities separately. The solid green and open black triangles denote H$_2$ surface densities, with open red circles indicating CO upper limits. Blue asterisks show the corresponding relation between SFR surface densities and HI surface densities. The dashed line shows the best bivariate least-squares fit to the molecular densities alone. The fit to total gas density is shown for reference as the solid line.\n",
    "\n",
    "\n",
    "\n",
    "#### Correlation between HI cloud and CO cloud properties \n",
    "\n",
    "\n",
    "In order to advance our understanding of the physical mechanisms and chemistry of the ISM, detailed study (i.e. sensitive, high spatial resolution data) of nearby galaxies, using multiwavelength tracers, is necessary. This has only recently been possible, with three surveys in particular making huge strides in our understanding of the interplay between gas, dust and star formation.   \n",
    "\n",
    "\n",
    "##### SINGS, THINGS, and HERACLES\n",
    "\n",
    "The Spitzer Infrared Nearby Galaxies Survey (SINGS; Kennicutt et al. 2003), is a comprehensive, multiwavelength project designed to study the properties of the dusty ISM. The sample consists of 75 galaxies within 30 Mpc, selected to be \"typical\" of local galaxies\". The full dataset combines Spitzer 3.6-160$\\mu$m imaging and 5-40$\\mu$m resolved spectroscopy of the nucleus and selected extra-nuclear targets, with Chandra X-Ray, Galex UV, optical BVRI, H$\\alpha$ maps, NIR JHK photometry, HST Paschen $\\alpha$ imaging, SCUBA sub-mm, CO, BIMA SONG radio continuum, and VLA HI maps.\n",
    "\n",
    "This was followed by \"The HI Nearby Galaxy Survey\" (THINGS), a high spectral ($\\le$ 5.2 km s$^{−1}$) and spatial (∼ 6′′) resolution survey of HI emission in 34 nearby galaxies ($2\\le D \\le 15$ Mpc) obtained using the VLA (Walter et al. 2008). This translates to a linear resolution of $\\sim $100 to $\\sim$ 500 kpc, with most of the galaxies in THINGS drawn from the SINGS sample. \n",
    "\n",
    "![THINGS](images/THINGS_eg.png)\n",
    "\n",
    "Extending this to CO, the HERA CO–Line Extragalactic Survey (HERACLES) is an atlas of CO emission from 18 nearby galaxies that form part of THINGS and SINGS (Leroy et al. 2009). This data was obtaining using the HERA multi-pixel receiver on the IRAM 30-m telescope to map the CO J = 2 → 1 line over the full optical disk of each galaxy, at 13′′ angular resolution and 2.6 km s$^{−1}$ velocity resolution. \n",
    "\n",
    "\n",
    "![NGC6946](images/NGC6946.jpg)\n",
    "Figure: High-resolution maps of star-formation tracers and cold-gas components in NGC 6946. (Top left) Spitzer 24$\\mu$m dust emission from the SINGS/KINGFISH Project (Kennicutt et al. 2011), (top right) H$\\alpha$ emission from Knapen et al. (2004), (bottom left) HI emission from the VLA THINGS Survey (Walter et al. 2008), and (bottom right) CO J = 2 → 1 emission from the HERACLES Survey (Leroy et al. 2009). Note that the HI map extends over a much wider area than the CO, H$\\alpha$, and 24$\\mu$m observations.\n",
    "\n",
    "\n",
    "##### Bringing it all together\n",
    "\n",
    "Using HI maps from THINGS, CO from HERACLES and BIMA SONG, and SFRs from SINGS mid-infrared and GALEX UV, Leroy et al. (2009) studied the star formation efficiency (SFE) in 23 nearby galaxies.\n",
    "\n",
    "One of their findings is that where $\\Sigma$HI $>$ $\\Sigma$H$_2$, there is no correlation between SFE and $\\Sigma$gas, but instead a strong relationship between SFE and $\\Sigma$∗. The simplest explanation is that present-day star formation roughly follows past star formation. However, a further interpretation is that the stellar potential well, or feedback, is critical to bring gas to high densities.\n",
    "\n",
    "![SINGS, THINGS, HERACLES](images/Leroy_2008.png)\n",
    "Figure: Star Formation Efficiency (SFE) as a function of stellar surface density, $\\Sigma$∗, in spiral galaxies. Dashed diagonal lines show the linear relationship between SFE and $\\Sigma$∗ expected for the mean stellar assembly time and $\\Sigma$gas for each subsample. Vertical dotted lines show $\\Sigma$∗ where the ISM is equal parts of HI and H$_2$ in spirals, $\\Sigma$∗ = 81 ± 25 M⊙ pc$^{−2}$. From Leroy et al. (2008).\n",
    "\n",
    "Bigiel et al. (2008) studied the relation between star formation rate density and gas density, on sub-kpc resolutions, using 18 nearby galaxies with data from SINGS, THINGS, HERACLES and BIMA SONG.\n",
    "\n",
    "![SINGS, THINGS, HERACLES](images/Bigiel_2008.png)\n",
    "Figure: Relation between star-formation-rate (SFR) surface densities and total (atomic and molecular) gas surface densities for various sets of measurements. Regions colored gray, green, yellow, and red show the distribution of values from measurements of subregions of SINGS galaxies. From Bigiel et al. (2008).\n",
    "\n",
    "The figure above illustrated two main regimes:\n",
    "1. a low density, sub-threshold regime where the dependence of the SFR density on gas density is very steep and uncorrelated with gas density, and \n",
    "2. a higher density regime where the SFR is strongly correlated with the gas density. Also, the behaviour of atomic and molecular surface densities are very different. \n",
    "\n",
    "Local SFR density is virtually uncorrelated with HI density, and the upper limit to the local HI densities corresponds to the column density where the HI efficiently converts to molecular form. This roughly coincides with the turnover seen in the figure, which suggests that the threshold may be driven, at least partly, by an atomic-molecular phase transition .\n",
    "\n",
    "By contrast, the SFR surface density is tightly correlated with the H$_2$ surface density (from CO). \n",
    "\n",
    "Using the IRAM HERACLES survey, Schruba et al. (2011) studied the CO emission in 33 nearby galaxies. By means of a stacking analysis they were able to show a tight correlation between SFR and CO surface brightness that extends into the HI-dominated (sub-threshold) regime.\n",
    "\n",
    "![SINGS, THINGS, HERACLES](images/Schruba_2011.png)\n",
    "Figure: $\\Sigma$SFR (y-axis) from FUV + 24 $\\mu$m (left) and H$\\alpha$ + 24 $\\mu$m (right) as a function of different gas phases: HI alone (top), HI+H$_2$ (middle), and H$_2$ alone (bottom). Each point in these diagrams represents a radial average in a given galaxy. Regions that are H$_2$-dominated are plotted with dark blue symbols, regions that are HI-dominated in light red symbols. The bottom panels show only regions with at least marginal CO signal, while the top and middle panels show also regions where we determined only an upper limit on the molecular content. Whereas SFR is not correlated with HI (in the inner parts of galaxy disks), it correlates with H$_2$ and total gas. The scaling with H$_2$ is uniform and linear for all regimes; the scaling with total gas exhibits a change in slope at the transition between HI- and H$_2$-dominated environments. From Schruba et al. (2011).\n",
    "\n",
    "\n",
    "Further Reading: \n",
    "1. Kennicutt, R., Annu. Rev. Astron. Astrophys. 2012, 50:531-608 \n",
    "2. Leroy, A., et al., The Astronomical Journal, 2008, 136, 2782\n",
    "3. Bigiel, F., et al., The Astronomical Journal, 2008, 136, 2846\n",
    "4. Schruba, A., et al., The Astronomical Journal, 2011, 142 ,37\n",
    "\n",
    "\n",
    "#### Resolved HI properties and galaxy colours/dust\n",
    "\n",
    "\n",
    "\n",
    "![M83: Gas to Stars](images/M83_cycle.png)\n",
    "Figure: Many faces of M83, highlighting the evolution from gas to stars. The 10′ panels show: the neutral (HI gray scale) and molecular hydrogen (CO contours) gas content, massive star formation as viewed by GALEX NUV (gray scale) and FUV (white contours), WISE view of 11.3μm PAH emission (W3 band) and reprocessed starlight (W4 band) both associated with star formation, and the center panel shows the stellar distribution of the previous generations of star formation as viewed with the W1 (3.4 μm; gray scale) and W2 (4.6 μm; white contours) bands. The CO(1–0) is from Crosthwaite et al. (2002).\n",
    "\n",
    "Here M83 is used to illustrate the cycle of star formation. Starting with the fuel, the primordial HI combines to form molecular H$_2$, which gravitationally collapses to form new stars. Massive O and B stars radiate copious amounts of UV photons, which are detected by GALEX in the FUV and NUV bands. Most of the radiation, however, is scattered and absorbed by dust grains that are distributed throughout the spiral arms and birth clouds. The radiation excites the complex polycyclic aromatic hydrocarbon (PAH) molecules that form on dust grains located outside of HII regions. These photodissociation regions are detected by WISE in the W3 12 μm band and by Spitzer in the IRAC 8 μm band. The radiation warms small dust grains to temperatures of ∼100-150 K, radiating (modified blackbody) photons in the mid-infrared window that is detected by WISE with the W4 22 μm band and by Spitzer with the MIPS 24 μm band. Over time the stars disperse from their birth clouds, becoming visible to detection at optical wavelengths. Massive stars burn hot and bright, living for only a few to tens of millions of years before exploding and sending their gas back into the ISM for recycling. Less massive stars live much longer: solar-type stars burn for billions of years, evolving into luminous red giants. These stars, far more numerous that the massive O and B stars, form the aggregate massive backbone of the galaxy. These cool giants emit most of their photospheric radiation in the near-IR window, detected and studied by WISE with the W1 3.4μm and W2 4.6μm bands and by Spitzer with the IRAC 3.6 μm and 4.5 μm bands. \n",
    "\n",
    "\n",
    "![M83](images/M83_HI.png)\n",
    "Figure: Neutral hydrogen distribution of the southern spiral galaxy M83. Left: large-scale moment 0 map of the extended HI gas distribution, constructed from mosaic data obtained with both the 21 cm multibeam system on the 64 m Parkes dish and ATCA. Right: ATCA high-resolution HI moment 0 map (red contours) overlaid onto the WISE 12 μm map (gray scale, log-stretch) of the central disk (denoted with a gray box in the left panel). The HI contour levels are 0.1, 0.27, 0.43, and 0.6 Jy beam$^{−1}$ km s$^{−1}$. The ATCA beam is approximately 10′′, comparable to the WISE 22μm band, but note that the diffuse gas (see the left panel) is resolved out when emphasizing the longer ATCA baseline measurements. From Jarrett et al. (2013).\n",
    "\n",
    "The neutral gas distribution of M83 is shown in the above figure, and can be seen to extend well beyond the optical/infrared disk. The right panel shows the HI overlaid (red contours) on the W3 12 μm image. There is a striking spatial correspondence between the neutral gas and the integrated (line of sight) PAH–ISM emission, except for the nuclear region, where the HI has been converted to molecular gas. The atomic hydrogen traces the current star formation on large angular scales. Since it is the molecular hydrogen gas that serves as the primary fuel for star formation, we would not necessarily expect the neutral hydrogen to be so closely correlated with the PAH (polycyclic aromatic hydrocarbon) emission arising from PDRs (photodissociation regions) and HII regions. \n",
    "\n",
    "![M83: Stars and Dust](images/M83_colour.png)\n",
    "Figure: GALEX and WISE color-composite view of M 83 (NGC 5236). The color assignment for the WISE high-resolution imaging (3.4 μm + 4.6 μm, 12.0 μm and 22 μm) and GALEX imaging (0.227 μm and 0.152 μm) is shown with the small panels to the left. From Jarrett et al. (2013).\n",
    "\n",
    "The figure above shows a qualitative perspective of how GALEX and WISE observations of M83 form a snapshot gallery of the galaxy anatomy. Here the ISM emission appears orange/red (W3/W4), the evolved stellar \"backbone” appears green (W1+W2), and the photospheric light from young, hot stars appears magenta (FUV) and blue (NUV). The largest star formation complexes have both UV and IR light strongly correlated, appearing as white blobs, this occurs notably near the bar ends and the connecting eastern spiral arm. The UV–IR color composite also reveals striking differences between the distribution of young stars and the warm ISM: (1) The GALEX emission is clearly extended beyond the mid-IR limits, highlighting localized star formation that is well outside of the primary (optical R25) disk and spiral arm system, a property that is also seen in many other spiral galaxies studied with GALEX (e.g., Thilker et al. 2005; Goddard et al. 2010). (2) The nuclear region and much of the central bar have very little UV emission, while the mid-IR continuum is bright in all WISE bands. (3) There is diffuse UV emission filling most of the disk, likely arising from B stars that have dispersed from their birth clouds. (4) The trailing edge of the spirals arms have strong W3 IR emission (note the orange/brown color inside of the spiral arms), arising from excited 11.3 μm PAH emission integrated along the galaxy’s line of sight. (5) To the north of the nucleus, near the edge of the mid-IR disk, there is a large mid-IR “void” or fork in the spiral arms; in contrast, the entire area is filled with UV emission arising from massive star clusters.\n",
    "\n",
    "![M83: HI](images/M83_KAT7.png)\n",
    "Figure: HI column density contoursfrom KAT-7, overlaid on the three-color WISE image. In this image, the blue channel is formed from W1 and W2, the green channel from W1, W2, and W3, and the red channel from W3 and W4. Each channel is displayed using a square root stretch. The two arrows indicate the directions toward the Virgo Cluster (VC) and the Centaurus A (CenA) group. Note that UGCA 365 is visible to the north of the extended disk of M 83 itself, and NGC 5264 to the east. From Heald et al. 2016\n",
    "\n",
    "![M83: HI](images/M83_THINGS+.png)\n",
    "Figure: Naturally-weighted HI column density map of M83 from THINGS (Walter et al. 2008) data, as used by Bigiel et al. (2010). The KAT-7 contours are overlaid, and demonstrate an excellent morphological agreement despite the vastly different angular resolution, as well as the presence of far more neutral gas in the outer parts in our new observations than has previously been studied. The beam sizes are shown in the bottom-left corner for the KAT-7 data (large white ellipse) and the VLA data (small white ellipse). From Heald et al. 2016\n",
    "\n",
    "\n",
    "Further Reading: \n",
    "1. Jarrett, T.H. et al., The Astronomical Journal, 2013, 145, 6\n",
    "2. Heald, G.et al., Monthly Notices of the Royal Astronomical Society, 2016, 462, 1238\n",
    "\n",
    "\n",
    "\n",
    "### Resolved HI properties as a tracer of environment\n",
    "\n",
    "Late-type galaxies usually have a large reservoir of neutral gas located well beyond the extent of the optical disk. This gas is particularly prone to being perturbed during tidal interactions and may be the most efficient method for revealing the dynamical state of a galaxy or galaxy group. However, tidal features mapped in HI are likely the denser neutral peaks of a more extended distribution as loosely bound material will continue to expand widely and will eventually become ionised by the intergalactic UV field.\n",
    "\n",
    "Galaxy interactions are chiefly galaxy-galaxy and galaxy ICM/ISM.\n",
    "\n",
    "![HI in tidal interactions](images/interacting.jpg)\n",
    "\n",
    "Figure: A sample of interacting systems covering the various stages of major mergers, from the initial phases of the encounter (top left), to the last ones and formation of a relaxed object (bottom right). The gaseous component (atomic hydrogen) is superimposed on true color optical images of the galaxies, showing the distribution of the young and old stars. From Duc and Renaud (2011).\n",
    "\n",
    "\n",
    "#### Galaxy Interactions: Tides, Harassment, Mergers\n",
    "\n",
    "\n",
    "The origin of tidal tails remained a subject of intense debate until advances in computers enabled the numerical experiments of Toomre & Toomre (1972). They showed that brief, but intense, encounters of two disk galaxies were sufficient to produce observed tidal tails. They also showed that a grazing encounter, or close passage, could produce deformation and potentially lead to the creation of bridges and tails. Although tidal features created by first encounters gradually vanish into the intergalactic medium, or are recaptured by the galaxy, they have been shown to remain visible for several 10$^9$ years (Springel & White 1999).\n",
    "\n",
    "In general, tidal fields are easier to detect when they act on a regular distribution of matter, rather than isotropic structures. Hence tidal features such as tails and bridges are seen around disk galaxies, where motion is well-organized, compared to ellipticals where more isotropic distributions of positions and velocities result. This would also be true for all structures with a high degree of symmetry (halos, bulges, and so on), compared to axisymmetric structures like disks.\n",
    "\n",
    "![Symmetric vs axisymmetric interactions](images/symmetry.png)\n",
    "Figure: Top: morphology of a disk galaxy, seen face-on, during its coplanar interaction with a point-mass (mass ratio = 1), before the interaction (left), at pericenter (middle) and after (right). The dashed line indicates the trajectory of the point-mass (from top to bottom). The black dots tag a subset of particles that are situated in one of the tidal tails at t = 500 Myr. Bottom: same but for an elliptical galaxy. No tidal structures are visible. From Duc & Renaud (2011).\n",
    "\n",
    "In the case of a flyby, galaxies do not do no loose enough orbital energy to become bound to each other, and thus they escape without merging. Due to gravitational torques, gas will either respond as in inflow or outflow. For a relatively distant interaction, a large fraction of gas can be tidally ejected into the intergalactic medium (see e.g. Kim et al. 2009). Material that is relatively unbound is expected to expand, with more bound structures becoming reaccreted within less than ~ 1 Gyr (Hibbard & Mihos 1995, Hibbard & van Gorkom 1996).\n",
    "\n",
    "However, when the exchange of orbital angular momentum (through dynamical friction) is high, the mean distance between the progenitors rapidly decreases (as a damped oscillation) before they finally merge. During the first, distant passage, however, galactic material is stripped off. Because these tails are generally long-lived, they can indicate past interactions even when only the merger remnant remains.  \n",
    "\n",
    "![Star Formation in Merging Galaxies](images/merging.png)\n",
    "Figure: Star formation in a sequence of merging galaxies. The displayed systems are the same as the previous figure. The contours of the HI 21cm emission are superimposed on a composite image combining light emission from three tracers of on-going or recent star-formation: the ultraviolet (blue), the Hα line emission (green) and the mid-infrared (red). The most active star-forming regions belong to the so-called tidal dwarf galaxies. From Duc and Renaud (2011).\n",
    "\n",
    "Whereas tides and mergers are low velocity encounters, galaxy harassment refers to the effects induced by fast, repetitive \"fly-by\" tidal encounters between galaxies and is common in galaxy groups and clusters. The effect of harassment is morphological disturbance, often accompanied by bursts of star formation, forming asymmetrical galaxies, disturbed galaxies, warps, bars, and tidal tails. Intracluster diffuse light and rings of star formation are common by-products of harassment.\n",
    "\n",
    "\n",
    "\n",
    "Further Reading:\n",
    "1. Hibbard, J., 1999, Mergers of Galaxies from an HI Perspective, http://arxiv.org/abs/astro-ph/9910453\n",
    "2. Duc, P-A. & Renaud, F., 2011, Tides in Colliding Galaxies, http://arxiv.org/abs/1112.1922\n",
    "3. HI Rogues Gallery (maintained by J. Hibbard): http://www.nrao.edu/astrores/HIrogues/RoguesLiving.shtml\n",
    "\n",
    "\n",
    "#### Galaxy Interactions: Ram Pressure and Viscous Stripping\n",
    "\n",
    "Ram pressure stripping appears to be an effective mechanism in dense clusters with a hot, X-ray-emitting intracluster medium. A galaxy moving through the stationary hot gas experiences an exerted ram pressure, like a \"wind\" (Gunn & Gott 1972). This mechanism can \"sweep\" gas, particularly cold, neutral gas, from the galaxy as the ISM of the galaxy interacts with the ICM of the cluster. Turbulent/viscous stripping (Nulsen 1982) is the result of instabilities caused by the relative movement of gas at different temperatures and densities, similar to Kelvin-Helmholtz instabilities. Although the relative contribution of this effect in clusters is not clear, it is not expected to dominate. However, in systems such as groups, that lack a substantial hot X-ray halo, but instead contain copious tidal debris in cold, neutral form, turbulent viscous stripping may play a key role in galaxy quenching.\n",
    "\n",
    "![Interactions](images/chung.png)\n",
    "Figure: Image courtesy of Aeree Chung\n",
    "\n",
    "\n",
    "#### Morphological and kinematical tracers of environmental processes\n",
    "\n",
    "Tidal tails are the most common tracer of environmental effects. Unlike bridges, tails have particles escaping to infinity. To form tails, galaxies should ideally be of similar mass. Tidal Dwarf Galaxies (TDGs) form within tidal tails, particularly at the end of a tidal tail, and have masses greater than 10$^8$ M⊙. They are gravitationally bound, rotating objects that are kinematically decoupled from their parent galaxies. Simulations suggest that their formation in galaxy collisions is not very efficient, and require relatively low impact velocities (< 250 km/s) leading to mergers, prograde encounters and initially extended gas in the parent galaxies. Only TDGs that form close to the ends of tidal tails generally survive more than 1 Gyr. Under these conditions, the production rate is approximately 1 per favourable merger.\n",
    "\n",
    "![Tidal Dwarf Galaxies](images/TDGs.png)\n",
    "Figure: Sample of colliding systems exhibiting TDG candidates. The distribution of the gas is shown in blue and the star-forming regions in red. From Duc,P-A (2011)\n",
    "\n",
    "Slow encounters are less likely in a cluster environment and therefore also the presence of tails and bridges. In loose groups, close encounters are rare, and thefore merging. Tidal tails are an excellent probe of interactions, but because of their low surface brightness their frequency is probably highly underestimated. A census of collisional debris may well help constrain the recent mass assembly of nearby galaxies.\n",
    "\n",
    "It can be challenging in dense environments to distinguish between the effects of tides and ICM-ISM interactions. Where galaxies are HI deficient and stellar disks are undisturbed, ICM-ISM interactions are likely responsible. Disturbed stellar disks are generally the product of tidal interactions or minor mergers, although ICM-ISM interactions may also contribute. \n",
    "\n",
    "The VIVA (VLA Imaging of Virgo galaxies in Atmic gas) survey reveals the complexity of interactions in the dense cluster.\n",
    "\n",
    "![The VIVA Survey](images/VIVA1.png)\n",
    "Figure: HI in the Virgo cluster (magnified by a factor of 10) in blue, with X-ray in orange (Chung et al. 2009).\n",
    "\n",
    "![The VIVA Survey](images/VIVA2.png)\n",
    "Figure: Examples of the different HI morphologies found in the survey. Total HI images are shown in white contours overlaid on the SDSS images. The thick white bar in the bottom-left corner indicates 1 arcmin in each panel. The top row shows examples of gas-rich galaxies in gas rich environments in the outskirts, the middle row shows galaxies at intermediate distances, while the bottom row shows examples of severely truncated HI disks at a range of projected distances from M87. From Chung et al. (2009).\n",
    "\n",
    "![VIVA + Multiwavelength](images/VIVA3.png)\n",
    "Figure: Diagnosing the dominant environmental effect (Hyein Yoon et al., in prep).\n",
    "\n",
    "Further Reading:\n",
    "1. Duc, P-A., 2011, Birth, life and survival of Tidal Dwarf Galaxies, http://arxiv.org/abs/1101.4834\n",
    "2. van Gorkom, J.H., Interaction of Galaxies with the ICM, https://arxiv.org/abs/astro-ph/0308209\n",
    "\n"
   ]
  },
  {
   "cell_type": "markdown",
   "metadata": {},
   "source": [
    "### HI Absorption"
   ]
  },
  {
   "cell_type": "markdown",
   "metadata": {},
   "source": [
    "It is obvious from discussions so far that the observations of galaxies in neutral hydrogen holds a place of unique importance in the studies of galaxy evolution.  In local Universe, the observations of galaxies via HI 21-cm emission and absorption line have proven to be valuable for our understanding of the abundance and distribution of gas, and the processes leading to star formation.  However, as the strength of emission line signal from a galaxy falls down as the square of distance from the observer, it has been  difficult to detect HI 21-cm emission line signal from individual galaxies beyond the local Universe.  Currently, the highest redshift HI 21-cm emission line detection is associated with a galaxy at $z=0.376$ and has been possible due to ~178 hrs long integration at JVLA ([<cite data-cite='2016ApJ...824L...1F'> Fernandez et al. 2016</cite> &#10548;](http://adsabs.harvard.edu/abs/2016ApJ...824L...1F) Fernandez et al. 2016).  \n",
    "\n",
    "On the other hand, the strength of absorption line from a galaxy doesn't depend on the distance from observer. Therefore, absorption lines are as easy to detect at any redshift provided there exists a distant bright object such as a quasar or a Gamama-ray burst in the background.  The figure below shows typical spectrum of a high redshift quasar showing continuum and emission lines due to quasar and various HI $\\rm{Ly} \\alpha$ and/or metal absorption lines producued by the gas in intergalactic medium (IGM) or galaxies lying between the quasar and the observer.  In this, $\\rm{Ly} \\alpha$ forest i.e. narrow HI $\\rm{Ly} \\alpha$ absorption lines appearing blueward of $ 1216 \\times (1 + z_{qso}) \\approx 2845 \\, \\rm{Angstroms}$ are due to gas clouds in IGM.  They represent the lowest HI column density absorbers detected in the quasar spectra.   "
   ]
  },
  {
   "cell_type": "markdown",
   "metadata": {
    "collapsed": true
   },
   "source": [
    "<img src=\"01_figures/qsospec.png\" width=\"70%\"/>\n",
    "*HST spectrum of PKS0454+039 ($z_{qso}$ = 1.34) exhibiting quasar continuum and emission lines, and absorption lines due to IGM and gas associated with intervening galaxies. Credit: [<cite data-cite='2000eaa..bookE2366C'>Charlton & Churchill 2000</cite> &#10548;](http://adsabs.harvard.edu/abs/2000eaa..bookE2366C) Charlton & Churchill (2000). *"
   ]
  },
  {
   "cell_type": "markdown",
   "metadata": {},
   "source": [
    "The two strong HI absorbers seen in the figure are: a Lyman-limit system (LLS) at $912 \\, \\rm{Angstroms}$ at $1216 \\times (1 + z_{LLS}) = 2614 \\, \\rm{Angstroms}$ ($z_{LLS} = 1.15$) and a damped $\\rm{Ly} \\alpha$ system (DLA) at $2262 \\, \\rm{Angstroms}$ ($z_{DLA} = 0.86$).  \n",
    "\n",
    "The LLSs are defined to have $N_{HI} \\, > \\, 10^{17} \\, \\rm{cm}^{-2}$.  This is the column density at which an HI cloud becomes optically thick to Lyman-limt photons at $912 \\, \\rm{Angstroms}$.  The Lyman continuum break due to the $z=1.15$ LLS can be seen at $912 \\times (1 + z_{LLS}) = 1961 \\, \\rm{Angstroms}$.  \n",
    "\n",
    "The highest column density HI absorbers observed in the quasar spectra are called DLAs.  These have $N_{HI} \\, > \\, 2 \\times 10^{20} \\, \\rm{cm}^{-2}$ and due to the large $\\rm{Ly} \\alpha$ optical depth at such column densities are characterized by completely dark line center and damping wings (see here [LINK HERE] for an introduction to absorption line profile shapes).  Note the Lyman limit break (much stronger compared to the LLS) at $1700 \\, \\rm{Angstroms}$ and various metal absorption lines produced by the DLA in the spectrum of PKS0454+039.\n",
    "\n",
    "In addition to the gas between quasar and the observer, often quasar spectra also show absorption lines of width few $100 \\, \\rm{km} \\, \\rm{s}^{-1}$ to several $1000 \\, \\rm{km} \\, \\rm{s}^{-1}$ originating from the gas associated with the AGN itself.  These absorbers are called associated absorbers whereas the ones as described above that originate from the gas between the quasar and the observer are referred to as intervening absorber.\n",
    "\n",
    "A visualization of how gas with different HI column densities absorbs $\\rm{Ly} \\alpha$ radiation can be found [here](http://www.cosmocrunch.co.uk/media/dla_credited.mov) (Credit: A. Pontzen).  These lines are sensitive to detect HI gas with column densities over a very wide range: $N_{HI} \\approx 10^{12 - 22} \\, \\rm{cm}^{-2}$ and have proven to be a powerful tool to probe the physical, chemical and ionization state of gas in a wide range of environments that are crucial to understand the interplay between gas accretion, star formation and feedback. \n",
    "\n",
    "Note that HI 21-cm emission and absorption line observations with current observing facilities are generally restricted to gas with column densities of about $N_{HI} \\, > \\, 5 \\times 10^{20} \\, \\rm{cm}^{-2}$ i.e. gas associated with or close to galaxies.  This will of course change with the advent of more sensitive Square Kiloemeter Array and its precursor telescopes, however in the following discussion we restrict ourselves to high-$N_{HI}$ absorbers. "
   ]
  },
  {
   "cell_type": "markdown",
   "metadata": {},
   "source": [
    "### Intervening HI absorption"
   ]
  },
  {
   "cell_type": "markdown",
   "metadata": {},
   "source": [
    "DLAs detected in quasar spectra represent bulk of neutral hydrogen (an important reservoir for star formation) at high-$z$ ([<cite data-cite='t2005ARA&A..43..861W'>Wolfe et al. 2005</cite> &#10548;](http://adsabs.harvard.edu/abs/2005ARA%26A..43..861W) Wolfe et al. 2000). They most likely represent quasar sight lines passing through or close to high-$z$ galaxies.  Unlike HI 21-cm emission line observations (especially with single dish telescopes) that reveal all the HI gas associated with a galaxy, a DLA detected in a quasar spectra only probes HI gas along a pencil beam through the galaxy. Therefore, to measure HI mass density and determine general properties of galaxies at any epoch via absorption lines, one has to adopt a statistical approach via detection of large number of DLAs. At $z \\, > \\, 1.8$, Ly$\\alpha$ is observable through ground-based optical telescopes.  Therefore, at these redshifts it has been possible to build large samples of DLAs.  The most recent census of DLAs comes from the Sloan Digital Sky Survey (SDSS) Data Release 12 that has detected more than 20,000 DLAs ([<cite data-cite='t2012A&A...547L...1N'>Noterdaeme et al. 2012</cite> &#10548;](http://adsabs.harvard.edu/abs/2012A%26A...547L...1N) Noterdaeme et al. 2012).     "
   ]
  },
  {
   "cell_type": "markdown",
   "metadata": {},
   "source": [
    "Under the reasonable assumption that the HI gas in DLAs is neutral the HI mass density from the observed $N_{HI}$ frequency distribution, $f(N_{HI}, X)$ can be estimated using,\n",
    "\n",
    "$$ \\Omega_{HI} = \\frac{\\mu \\, m_H \\, H_o}{c \\, \\rho_c} \\int_{N_1}^\\infty N_{HI} \\, f(N_{HI}, X) \\, dNdX, $$ \n",
    "\n",
    "where $X = \\int_0^z (1 + z')^2 \\, \\frac{H_o}{H(z')} \\,dz'$  is the absorption distance, $H_o$ is the Hubble constant, $\\mu = 1.3$ is the mean molecular mass of the gas, $\\rho_c$ is the critical mass density and $N_1 = 2 \\times 10^{20} \\, \\rm{cm}^{-2}$.  The figure below, reproduced from [<cite data-cite='t2015MNRAS.452.3726H'>Hoppmann et al. 2015</cite> &#10548;](http://adsabs.harvard.edu/abs/2015MNRAS.452.3726H) Hoppmann et al. (2015), provides a nice summary of $\\Omega_{HI}$ estimates from (i) DLAs at $z \\geq  1.8$, (ii) HI 21-cm emission line (direct/stacking/intensity-mapping) detections at $z \\geq 1$ and (iii) MgII-absorption selected DLAs at intermediate redshifts."
   ]
  },
  {
   "cell_type": "markdown",
   "metadata": {},
   "source": [
    "<img src=\"01_figures/omegahi.png\" width=\"70%\"/>\n",
    "*HI mass density as a function of redshift. Credit: [<cite data-cite='t2015MNRAS.452.3726H'>Hoppmann et al. 2015</cite> &#10548;](http://adsabs.harvard.edu/abs/2015MNRAS.452.3726H) Hoppmann et al. (2015). *"
   ]
  },
  {
   "cell_type": "markdown",
   "metadata": {},
   "source": [
    "Note large errors bars on $\\Omega_{HI}$ at intermediate redshifts where it is currently not possible to detect HI 21-cm emission from individual galaxies and build large samples of DLAs.  Overall, compared to an order-of-magnitude change in the star-formation rate density at $0 \\leq z \\leq 2$, the HI mass density only evolves by a factor of 2 over the same redshift range.  Since stars form from cold atomic and molecular gas, in order to understand the relationship between gas and star formation, (i) better observations are required to constrain $\\Omega_{HI}$ at intermediate redshifts, and (ii) these need to be complemented with observations of cold atomic and molecular phases.   "
   ]
  },
  {
   "cell_type": "markdown",
   "metadata": {},
   "source": [
    "It is well known that HI 21-cm absorption is an excellent tracer of cold (~100 K) atomic (see here [LINK HERE]) and HI 21-cm emission and absorption line observations of Galactic ISM).  The  HI column  density  of  an  optically  thin  cloud  covering the fraction $f_c$ of the background radio source is related to the integrated 21-cm optical depth and the spin temperature ($T_s$) through\n",
    "\n",
    "$$ N_{HI} = 1.823 \\times 10^{18} \\, \\frac{T_s}{f_c} \\, \\int\\tau(v)dv \\, \\rm{cm}^{-2}. $$\n",
    "\n",
    "Blind HI 21-cm absorption line searches required to constrain the evolution of CNM fraction in galaxies will only be possible with SKA precursors ([<cite data-cite='t2012A&A...544A..21G'>Gupta et al. 2012</cite> &#10548;](http://adsabs.harvard.edu/abs/2012A%26A...544A..21G) Gupta et al. 2012; \n",
    "[<cite data-cite='t2016MNRAS.462.1341A'>Allison et al. 2016</cite> &#10548;](http://adsabs.harvard.edu/abs/2016MNRAS.462.1341A) Allison et al. 2016).  The observations till now have focussed on detecting 21-cm absorption from the gas pre-selected by the presence of a DLA or MgII absorption at $0 \\leq  z  \\leq 3.5$.  Due to the reasons described above the majority of observations at $z \\geq 1.8$ are based on samples of DLAs.  At lower redshifts, large samples of DLAs are not available.  Instead absorption lines of MgII which (i) represents the dominant ionization state of Mg in atomic gas and (ii) is observable from gound-based telescopes for $z \\leq  2$, are used to preselect sight lines to probe interstellar  media  and or gaseous halos surrounding the galaxies.  "
   ]
  },
  {
   "cell_type": "markdown",
   "metadata": {},
   "source": [
    "<img src=\"01_figures/21cmabs.png\" width=\"70%\"/>\n",
    "*Left: HI 21-cm absorption spectra from a search based on MgII absorbers selected from SDSS. The multiple narrow components suggest that absorption originates from gas distributed among multiple clouds with small velocity dispersion.  In principle, one can use line widths ($\\Delta v = \\rm{line} \\,\\, \\rm{FWHM}$) to constrain the kinetic temperature of gas using the relation, $T_K \\leq 21.08 \\times \\Delta v^2 \\, \\rm{K}$. Very rarely one detects absorption components with widths consistent with 100 K from the CNM.  Right: Number per unit redshift range of DLAs, MgII absorbers and HI 21-cm absorbers ([<cite data-cite='2012A&A...544A..21G'>Gupta et al. 2012</cite> &#10548;](http://adsabs.harvard.edu/abs/2012A%26A...544A..21G) Gupta et al. 2012). *"
   ]
  },
  {
   "cell_type": "markdown",
   "metadata": {},
   "source": [
    "A key observable to be derived from any absorption line survey is $dn/dz$ i.e. the number of absorbers per unit redshift range.  The figure above provides a comparsion between the dn/dz of DLAs and MgII systems, both of which evolve strongly with redshift, and 21-cm absorbers.  Clearly, 21-cm absorbers are very rare and as the errors on $dn/dz$ of 21-cm absorbers i.e. $n_{21}$ are particularly large it is not possible to draw much conclusions from this regarding the nature of 21-cm absorbers or the evolution of CNM fraction of galaxies.  "
   ]
  },
  {
   "cell_type": "markdown",
   "metadata": {},
   "source": [
    "The 21-cm absorption line searches based on DLAs have a particular advantage that since N(HI) is already known from the $\\rm{Ly} \\alpha$ absorption, $T_s$ and hence a constrain on $T_k$ can be derived.  Based on this and the metallicity estimates from the optical/UV spectra, an anti-correlation between metallicity and spin temperature has been reported ([<cite data-cite='2009ApJ...705L..40K'>Kanekar et al. 2009</cite> &#10548;](http://adsabs.harvard.edu/abs/2009ApJ...705L..40K) Kanekar et al. 2009).  This has been interpreted as due to large number of radiation pathways for gas cooling in gas with high metallicity.  In addition, compared to low-z DLAs it is observed that high-z DLAs are often not detected in HI 21-cm absorption and have low CNM fractions.  It is believed that this is due to the fact that high-z DLAs arise from low mass galaxies having low metallicities and low CNM fractions ([<cite data-cite='2014MNRAS.438.2131K'>Kanekar et al. 2014</cite> &#10548;](http://adsabs.harvard.edu/abs/2014MNRAS.438.2131K) Kanekar et al. 2014).  "
   ]
  },
  {
   "cell_type": "markdown",
   "metadata": {},
   "source": [
    "<img src=\"01_figures/tspin.png\" width=\"40%\"/>\n",
    "*Metallicity vs Spin Temperature anticorrelation ([<cite data-cite='2009ApJ...705L..40K'>Kanekar et al. 2009</cite> &#10548;](http://adsabs.harvard.edu/abs/2009ApJ...705L..40K) Kanekar et al. 2009). *"
   ]
  },
  {
   "cell_type": "markdown",
   "metadata": {},
   "source": [
    "In  the  Galaxy,  the radio observations of HI 21-cm absorption towards high-velocity pulsars and extended radio sources, the optical observations of NaI absorption  lines  towards  globular  clusters  and  binary  stars  have shown that the diffuse ISM is structured on parsec to sub-parsec scales.  These small-scale structures, due to large overpressures, cannot survive rapid evaporation in the standard pressure-equilibrium-based models and therefore represent crucial observational inputs to the physical modelling of ISM.  Since radio emission associated with background AGN is often extended at over arcsec to mas scales, VLBI spectrscopy of HI 21-cm absorbers towards such quasars can be used to probe spatial variations in HI 21-cm optical depth and constrain small-scale structure in cold atomic gas.  "
   ]
  },
  {
   "cell_type": "markdown",
   "metadata": {},
   "source": [
    "<img src=\"01_figures/vlba.png\" width=\"40%\"/>\n",
    "*VLBA spectroscopy of a HI 21-cm absorber at z=0.079 revealing structures in gas at 10 - 90 pc ([<cite data-cite='2013MNRAS.428.2198S'>Srianand et al. 2013</cite> &#10548;](http://adsabs.harvard.edu/abs/2013MNRAS.428.2198S) Srianand et al. 2013). *"
   ]
  },
  {
   "cell_type": "markdown",
   "metadata": {},
   "source": [
    "Since VLBI receivers to carry out such studies are only available for L-band and most of the 21-cm absorbers (since based on MgII absorbers and DLAs) are detected at lower frequencies, such studies have been possible only for a handful of systems.  "
   ]
  }
 ],
 "metadata": {
  "kernelspec": {
   "display_name": "Python 2",
   "language": "python",
   "name": "python2"
  },
  "language_info": {
   "codemirror_mode": {
    "name": "ipython",
    "version": 2
   },
   "file_extension": ".py",
   "mimetype": "text/x-python",
   "name": "python",
   "nbconvert_exporter": "python",
   "pygments_lexer": "ipython2",
   "version": "2.7.6"
  }
 },
 "nbformat": 4,
 "nbformat_minor": 0
}

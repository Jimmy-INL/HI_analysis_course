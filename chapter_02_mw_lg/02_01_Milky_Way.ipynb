{
 "cells": [
  {
   "cell_type": "markdown",
   "metadata": {},
   "source": [
    "Import standard modules:"
   ]
  },
  {
   "cell_type": "code",
   "execution_count": null,
   "metadata": {
    "collapsed": false,
    "scrolled": true
   },
   "outputs": [],
   "source": [
    "import numpy as np\n",
    "import matplotlib.pyplot as plt\n",
    "%matplotlib inline\n",
    "from IPython.display import HTML \n",
    "HTML('../style/course.css') #apply general CSS"
   ]
  },
  {
   "cell_type": "markdown",
   "metadata": {},
   "source": [
    "Import section specific modules:"
   ]
  },
  {
   "cell_type": "code",
   "execution_count": null,
   "metadata": {
    "collapsed": true
   },
   "outputs": [],
   "source": [
    "pass"
   ]
  },
  {
   "cell_type": "markdown",
   "metadata": {
    "collapsed": true
   },
   "source": [
    "HTML('../style/code_toggle.html')"
   ]
  },
  {
   "cell_type": "markdown",
   "metadata": {},
   "source": [
    "## Milky Way Galaxy<a id='somename:sec:intro'></a>"
   ]
  },
  {
   "cell_type": "markdown",
   "metadata": {},
   "source": [
    "The interstellar medium (ISM) of the Milky Way galaxy consists at the first sight of dust and gas. \"Dust\" is commonly used as an acronym for massive agglomerations of Carbon and Silicate structures emitting above 100μm as a Black Body (BB) in the far-infrared to radio regime. \"Gas\" comprises a much more complex composition of primarily hydrogen, helium, carbon and some rare heavier elements commonly named \"metals\". Dust and gas are exposed to the radiation from a manifold of different sources. Next to the billions of stars, the extragalactic background objects heat and ionize both dust and gas due to their strong, high energy radiation. Dynamical processes, driven in the simplest case by the Galactic rotation, alter the size spectrum of the dust and heat/cool the dust by strong volume density variations. At first glance, the situation appears to be hopelessly complex, and a straight forward and meaningful description appears to be out of reach. But there is hope. This hope is directly connected to the relevant angular scales and the sensitivity of the performed observations. Thus, considering only large scales (tens of degrees) and a rather low sensitivity threshold provides information on the Galactic ISM as a whole, which appears to be well ordered and describable by simple equations. This is our starting point here."
   ]
  },
  {
   "cell_type": "markdown",
   "metadata": {},
   "source": [
    "### Early findings"
   ]
  },
  {
   "cell_type": "markdown",
   "metadata": {},
   "source": [
    "The HI 21-cm line observations became observationally accessible in 1951. Ewen and Purcell at Harvard, Muller and Oort in the Netherlands and Pawsey in Sydney announced the multiple confirmed detection of the HI 21-cm line in the September 1. issue of <i>Nature</i> ([<cite data-cite=\"1951Natur.168..356E\">Ewen & Purcell 1951</cite> &#10548;](http://adsabs.harvard.edu/abs/1951Natur.168..356E) Ewen & Purcell 1951);. Already in 1945 H.C. van de Hulst proposed that despite the long lifetime of the exited state of this \"forbidden transition\", a sufficiently high number of neutral hydrogen atoms are distributed along the line of sight to produce a detectable signal.\n",
    "In the 1950s and 1960s the primary aim of 21-cm line observations was the exploration of the Milky Way disk. Because of the optical appearance of external galaxies, the scientist at that time expected to verify the spiral structure of the Milky Way. The Leiden-Sydney map presented by Oort in 1958 confirmed this expectation. \n"
   ]
  },
 {
   "cell_type": "markdown",
   "metadata": {},
   "source": [
    "<img src=\"02_figures/Leiden_Sydney_spiral.png\" width=\"60%\"/>\n",
    "*The first map of the Milky Way galaxy HI 21-cm line distribution. Note, this is an artist's representation of the observational data. At that time no electronic devices were available to extract this information from the observations. The position of the Galactic center is indicated by the blue dot, the position of the Sun by the yellow arrow*\n",
    "\n"
   ]
  },
  {
   "cell_type": "markdown",
   "metadata": {},
   "source": [
    "Observations of the high galactic latitude sky disclosed the presence of infalling HI clouds ([<cite data-cite=\"1963CRAS..257.1661M\">Muller, Oort & Raimond (1963)</cite> &#10548;](http://adsabs.harvard.edu/abs/1963CRAS..257.1661M) Muller, Oort & Raimond 1963). At that location at the sky, it is pretty obvious that the clouds will eventually collide with the Milky Way disk. Depending on their radial velocities these clouds have been classified as high (HVC, $|v_\\rm{ LSR}| \\geq 100\\,\\rm{km}\\,\\rm{s}^{-1}$) and intermediate  (IVC, $100\\,\\rm{km} \\, \\rm{s}^{-1} \\geq |v_\\rm{LSR}| \\geq 20\\, \\rm{km} \\, \\rm{s}^{-1}$) velocity clouds. \"Local clouds\" are often called low-velocity clouds (LVC) distributed in radial velocity evenly around $v_\\rm{LSR} = 0 \\, \\rm{km} \\,\\rm{s}^{-1}$. In radio astronomy we only measure the line of sight component of the complete velocity vector. Consequently, a HVC moving almost tangetially to the line of sight is wrongly identified as a LVC (see Chapter on the Milky Way and the Local Group, [LINK HERE] here, the Magellanic Stream crossing the southern polar cap). A more physical definition, i.e. via the dust-to-gas ratio, is more adequate. All velocities are evaluated within a specific rest frame. Commonly we use the *Local Standard of Rest* (LSR) which is a system defined by the stellar motion in the immediate vicinity of the Sun. Because of the definition of the LSR system by the local stars at rest, the Sun has a low residual motion in this rest frame. HVCs and IVCs form large coherent structures called *complexes* and <i>chains</i>, and comprise isolated objects catalogued as (ultra-)compact HVCs ([<cite data-cite=\"2002A&A...392..417D\">de Heij et al. (2002)</cite> &#10548;](http://adsabs.harvard.edu/abs/2002A%26A...392..417D) de Heij et al. 2002;[<cite data-cite=\"2008MNRAS.388L..29W\">Westmeier & Koribalski (2008)</cite> &#10548;](http://adsabs.harvard.edu/abs/2008MNRAS.388L..29W) Westmeier & Koribalski 2008; [<cite data-cite=\"2011A&A...533A.105W\">Winkel et al. (2011)</cite> &#10548;](http://adsabs.harvard.edu/abs/2011A%26A...533A.105W) Winkel et al. 2011), or individually named IVCs (i.e. MBM clouds, [<cite data-cite=\"1985ApJ...295..402M\"> Magnani, Blitz & Mundy (1985)</cite> &#10548;](http://adsabs.harvard.edu/abs/1985ApJ...295..402M) Magnani, Blitz & Mundy 1985). The Doppler velocity of HVCs is incompatible with the observed rotation of the Milky Way galaxy, while IVCs follow the rotation closely ([<cite data-cite=\"arXiv:1609.06540\"> Roehser et al. (2016)</cite> &#10548;](https://arxiv.org/abs/1609.06540) Roehser et al. 2016)."
   ]
  },
 {
   "cell_type": "markdown",
   "metadata": {},
   "source": [
    "<img src=\"02_figures/Westmeier_HVCsky.png\" width=\"80%\"/>\n",
    "*Full sky map of the HVC sky based on the Leiden/Argentine/Bonn (LAB) survey. To distinguish between HVCs and the Milky Way emission a model of the Milky Way HI distribution according to Peter Kalberla has been subtracted.*\n",
    "\n"
   ]
  },
  {
   "cell_type": "markdown",
   "metadata": {},
   "source": [
    "\n",
    "\n",
    "\n",
    "Typical HI 21-cm line spectra of HVCs and IVCs towards high galactic latitude show up with a Gaussian line shape. While the forbidden line transition and the corresponding long lifetime of the excited state argues with the $\\delta E \\cdot \\Delta t \\geq \\frac{\\hbar}{2}$ for a extremely narrow emission line width, the typically observed line width is much larger (at full-width-at-half-maximum, FWHM) between $ 1 - 70 \\, \\rm{km} \\, \\rm{s}^{-1}$ (i.e. [<cite data-cite=\"2015A&A...578A..78K\"> Kalberla & Haud (2015)</cite> &#10548;](http://adsabs.harvard.edu/abs/2015A%26A...578A..78K) Kalberla & Haud 2015). These line broadening resembles the density and excitation of the hydrogen atoms special to their environment. Here, we can not simply distinguish between thermal and turbulent motion, thus the observed line width is a measure for the upper limit of the kinetic gas temperature $T_{\\rm kin}$\n",
    "$$T_\\rm{kin} \\leq \\frac{m_{H}\\, \\Delta v^2}{8\\, k_B \\, \\ln(2)}$$\n",
    "The peak brightness of the Gaussian shaped HI line is denoted as the brightness temperature $T_{\\rm B}$. Because we observed at very long wavelength or low frequencies at dm and cm wavelength we can deduce from the <i>Planck law</i> the <i>Rayleigh-Jeans</i> law.\n",
    "$$T_{B} \\simeq \\frac{2\\,\\nu^2\\,{k_B}\\,T_\\rm{BB}}{c^2}$$\n",
    "$T_\\rm{BB}$ is the temperature of the Black Body radiator at radio wavelength. \n",
    "Both, $T_{B}$ and $T_{kin}$ might serve as estimates for the gas temperature the HI atoms are tracing by their line radiation.\n",
    "\n",
    "<b>Exercise</b> what temperature is typically higher $T_{B}$ or $T_{kin}$? \n"
   ]
  },
 {
   "cell_type": "markdown",
   "metadata": {},
   "source": [
    "<img src=\"02_figures/Kalberla_Haud_FWHM_GASS.png\" width=\"70%\"/>\n",
    "*Plotted is the logarithm of the full-width-at-half-maximum of the HI 21-cm line versus the brightness temperature. Encircled by the solid line are the trustable components. Note the two component structure of the ISM. The broader HI lines mark the warm neutral medium, the narrow ones the cold neutral medium (see below). The picture is extracted from  [<cite data-cite=\"2015A&A...578A..78K\"> Kalberla & Haud (2015)</cite> &#10548;](http://adsabs.harvard.edu/abs/2015A%26A...578A..78K) Kalberla & Haud (2015).*\n",
    "\n"
   ]
  },
  {
   "cell_type": "markdown",
   "metadata": {},
   "source": [
    "### Radiation transfer"
   ]
  },
  {
   "cell_type": "markdown",
   "metadata": {},
   "source": [
    "According to the proposal of van den Hulst, along the line of sight $ds$ a sufficient number $n$ of hydrogen atoms are expected to emit radiation. The brightness of that radiation is\n",
    "$$\\epsilon \\propto n\\cdot ds$$\n",
    "The longer the line of sight the higher the received energy. The same holds also true for the density. However, emitting atoms are also able to absorb radiation. Also the amount of absorption depends on $ds$ and the volume density $n$ and a quantity specific to the atomic structure of the absorbing medium, we combine the volume density ($n$) and the atomic absorption cross section ($\\sigma$) to obtain $\\kappa \\propto n\\cdot \\sigma$. \n",
    "\n",
    "Thus the incident intensity $I$ is attenuated by $dI$ according to the ability $\\sigma$ of the $n$ atoms to absorb radiation\n",
    "$$\\frac{dI}{I} = \\kappa \\cdot ds$$\n",
    "This differential equation is straingth forward to solve by an Euler function\n",
    "$$I_{\\rm obs} = I_{\\rm in}\\cdot e^{-\\int \\kappa ds}$$\n",
    "\n",
    "Where the integral is commonly substituded by the <i>optical depth</i> $\\tau = -\\int \\kappa ds$\n",
    "\n",
    "Combining emission and absorption yields\n",
    "$$\\frac{dI}{ds} = -\\kappa\\cdot I_{\\rm in} + \\epsilon$$\n",
    "\n",
    "A situation in the ISM where the photons resemble the gas temperature exactly is called <i>thermal equilibrium</i> (TE) which is in practice never fulfilled. Accordingly we can lower the boundray conditions by adopting that across a sufficient spatial range we have a <i>local thermal equilibrium</i> (LTE). In this case the <i>Kirchoff law</i> tells us that there is no net loss of energy in that portion of space, or phrased differentily, all photons emitted are absorbed in the same volume\n",
    "$$\\frac{dI}{ds} = 0 = -\\kappa\\cdot I_{\\rm in} + \\epsilon$$\n",
    "\n",
    "In the case that $I_{\\rm in}$ is a Black Body $B$\n",
    "\n",
    "$$\\frac{\\kappa}{\\epsilon} = B$$\n",
    "\n",
    "With this in hands, we can compute the radiation transfer of HI 21-cm line radiation through the Milky Way's ISM. See the section here [LINK HERE] for a comprehensive review of HI absorption.\n",
    "\n"
   ]
  },
  {
   "cell_type": "markdown",
   "metadata": {},
   "source": [
    "<b>Exercise 1</b> list all temperatures presented and discuss their physical meaning.\n",
    "\n",
    "<b>Exercise 2</b> identify the Einstein emission and absorption coefficients in the equations above."
   ]
  },
  {
   "cell_type": "markdown",
   "metadata": {},
   "source": [
    "<figure>\n",
    "    <img src=\"02_figures/HIEmAbsSpectra.png\" height=\"5\" alt=\"HI emission and absorption\"/>\n",
    "    <figcaption>*The HI absorption and emission spectra toward the source 1714-397. Credit: [<cite data-cite=\"\n",
    "\t1983ApJS...53..591D\"> Dickey et al. (1983)</cite> &#10548;](http://adsabs.harvard.edu/abs/1983ApJS...53..591D) Dickey et al. (1983). *</figcaption>\n",
    "</figure>"
   ]
  },
 {
   "cell_type": "markdown",
   "metadata": {},
   "source": [
    "<img src=\"02_figures/HIEmAbsSpectra.png\" width=\"70%\"/>\n",
    "*The HI absorption and emission spectra toward the source 1714-397. Credit: [<cite data-cite=\"\n",
    "\t1983ApJS...53..591D\"> Dickey et al. (1983)</cite> &#10548;](http://adsabs.harvard.edu/abs/1983ApJS...53..591D) Dickey et al. (1983). *\n",
    "\n"
   ]
  },
  {
   "cell_type": "markdown",
   "metadata": {},
   "source": [
    "A tiny amount of energy is radiated by the HI 21-cm line. It corresponds to the energy separation of the $F = 1$ to $F = 0$ hyperfine structure level. The lifetime of the excited state is about 11 million years. Thus the <i>natural line width</i> (see energy-time uncertainty relation above) is extremely narrow. Resonant absorption described by the Einstein coefficients demand, within the uncertainties between time and energy, an exact match of the velocity of the emitting and absorbing atom. Imaging that the atoms along several hundrets parsecs of the ISM are exposed to totally different environments heating and cooling the gas. Thus, an exact dynamical match of an emitting and absorbing 21-cm atom appear rare. Towards high volume density directions self-absorption of the line emission appears plausible. This immediately implies, that towards high-galactic latitudes self-absorption is a rare pheonomenon while towards the Milky Way disk, this might be a real problem. Towards high galactic latitudes we can assume that all emitted HI 21-cm line photons reach unaffected the observer. This means, the brightness temperature is a measure for the number of hydrogen atoms along the line of sight moving with a certain Doppler velocity this yields the measure <i>column density</i>\n",
    "\n",
    "$$N_{\\rm{HI}}{[ \\rm{cm}^{-2}]} = 1.8224\\cdot 10^{18}\\,\\int \\frac{T_\\rm{B}}{[\\rm{K}]} \\, d\\left(\\frac{v}{[\\rm{km} \\,\\rm{s}^{-1}]}\\right)$$\n",
    "\n",
    "We consider here that the HI of the Milky Way ISM is <i>optically thin</i>."
   ]
  },
  {
   "cell_type": "markdown",
   "metadata": {},
   "source": [
    "Returning to the Kirchhoff law we expect to observe a negative brightness temperature in that case that\n",
    "$\\kappa I_\\rm{in} > \\epsilon$. Imaging an active galactic nucleus (AGN) at cosmological distances. Its continous radio spectrum perhaps outshines the HI emission of the Milky Way galaxy. An HI absorption line observed. What is about the line width of the absorption feature? Is the line width a measure for the kinetic of turbulent gas temperature?\n",
    "\n",
    "Reconsider the very special requirements that HI, with its extremel narrow natural line width, absorbs a photon. The AGN provides a continous spectrum of photons, thus all neutral hydrogen atoms distributed along the line of sight will attenuate the AGN spectrum, nearly idependent of their specific Doppler velocity. However, we probe a tine little portion of the Milky Way ISM, because the AGN has no notable angular extent. It is a AU-scale structure at Mpc distances. We probe accordingly a tiny gas volume of the Milky Way. The observed line width can be considered as a LTE one and thus the HI absorption line width corresponds to the <i>excitation temperature</i> of the hydrogen atoms probed.\n",
    "\n",
    "$$\\frac{N_1}{N_0} = \\frac{g_1}{g_0}\\,e^{-\\frac{{\\rm h}\\nu}{{\\rm k}T_{\\rm spin}}}$$\n",
    "\n",
    "$T_\\rm{spin}$ is a measure for the excitation temperature of the HI gas. $T_\\rm{spin}$ temperature distribution discloses a rather narrow range with peak at 40 K, weighted by the column density of 70 K ([<cite data-cite=2016ApJ...821..117K\"\">Kalberla et al. (2016)</cite> &#10548;](http://adsabs.harvard.edu/abs/2016ApJ...821..117K) Kalberla et al. 2016;[<cite data-cite=\"2015ApJ...804...89M\"> Murray et al. (2015)</cite> &#10548;](http://adsabs.harvard.edu/abs/2015ApJ...804...89M) Murray et al. 2015). These values correspond to narrow line of between $2\\,\\rm {km} \\, \\rm{s}^{-1}$ and $4\\,\\rm{km}\\, \\rm{s}^{-1}$. These narrow HI lines tracing the rather low gas temperature is denoted in literature as the <i>cold neutral medium</i> (CNM). HI emission spektra however show up towards all lines of sight line widths typically covering tens of ${\\rm{km}\\,\\rm{s}^{-1}$ corresponding to 500 to 10,000 K.\n",
    "This higher temperature branch is the <i>warm neutral medium</i> (WNM). CNM structures appear as filaments and isolated clouds at the high galactic latitude sky while the WNM covers the whole sky. CNM structures are detectable in HI absorption spectra while the WNM is extremely difficult to observe in absorption because of its low volume density.\n",
    "[<cite data-cite=\"2015ApJ...804...89M\"> Murray et al. (2015)</cite> &#10548;](http://adsabs.harvard.edu/abs/2015ApJ...804...89M) Murray et al. (2015) determined via stacking the WNM spin temperature to 6000 to 9000 K. Implying that next to collisions also $\\rm{Ly} \\alpha$ (see below) photons excite the WNM."
   ]
  },
  {
   "cell_type": "markdown",
   "metadata": {},
   "source": [
    "Towards high galactic latitudes astrophysicists probe the local interstellar gas. Local is ment with respects to the spatially probed region of the Milky Way galaxy. High galactic latitudes are defined here $b > 20^\\circ$, we investigate observationally only the local spiral arm. Within this volume we observe two neutral gaseous phases. They are exposed to comparable environmental conditions. Thus the CNM and WNM, in case that they are stable and not a transient phenomenon, need to balance each other in pressure. From thermodynamics it is known that pressure and temperature are related\n",
    "\n",
    "$$ p \\, V = N \\, k_\\rm{B} \\, T$$\n",
    "\n",
    "This implies if the CNM and WNM share the same physical excitation and de-excitation conditions. Essentially, most likely both gaseous components should have the same chemical composition and are exposed to the same radiation field.\n"
   ]
  },
 {
   "cell_type": "markdown",
   "metadata": {},
   "source": [
    "<img src=\"02_figures/Wolfire2003.png\" width=\"75%\"/>\n",
    "*Heating and cooling of the HI at the solar circle. Dashed lines denote <i>heating</i> and solide lines the <i>cooling</i> of the interstellar gas. PE is photo electric heating by dust grains, REC recombination lines, CR cosmic rays. The picture has been extracted from [<cite data-cite=\"2003ApJ...587..278W\"> Wolfire et al. (2003)</cite> &#10548;](http://adsabs.harvard.edu/abs/2003ApJ...587..278W) Wolfire et al. (2003). *\n",
    "\n"
   ]
  },
  {
   "cell_type": "markdown",
   "metadata": {},
   "source": [
    "\n",
    "For the HI gas we have to consider two competing processes regulating the physical conditions a) heating and b) cooling. Heating and cooling are performed via photon absorption/emission and collisions. Collisions are more efficient in high volume density environments while less important in low ones. According to[<cite data-cite=\"2003ApJ...587..278W\"> Wolfire et al. (2003)</cite> &#10548;](http://adsabs.harvard.edu/abs/2003ApJ...587..278W) Wolfire et al. (2003), the surface of dust grains are the primary resorvoir of electrons that heat their ambient gas. Because dust and gas are tightly related (linear correlation between HI column density and far-infrared emission across two orders of magnitude) and perhaps intermixed homogenously, photoelectric heating is the dominant process for WNM and CNM. The CNM cools however much more efficient than the WNM. The CNM cooling is dominated by the fine structure line emission of ionized carbon. The WNM cools mainly via the $\\rm{Ly} \\alpha$ photons and recombination lines. The balance between heating and cooling yields in a charateristic curve, the S-curve, describing the pressure as a function of the volume density.  \n",
    "\n",
    "Give the fact the the temperature of the CNM gas is about one or even two orders of magnitude lower than the WNM a pressure equilibrium between both phases demand a comparable contrast of one to two orders in volume density. Thus, the observed column density, probing the same volume, should be much lower for the WNM. This is not observed.\n",
    "Statistically the WNM column density exceeds that one of the CNM by a factor 1.5. Disfavouring the well recognized picture of [<cite data-cite=\"1977ApJ...218..148M\">McKee & Ostriker (1977)</cite> &#10548;](http://adsabs.harvard.edu/abs/1977ApJ...218..148M) McKee & Ostriker (1977) of an onion-shell ISM structure. There are at least two ways to overcome this apparent pressure discrepancy a) to claim the CNM and WNM are not in any pressure equilibrium b) to consider the CNM gas distribution not as isolated cold cores but largely extended (tens of pc) by extremely (less 1 pc) thin sheets. In that picture, proposed by [<cite data-cite=\"\n",
    "\t2003ApJ...586.1067H\">Heiles & Troland (2003)</cite> &#10548;](http://adsabs.harvard.edu/abs/2003ApJ...586.1067H) Heiles & Troland (2003), these sheets and filaments are formed by the violent interaction of the neutral hydrogen gas with the ongoing stellar evolution of the Milky Way galaxy. [<cite data-cite=\"\n",
    "\t2003ApJ...586.1067H\">Heiles & Troland (2003)</cite> &#10548;](http://adsabs.harvard.edu/abs/2003ApJ...586.1067H) Heiles & Troland (2003) found moreover that about 60% of all HI gas belongs to the WNM and that about half of that gas is thermally unstable.\n",
    "\n",
    "The term *Thermally unstable* means that minor changes in the temperature and density structure will trigger the gas to convert into the higher probable stabile state, either CNM or WNM. These instabilities are triggered i.e. by density waves, stellar evolution or cloud motion relative to the ambient medium. Typically for the Galactic interstellar medium is that the clouds are moving with supersonic velocities. Following [<cite data-cite=\"\n",
    "\t2003ApJ...586.1067H\">Heiles & Troland (2003)</cite> &#10548;](http://adsabs.harvard.edu/abs/2003ApJ...586.1067H) Heiles & Troland (2003) and [<cite data-cite=2016ApJ...821..117K\"\">Kalberla et al. (2016)</cite> &#10548;](http://adsabs.harvard.edu/abs/2016ApJ...821..117K) Kalberla et al. (2016), about three. Thus strong shocks are caused in the ambient medium, triggering instabile gaseous phases to phase transitions.\n",
    "Most of the WNM is, according to [<cite data-cite=\"\n",
    "\t2003ApJ...586.1067H\">Heiles & Troland (2003)</cite> &#10548;](http://adsabs.harvard.edu/abs/2003ApJ...586.1067H) Heiles & Troland (2003), instable. Thus, on scales of a few ten to hundred pc the neutral gas can be considered as transient structures. On larger scales, exceeding the separation of the spiral arm, on kpc scales, it might be feasible to adopt a hydrostatic equilibrium situation.\n"
   ]
  },
  {
   "cell_type": "markdown",
   "metadata": {},
   "source": [
    "<b>Vertical and radial structure of the Milky Way HI disk</b>\n",
    "\n",
    "Using HI survey data it is feasible to study the vertical and radial distribution of the Milky Way gas distribution ([<cite data-cite=\"\n",
    "\t1998A&A...339..745K\">Kalberla & Kerp (1998)</cite> &#10548;](http://adsabs.harvard.edu/abs/1998A%26A...339..745K) Kalberla & Kerp 1998). While the vertical gas distribution can be determined solely by the HI data, for the radial distribution other tracers are needed, like the soft X-ray intensity distribution of the Milky Way galaxy ([<cite data-cite=\"\n",
    "\t1998A&A...332...55P\">Pietz et al. (1998)</cite> &#10548;](http://adsabs.harvard.edu/abs/1998A%26A...332...55P) Pietz et al. 1998). From these observations it is feasible to derive a radial scale-length to 15 kpc. The distribution itself is described by a <i> sech</i> function.\n",
    "$$ g_1(R) = \\frac{\\sech^2(R/15\\, \\rm{kpc})}{\\sech^2(8.5\\, \\rm{kpc}\/15 \\, \\rm{kpc})}$$\n",
    "Here 8.5 kpc is the estimate to the separation between the Sun and the Galactic Center and 15 kpc is the radial scale length of the disk.\n",
    "We consider only large scales ($\\gg 1 \\rm{kpc}$)\n",
    "$$n(R,z) = g_1(R) \\, n_0 \\, e^{-\\frac{\\Phi(z)}{\\sigma^2}}$$\n",
    "with $\\Phi(z)$ the gravitational potential and $\\sigma$ the root-mean-square velocity dispersion of the gas. $n_0$ is the mid plane density of the gaseous phase. The velocity dispersion of a gaseous phase depends on the physical state of its atoms. If the gas is partly ionized, magnetic fields adds a pressure component to the gaseous one, increasing consequently the scale height. Supernovae inject cosmic-rays into the ISM. Their path through the interstellar medium is limited by the strength and spatial structure of the magnetic fields, thus adding a third component to the pressue. Solving accurately the hydrostatic equilibrium equation for the different gas phases yield for the CNM $n_0(\\rm{CNM}) \\simeq 0.3\\, \\rm{cm}^{-3}$ and $\\sigma(\\rm{CNM}) = 6\\, \\rm{km} \\, \\rm{s}^{-1}$, corresponding to a vertical scale height of $h_z(\\rm{CNM}) \\sim 150 \\, \\rm{pc}$. For the WNM $n_0(\\rm{WNM}) \\simeq 0.1\\,\\rm{cm}^{-3}$, $\\sigma(\\rm{WNM}) = 15\\, \\rm{km} \\,\\rm{s}^{-1}$ and $h_z(\\rm{CNM}) \\sim 500 \\, \\rm{pc}$. At these angular scales the pressure of CNM and WNM $ p \\propto n \\, T$ is consequently pretty comparable (static, [<cite data-cite=\"2003ApJ...588..805K\">Kalberla (2003)</cite> &#10548;](http://adsabs.harvard.edu/abs/2003ApJ...588..805K) Kalberla 2003).\n",
    "\n",
    "According to this ansatz, the different gaseous phases illuminate the gravitational potential $\\Phi$, in analogy to the approach for the largest gravitationally bound systems in the universe: galaxy clusters. Illuminating the gravitational potential with hot X-ray emitting plasma (Hot Ionized Medium, HIM with $T \\simeq 10^6 \\,\\rm{K}$) yields the highest scale height of $h_z(\\rm{HIM}) \\sim 4400 \\, \\rm{pc}$ with the lowest mid-plane volume density of $n_0(\\rm{HIM}) \\simeq 0.001\\, \\rm{cm}^{-3}$.\n",
    "\n",
    "Depending on the chemical composition, its intermixture with interstellar dust and separation to the Galactic radiation field the heating and cooling of the different gaseous phases are significantly different. Next to the gas and the gravitational potential of the Milky Way galaxy, the cosmic rays as well as the magnetic field are important ingredients which contribute significantly to the whole system."
   ]
  },
  {
   "cell_type": "markdown",
   "metadata": {},
   "source": [
    "<b>The rotation of the Milky Way galaxy</b>\n",
    "\n",
    "Deriving the rotation curve of the Milky Way Galaxy is not a simple task. We are located within the system and because the HI 21-cm line we are receiving, due to its optical thin emission, reach us from any distance. The HI spectra observed close to or within the Galactic plane is thus a superposition of unrelated gas volumes.\n",
    "\n",
    "From external galaxies it is well known that the rotation speed is nearly independent on its radial separation to the galaxies centre. Yielding a flat constant rotation curve. According standard cosmology, a result of the huge extent of the Dark Matter halo, or a signature of the Modified Newtonian Dynamics (MOND). In any case, for the Milky Way galaxy we need to approximate by the observed column density and radial velocity distribution the spatial motion of the different gaseous volumes.\n",
    "\n",
    "Let us adopt the situation that we measure all separations and angular velocities relative to the Galactic Centre. Only motions within the Galactic plane are considered here.\n",
    "\n",
    " $$\\Theta(r) = r \\, \\Omega(r)$$ \n",
    "\n",
    "$$\\Pi(r) = r \\, H(r)$$\n",
    "\n",
    "$\\Omega(r)$ describes the revolution around the Galactic Centre on circular orbits at a separation of $r$ and $H(r)$ the motion in radial direction. The motion of the gaseous components relative to the local standard of rest demands a coordinate transformation. Moreover, the motion of the LSR relative to the circular orbit approximation needs to be evaluated. Fortunately the radial motion as well as the deviation of the LSR from a constant angular speed is nearly negligible. Thus, we can approximate very well the motion by a Taylor series and stop with the second term. Towards a certain gas volume located at a distance $s$ relative to the LSR, we find its radial velocity to\n",
    "\n",
    "$$V_r = s \\, A(r_0) \\, \\sin(2l)$$\n",
    "\n",
    "with\n",
    "\n",
    "$$A(r_0) = -\\frac{1}{2} \\, r_0  \\, \\frac{d\\Omega}{dr}$$.\n",
    "\n",
    "This is Oort's $\\sin(2l)$ relation describing the differential Galactic rotation in the solar neighbourhood.\n",
    "\n",
    "\n",
    "\n"
   ]
  },
  {
   "cell_type": "markdown",
   "metadata": {},
   "source": [
    "<b>Missing Spacing an Issue or Scienctific Limitation?</b>\n",
    "\n",
    "The future of radio astronomy is in interferometry. Because the sensitivity increases with the collecting area of an instrument, the astrophysical impact of single dish radio telescope is severely limited. Even the largest fully steerable radio dishes of 100-m size offer at 21-cm about 10 arcmin angular resolution. A huge advantage of radio waves in comparison to optical and near infrared astronomy, is that the waves reach the observer as <i>coherent</i> wave trains. Thus one needs to equip individual radio telescopes with receivers sampling the wave train accurately and recording it onto a hard disk. Using this procedure it is feasible to calculate the interference pattern between telescopes (<i>fringes</i>), sampling the same wave front but separated by hundreds or even many thousands of kilometers.\n",
    "\n",
    "This method allows to even resolve AU scales at Mpc distances. However, their is a severe physical limitation. This limitation is directly connected to the WNM/CNM discussion above. CNM is structures typically on small angular scales while the WNM on large angular scales. Large angular scales denote ten to a few hundred arcmin. By construction, the largest angular scale a radio interferometer samples is determined by the minimal separation between two neighbouring radio dishes. This implies that an interferometric observation provides arcsec to arcmin angular resolution but all emission of the source larger in extent are not recorded, because the receiving aperature has no collecting area at these scales. Typically WNM structures of diffuse HI emission associated with a galactic halo are distributed on angular scales that are untraceable for a radio interferometer. This \"missing spacings\" issue is well understood in radio astronomy but mostly considered as a severe problem for the Milky Way astronomers and not for extragalactic exploration. But calculate for yourself HI gas with a scale height of the Milky Way halo with 4.4 kpc at a distance of 1 Mpc. You will immediately recognize that this is a potential issue for all HI observations in the Local Group of Galaxies and the neigbouring groups like M81/M82 or the Sculptor group.\n",
    "\n",
    "A prime example of missing spacings is HVC125+41-207.  [<cite data-cite=\"\n",
    "\t2000A&A...354..853B\">Braun & Burton(2000)</cite> &#10548;](http://adsabs.harvard.edu/abs/2000A%26A...354..853B) Braun & Burton(2000) reported on Westerbork Synthesis Telescope observations of that compact HVC and presented HI data showing a extremely bright emission line of $T_B \\simeq 85$K. Even with a velocity resolution of $\\Delta v = 2.45\\, \\rm{km} \\,\\rm{s}^{-1}$ the HI line remains unresolved, implying a comparable kinetic temperature to $T_B$. This is a surprisingly dense structure, completely unexpected in a low pressure environment of the galactic halo. According to [<cite data-cite=\"\n",
    "\t1995ApJ...453..673W\">Wolfire et al. (1995)</cite> &#10548;](http://adsabs.harvard.edu/abs/1995ApJ...453..673W) Wolfire et al. (1995), a classical two phase structure is not expected at all. \n",
    "[<cite data-cite=\"2001A&A...370L..26B\">Brüns, Kerp & Pagels (2001)</cite> &#10548;](http://adsabs.harvard.edu/abs/2001A%26A...370L..26B) Brüns, Kerp & Pagels (2001) published Effelsberg observations of HVC125+41-207. The 100-m dish traces mainly the extended HI gas belonging to the WNM. The peak brightness temperature is an order of magnitude below that of Westerbork. But, a clear cometary shape of the compact HVC is obvious. By construction, the WSRT samples only the small angular scales. These are located within the head of HVC125 while the tail is free of any small scale structure. [<cite data-cite=\"2001A&A...370L..26B\">Brüns, Kerp & Pagels (2001)</cite> &#10548;](http://adsabs.harvard.edu/abs/2001A%26A...370L..26B) Brüns, Kerp & Pagels (2001) demonstrated using slices along and perpendicular to the cometary HI structure that the kinetic gas temperature increases in proportion to the separtion from the cloud's cold head, implying ram pressure heating. Moreover, consistent with this ram pressure scenario, the leading cold head reveals the highest radial velocity while the gas in the tail is trailing beyond the head. Ram pressure interactions might cause instabilities, triggering the instable gas to form cold and dense structures and acting as an additional gas pressurre component. This comprehensive scenario is not deducible from the radio interferometric observations alone. One needs to complement the WSRT with single dish data for a comprehensive picture ([<cite data-cite=\"2014A&A...563A..99F\">Faridani et al. (2014)</cite> &#10548;](http://adsabs.harvard.edu/abs/2014A%26A...563A..99F) Faridani et al. 2014).\n",
    "Using feathering in the Fourier-domain or even more straight forward in the space-domain, HI observations of the Milky Way and Local Volume galaxies have to be supplemented by single dish <i>zero-spacing</i> observations.\n",
    "\n",
    "\n"
   ]
  },
 {
   "cell_type": "markdown",
   "metadata": {},
   "source": [
    "<img src=\"02_figures/BruensHVC125.png\" width=\"85%\"/>\n",
    "*HI column density distribution of HVC125+41-207 as measure by the single dish 100-m Effelsberg telescope (gray scale) and the Westerbork Synthesis Radio Telescope (contour lines). Because of the <i>missing spacing</i> issue of radio interferometers by construction the Westerbork telescope is insensitive for the widely distributed faint emission. Only the single dish telescope information reveal the cometary shape of this compact HVC. The picture has been extracted from [<cite data-cite=\"2001A&A...370L..26B\">Brüns, Kerp & Pagels (2001)</cite>](http://adsabs.harvard.edu/abs/2001A%26A...370L..26B) Brüns, Kerp & Pagels (2001). *\n",
    "\n"
   ]
  },
  {
   "cell_type": "code",
   "execution_count": null,
   "metadata": {
    "collapsed": true
   },
   "outputs": [],
   "source": []
  },
  {
   "cell_type": "markdown",
   "metadata": {},
   "source": [
    "### Chapter Editors\n",
    "* Jürgen Kerp\n",
    "* Name 2\n",
    "\n",
    "#### Chapter Contributors\n",
    "\n",
    "* Name 3 (**1.0**, **1.1**)\n",
    "* Name 4 (**1.1**)"
   ]
  },
  {
   "cell_type": "markdown",
   "metadata": {},
   "source": [
    "***\n",
    "\n",
    "   * Next: [1.1 Somename 2](01_01_somename2.ipynb)\n"
   ]
  }
 ],
 "metadata": {
  "anaconda-cloud": {},
  "kernelspec": {
   "display_name": "Python 2",
   "language": "python",
   "name": "python2"
  },
  "language_info": {
   "codemirror_mode": {
    "name": "ipython",
    "version": 2
   },
   "file_extension": ".py",
   "mimetype": "text/x-python",
   "name": "python",
   "nbconvert_exporter": "python",
   "pygments_lexer": "ipython2",
   "version": "2.7.6"
  }
 },
 "nbformat": 4,
 "nbformat_minor": 0
}
